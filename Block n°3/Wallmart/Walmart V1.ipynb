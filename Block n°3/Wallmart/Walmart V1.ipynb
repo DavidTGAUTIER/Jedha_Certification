{
 "cells": [
  {
   "cell_type": "code",
   "execution_count": 252,
   "id": "5290dcf7",
   "metadata": {},
   "outputs": [],
   "source": [
    "import pandas as pd\n",
    "import seaborn as sns\n",
    "import matplotlib.pyplot as plt\n",
    "import plotly.figure_factory as ff\n",
    "import plotly.express as px\n",
    "from pathlib import Path\n",
    "import numpy as np\n",
    "import os\n",
    "import warnings\n",
    "warnings.filterwarnings(\"ignore\", category=DeprecationWarning)\n",
    "warnings.filterwarnings(\"ignore\", category=FutureWarning)\n",
    "from sklearn.exceptions import ConvergenceWarning\n",
    "warnings.simplefilter('always', category=UserWarning)\n",
    "from sklearn.model_selection import train_test_split, cross_val_score, GridSearchCV\n",
    "from sklearn.metrics import r2_score\n",
    "from sklearn.compose import TransformedTargetRegressor, make_column_transformer, ColumnTransformer\n",
    "from sklearn.impute import SimpleImputer, KNNImputer\n",
    "from sklearn.preprocessing import OneHotEncoder, StandardScaler, MinMaxScaler, PolynomialFeatures\n",
    "from sklearn.linear_model import LinearRegression, Ridge, Lasso\n",
    "from sklearn.pipeline import Pipeline"
   ]
  },
  {
   "cell_type": "markdown",
   "id": "22769da7",
   "metadata": {},
   "source": [
    "### But du projet\n",
    "\n",
    "Construire un modèle de machine learning capable d'estimer les ventes hebdomadaires dans leurs magasins, avec la meilleure précision possible sur les prédictions faites\n",
    "\n",
    "### Objectifs\n",
    "\n",
    "- Partie 1 : réaliser un EDA et tous les prétraitements nécessaires pour préparer les données pour le machine learning\n",
    "- Partie 2 : former un modèle de **régression linéaire** (baseline)\n",
    "- Partie 3 : éviter le surajustement en entraînant un modèle de **régression régularisé**"
   ]
  },
  {
   "cell_type": "markdown",
   "id": "1e65ae77",
   "metadata": {},
   "source": [
    "### Features\n",
    "\n",
    "**`Store`** - Numéro du magasin</br>\n",
    "**`Date`**  - Semaine des ventes</br>\n",
    "**`Weekly_Sales`**  - Ventes pour le magasin donné</br>\n",
    "**`Holiday_Flag`**  - Si la semaine est spéciale(jour férié) :  week 1 – semaine spécial / week 0 – semaine de non-spécial</br>\n",
    "**`Temperature`**  - Température le jour de la vente</br>\n",
    "**`Fuel_Price`**  - Coût de carburant dans la région</br>\n",
    "**`CPI`**  – Indice des prix à la consommation</br>\n",
    "**`Unemployment`**  - Taux de chômage</br>\n",
    "\n",
    "**Jours fériés** : </br>\n",
    "**Super Bowl**: 12-Feb-10, 11-Feb-11, 10-Feb-12, 8-Feb-13</br>\n",
    "**Labour Day**: 10-Sep-10, 9-Sep-11, 7-Sep-12, 6-Sep-13</br>\n",
    "**Thanksgiving**: 26-Nov-10, 25-Nov-11, 23-Nov-12, 29-Nov-13</br>\n",
    "**Christmas**: 31-Dec-10, 30-Dec-11, 28-Dec-12, 27-Dec-13"
   ]
  },
  {
   "cell_type": "markdown",
   "id": "7b9f7bd5",
   "metadata": {},
   "source": [
    "# Partie 1 : EDA"
   ]
  },
  {
   "cell_type": "code",
   "execution_count": 40,
   "id": "b980a2d2",
   "metadata": {},
   "outputs": [],
   "source": [
    "f = r'C:\\Users\\david\\JEDHA BOOTCAMP\\FULLSTACK\\10_PROJECT\\Walmart'\n",
    "data_dir = Path(f)\n",
    "paths = list((data_dir).glob('*.csv'))"
   ]
  },
  {
   "cell_type": "code",
   "execution_count": 41,
   "id": "62250371",
   "metadata": {},
   "outputs": [
    {
     "data": {
      "text/plain": [
       "[WindowsPath('C:/Users/david/JEDHA BOOTCAMP/FULLSTACK/10_PROJECT/Walmart/conversion_data_test.csv'),\n",
       " WindowsPath('C:/Users/david/JEDHA BOOTCAMP/FULLSTACK/10_PROJECT/Walmart/conversion_data_train.csv'),\n",
       " WindowsPath('C:/Users/david/JEDHA BOOTCAMP/FULLSTACK/10_PROJECT/Walmart/Walmart_Store_sales.csv')]"
      ]
     },
     "execution_count": 41,
     "metadata": {},
     "output_type": "execute_result"
    }
   ],
   "source": [
    "paths"
   ]
  },
  {
   "cell_type": "code",
   "execution_count": 42,
   "id": "dc35ad96",
   "metadata": {},
   "outputs": [],
   "source": [
    "walmart_sales = pd.read_csv('./src/Walmart_Store_sales.csv')"
   ]
  },
  {
   "cell_type": "code",
   "execution_count": 43,
   "id": "e3a48351",
   "metadata": {},
   "outputs": [
    {
     "data": {
      "text/html": [
       "<div>\n",
       "<style scoped>\n",
       "    .dataframe tbody tr th:only-of-type {\n",
       "        vertical-align: middle;\n",
       "    }\n",
       "\n",
       "    .dataframe tbody tr th {\n",
       "        vertical-align: top;\n",
       "    }\n",
       "\n",
       "    .dataframe thead th {\n",
       "        text-align: right;\n",
       "    }\n",
       "</style>\n",
       "<table border=\"1\" class=\"dataframe\">\n",
       "  <thead>\n",
       "    <tr style=\"text-align: right;\">\n",
       "      <th></th>\n",
       "      <th>Store</th>\n",
       "      <th>Date</th>\n",
       "      <th>Weekly_Sales</th>\n",
       "      <th>Holiday_Flag</th>\n",
       "      <th>Temperature</th>\n",
       "      <th>Fuel_Price</th>\n",
       "      <th>CPI</th>\n",
       "      <th>Unemployment</th>\n",
       "    </tr>\n",
       "  </thead>\n",
       "  <tbody>\n",
       "    <tr>\n",
       "      <th>0</th>\n",
       "      <td>6.0</td>\n",
       "      <td>18-02-2011</td>\n",
       "      <td>1572117.54</td>\n",
       "      <td>NaN</td>\n",
       "      <td>59.61</td>\n",
       "      <td>3.045</td>\n",
       "      <td>214.777523</td>\n",
       "      <td>6.858</td>\n",
       "    </tr>\n",
       "    <tr>\n",
       "      <th>1</th>\n",
       "      <td>13.0</td>\n",
       "      <td>25-03-2011</td>\n",
       "      <td>1807545.43</td>\n",
       "      <td>0.0</td>\n",
       "      <td>42.38</td>\n",
       "      <td>3.435</td>\n",
       "      <td>128.616064</td>\n",
       "      <td>7.470</td>\n",
       "    </tr>\n",
       "    <tr>\n",
       "      <th>2</th>\n",
       "      <td>17.0</td>\n",
       "      <td>27-07-2012</td>\n",
       "      <td>NaN</td>\n",
       "      <td>0.0</td>\n",
       "      <td>NaN</td>\n",
       "      <td>NaN</td>\n",
       "      <td>130.719581</td>\n",
       "      <td>5.936</td>\n",
       "    </tr>\n",
       "    <tr>\n",
       "      <th>3</th>\n",
       "      <td>11.0</td>\n",
       "      <td>NaN</td>\n",
       "      <td>1244390.03</td>\n",
       "      <td>0.0</td>\n",
       "      <td>84.57</td>\n",
       "      <td>NaN</td>\n",
       "      <td>214.556497</td>\n",
       "      <td>7.346</td>\n",
       "    </tr>\n",
       "    <tr>\n",
       "      <th>4</th>\n",
       "      <td>6.0</td>\n",
       "      <td>28-05-2010</td>\n",
       "      <td>1644470.66</td>\n",
       "      <td>0.0</td>\n",
       "      <td>78.89</td>\n",
       "      <td>2.759</td>\n",
       "      <td>212.412888</td>\n",
       "      <td>7.092</td>\n",
       "    </tr>\n",
       "  </tbody>\n",
       "</table>\n",
       "</div>"
      ],
      "text/plain": [
       "   Store        Date  Weekly_Sales  Holiday_Flag  Temperature  Fuel_Price  \\\n",
       "0    6.0  18-02-2011    1572117.54           NaN        59.61       3.045   \n",
       "1   13.0  25-03-2011    1807545.43           0.0        42.38       3.435   \n",
       "2   17.0  27-07-2012           NaN           0.0          NaN         NaN   \n",
       "3   11.0         NaN    1244390.03           0.0        84.57         NaN   \n",
       "4    6.0  28-05-2010    1644470.66           0.0        78.89       2.759   \n",
       "\n",
       "          CPI  Unemployment  \n",
       "0  214.777523         6.858  \n",
       "1  128.616064         7.470  \n",
       "2  130.719581         5.936  \n",
       "3  214.556497         7.346  \n",
       "4  212.412888         7.092  "
      ]
     },
     "execution_count": 43,
     "metadata": {},
     "output_type": "execute_result"
    }
   ],
   "source": [
    "walmart_sales.head()"
   ]
  },
  {
   "cell_type": "code",
   "execution_count": 44,
   "id": "509cfbd6",
   "metadata": {},
   "outputs": [
    {
     "data": {
      "text/plain": [
       "(150, 8)"
      ]
     },
     "execution_count": 44,
     "metadata": {},
     "output_type": "execute_result"
    }
   ],
   "source": [
    "walmart_sales.shape"
   ]
  },
  {
   "cell_type": "markdown",
   "id": "603fe221",
   "metadata": {},
   "source": [
    "Il y a très peu de lignes : ce dataset regroupe les ventes hebdomadaires des magasins Walmart"
   ]
  },
  {
   "cell_type": "code",
   "execution_count": 45,
   "id": "4adedad2",
   "metadata": {},
   "outputs": [
    {
     "data": {
      "text/plain": [
       "Store           0.000000\n",
       "Date            0.120000\n",
       "Weekly_Sales    0.093333\n",
       "Holiday_Flag    0.080000\n",
       "Temperature     0.120000\n",
       "Fuel_Price      0.093333\n",
       "CPI             0.080000\n",
       "Unemployment    0.100000\n",
       "dtype: float64"
      ]
     },
     "execution_count": 45,
     "metadata": {},
     "output_type": "execute_result"
    }
   ],
   "source": [
    "walmart_sales.isna().sum() / walmart_sales.shape[0]"
   ]
  },
  {
   "cell_type": "code",
   "execution_count": 46,
   "id": "02a3941e",
   "metadata": {},
   "outputs": [
    {
     "data": {
      "text/plain": [
       "<AxesSubplot:>"
      ]
     },
     "execution_count": 46,
     "metadata": {},
     "output_type": "execute_result"
    },
    {
     "data": {
      "image/png": "[encoded data removed]",
      "text/plain": [
       "<Figure size 2000x1200 with 2 Axes>"
      ]
     },
     "metadata": {},
     "output_type": "display_data"
    }
   ],
   "source": [
    "plt.figure(figsize=(20,12))\n",
    "sns.heatmap(walmart_sales.isna())"
   ]
  },
  {
   "cell_type": "markdown",
   "id": "f2adf0f3",
   "metadata": {},
   "source": [
    "les données manquantes sont assez dispersées dans le dataset"
   ]
  },
  {
   "cell_type": "code",
   "execution_count": 47,
   "id": "991427c6",
   "metadata": {},
   "outputs": [
    {
     "name": "stdout",
     "output_type": "stream",
     "text": [
      "<class 'pandas.core.frame.DataFrame'>\n",
      "RangeIndex: 150 entries, 0 to 149\n",
      "Data columns (total 8 columns):\n",
      " #   Column        Non-Null Count  Dtype  \n",
      "---  ------        --------------  -----  \n",
      " 0   Store         150 non-null    float64\n",
      " 1   Date          132 non-null    object \n",
      " 2   Weekly_Sales  136 non-null    float64\n",
      " 3   Holiday_Flag  138 non-null    float64\n",
      " 4   Temperature   132 non-null    float64\n",
      " 5   Fuel_Price    136 non-null    float64\n",
      " 6   CPI           138 non-null    float64\n",
      " 7   Unemployment  135 non-null    float64\n",
      "dtypes: float64(7), object(1)\n",
      "memory usage: 9.5+ KB\n"
     ]
    }
   ],
   "source": [
    "df = walmart_sales.copy()\n",
    "df.info()"
   ]
  },
  {
   "cell_type": "markdown",
   "id": "342e4461",
   "metadata": {},
   "source": [
    "Il n'y a que des valeurs numériques sauf la colonne **`Date`**"
   ]
  },
  {
   "cell_type": "markdown",
   "id": "328cf5e6",
   "metadata": {},
   "source": [
    "## Observation sommaire du dataset"
   ]
  },
  {
   "cell_type": "code",
   "execution_count": 48,
   "id": "b4db9428",
   "metadata": {},
   "outputs": [
    {
     "data": {
      "text/html": [
       "<div>\n",
       "<style scoped>\n",
       "    .dataframe tbody tr th:only-of-type {\n",
       "        vertical-align: middle;\n",
       "    }\n",
       "\n",
       "    .dataframe tbody tr th {\n",
       "        vertical-align: top;\n",
       "    }\n",
       "\n",
       "    .dataframe thead th {\n",
       "        text-align: right;\n",
       "    }\n",
       "</style>\n",
       "<table border=\"1\" class=\"dataframe\">\n",
       "  <thead>\n",
       "    <tr style=\"text-align: right;\">\n",
       "      <th></th>\n",
       "      <th>Store</th>\n",
       "      <th>Date</th>\n",
       "      <th>Weekly_Sales</th>\n",
       "      <th>Holiday_Flag</th>\n",
       "      <th>Temperature</th>\n",
       "      <th>Fuel_Price</th>\n",
       "      <th>CPI</th>\n",
       "      <th>Unemployment</th>\n",
       "    </tr>\n",
       "  </thead>\n",
       "  <tbody>\n",
       "    <tr>\n",
       "      <th>count</th>\n",
       "      <td>150.000000</td>\n",
       "      <td>132</td>\n",
       "      <td>1.360000e+02</td>\n",
       "      <td>138.000000</td>\n",
       "      <td>132.000000</td>\n",
       "      <td>136.000000</td>\n",
       "      <td>138.000000</td>\n",
       "      <td>135.000000</td>\n",
       "    </tr>\n",
       "    <tr>\n",
       "      <th>unique</th>\n",
       "      <td>NaN</td>\n",
       "      <td>85</td>\n",
       "      <td>NaN</td>\n",
       "      <td>NaN</td>\n",
       "      <td>NaN</td>\n",
       "      <td>NaN</td>\n",
       "      <td>NaN</td>\n",
       "      <td>NaN</td>\n",
       "    </tr>\n",
       "    <tr>\n",
       "      <th>top</th>\n",
       "      <td>NaN</td>\n",
       "      <td>19-10-2012</td>\n",
       "      <td>NaN</td>\n",
       "      <td>NaN</td>\n",
       "      <td>NaN</td>\n",
       "      <td>NaN</td>\n",
       "      <td>NaN</td>\n",
       "      <td>NaN</td>\n",
       "    </tr>\n",
       "    <tr>\n",
       "      <th>freq</th>\n",
       "      <td>NaN</td>\n",
       "      <td>4</td>\n",
       "      <td>NaN</td>\n",
       "      <td>NaN</td>\n",
       "      <td>NaN</td>\n",
       "      <td>NaN</td>\n",
       "      <td>NaN</td>\n",
       "      <td>NaN</td>\n",
       "    </tr>\n",
       "    <tr>\n",
       "      <th>mean</th>\n",
       "      <td>9.866667</td>\n",
       "      <td>NaN</td>\n",
       "      <td>1.249536e+06</td>\n",
       "      <td>0.079710</td>\n",
       "      <td>61.398106</td>\n",
       "      <td>3.320853</td>\n",
       "      <td>179.898509</td>\n",
       "      <td>7.598430</td>\n",
       "    </tr>\n",
       "    <tr>\n",
       "      <th>std</th>\n",
       "      <td>6.231191</td>\n",
       "      <td>NaN</td>\n",
       "      <td>6.474630e+05</td>\n",
       "      <td>0.271831</td>\n",
       "      <td>18.378901</td>\n",
       "      <td>0.478149</td>\n",
       "      <td>40.274956</td>\n",
       "      <td>1.577173</td>\n",
       "    </tr>\n",
       "    <tr>\n",
       "      <th>min</th>\n",
       "      <td>1.000000</td>\n",
       "      <td>NaN</td>\n",
       "      <td>2.689290e+05</td>\n",
       "      <td>0.000000</td>\n",
       "      <td>18.790000</td>\n",
       "      <td>2.514000</td>\n",
       "      <td>126.111903</td>\n",
       "      <td>5.143000</td>\n",
       "    </tr>\n",
       "    <tr>\n",
       "      <th>25%</th>\n",
       "      <td>4.000000</td>\n",
       "      <td>NaN</td>\n",
       "      <td>6.050757e+05</td>\n",
       "      <td>0.000000</td>\n",
       "      <td>45.587500</td>\n",
       "      <td>2.852250</td>\n",
       "      <td>131.970831</td>\n",
       "      <td>6.597500</td>\n",
       "    </tr>\n",
       "    <tr>\n",
       "      <th>50%</th>\n",
       "      <td>9.000000</td>\n",
       "      <td>NaN</td>\n",
       "      <td>1.261424e+06</td>\n",
       "      <td>0.000000</td>\n",
       "      <td>62.985000</td>\n",
       "      <td>3.451000</td>\n",
       "      <td>197.908893</td>\n",
       "      <td>7.470000</td>\n",
       "    </tr>\n",
       "    <tr>\n",
       "      <th>75%</th>\n",
       "      <td>15.750000</td>\n",
       "      <td>NaN</td>\n",
       "      <td>1.806386e+06</td>\n",
       "      <td>0.000000</td>\n",
       "      <td>76.345000</td>\n",
       "      <td>3.706250</td>\n",
       "      <td>214.934616</td>\n",
       "      <td>8.150000</td>\n",
       "    </tr>\n",
       "    <tr>\n",
       "      <th>max</th>\n",
       "      <td>20.000000</td>\n",
       "      <td>NaN</td>\n",
       "      <td>2.771397e+06</td>\n",
       "      <td>1.000000</td>\n",
       "      <td>91.650000</td>\n",
       "      <td>4.193000</td>\n",
       "      <td>226.968844</td>\n",
       "      <td>14.313000</td>\n",
       "    </tr>\n",
       "  </tbody>\n",
       "</table>\n",
       "</div>"
      ],
      "text/plain": [
       "             Store        Date  Weekly_Sales  Holiday_Flag  Temperature  \\\n",
       "count   150.000000         132  1.360000e+02    138.000000   132.000000   \n",
       "unique         NaN          85           NaN           NaN          NaN   \n",
       "top            NaN  19-10-2012           NaN           NaN          NaN   \n",
       "freq           NaN           4           NaN           NaN          NaN   \n",
       "mean      9.866667         NaN  1.249536e+06      0.079710    61.398106   \n",
       "std       6.231191         NaN  6.474630e+05      0.271831    18.378901   \n",
       "min       1.000000         NaN  2.689290e+05      0.000000    18.790000   \n",
       "25%       4.000000         NaN  6.050757e+05      0.000000    45.587500   \n",
       "50%       9.000000         NaN  1.261424e+06      0.000000    62.985000   \n",
       "75%      15.750000         NaN  1.806386e+06      0.000000    76.345000   \n",
       "max      20.000000         NaN  2.771397e+06      1.000000    91.650000   \n",
       "\n",
       "        Fuel_Price         CPI  Unemployment  \n",
       "count   136.000000  138.000000    135.000000  \n",
       "unique         NaN         NaN           NaN  \n",
       "top            NaN         NaN           NaN  \n",
       "freq           NaN         NaN           NaN  \n",
       "mean      3.320853  179.898509      7.598430  \n",
       "std       0.478149   40.274956      1.577173  \n",
       "min       2.514000  126.111903      5.143000  \n",
       "25%       2.852250  131.970831      6.597500  \n",
       "50%       3.451000  197.908893      7.470000  \n",
       "75%       3.706250  214.934616      8.150000  \n",
       "max       4.193000  226.968844     14.313000  "
      ]
     },
     "execution_count": 48,
     "metadata": {},
     "output_type": "execute_result"
    }
   ],
   "source": [
    "df.describe(include='all')"
   ]
  },
  {
   "cell_type": "code",
   "execution_count": 32,
   "id": "b94a1f2f",
   "metadata": {
    "scrolled": false
   },
   "outputs": [
    {
     "data": {
      "text/plain": [
       "<Figure size 432x288 with 0 Axes>"
      ]
     },
     "metadata": {},
     "output_type": "display_data"
    },
    {
     "data": {
      "image/png": "[encoded data removed]",
      "text/plain": [
       "<Figure size 360x360 with 1 Axes>"
      ]
     },
     "metadata": {
      "needs_background": "light"
     },
     "output_type": "display_data"
    },
    {
     "data": {
      "text/plain": [
       "<Figure size 432x288 with 0 Axes>"
      ]
     },
     "metadata": {},
     "output_type": "display_data"
    },
    {
     "data": {
      "image/png": "[encoded data removed]",
      "text/plain": [
       "<Figure size 360x360 with 1 Axes>"
      ]
     },
     "metadata": {
      "needs_background": "light"
     },
     "output_type": "display_data"
    },
    {
     "data": {
      "text/plain": [
       "<Figure size 432x288 with 0 Axes>"
      ]
     },
     "metadata": {},
     "output_type": "display_data"
    },
    {
     "data": {
      "image/png": "[encoded data removed]",
      "text/plain": [
       "<Figure size 360x360 with 1 Axes>"
      ]
     },
     "metadata": {
      "needs_background": "light"
     },
     "output_type": "display_data"
    },
    {
     "data": {
      "text/plain": [
       "<Figure size 432x288 with 0 Axes>"
      ]
     },
     "metadata": {},
     "output_type": "display_data"
    },
    {
     "data": {
      "image/png": "[encoded data removed]",
      "text/plain": [
       "<Figure size 360x360 with 1 Axes>"
      ]
     },
     "metadata": {
      "needs_background": "light"
     },
     "output_type": "display_data"
    },
    {
     "data": {
      "text/plain": [
       "<Figure size 432x288 with 0 Axes>"
      ]
     },
     "metadata": {},
     "output_type": "display_data"
    },
    {
     "data": {
      "image/png": "[encoded data removed]",
      "text/plain": [
       "<Figure size 360x360 with 1 Axes>"
      ]
     },
     "metadata": {
      "needs_background": "light"
     },
     "output_type": "display_data"
    },
    {
     "data": {
      "text/plain": [
       "<Figure size 432x288 with 0 Axes>"
      ]
     },
     "metadata": {},
     "output_type": "display_data"
    },
    {
     "data": {
      "image/png": "[encoded data removed]",
      "text/plain": [
       "<Figure size 360x360 with 1 Axes>"
      ]
     },
     "metadata": {
      "needs_background": "light"
     },
     "output_type": "display_data"
    },
    {
     "data": {
      "text/plain": [
       "<Figure size 432x288 with 0 Axes>"
      ]
     },
     "metadata": {},
     "output_type": "display_data"
    },
    {
     "data": {
      "image/png": "[encoded data removed]",
      "text/plain": [
       "<Figure size 360x360 with 1 Axes>"
      ]
     },
     "metadata": {
      "needs_background": "light"
     },
     "output_type": "display_data"
    }
   ],
   "source": [
    "for col in df.columns:\n",
    "    if col != 'Date':\n",
    "        plt.figure()\n",
    "        sns.displot(df[col], kde=True);"
   ]
  },
  {
   "cell_type": "markdown",
   "id": "3e062a33",
   "metadata": {},
   "source": [
    "**`Weekly_Sales`** : Le montant des ventes est assez homogène : Il y a plus de petites ventes que de grosses mais la distribution reste uniforme avec quelques variations\n",
    "    \n",
    "**`Holiday_Flag`** : on observe une très grande majorité de semaine de non-vacances \n",
    "\n",
    "**`Temperature`** : la plage de temperature est assez uniforme avec un peu plus de temperature élevée que très basse\n",
    "\n",
    "**`Fuel_Price`** : De même, nous observons une homogénité dans les données avec quelques pics à 2.85 et 3.65\n",
    "\n",
    "**`CPI`** : Indice des prix à la consommation est soit très faible, soit très élevé : \n"
   ]
  },
  {
   "cell_type": "code",
   "execution_count": 49,
   "id": "9b909e47",
   "metadata": {},
   "outputs": [
    {
     "data": {
      "text/plain": [
       "14"
      ]
     },
     "execution_count": 49,
     "metadata": {},
     "output_type": "execute_result"
    }
   ],
   "source": [
    "df['Weekly_Sales'].isna().sum()"
   ]
  },
  {
   "cell_type": "markdown",
   "id": "91bfb6ca",
   "metadata": {},
   "source": [
    "Il y a 14 lignes qui comportent des valeurs manquantes pour la colonne **`Weekly_Sales`** : nous allons supprimer ces lignes"
   ]
  },
  {
   "cell_type": "code",
   "execution_count": 50,
   "id": "b5aefa98",
   "metadata": {},
   "outputs": [
    {
     "data": {
      "text/html": [
       "<div>\n",
       "<style scoped>\n",
       "    .dataframe tbody tr th:only-of-type {\n",
       "        vertical-align: middle;\n",
       "    }\n",
       "\n",
       "    .dataframe tbody tr th {\n",
       "        vertical-align: top;\n",
       "    }\n",
       "\n",
       "    .dataframe thead th {\n",
       "        text-align: right;\n",
       "    }\n",
       "</style>\n",
       "<table border=\"1\" class=\"dataframe\">\n",
       "  <thead>\n",
       "    <tr style=\"text-align: right;\">\n",
       "      <th></th>\n",
       "      <th>Store</th>\n",
       "      <th>Date</th>\n",
       "      <th>Weekly_Sales</th>\n",
       "      <th>Holiday_Flag</th>\n",
       "      <th>Temperature</th>\n",
       "      <th>Fuel_Price</th>\n",
       "      <th>CPI</th>\n",
       "      <th>Unemployment</th>\n",
       "    </tr>\n",
       "  </thead>\n",
       "  <tbody>\n",
       "    <tr>\n",
       "      <th>2</th>\n",
       "      <td>17.0</td>\n",
       "      <td>27-07-2012</td>\n",
       "      <td>NaN</td>\n",
       "      <td>0.0</td>\n",
       "      <td>NaN</td>\n",
       "      <td>NaN</td>\n",
       "      <td>130.719581</td>\n",
       "      <td>5.936</td>\n",
       "    </tr>\n",
       "    <tr>\n",
       "      <th>19</th>\n",
       "      <td>3.0</td>\n",
       "      <td>18-05-2012</td>\n",
       "      <td>NaN</td>\n",
       "      <td>0.0</td>\n",
       "      <td>72.38</td>\n",
       "      <td>3.630</td>\n",
       "      <td>225.251202</td>\n",
       "      <td>6.664</td>\n",
       "    </tr>\n",
       "    <tr>\n",
       "      <th>31</th>\n",
       "      <td>5.0</td>\n",
       "      <td>30-12-2011</td>\n",
       "      <td>NaN</td>\n",
       "      <td>1.0</td>\n",
       "      <td>NaN</td>\n",
       "      <td>3.129</td>\n",
       "      <td>220.117823</td>\n",
       "      <td>6.300</td>\n",
       "    </tr>\n",
       "    <tr>\n",
       "      <th>57</th>\n",
       "      <td>4.0</td>\n",
       "      <td>07-01-2011</td>\n",
       "      <td>NaN</td>\n",
       "      <td>0.0</td>\n",
       "      <td>NaN</td>\n",
       "      <td>2.980</td>\n",
       "      <td>127.191774</td>\n",
       "      <td>6.510</td>\n",
       "    </tr>\n",
       "    <tr>\n",
       "      <th>69</th>\n",
       "      <td>20.0</td>\n",
       "      <td>26-03-2010</td>\n",
       "      <td>NaN</td>\n",
       "      <td>0.0</td>\n",
       "      <td>50.49</td>\n",
       "      <td>2.854</td>\n",
       "      <td>204.201755</td>\n",
       "      <td>8.187</td>\n",
       "    </tr>\n",
       "    <tr>\n",
       "      <th>71</th>\n",
       "      <td>20.0</td>\n",
       "      <td>07-09-2012</td>\n",
       "      <td>NaN</td>\n",
       "      <td>1.0</td>\n",
       "      <td>76.36</td>\n",
       "      <td>3.911</td>\n",
       "      <td>215.218957</td>\n",
       "      <td>NaN</td>\n",
       "    </tr>\n",
       "    <tr>\n",
       "      <th>77</th>\n",
       "      <td>3.0</td>\n",
       "      <td>29-07-2011</td>\n",
       "      <td>NaN</td>\n",
       "      <td>0.0</td>\n",
       "      <td>88.07</td>\n",
       "      <td>3.682</td>\n",
       "      <td>NaN</td>\n",
       "      <td>7.567</td>\n",
       "    </tr>\n",
       "    <tr>\n",
       "      <th>84</th>\n",
       "      <td>8.0</td>\n",
       "      <td>03-09-2010</td>\n",
       "      <td>NaN</td>\n",
       "      <td>0.0</td>\n",
       "      <td>76.14</td>\n",
       "      <td>2.577</td>\n",
       "      <td>214.894576</td>\n",
       "      <td>6.315</td>\n",
       "    </tr>\n",
       "    <tr>\n",
       "      <th>109</th>\n",
       "      <td>1.0</td>\n",
       "      <td>09-12-2011</td>\n",
       "      <td>NaN</td>\n",
       "      <td>NaN</td>\n",
       "      <td>43.93</td>\n",
       "      <td>3.158</td>\n",
       "      <td>218.961846</td>\n",
       "      <td>7.866</td>\n",
       "    </tr>\n",
       "    <tr>\n",
       "      <th>117</th>\n",
       "      <td>19.0</td>\n",
       "      <td>13-04-2012</td>\n",
       "      <td>NaN</td>\n",
       "      <td>0.0</td>\n",
       "      <td>44.42</td>\n",
       "      <td>4.187</td>\n",
       "      <td>137.868000</td>\n",
       "      <td>8.150</td>\n",
       "    </tr>\n",
       "    <tr>\n",
       "      <th>126</th>\n",
       "      <td>8.0</td>\n",
       "      <td>22-07-2011</td>\n",
       "      <td>NaN</td>\n",
       "      <td>0.0</td>\n",
       "      <td>85.46</td>\n",
       "      <td>3.651</td>\n",
       "      <td>218.832848</td>\n",
       "      <td>6.425</td>\n",
       "    </tr>\n",
       "    <tr>\n",
       "      <th>133</th>\n",
       "      <td>1.0</td>\n",
       "      <td>24-09-2010</td>\n",
       "      <td>NaN</td>\n",
       "      <td>0.0</td>\n",
       "      <td>80.94</td>\n",
       "      <td>NaN</td>\n",
       "      <td>211.597225</td>\n",
       "      <td>7.787</td>\n",
       "    </tr>\n",
       "    <tr>\n",
       "      <th>134</th>\n",
       "      <td>6.0</td>\n",
       "      <td>19-10-2012</td>\n",
       "      <td>NaN</td>\n",
       "      <td>0.0</td>\n",
       "      <td>69.68</td>\n",
       "      <td>3.594</td>\n",
       "      <td>225.050101</td>\n",
       "      <td>5.329</td>\n",
       "    </tr>\n",
       "    <tr>\n",
       "      <th>140</th>\n",
       "      <td>3.0</td>\n",
       "      <td>07-01-2011</td>\n",
       "      <td>NaN</td>\n",
       "      <td>0.0</td>\n",
       "      <td>53.35</td>\n",
       "      <td>2.976</td>\n",
       "      <td>214.695510</td>\n",
       "      <td>7.551</td>\n",
       "    </tr>\n",
       "  </tbody>\n",
       "</table>\n",
       "</div>"
      ],
      "text/plain": [
       "     Store        Date  Weekly_Sales  Holiday_Flag  Temperature  Fuel_Price  \\\n",
       "2     17.0  27-07-2012           NaN           0.0          NaN         NaN   \n",
       "19     3.0  18-05-2012           NaN           0.0        72.38       3.630   \n",
       "31     5.0  30-12-2011           NaN           1.0          NaN       3.129   \n",
       "57     4.0  07-01-2011           NaN           0.0          NaN       2.980   \n",
       "69    20.0  26-03-2010           NaN           0.0        50.49       2.854   \n",
       "71    20.0  07-09-2012           NaN           1.0        76.36       3.911   \n",
       "77     3.0  29-07-2011           NaN           0.0        88.07       3.682   \n",
       "84     8.0  03-09-2010           NaN           0.0        76.14       2.577   \n",
       "109    1.0  09-12-2011           NaN           NaN        43.93       3.158   \n",
       "117   19.0  13-04-2012           NaN           0.0        44.42       4.187   \n",
       "126    8.0  22-07-2011           NaN           0.0        85.46       3.651   \n",
       "133    1.0  24-09-2010           NaN           0.0        80.94         NaN   \n",
       "134    6.0  19-10-2012           NaN           0.0        69.68       3.594   \n",
       "140    3.0  07-01-2011           NaN           0.0        53.35       2.976   \n",
       "\n",
       "            CPI  Unemployment  \n",
       "2    130.719581         5.936  \n",
       "19   225.251202         6.664  \n",
       "31   220.117823         6.300  \n",
       "57   127.191774         6.510  \n",
       "69   204.201755         8.187  \n",
       "71   215.218957           NaN  \n",
       "77          NaN         7.567  \n",
       "84   214.894576         6.315  \n",
       "109  218.961846         7.866  \n",
       "117  137.868000         8.150  \n",
       "126  218.832848         6.425  \n",
       "133  211.597225         7.787  \n",
       "134  225.050101         5.329  \n",
       "140  214.695510         7.551  "
      ]
     },
     "execution_count": 50,
     "metadata": {},
     "output_type": "execute_result"
    }
   ],
   "source": [
    "df[df['Weekly_Sales'].isna()]"
   ]
  },
  {
   "cell_type": "code",
   "execution_count": 51,
   "id": "7331f09b",
   "metadata": {},
   "outputs": [],
   "source": [
    "df = df[~df['Weekly_Sales'].isna()]"
   ]
  },
  {
   "cell_type": "markdown",
   "id": "2dfcf8a9",
   "metadata": {},
   "source": [
    "## Feature Engineering"
   ]
  },
  {
   "cell_type": "markdown",
   "id": "c7975688",
   "metadata": {},
   "source": [
    "Nous allons transformer la colonne **`Date`** en datetime puis créer des sous-catégories de date : **`year`**, **`month`**, **`day`**, **`weekday`** : avant de le faire, nous devons prendre une décision pour les dates manquantes : soit nous faisons une interpolation, soit nous les supprimons (sachant qu'il y a 12% de valeurs manquantes avec peu de lignes dans le dataframe)\n",
    "\n",
    "Si nous faisons une interpolation, nous allons fausser des résultats car une date peut influencer le montant des ventes (nous le verrons plus tard avec la matrice de corrélation)\n",
    "\n",
    "Je décide donc, pour l'instant, de supprimer les valeurs manquantes de la colonne **`Date`**"
   ]
  },
  {
   "cell_type": "code",
   "execution_count": 52,
   "id": "e91c0921",
   "metadata": {},
   "outputs": [],
   "source": [
    "df = df[~df['Date'].isnull()]"
   ]
  },
  {
   "cell_type": "code",
   "execution_count": 53,
   "id": "25ce538c",
   "metadata": {},
   "outputs": [],
   "source": [
    "df.Date = pd.to_datetime(df.Date, infer_datetime_format=True)\n",
    "\n",
    "df['year'] = df.Date.dt.year\n",
    "df['month'] = df.Date.dt.month\n",
    "df['day'] = df.Date.dt.day\n",
    "df['weekday'] = df.Date.dt.weekday"
   ]
  },
  {
   "cell_type": "code",
   "execution_count": 54,
   "id": "90c4ad83",
   "metadata": {},
   "outputs": [
    {
     "data": {
      "text/html": [
       "<div>\n",
       "<style scoped>\n",
       "    .dataframe tbody tr th:only-of-type {\n",
       "        vertical-align: middle;\n",
       "    }\n",
       "\n",
       "    .dataframe tbody tr th {\n",
       "        vertical-align: top;\n",
       "    }\n",
       "\n",
       "    .dataframe thead th {\n",
       "        text-align: right;\n",
       "    }\n",
       "</style>\n",
       "<table border=\"1\" class=\"dataframe\">\n",
       "  <thead>\n",
       "    <tr style=\"text-align: right;\">\n",
       "      <th></th>\n",
       "      <th>Store</th>\n",
       "      <th>Date</th>\n",
       "      <th>Weekly_Sales</th>\n",
       "      <th>Holiday_Flag</th>\n",
       "      <th>Temperature</th>\n",
       "      <th>Fuel_Price</th>\n",
       "      <th>CPI</th>\n",
       "      <th>Unemployment</th>\n",
       "      <th>year</th>\n",
       "      <th>month</th>\n",
       "      <th>day</th>\n",
       "      <th>weekday</th>\n",
       "    </tr>\n",
       "  </thead>\n",
       "  <tbody>\n",
       "    <tr>\n",
       "      <th>0</th>\n",
       "      <td>6.0</td>\n",
       "      <td>2011-02-18</td>\n",
       "      <td>1572117.54</td>\n",
       "      <td>NaN</td>\n",
       "      <td>59.61</td>\n",
       "      <td>3.045</td>\n",
       "      <td>214.777523</td>\n",
       "      <td>6.858</td>\n",
       "      <td>2011</td>\n",
       "      <td>2</td>\n",
       "      <td>18</td>\n",
       "      <td>4</td>\n",
       "    </tr>\n",
       "    <tr>\n",
       "      <th>1</th>\n",
       "      <td>13.0</td>\n",
       "      <td>2011-03-25</td>\n",
       "      <td>1807545.43</td>\n",
       "      <td>0.0</td>\n",
       "      <td>42.38</td>\n",
       "      <td>3.435</td>\n",
       "      <td>128.616064</td>\n",
       "      <td>7.470</td>\n",
       "      <td>2011</td>\n",
       "      <td>3</td>\n",
       "      <td>25</td>\n",
       "      <td>4</td>\n",
       "    </tr>\n",
       "    <tr>\n",
       "      <th>4</th>\n",
       "      <td>6.0</td>\n",
       "      <td>2010-05-28</td>\n",
       "      <td>1644470.66</td>\n",
       "      <td>0.0</td>\n",
       "      <td>78.89</td>\n",
       "      <td>2.759</td>\n",
       "      <td>212.412888</td>\n",
       "      <td>7.092</td>\n",
       "      <td>2010</td>\n",
       "      <td>5</td>\n",
       "      <td>28</td>\n",
       "      <td>4</td>\n",
       "    </tr>\n",
       "    <tr>\n",
       "      <th>5</th>\n",
       "      <td>4.0</td>\n",
       "      <td>2010-05-28</td>\n",
       "      <td>1857533.70</td>\n",
       "      <td>0.0</td>\n",
       "      <td>NaN</td>\n",
       "      <td>2.756</td>\n",
       "      <td>126.160226</td>\n",
       "      <td>7.896</td>\n",
       "      <td>2010</td>\n",
       "      <td>5</td>\n",
       "      <td>28</td>\n",
       "      <td>4</td>\n",
       "    </tr>\n",
       "    <tr>\n",
       "      <th>6</th>\n",
       "      <td>15.0</td>\n",
       "      <td>2011-06-03</td>\n",
       "      <td>695396.19</td>\n",
       "      <td>0.0</td>\n",
       "      <td>69.80</td>\n",
       "      <td>4.069</td>\n",
       "      <td>134.855161</td>\n",
       "      <td>7.658</td>\n",
       "      <td>2011</td>\n",
       "      <td>6</td>\n",
       "      <td>3</td>\n",
       "      <td>4</td>\n",
       "    </tr>\n",
       "    <tr>\n",
       "      <th>...</th>\n",
       "      <td>...</td>\n",
       "      <td>...</td>\n",
       "      <td>...</td>\n",
       "      <td>...</td>\n",
       "      <td>...</td>\n",
       "      <td>...</td>\n",
       "      <td>...</td>\n",
       "      <td>...</td>\n",
       "      <td>...</td>\n",
       "      <td>...</td>\n",
       "      <td>...</td>\n",
       "      <td>...</td>\n",
       "    </tr>\n",
       "    <tr>\n",
       "      <th>144</th>\n",
       "      <td>3.0</td>\n",
       "      <td>2012-10-19</td>\n",
       "      <td>424513.08</td>\n",
       "      <td>0.0</td>\n",
       "      <td>73.44</td>\n",
       "      <td>3.594</td>\n",
       "      <td>226.968844</td>\n",
       "      <td>6.034</td>\n",
       "      <td>2012</td>\n",
       "      <td>10</td>\n",
       "      <td>19</td>\n",
       "      <td>4</td>\n",
       "    </tr>\n",
       "    <tr>\n",
       "      <th>145</th>\n",
       "      <td>14.0</td>\n",
       "      <td>2010-06-18</td>\n",
       "      <td>2248645.59</td>\n",
       "      <td>0.0</td>\n",
       "      <td>72.62</td>\n",
       "      <td>2.780</td>\n",
       "      <td>182.442420</td>\n",
       "      <td>8.899</td>\n",
       "      <td>2010</td>\n",
       "      <td>6</td>\n",
       "      <td>18</td>\n",
       "      <td>4</td>\n",
       "    </tr>\n",
       "    <tr>\n",
       "      <th>147</th>\n",
       "      <td>17.0</td>\n",
       "      <td>2010-06-11</td>\n",
       "      <td>845252.21</td>\n",
       "      <td>0.0</td>\n",
       "      <td>57.14</td>\n",
       "      <td>2.841</td>\n",
       "      <td>126.111903</td>\n",
       "      <td>NaN</td>\n",
       "      <td>2010</td>\n",
       "      <td>6</td>\n",
       "      <td>11</td>\n",
       "      <td>4</td>\n",
       "    </tr>\n",
       "    <tr>\n",
       "      <th>148</th>\n",
       "      <td>8.0</td>\n",
       "      <td>2011-08-12</td>\n",
       "      <td>856796.10</td>\n",
       "      <td>0.0</td>\n",
       "      <td>86.05</td>\n",
       "      <td>3.638</td>\n",
       "      <td>219.007525</td>\n",
       "      <td>NaN</td>\n",
       "      <td>2011</td>\n",
       "      <td>8</td>\n",
       "      <td>12</td>\n",
       "      <td>4</td>\n",
       "    </tr>\n",
       "    <tr>\n",
       "      <th>149</th>\n",
       "      <td>19.0</td>\n",
       "      <td>2012-04-20</td>\n",
       "      <td>1255087.26</td>\n",
       "      <td>0.0</td>\n",
       "      <td>55.20</td>\n",
       "      <td>4.170</td>\n",
       "      <td>137.923067</td>\n",
       "      <td>8.150</td>\n",
       "      <td>2012</td>\n",
       "      <td>4</td>\n",
       "      <td>20</td>\n",
       "      <td>4</td>\n",
       "    </tr>\n",
       "  </tbody>\n",
       "</table>\n",
       "<p>118 rows × 12 columns</p>\n",
       "</div>"
      ],
      "text/plain": [
       "     Store       Date  Weekly_Sales  Holiday_Flag  Temperature  Fuel_Price  \\\n",
       "0      6.0 2011-02-18    1572117.54           NaN        59.61       3.045   \n",
       "1     13.0 2011-03-25    1807545.43           0.0        42.38       3.435   \n",
       "4      6.0 2010-05-28    1644470.66           0.0        78.89       2.759   \n",
       "5      4.0 2010-05-28    1857533.70           0.0          NaN       2.756   \n",
       "6     15.0 2011-06-03     695396.19           0.0        69.80       4.069   \n",
       "..     ...        ...           ...           ...          ...         ...   \n",
       "144    3.0 2012-10-19     424513.08           0.0        73.44       3.594   \n",
       "145   14.0 2010-06-18    2248645.59           0.0        72.62       2.780   \n",
       "147   17.0 2010-06-11     845252.21           0.0        57.14       2.841   \n",
       "148    8.0 2011-08-12     856796.10           0.0        86.05       3.638   \n",
       "149   19.0 2012-04-20    1255087.26           0.0        55.20       4.170   \n",
       "\n",
       "            CPI  Unemployment  year  month  day  weekday  \n",
       "0    214.777523         6.858  2011      2   18        4  \n",
       "1    128.616064         7.470  2011      3   25        4  \n",
       "4    212.412888         7.092  2010      5   28        4  \n",
       "5    126.160226         7.896  2010      5   28        4  \n",
       "6    134.855161         7.658  2011      6    3        4  \n",
       "..          ...           ...   ...    ...  ...      ...  \n",
       "144  226.968844         6.034  2012     10   19        4  \n",
       "145  182.442420         8.899  2010      6   18        4  \n",
       "147  126.111903           NaN  2010      6   11        4  \n",
       "148  219.007525           NaN  2011      8   12        4  \n",
       "149  137.923067         8.150  2012      4   20        4  \n",
       "\n",
       "[118 rows x 12 columns]"
      ]
     },
     "execution_count": 54,
     "metadata": {},
     "output_type": "execute_result"
    }
   ],
   "source": [
    "df"
   ]
  },
  {
   "cell_type": "code",
   "execution_count": 55,
   "id": "399811b1",
   "metadata": {},
   "outputs": [
    {
     "data": {
      "text/html": [
       "<div>\n",
       "<style scoped>\n",
       "    .dataframe tbody tr th:only-of-type {\n",
       "        vertical-align: middle;\n",
       "    }\n",
       "\n",
       "    .dataframe tbody tr th {\n",
       "        vertical-align: top;\n",
       "    }\n",
       "\n",
       "    .dataframe thead th {\n",
       "        text-align: right;\n",
       "    }\n",
       "</style>\n",
       "<table border=\"1\" class=\"dataframe\">\n",
       "  <thead>\n",
       "    <tr style=\"text-align: right;\">\n",
       "      <th></th>\n",
       "      <th>Store</th>\n",
       "      <th>Date</th>\n",
       "      <th>Weekly_Sales</th>\n",
       "      <th>Holiday_Flag</th>\n",
       "      <th>Temperature</th>\n",
       "      <th>Fuel_Price</th>\n",
       "      <th>CPI</th>\n",
       "      <th>Unemployment</th>\n",
       "      <th>year</th>\n",
       "      <th>month</th>\n",
       "      <th>day</th>\n",
       "      <th>weekday</th>\n",
       "    </tr>\n",
       "  </thead>\n",
       "  <tbody>\n",
       "    <tr>\n",
       "      <th>32</th>\n",
       "      <td>7.0</td>\n",
       "      <td>2012-02-10</td>\n",
       "      <td>563460.77</td>\n",
       "      <td>1.0</td>\n",
       "      <td>18.79</td>\n",
       "      <td>3.103</td>\n",
       "      <td>196.919506</td>\n",
       "      <td>8.256</td>\n",
       "      <td>2012</td>\n",
       "      <td>2</td>\n",
       "      <td>10</td>\n",
       "      <td>4</td>\n",
       "    </tr>\n",
       "    <tr>\n",
       "      <th>33</th>\n",
       "      <td>14.0</td>\n",
       "      <td>2012-02-10</td>\n",
       "      <td>2077256.24</td>\n",
       "      <td>1.0</td>\n",
       "      <td>37.00</td>\n",
       "      <td>NaN</td>\n",
       "      <td>NaN</td>\n",
       "      <td>8.424</td>\n",
       "      <td>2012</td>\n",
       "      <td>2</td>\n",
       "      <td>10</td>\n",
       "      <td>4</td>\n",
       "    </tr>\n",
       "    <tr>\n",
       "      <th>44</th>\n",
       "      <td>1.0</td>\n",
       "      <td>2010-02-12</td>\n",
       "      <td>1641957.44</td>\n",
       "      <td>1.0</td>\n",
       "      <td>38.51</td>\n",
       "      <td>2.548</td>\n",
       "      <td>211.242170</td>\n",
       "      <td>8.106</td>\n",
       "      <td>2010</td>\n",
       "      <td>2</td>\n",
       "      <td>12</td>\n",
       "      <td>4</td>\n",
       "    </tr>\n",
       "    <tr>\n",
       "      <th>107</th>\n",
       "      <td>8.0</td>\n",
       "      <td>2010-02-12</td>\n",
       "      <td>994801.40</td>\n",
       "      <td>1.0</td>\n",
       "      <td>33.34</td>\n",
       "      <td>2.548</td>\n",
       "      <td>214.621419</td>\n",
       "      <td>6.299</td>\n",
       "      <td>2010</td>\n",
       "      <td>2</td>\n",
       "      <td>12</td>\n",
       "      <td>4</td>\n",
       "    </tr>\n",
       "    <tr>\n",
       "      <th>110</th>\n",
       "      <td>20.0</td>\n",
       "      <td>2010-12-31</td>\n",
       "      <td>1799737.79</td>\n",
       "      <td>1.0</td>\n",
       "      <td>28.85</td>\n",
       "      <td>3.179</td>\n",
       "      <td>204.643227</td>\n",
       "      <td>7.484</td>\n",
       "      <td>2010</td>\n",
       "      <td>12</td>\n",
       "      <td>31</td>\n",
       "      <td>4</td>\n",
       "    </tr>\n",
       "    <tr>\n",
       "      <th>114</th>\n",
       "      <td>11.0</td>\n",
       "      <td>2010-11-26</td>\n",
       "      <td>1757242.51</td>\n",
       "      <td>1.0</td>\n",
       "      <td>69.90</td>\n",
       "      <td>2.735</td>\n",
       "      <td>215.061403</td>\n",
       "      <td>7.564</td>\n",
       "      <td>2010</td>\n",
       "      <td>11</td>\n",
       "      <td>26</td>\n",
       "      <td>4</td>\n",
       "    </tr>\n",
       "    <tr>\n",
       "      <th>122</th>\n",
       "      <td>7.0</td>\n",
       "      <td>2012-09-07</td>\n",
       "      <td>597876.55</td>\n",
       "      <td>1.0</td>\n",
       "      <td>57.84</td>\n",
       "      <td>3.596</td>\n",
       "      <td>198.095048</td>\n",
       "      <td>7.872</td>\n",
       "      <td>2012</td>\n",
       "      <td>9</td>\n",
       "      <td>7</td>\n",
       "      <td>4</td>\n",
       "    </tr>\n",
       "    <tr>\n",
       "      <th>135</th>\n",
       "      <td>12.0</td>\n",
       "      <td>2010-09-10</td>\n",
       "      <td>903119.03</td>\n",
       "      <td>1.0</td>\n",
       "      <td>83.63</td>\n",
       "      <td>3.044</td>\n",
       "      <td>126.114581</td>\n",
       "      <td>14.180</td>\n",
       "      <td>2010</td>\n",
       "      <td>9</td>\n",
       "      <td>10</td>\n",
       "      <td>4</td>\n",
       "    </tr>\n",
       "  </tbody>\n",
       "</table>\n",
       "</div>"
      ],
      "text/plain": [
       "     Store       Date  Weekly_Sales  Holiday_Flag  Temperature  Fuel_Price  \\\n",
       "32     7.0 2012-02-10     563460.77           1.0        18.79       3.103   \n",
       "33    14.0 2012-02-10    2077256.24           1.0        37.00         NaN   \n",
       "44     1.0 2010-02-12    1641957.44           1.0        38.51       2.548   \n",
       "107    8.0 2010-02-12     994801.40           1.0        33.34       2.548   \n",
       "110   20.0 2010-12-31    1799737.79           1.0        28.85       3.179   \n",
       "114   11.0 2010-11-26    1757242.51           1.0        69.90       2.735   \n",
       "122    7.0 2012-09-07     597876.55           1.0        57.84       3.596   \n",
       "135   12.0 2010-09-10     903119.03           1.0        83.63       3.044   \n",
       "\n",
       "            CPI  Unemployment  year  month  day  weekday  \n",
       "32   196.919506         8.256  2012      2   10        4  \n",
       "33          NaN         8.424  2012      2   10        4  \n",
       "44   211.242170         8.106  2010      2   12        4  \n",
       "107  214.621419         6.299  2010      2   12        4  \n",
       "110  204.643227         7.484  2010     12   31        4  \n",
       "114  215.061403         7.564  2010     11   26        4  \n",
       "122  198.095048         7.872  2012      9    7        4  \n",
       "135  126.114581        14.180  2010      9   10        4  "
      ]
     },
     "execution_count": 55,
     "metadata": {},
     "output_type": "execute_result"
    }
   ],
   "source": [
    "df[df['Holiday_Flag'] == 1]"
   ]
  },
  {
   "cell_type": "code",
   "execution_count": 56,
   "id": "0c1735b6",
   "metadata": {},
   "outputs": [
    {
     "data": {
      "text/plain": [
       "array([4], dtype=int64)"
      ]
     },
     "execution_count": 56,
     "metadata": {},
     "output_type": "execute_result"
    }
   ],
   "source": [
    "df['weekday'].unique()"
   ]
  },
  {
   "cell_type": "markdown",
   "id": "d8b413ea",
   "metadata": {},
   "source": [
    "Toutes les lignes représentent un jeudi"
   ]
  },
  {
   "cell_type": "code",
   "execution_count": 57,
   "id": "2fa7a4e9",
   "metadata": {},
   "outputs": [
    {
     "data": {
      "text/html": [
       "<div>\n",
       "<style scoped>\n",
       "    .dataframe tbody tr th:only-of-type {\n",
       "        vertical-align: middle;\n",
       "    }\n",
       "\n",
       "    .dataframe tbody tr th {\n",
       "        vertical-align: top;\n",
       "    }\n",
       "\n",
       "    .dataframe thead th {\n",
       "        text-align: right;\n",
       "    }\n",
       "</style>\n",
       "<table border=\"1\" class=\"dataframe\">\n",
       "  <thead>\n",
       "    <tr style=\"text-align: right;\">\n",
       "      <th></th>\n",
       "      <th>Store</th>\n",
       "      <th>Date</th>\n",
       "      <th>Weekly_Sales</th>\n",
       "      <th>Holiday_Flag</th>\n",
       "      <th>Temperature</th>\n",
       "      <th>Fuel_Price</th>\n",
       "      <th>CPI</th>\n",
       "      <th>Unemployment</th>\n",
       "      <th>year</th>\n",
       "      <th>month</th>\n",
       "      <th>day</th>\n",
       "      <th>weekday</th>\n",
       "    </tr>\n",
       "  </thead>\n",
       "  <tbody>\n",
       "    <tr>\n",
       "      <th>5</th>\n",
       "      <td>4.0</td>\n",
       "      <td>2010-05-28</td>\n",
       "      <td>1857533.70</td>\n",
       "      <td>0.0</td>\n",
       "      <td>NaN</td>\n",
       "      <td>2.756</td>\n",
       "      <td>126.160226</td>\n",
       "      <td>7.896</td>\n",
       "      <td>2010</td>\n",
       "      <td>5</td>\n",
       "      <td>28</td>\n",
       "      <td>4</td>\n",
       "    </tr>\n",
       "    <tr>\n",
       "      <th>29</th>\n",
       "      <td>6.0</td>\n",
       "      <td>2011-08-26</td>\n",
       "      <td>1420405.41</td>\n",
       "      <td>0.0</td>\n",
       "      <td>NaN</td>\n",
       "      <td>3.523</td>\n",
       "      <td>217.270654</td>\n",
       "      <td>6.925</td>\n",
       "      <td>2011</td>\n",
       "      <td>8</td>\n",
       "      <td>26</td>\n",
       "      <td>4</td>\n",
       "    </tr>\n",
       "    <tr>\n",
       "      <th>37</th>\n",
       "      <td>18.0</td>\n",
       "      <td>2011-04-15</td>\n",
       "      <td>988157.72</td>\n",
       "      <td>0.0</td>\n",
       "      <td>NaN</td>\n",
       "      <td>3.823</td>\n",
       "      <td>134.278467</td>\n",
       "      <td>8.975</td>\n",
       "      <td>2011</td>\n",
       "      <td>4</td>\n",
       "      <td>15</td>\n",
       "      <td>4</td>\n",
       "    </tr>\n",
       "    <tr>\n",
       "      <th>41</th>\n",
       "      <td>16.0</td>\n",
       "      <td>2012-09-14</td>\n",
       "      <td>526525.16</td>\n",
       "      <td>0.0</td>\n",
       "      <td>NaN</td>\n",
       "      <td>3.659</td>\n",
       "      <td>198.126718</td>\n",
       "      <td>6.061</td>\n",
       "      <td>2012</td>\n",
       "      <td>9</td>\n",
       "      <td>14</td>\n",
       "      <td>4</td>\n",
       "    </tr>\n",
       "    <tr>\n",
       "      <th>58</th>\n",
       "      <td>6.0</td>\n",
       "      <td>2010-07-30</td>\n",
       "      <td>1532308.78</td>\n",
       "      <td>0.0</td>\n",
       "      <td>NaN</td>\n",
       "      <td>2.640</td>\n",
       "      <td>212.894485</td>\n",
       "      <td>6.973</td>\n",
       "      <td>2010</td>\n",
       "      <td>7</td>\n",
       "      <td>30</td>\n",
       "      <td>4</td>\n",
       "    </tr>\n",
       "    <tr>\n",
       "      <th>60</th>\n",
       "      <td>14.0</td>\n",
       "      <td>2011-05-06</td>\n",
       "      <td>2095599.93</td>\n",
       "      <td>0.0</td>\n",
       "      <td>NaN</td>\n",
       "      <td>4.046</td>\n",
       "      <td>185.937438</td>\n",
       "      <td>8.521</td>\n",
       "      <td>2011</td>\n",
       "      <td>5</td>\n",
       "      <td>6</td>\n",
       "      <td>4</td>\n",
       "    </tr>\n",
       "    <tr>\n",
       "      <th>93</th>\n",
       "      <td>12.0</td>\n",
       "      <td>2011-05-27</td>\n",
       "      <td>964332.51</td>\n",
       "      <td>0.0</td>\n",
       "      <td>NaN</td>\n",
       "      <td>4.087</td>\n",
       "      <td>129.062355</td>\n",
       "      <td>13.736</td>\n",
       "      <td>2011</td>\n",
       "      <td>5</td>\n",
       "      <td>27</td>\n",
       "      <td>4</td>\n",
       "    </tr>\n",
       "    <tr>\n",
       "      <th>111</th>\n",
       "      <td>19.0</td>\n",
       "      <td>2012-06-22</td>\n",
       "      <td>1468350.36</td>\n",
       "      <td>0.0</td>\n",
       "      <td>NaN</td>\n",
       "      <td>3.722</td>\n",
       "      <td>138.162900</td>\n",
       "      <td>8.150</td>\n",
       "      <td>2012</td>\n",
       "      <td>6</td>\n",
       "      <td>22</td>\n",
       "      <td>4</td>\n",
       "    </tr>\n",
       "    <tr>\n",
       "      <th>115</th>\n",
       "      <td>15.0</td>\n",
       "      <td>2010-02-19</td>\n",
       "      <td>660838.75</td>\n",
       "      <td>0.0</td>\n",
       "      <td>NaN</td>\n",
       "      <td>2.909</td>\n",
       "      <td>131.637000</td>\n",
       "      <td>NaN</td>\n",
       "      <td>2010</td>\n",
       "      <td>2</td>\n",
       "      <td>19</td>\n",
       "      <td>4</td>\n",
       "    </tr>\n",
       "    <tr>\n",
       "      <th>123</th>\n",
       "      <td>1.0</td>\n",
       "      <td>2011-05-27</td>\n",
       "      <td>1466046.67</td>\n",
       "      <td>0.0</td>\n",
       "      <td>NaN</td>\n",
       "      <td>3.786</td>\n",
       "      <td>215.503788</td>\n",
       "      <td>7.682</td>\n",
       "      <td>2011</td>\n",
       "      <td>5</td>\n",
       "      <td>27</td>\n",
       "      <td>4</td>\n",
       "    </tr>\n",
       "    <tr>\n",
       "      <th>131</th>\n",
       "      <td>17.0</td>\n",
       "      <td>2010-11-12</td>\n",
       "      <td>855459.96</td>\n",
       "      <td>0.0</td>\n",
       "      <td>NaN</td>\n",
       "      <td>2.831</td>\n",
       "      <td>126.546161</td>\n",
       "      <td>NaN</td>\n",
       "      <td>2010</td>\n",
       "      <td>11</td>\n",
       "      <td>12</td>\n",
       "      <td>4</td>\n",
       "    </tr>\n",
       "  </tbody>\n",
       "</table>\n",
       "</div>"
      ],
      "text/plain": [
       "     Store       Date  Weekly_Sales  Holiday_Flag  Temperature  Fuel_Price  \\\n",
       "5      4.0 2010-05-28    1857533.70           0.0          NaN       2.756   \n",
       "29     6.0 2011-08-26    1420405.41           0.0          NaN       3.523   \n",
       "37    18.0 2011-04-15     988157.72           0.0          NaN       3.823   \n",
       "41    16.0 2012-09-14     526525.16           0.0          NaN       3.659   \n",
       "58     6.0 2010-07-30    1532308.78           0.0          NaN       2.640   \n",
       "60    14.0 2011-05-06    2095599.93           0.0          NaN       4.046   \n",
       "93    12.0 2011-05-27     964332.51           0.0          NaN       4.087   \n",
       "111   19.0 2012-06-22    1468350.36           0.0          NaN       3.722   \n",
       "115   15.0 2010-02-19     660838.75           0.0          NaN       2.909   \n",
       "123    1.0 2011-05-27    1466046.67           0.0          NaN       3.786   \n",
       "131   17.0 2010-11-12     855459.96           0.0          NaN       2.831   \n",
       "\n",
       "            CPI  Unemployment  year  month  day  weekday  \n",
       "5    126.160226         7.896  2010      5   28        4  \n",
       "29   217.270654         6.925  2011      8   26        4  \n",
       "37   134.278467         8.975  2011      4   15        4  \n",
       "41   198.126718         6.061  2012      9   14        4  \n",
       "58   212.894485         6.973  2010      7   30        4  \n",
       "60   185.937438         8.521  2011      5    6        4  \n",
       "93   129.062355        13.736  2011      5   27        4  \n",
       "111  138.162900         8.150  2012      6   22        4  \n",
       "115  131.637000           NaN  2010      2   19        4  \n",
       "123  215.503788         7.682  2011      5   27        4  \n",
       "131  126.546161           NaN  2010     11   12        4  "
      ]
     },
     "execution_count": 57,
     "metadata": {},
     "output_type": "execute_result"
    }
   ],
   "source": [
    "df[df.Temperature.isna()]"
   ]
  },
  {
   "cell_type": "code",
   "execution_count": 58,
   "id": "a92b4248",
   "metadata": {},
   "outputs": [
    {
     "data": {
      "text/plain": [
       "Store                  float64\n",
       "Date            datetime64[ns]\n",
       "Weekly_Sales           float64\n",
       "Holiday_Flag           float64\n",
       "Temperature            float64\n",
       "Fuel_Price             float64\n",
       "CPI                    float64\n",
       "Unemployment           float64\n",
       "year                     int64\n",
       "month                    int64\n",
       "day                      int64\n",
       "weekday                  int64\n",
       "dtype: object"
      ]
     },
     "execution_count": 58,
     "metadata": {},
     "output_type": "execute_result"
    }
   ],
   "source": [
    "df.dtypes"
   ]
  },
  {
   "cell_type": "code",
   "execution_count": 59,
   "id": "3dd78c81",
   "metadata": {},
   "outputs": [],
   "source": [
    "df2 = df.copy()"
   ]
  },
  {
   "cell_type": "code",
   "execution_count": 60,
   "id": "7a928521",
   "metadata": {},
   "outputs": [],
   "source": [
    "def replace_outliers(df,n=3):\n",
    "    for col in df.select_dtypes(include=['float64', 'int64']).columns:\n",
    "        mean = df[col].mean()\n",
    "        std = df[col].std()\n",
    "        outliers = (df[col] - mean).abs() > std*n\n",
    "        df = df[~outliers]\n",
    "    return df"
   ]
  },
  {
   "cell_type": "markdown",
   "id": "1f78bae4",
   "metadata": {},
   "source": [
    "En supprimant les outliers, cad les valeurs qui s'éloignent de plus de 3 ecarts-types de la moyennes, nous n'auront plus de jours fériés dans le dataset (avant suppression, il en restant 8)"
   ]
  },
  {
   "cell_type": "code",
   "execution_count": 61,
   "id": "4c7abddd",
   "metadata": {},
   "outputs": [
    {
     "data": {
      "text/html": [
       "<div>\n",
       "<style scoped>\n",
       "    .dataframe tbody tr th:only-of-type {\n",
       "        vertical-align: middle;\n",
       "    }\n",
       "\n",
       "    .dataframe tbody tr th {\n",
       "        vertical-align: top;\n",
       "    }\n",
       "\n",
       "    .dataframe thead th {\n",
       "        text-align: right;\n",
       "    }\n",
       "</style>\n",
       "<table border=\"1\" class=\"dataframe\">\n",
       "  <thead>\n",
       "    <tr style=\"text-align: right;\">\n",
       "      <th></th>\n",
       "      <th>Store</th>\n",
       "      <th>Date</th>\n",
       "      <th>Weekly_Sales</th>\n",
       "      <th>Holiday_Flag</th>\n",
       "      <th>Temperature</th>\n",
       "      <th>Fuel_Price</th>\n",
       "      <th>CPI</th>\n",
       "      <th>Unemployment</th>\n",
       "      <th>year</th>\n",
       "      <th>month</th>\n",
       "      <th>day</th>\n",
       "      <th>weekday</th>\n",
       "    </tr>\n",
       "  </thead>\n",
       "  <tbody>\n",
       "    <tr>\n",
       "      <th>0</th>\n",
       "      <td>6.0</td>\n",
       "      <td>2011-02-18</td>\n",
       "      <td>1572117.54</td>\n",
       "      <td>NaN</td>\n",
       "      <td>59.61</td>\n",
       "      <td>3.045</td>\n",
       "      <td>214.777523</td>\n",
       "      <td>6.858</td>\n",
       "      <td>2011</td>\n",
       "      <td>2</td>\n",
       "      <td>18</td>\n",
       "      <td>4</td>\n",
       "    </tr>\n",
       "    <tr>\n",
       "      <th>1</th>\n",
       "      <td>13.0</td>\n",
       "      <td>2011-03-25</td>\n",
       "      <td>1807545.43</td>\n",
       "      <td>0.0</td>\n",
       "      <td>42.38</td>\n",
       "      <td>3.435</td>\n",
       "      <td>128.616064</td>\n",
       "      <td>7.470</td>\n",
       "      <td>2011</td>\n",
       "      <td>3</td>\n",
       "      <td>25</td>\n",
       "      <td>4</td>\n",
       "    </tr>\n",
       "    <tr>\n",
       "      <th>2</th>\n",
       "      <td>6.0</td>\n",
       "      <td>2010-05-28</td>\n",
       "      <td>1644470.66</td>\n",
       "      <td>0.0</td>\n",
       "      <td>78.89</td>\n",
       "      <td>2.759</td>\n",
       "      <td>212.412888</td>\n",
       "      <td>7.092</td>\n",
       "      <td>2010</td>\n",
       "      <td>5</td>\n",
       "      <td>28</td>\n",
       "      <td>4</td>\n",
       "    </tr>\n",
       "    <tr>\n",
       "      <th>3</th>\n",
       "      <td>4.0</td>\n",
       "      <td>2010-05-28</td>\n",
       "      <td>1857533.70</td>\n",
       "      <td>0.0</td>\n",
       "      <td>NaN</td>\n",
       "      <td>2.756</td>\n",
       "      <td>126.160226</td>\n",
       "      <td>7.896</td>\n",
       "      <td>2010</td>\n",
       "      <td>5</td>\n",
       "      <td>28</td>\n",
       "      <td>4</td>\n",
       "    </tr>\n",
       "    <tr>\n",
       "      <th>4</th>\n",
       "      <td>15.0</td>\n",
       "      <td>2011-06-03</td>\n",
       "      <td>695396.19</td>\n",
       "      <td>0.0</td>\n",
       "      <td>69.80</td>\n",
       "      <td>4.069</td>\n",
       "      <td>134.855161</td>\n",
       "      <td>7.658</td>\n",
       "      <td>2011</td>\n",
       "      <td>6</td>\n",
       "      <td>3</td>\n",
       "      <td>4</td>\n",
       "    </tr>\n",
       "    <tr>\n",
       "      <th>...</th>\n",
       "      <td>...</td>\n",
       "      <td>...</td>\n",
       "      <td>...</td>\n",
       "      <td>...</td>\n",
       "      <td>...</td>\n",
       "      <td>...</td>\n",
       "      <td>...</td>\n",
       "      <td>...</td>\n",
       "      <td>...</td>\n",
       "      <td>...</td>\n",
       "      <td>...</td>\n",
       "      <td>...</td>\n",
       "    </tr>\n",
       "    <tr>\n",
       "      <th>101</th>\n",
       "      <td>3.0</td>\n",
       "      <td>2012-10-19</td>\n",
       "      <td>424513.08</td>\n",
       "      <td>0.0</td>\n",
       "      <td>73.44</td>\n",
       "      <td>3.594</td>\n",
       "      <td>226.968844</td>\n",
       "      <td>6.034</td>\n",
       "      <td>2012</td>\n",
       "      <td>10</td>\n",
       "      <td>19</td>\n",
       "      <td>4</td>\n",
       "    </tr>\n",
       "    <tr>\n",
       "      <th>102</th>\n",
       "      <td>14.0</td>\n",
       "      <td>2010-06-18</td>\n",
       "      <td>2248645.59</td>\n",
       "      <td>0.0</td>\n",
       "      <td>72.62</td>\n",
       "      <td>2.780</td>\n",
       "      <td>182.442420</td>\n",
       "      <td>8.899</td>\n",
       "      <td>2010</td>\n",
       "      <td>6</td>\n",
       "      <td>18</td>\n",
       "      <td>4</td>\n",
       "    </tr>\n",
       "    <tr>\n",
       "      <th>103</th>\n",
       "      <td>17.0</td>\n",
       "      <td>2010-06-11</td>\n",
       "      <td>845252.21</td>\n",
       "      <td>0.0</td>\n",
       "      <td>57.14</td>\n",
       "      <td>2.841</td>\n",
       "      <td>126.111903</td>\n",
       "      <td>NaN</td>\n",
       "      <td>2010</td>\n",
       "      <td>6</td>\n",
       "      <td>11</td>\n",
       "      <td>4</td>\n",
       "    </tr>\n",
       "    <tr>\n",
       "      <th>104</th>\n",
       "      <td>8.0</td>\n",
       "      <td>2011-08-12</td>\n",
       "      <td>856796.10</td>\n",
       "      <td>0.0</td>\n",
       "      <td>86.05</td>\n",
       "      <td>3.638</td>\n",
       "      <td>219.007525</td>\n",
       "      <td>NaN</td>\n",
       "      <td>2011</td>\n",
       "      <td>8</td>\n",
       "      <td>12</td>\n",
       "      <td>4</td>\n",
       "    </tr>\n",
       "    <tr>\n",
       "      <th>105</th>\n",
       "      <td>19.0</td>\n",
       "      <td>2012-04-20</td>\n",
       "      <td>1255087.26</td>\n",
       "      <td>0.0</td>\n",
       "      <td>55.20</td>\n",
       "      <td>4.170</td>\n",
       "      <td>137.923067</td>\n",
       "      <td>8.150</td>\n",
       "      <td>2012</td>\n",
       "      <td>4</td>\n",
       "      <td>20</td>\n",
       "      <td>4</td>\n",
       "    </tr>\n",
       "  </tbody>\n",
       "</table>\n",
       "<p>106 rows × 12 columns</p>\n",
       "</div>"
      ],
      "text/plain": [
       "     Store       Date  Weekly_Sales  Holiday_Flag  Temperature  Fuel_Price  \\\n",
       "0      6.0 2011-02-18    1572117.54           NaN        59.61       3.045   \n",
       "1     13.0 2011-03-25    1807545.43           0.0        42.38       3.435   \n",
       "2      6.0 2010-05-28    1644470.66           0.0        78.89       2.759   \n",
       "3      4.0 2010-05-28    1857533.70           0.0          NaN       2.756   \n",
       "4     15.0 2011-06-03     695396.19           0.0        69.80       4.069   \n",
       "..     ...        ...           ...           ...          ...         ...   \n",
       "101    3.0 2012-10-19     424513.08           0.0        73.44       3.594   \n",
       "102   14.0 2010-06-18    2248645.59           0.0        72.62       2.780   \n",
       "103   17.0 2010-06-11     845252.21           0.0        57.14       2.841   \n",
       "104    8.0 2011-08-12     856796.10           0.0        86.05       3.638   \n",
       "105   19.0 2012-04-20    1255087.26           0.0        55.20       4.170   \n",
       "\n",
       "            CPI  Unemployment  year  month  day  weekday  \n",
       "0    214.777523         6.858  2011      2   18        4  \n",
       "1    128.616064         7.470  2011      3   25        4  \n",
       "2    212.412888         7.092  2010      5   28        4  \n",
       "3    126.160226         7.896  2010      5   28        4  \n",
       "4    134.855161         7.658  2011      6    3        4  \n",
       "..          ...           ...   ...    ...  ...      ...  \n",
       "101  226.968844         6.034  2012     10   19        4  \n",
       "102  182.442420         8.899  2010      6   18        4  \n",
       "103  126.111903           NaN  2010      6   11        4  \n",
       "104  219.007525           NaN  2011      8   12        4  \n",
       "105  137.923067         8.150  2012      4   20        4  \n",
       "\n",
       "[106 rows x 12 columns]"
      ]
     },
     "execution_count": 61,
     "metadata": {},
     "output_type": "execute_result"
    }
   ],
   "source": [
    "df_without_outliers = replace_outliers(df2).reset_index().drop(['index'],axis=1)\n",
    "df_without_outliers"
   ]
  },
  {
   "cell_type": "code",
   "execution_count": 62,
   "id": "74017531",
   "metadata": {},
   "outputs": [],
   "source": [
    "target = df_without_outliers['Weekly_Sales']\n",
    "df_without_outliers.drop(['Date'], axis=1, inplace=True)"
   ]
  },
  {
   "cell_type": "code",
   "execution_count": 63,
   "id": "8eeaaa02",
   "metadata": {},
   "outputs": [
    {
     "data": {
      "text/plain": [
       "Store            0\n",
       "Weekly_Sales     0\n",
       "Holiday_Flag     9\n",
       "Temperature     10\n",
       "Fuel_Price      10\n",
       "CPI              8\n",
       "Unemployment    11\n",
       "year             0\n",
       "month            0\n",
       "day              0\n",
       "weekday          0\n",
       "dtype: int64"
      ]
     },
     "execution_count": 63,
     "metadata": {},
     "output_type": "execute_result"
    }
   ],
   "source": [
    "df_without_outliers.isna().sum()"
   ]
  },
  {
   "cell_type": "markdown",
   "id": "9a8a38ad",
   "metadata": {},
   "source": [
    "### Valeurs manquantes\n",
    "\n",
    "Variables numériques : **`Température`**, **`Fuel_Price`**, **`CPI`**, **`Unemployment`**</br>\n",
    "Variable catégorielle : **`Holiday_Flag`**\n",
    "\n",
    "Il faut trouver une strategie de remplacement de valeurs manquantes pour ces colonnes :\n",
    "\n",
    "- **`Holiday_Flag`** : il suffit de determiner avec la date si c'est un jour férié ou non\n",
    "- **`Temperature`** : nous pouvons remplacer les NaN par la moyenne en fonction du mois de l'année\n",
    "- **`Fuel_Price`** : on distingue que le prix de l'essence depend de l'année donc on va remplacer les NaN par la moyenne de chaque année \n",
    "- **`CPI`** : il augmente legerement en fonction de l'année mais n'est corrélé a rien, ce qui pose problème : on va utiliser KNNImputer pour remplacer les valeurs manquantes car il y a 2 distributions très différentes\n",
    "- **`Unemployment`** : en supprimant les outliers, nous avons qu'une seule distributions donc nous pouvons prendre la moyenne de celle-ci"
   ]
  },
  {
   "cell_type": "code",
   "execution_count": 68,
   "id": "052b2fc7",
   "metadata": {
    "scrolled": false
   },
   "outputs": [
    {
     "data": {
      "image/png": "[encoded data removed]",
      "text/plain": [
       "<Figure size 640x480 with 1 Axes>"
      ]
     },
     "metadata": {},
     "output_type": "display_data"
    },
    {
     "data": {
      "image/png": "[encoded data removed]",
      "text/plain": [
       "<Figure size 640x480 with 1 Axes>"
      ]
     },
     "metadata": {},
     "output_type": "display_data"
    },
    {
     "data": {
      "image/png": "[encoded data removed]",
      "text/plain": [
       "<Figure size 640x480 with 1 Axes>"
      ]
     },
     "metadata": {},
     "output_type": "display_data"
    }
   ],
   "source": [
    "for col in ['Fuel_Price', 'CPI', 'Unemployment']:\n",
    "    plt.figure()\n",
    "    sns.histplot(df_without_outliers[col], bins=8);"
   ]
  },
  {
   "cell_type": "code",
   "execution_count": 65,
   "id": "c61aa612",
   "metadata": {},
   "outputs": [
    {
     "data": {
      "text/plain": [
       "year\n",
       "2010    2.782026\n",
       "2011    3.567125\n",
       "2012    3.743120\n",
       "Name: Fuel_Price, dtype: float64"
      ]
     },
     "metadata": {},
     "output_type": "display_data"
    },
    {
     "data": {
      "image/png": "[encoded data removed]",
      "text/plain": [
       "<Figure size 800x600 with 2 Axes>"
      ]
     },
     "metadata": {},
     "output_type": "display_data"
    }
   ],
   "source": [
    "display(df_without_outliers.groupby('year')['Fuel_Price'].mean())\n",
    "plt.figure(figsize=(8,6))\n",
    "sns.heatmap(df_without_outliers.corr(),annot=True);"
   ]
  },
  {
   "cell_type": "code",
   "execution_count": 50,
   "id": "a102638f",
   "metadata": {},
   "outputs": [
    {
     "data": {
      "image/png": "[encoded data removed]",
      "text/plain": [
       "<Figure size 432x288 with 1 Axes>"
      ]
     },
     "metadata": {
      "needs_background": "light"
     },
     "output_type": "display_data"
    }
   ],
   "source": [
    "sns.barplot(data=df_without_outliers, x='month', y='CPI');"
   ]
  },
  {
   "cell_type": "code",
   "execution_count": 69,
   "id": "63af41b9",
   "metadata": {},
   "outputs": [],
   "source": [
    "# remplacement des NaN de 'Holiday_Flag'\n",
    "df_without_outliers['Holiday_Flag'].fillna(0.0, inplace=True)\n",
    "\n",
    "# remplacement des NaN de 'Temperature'\n",
    "gb_month = df_without_outliers.groupby('month')\n",
    "df_without_outliers['Temperature'] = round(df_without_outliers['Temperature'].fillna(gb_month['Temperature'].transform('mean')),2)\n",
    "\n",
    "# remplacement des NaN de 'Fuel_Price'\n",
    "gb_month = df_without_outliers.groupby('year')\n",
    "df_without_outliers['Fuel_Price'] = round(df_without_outliers['Fuel_Price'].fillna(gb_month['Fuel_Price'].transform('mean')),3)\n",
    "\n",
    "# remplacement des NaN de 'Unemployment'\n",
    "df_without_outliers['Unemployment'] = df_without_outliers['Unemployment'].fillna(df_without_outliers['Unemployment'].mean())"
   ]
  },
  {
   "cell_type": "code",
   "execution_count": 70,
   "id": "7e6b24d1",
   "metadata": {},
   "outputs": [
    {
     "data": {
      "text/plain": [
       "Store           0\n",
       "Weekly_Sales    0\n",
       "Holiday_Flag    0\n",
       "Temperature     0\n",
       "Fuel_Price      0\n",
       "CPI             8\n",
       "Unemployment    0\n",
       "year            0\n",
       "month           0\n",
       "day             0\n",
       "weekday         0\n",
       "dtype: int64"
      ]
     },
     "execution_count": 70,
     "metadata": {},
     "output_type": "execute_result"
    }
   ],
   "source": [
    "df_without_outliers.isna().sum()"
   ]
  },
  {
   "cell_type": "code",
   "execution_count": 71,
   "id": "cff7f6ae",
   "metadata": {},
   "outputs": [
    {
     "data": {
      "text/plain": [
       "Store           0\n",
       "Weekly_Sales    0\n",
       "Holiday_Flag    0\n",
       "Temperature     0\n",
       "Fuel_Price      0\n",
       "CPI             0\n",
       "Unemployment    0\n",
       "year            0\n",
       "month           0\n",
       "day             0\n",
       "weekday         0\n",
       "dtype: int64"
      ]
     },
     "execution_count": 71,
     "metadata": {},
     "output_type": "execute_result"
    }
   ],
   "source": [
    "df_without_outliers = df_without_outliers[df_without_outliers['CPI'].notna()]\n",
    "df_without_outliers.isna().sum()"
   ]
  },
  {
   "cell_type": "markdown",
   "id": "8e0b4d50",
   "metadata": {},
   "source": [
    "## Preprocessing"
   ]
  },
  {
   "cell_type": "code",
   "execution_count": 166,
   "id": "9c46187e",
   "metadata": {},
   "outputs": [],
   "source": [
    "X = df_without_outliers.drop(['Weekly_Sales'], axis=1)\n",
    "y = df_without_outliers['Weekly_Sales']"
   ]
  },
  {
   "cell_type": "code",
   "execution_count": 167,
   "id": "a09a99f7",
   "metadata": {},
   "outputs": [],
   "source": [
    "X_train, X_test, y_train, y_test = train_test_split(X, y, test_size=0.2, random_state=0)"
   ]
  },
  {
   "cell_type": "code",
   "execution_count": 172,
   "id": "2beba99d",
   "metadata": {},
   "outputs": [
    {
     "data": {
      "text/plain": [
       "array([ 1.,  2.,  3.,  4.,  5.,  6.,  7.,  8.,  9., 10., 13., 14., 15.,\n",
       "       16., 17., 18., 19., 20.])"
      ]
     },
     "execution_count": 172,
     "metadata": {},
     "output_type": "execute_result"
    }
   ],
   "source": [
    "X_train['Store'].sort_values().unique()"
   ]
  },
  {
   "cell_type": "code",
   "execution_count": 155,
   "id": "202576c5",
   "metadata": {},
   "outputs": [
    {
     "data": {
      "text/plain": [
       "Index(['Store', 'Holiday_Flag', 'Temperature', 'Fuel_Price', 'CPI',\n",
       "       'Unemployment', 'year', 'month', 'day', 'weekday'],\n",
       "      dtype='object')"
      ]
     },
     "execution_count": 155,
     "metadata": {},
     "output_type": "execute_result"
    }
   ],
   "source": [
    "X_train.columns"
   ]
  },
  {
   "cell_type": "code",
   "execution_count": 156,
   "id": "4773b147",
   "metadata": {},
   "outputs": [
    {
     "data": {
      "text/plain": [
       "((78, 10), (20, 10), (78,), (20,))"
      ]
     },
     "execution_count": 156,
     "metadata": {},
     "output_type": "execute_result"
    }
   ],
   "source": [
    "X_train.shape, X_test.shape, y_train.shape, y_test.shape"
   ]
  },
  {
   "cell_type": "code",
   "execution_count": 157,
   "id": "6d8c6b55",
   "metadata": {},
   "outputs": [
    {
     "data": {
      "text/plain": [
       "0"
      ]
     },
     "execution_count": 157,
     "metadata": {},
     "output_type": "execute_result"
    }
   ],
   "source": [
    "X_train.isna().sum().sum()"
   ]
  },
  {
   "cell_type": "code",
   "execution_count": 158,
   "id": "7f19790b",
   "metadata": {},
   "outputs": [
    {
     "data": {
      "text/plain": [
       "(Index(['Store', 'Holiday_Flag', 'Temperature', 'Fuel_Price', 'CPI',\n",
       "        'Unemployment', 'year', 'month', 'day', 'weekday'],\n",
       "       dtype='object'),\n",
       " Index(['Store', 'Holiday_Flag', 'Temperature', 'Fuel_Price', 'CPI',\n",
       "        'Unemployment', 'year', 'month', 'day', 'weekday'],\n",
       "       dtype='object'))"
      ]
     },
     "execution_count": 158,
     "metadata": {},
     "output_type": "execute_result"
    }
   ],
   "source": [
    "X_train.columns, X_test.columns"
   ]
  },
  {
   "cell_type": "markdown",
   "id": "c6d93eec",
   "metadata": {},
   "source": [
    "### Modèles"
   ]
  },
  {
   "cell_type": "markdown",
   "id": "8344fd2d",
   "metadata": {},
   "source": [
    "On va d'abord tester un modèle `baseline` pour voir le score"
   ]
  },
  {
   "cell_type": "code",
   "execution_count": 159,
   "id": "7d561317",
   "metadata": {},
   "outputs": [
    {
     "data": {
      "text/plain": [
       "20"
      ]
     },
     "execution_count": 159,
     "metadata": {},
     "output_type": "execute_result"
    }
   ],
   "source": [
    "len(df['Store'].unique())"
   ]
  },
  {
   "cell_type": "markdown",
   "id": "d3ee5a37",
   "metadata": {},
   "source": [
    "On definit la colonne `Store` comme feature catégorielle : en ayant supprimer les outliers et les NaN (nous n'allons pas faire d'extrapolation sur le Store car chaque magasin à un numéro unique ) cad que sur 20 magasins, il en reste 18(il manque 11 et 12) qui vont avoir leur propres colonnes onehot encoded, cad 18 colonnes (sans le drop='first') donc il n'en restera que 17"
   ]
  },
  {
   "cell_type": "code",
   "execution_count": 160,
   "id": "b4d588b1",
   "metadata": {},
   "outputs": [
    {
     "data": {
      "text/plain": [
       "((78, 1), (20, 1))"
      ]
     },
     "execution_count": 160,
     "metadata": {},
     "output_type": "execute_result"
    }
   ],
   "source": [
    "categorical_features = X_train[['Store']].columns\n",
    "X_train = X_train[['Store']]\n",
    "X_test = X_test[['Store']]\n",
    "X_train.shape, X_test.shape"
   ]
  },
  {
   "cell_type": "code",
   "execution_count": 162,
   "id": "a9c8fb3c",
   "metadata": {},
   "outputs": [],
   "source": [
    "onehot = OneHotEncoder(drop='first')\n",
    "X_train = onehot.fit_transform(X_train)\n",
    "X_test = onehot.transform(X_test)"
   ]
  },
  {
   "cell_type": "code",
   "execution_count": 163,
   "id": "6d40cdd0",
   "metadata": {},
   "outputs": [
    {
     "data": {
      "text/plain": [
       "(78, 17)"
      ]
     },
     "execution_count": 163,
     "metadata": {},
     "output_type": "execute_result"
    }
   ],
   "source": [
    "X_train.shape"
   ]
  },
  {
   "cell_type": "code",
   "execution_count": 164,
   "id": "a63e6642",
   "metadata": {},
   "outputs": [
    {
     "data": {
      "text/plain": [
       "LinearRegression()"
      ]
     },
     "execution_count": 164,
     "metadata": {},
     "output_type": "execute_result"
    }
   ],
   "source": [
    "lr = LinearRegression()\n",
    "lr.fit(X_train, y_train)"
   ]
  },
  {
   "cell_type": "code",
   "execution_count": 165,
   "id": "1983ac2e",
   "metadata": {},
   "outputs": [
    {
     "name": "stdout",
     "output_type": "stream",
     "text": [
      "0.9615849236587543\n",
      "0.9798033134494765\n"
     ]
    }
   ],
   "source": [
    "print(lr.score(X_train, y_train))\n",
    "print(lr.score(X_test, y_test))"
   ]
  },
  {
   "cell_type": "markdown",
   "id": "c2b09f76",
   "metadata": {},
   "source": [
    "On obtient de très bon score avec seulement le numéro du magasin. On va tester avec toutes les colonnes disponibles"
   ]
  },
  {
   "cell_type": "markdown",
   "id": "87eb2ef9",
   "metadata": {},
   "source": [
    "2 variables categorielles : **`Store`** et **`Holiday_Flag`**"
   ]
  },
  {
   "cell_type": "code",
   "execution_count": 173,
   "id": "e0004956",
   "metadata": {},
   "outputs": [],
   "source": [
    "X_train, X_test, y_train, y_test = train_test_split(X, y, test_size=0.2, random_state=0)"
   ]
  },
  {
   "cell_type": "code",
   "execution_count": 174,
   "id": "ce9e49e4",
   "metadata": {},
   "outputs": [],
   "source": [
    "numerical_features = X_train[['Temperature', 'Fuel_Price', 'CPI', 'Unemployment', 'year', 'month', 'day','weekday']].columns\n",
    "categorical_features = X_train[['Store','Holiday_Flag']].columns"
   ]
  },
  {
   "cell_type": "code",
   "execution_count": 175,
   "id": "617b75a0",
   "metadata": {},
   "outputs": [
    {
     "data": {
      "text/plain": [
       "Index(['Temperature', 'Fuel_Price', 'CPI', 'Unemployment', 'year', 'month',\n",
       "       'day', 'weekday'],\n",
       "      dtype='object')"
      ]
     },
     "execution_count": 175,
     "metadata": {},
     "output_type": "execute_result"
    }
   ],
   "source": [
    "numerical_features"
   ]
  },
  {
   "cell_type": "code",
   "execution_count": 176,
   "id": "9f747402",
   "metadata": {},
   "outputs": [
    {
     "data": {
      "text/plain": [
       "Index(['Store', 'Holiday_Flag'], dtype='object')"
      ]
     },
     "execution_count": 176,
     "metadata": {},
     "output_type": "execute_result"
    }
   ],
   "source": [
    "categorical_features"
   ]
  },
  {
   "cell_type": "code",
   "execution_count": 177,
   "id": "e384192d",
   "metadata": {},
   "outputs": [
    {
     "data": {
      "text/plain": [
       "((78, 10), (20, 10))"
      ]
     },
     "execution_count": 177,
     "metadata": {},
     "output_type": "execute_result"
    }
   ],
   "source": [
    "X_train.shape, X_test.shape"
   ]
  },
  {
   "cell_type": "markdown",
   "id": "6aba5c9d",
   "metadata": {},
   "source": [
    "### Testons le modele"
   ]
  },
  {
   "cell_type": "markdown",
   "id": "96ea74bf",
   "metadata": {},
   "source": [
    "D'après les distributions obtenues avec **`sns.displot`**, elles ne semblent pas être normales donc appliquons un MinMaxScaler qui conserve la forme des distributions.\n",
    "\n",
    "Comme nous avons supprimer les outliers, pas besoin d'utiliser un RobustScaler."
   ]
  },
  {
   "cell_type": "code",
   "execution_count": 178,
   "id": "82adb563",
   "metadata": {},
   "outputs": [
    {
     "data": {
      "text/plain": [
       "Index(['Store', 'Weekly_Sales', 'Holiday_Flag', 'Temperature', 'Fuel_Price',\n",
       "       'CPI', 'Unemployment', 'year', 'month', 'day', 'weekday'],\n",
       "      dtype='object')"
      ]
     },
     "execution_count": 178,
     "metadata": {},
     "output_type": "execute_result"
    }
   ],
   "source": [
    "df_without_outliers.columns"
   ]
  },
  {
   "cell_type": "code",
   "execution_count": 175,
   "id": "a48e8c59",
   "metadata": {},
   "outputs": [
    {
     "data": {
      "text/plain": [
       "['Store',\n",
       " 'Holiday_Flag',\n",
       " 'Temperature',\n",
       " 'Fuel_Price',\n",
       " 'CPI',\n",
       " 'Unemployment',\n",
       " 'year',\n",
       " 'month',\n",
       " 'day',\n",
       " 'weekday']"
      ]
     },
     "execution_count": 175,
     "metadata": {},
     "output_type": "execute_result"
    }
   ],
   "source": [
    "from numpy import s_\n",
    "\n",
    "arr = df_without_outliers.columns.tolist()\n",
    "slices = s_[0,2:]\n",
    "\n",
    "def xslice(arr, slices):\n",
    "    if isinstance(slices, tuple):\n",
    "        return sum((arr[s] if isinstance(s, slice) else [arr[s]] for s in slices), [])\n",
    "    elif isinstance(slices, slice):\n",
    "        return arr[slices]\n",
    "    else:\n",
    "        return [arr[slices]]\n",
    "    \n",
    "select_features = xslice(arr, slices)\n",
    "select_features"
   ]
  },
  {
   "cell_type": "code",
   "execution_count": 176,
   "id": "c4660da7",
   "metadata": {
    "scrolled": false
   },
   "outputs": [
    {
     "data": {
      "image/png": "[encoded data removed]",
      "text/plain": [
       "<Figure size 432x288 with 1 Axes>"
      ]
     },
     "metadata": {
      "needs_background": "light"
     },
     "output_type": "display_data"
    },
    {
     "data": {
      "image/png": "[encoded data removed]",
      "text/plain": [
       "<Figure size 432x288 with 1 Axes>"
      ]
     },
     "metadata": {
      "needs_background": "light"
     },
     "output_type": "display_data"
    },
    {
     "data": {
      "image/png": "[encoded data removed]",
      "text/plain": [
       "<Figure size 432x288 with 1 Axes>"
      ]
     },
     "metadata": {
      "needs_background": "light"
     },
     "output_type": "display_data"
    },
    {
     "data": {
      "image/png": "[encoded data removed]",
      "text/plain": [
       "<Figure size 432x288 with 1 Axes>"
      ]
     },
     "metadata": {
      "needs_background": "light"
     },
     "output_type": "display_data"
    }
   ],
   "source": [
    "for col in select_features:\n",
    "    if col not in X_train[['Store','Holiday_Flag', 'year', 'month', 'day','weekday']].columns:\n",
    "        plt.figure()\n",
    "        sns.scatterplot(x=df_without_outliers[col], y=target);"
   ]
  },
  {
   "cell_type": "code",
   "execution_count": 179,
   "id": "0b56f82d",
   "metadata": {},
   "outputs": [
    {
     "data": {
      "text/plain": [
       "ColumnTransformer(transformers=[('pipeline',\n",
       "                                 Pipeline(steps=[('MinMaxScaler',\n",
       "                                                  MinMaxScaler()),\n",
       "                                                 ('KNNImputer',\n",
       "                                                  KNNImputer(n_neighbors=3))]),\n",
       "                                 Index(['Temperature', 'Fuel_Price', 'CPI', 'Unemployment', 'year', 'month',\n",
       "       'day', 'weekday'],\n",
       "      dtype='object')),\n",
       "                                ('onehotencoder', OneHotEncoder(),\n",
       "                                 Index(['Store', 'Holiday_Flag'], dtype='object'))])"
      ]
     },
     "execution_count": 179,
     "metadata": {},
     "output_type": "execute_result"
    }
   ],
   "source": [
    "# modl = TransformedTargetRegressor(regressor=LinearRegression(), transformer=MinMaxScaler())\n",
    "pip1 = Pipeline([('MinMaxScaler', MinMaxScaler()),\n",
    "                 ('KNNImputer', KNNImputer(n_neighbors=3)),\n",
    "                 ('OneHotEncoder', OneHotEncoder()),\n",
    "                 ('Regressor', LinearRegression())])\n",
    "\n",
    "preprocessor = make_column_transformer(\n",
    "    (pip1[0:2], numerical_features),\n",
    "    (pip1[2], categorical_features))\n",
    "\n",
    "preprocessor"
   ]
  },
  {
   "cell_type": "code",
   "execution_count": 180,
   "id": "93223974",
   "metadata": {},
   "outputs": [],
   "source": [
    "X_train = preprocessor.fit_transform(X_train)\n",
    "X_test = preprocessor.transform(X_test)"
   ]
  },
  {
   "cell_type": "code",
   "execution_count": 181,
   "id": "2b41aff3",
   "metadata": {
    "scrolled": true
   },
   "outputs": [
    {
     "name": "stdout",
     "output_type": "stream",
     "text": [
      "0.9764459429384228\n",
      "0.9616484150193494\n"
     ]
    }
   ],
   "source": [
    "pip1[3].fit(X_train,y_train)\n",
    "\n",
    "print(pip1[3].score(X_train, y_train))\n",
    "print(pip1[3].score(X_test, y_test))"
   ]
  },
  {
   "cell_type": "markdown",
   "id": "6cc85925",
   "metadata": {},
   "source": [
    "Il y a un peu d'overfitting (c'est très léger), on va faire un cross_val_score pour le confirmer"
   ]
  },
  {
   "cell_type": "code",
   "execution_count": 182,
   "id": "e1af1bb1",
   "metadata": {},
   "outputs": [
    {
     "name": "stdout",
     "output_type": "stream",
     "text": [
      "Tous les scores :  [0.95384827 0.90655919 0.95702669 0.95053239 0.91646667 0.97151405\n",
      " 0.92756379 0.90443469 0.95886138 0.92569154]\n",
      "Le cross-validated R2-score est :  0.9372498664043658\n",
      "L'ecart-type est de :  0.02272059991031116\n"
     ]
    }
   ],
   "source": [
    "score_model1 = cross_val_score(pip1[3], X_train, y_train, cv = 10)\n",
    "\n",
    "print(\"Tous les scores : \", score_model1)\n",
    "print('Le cross-validated R2-score est : ', score_model1.mean())\n",
    "print(\"L'ecart-type est de : \", score_model1.std())"
   ]
  },
  {
   "cell_type": "markdown",
   "id": "742653be",
   "metadata": {},
   "source": [
    "On voit que les scores sont assez aléatoires allant de 0.97 à 0.66 : cela est du au faible nombre de samples dans le dataset.\n",
    "la moyenne est de 0.84 avec un ecart type de 0.1 : il y a peu d'overfitting."
   ]
  },
  {
   "cell_type": "code",
   "execution_count": 155,
   "id": "95a0b959",
   "metadata": {},
   "outputs": [
    {
     "data": {
      "text/plain": [
       "<matplotlib.collections.PathCollection at 0x210ba896280>"
      ]
     },
     "execution_count": 155,
     "metadata": {},
     "output_type": "execute_result"
    },
    {
     "data": {
      "image/png": "[encoded data removed]",
      "text/plain": [
       "<Figure size 432x288 with 1 Axes>"
      ]
     },
     "metadata": {
      "needs_background": "light"
     },
     "output_type": "display_data"
    }
   ],
   "source": [
    "plt.scatter(y_train.sort_values(), pip1[3].predict(X_train))"
   ]
  },
  {
   "cell_type": "code",
   "execution_count": 156,
   "id": "a50e2f3c",
   "metadata": {},
   "outputs": [
    {
     "data": {
      "text/plain": [
       "<matplotlib.collections.PathCollection at 0x210ba84b700>"
      ]
     },
     "execution_count": 156,
     "metadata": {},
     "output_type": "execute_result"
    },
    {
     "data": {
      "image/png": "[encoded data removed]",
      "text/plain": [
       "<Figure size 432x288 with 1 Axes>"
      ]
     },
     "metadata": {
      "needs_background": "light"
     },
     "output_type": "display_data"
    }
   ],
   "source": [
    "plt.scatter(y_test.sort_values(), pip1[3].predict(X_test))"
   ]
  },
  {
   "cell_type": "code",
   "execution_count": 124,
   "id": "97781818",
   "metadata": {},
   "outputs": [
    {
     "data": {
      "text/plain": [
       "array([-1.72342502e+05, -2.28784140e+04,  2.43806708e+06, -3.05986606e+05,\n",
       "       -2.92155341e+05,  1.76177535e+05, -1.39907676e+05, -8.14907253e-10,\n",
       "       -5.26541989e+05, -1.67906491e+05, -1.83070221e+06,  2.03867985e+06,\n",
       "       -1.91700763e+06, -5.54492899e+05, -9.87507888e+05, -1.36359648e+06,\n",
       "       -1.72545339e+06,  1.97271955e+06,  1.92175318e+06,  7.14030270e+05,\n",
       "        4.95624031e+05, -1.14296380e+06,  6.47977837e+05,  1.00199807e+06,\n",
       "        1.26568045e+06,  1.57709551e+05,  0.00000000e+00])"
      ]
     },
     "execution_count": 124,
     "metadata": {},
     "output_type": "execute_result"
    }
   ],
   "source": [
    "pip1[3].coef_"
   ]
  },
  {
   "cell_type": "code",
   "execution_count": 191,
   "id": "3f007498",
   "metadata": {
    "scrolled": true
   },
   "outputs": [
    {
     "data": {
      "text/plain": [
       "['Store_1',\n",
       " 'Store_2',\n",
       " 'Store_3',\n",
       " 'Store_4',\n",
       " 'Store_5',\n",
       " 'Store_6',\n",
       " 'Store_7',\n",
       " 'Store_8',\n",
       " 'Store_9',\n",
       " 'Store_10',\n",
       " 'Store_13',\n",
       " 'Store_14',\n",
       " 'Store_15',\n",
       " 'Store_16',\n",
       " 'Store_17',\n",
       " 'Store_18',\n",
       " 'Store_19',\n",
       " 'Store_20']"
      ]
     },
     "execution_count": 191,
     "metadata": {},
     "output_type": "execute_result"
    }
   ],
   "source": [
    "stores = [f'Store_{i}' for i in range(1,21)]\n",
    "exclude_stores = ['Store_11', 'Store_12']\n",
    "stores_non_exclude = [store for store in stores if store not in exclude_stores]\n",
    "stores_non_exclude"
   ]
  },
  {
   "cell_type": "code",
   "execution_count": 192,
   "id": "48fd7b75",
   "metadata": {},
   "outputs": [
    {
     "name": "stdout",
     "output_type": "stream",
     "text": [
      "Store_2      : -172342.5\n",
      "Store_3      : -22878.41\n",
      "Store_4      : 2438067.08\n",
      "Store_5      : -305986.61\n",
      "Store_6      : -292155.34\n",
      "Store_7      : 176177.53\n",
      "Store_8      : -139907.68\n",
      "Store_9      : -0.0\n",
      "Store_10     : -526541.99\n",
      "Store_13     : -167906.49\n",
      "Store_14     : -1830702.21\n",
      "Store_15     : 2038679.85\n",
      "Store_16     : -1917007.63\n",
      "Store_17     : -554492.9\n",
      "Store_18     : -987507.89\n",
      "Store_19     : -1363596.48\n",
      "Store_20     : -1725453.39\n"
     ]
    }
   ],
   "source": [
    "for el,col in zip(pip1[3].coef_[:18], stores_non_exclude[1:]):\n",
    "    print(f\"{col : <12} : {round(el,2)}\") "
   ]
  },
  {
   "cell_type": "markdown",
   "id": "f8023d23",
   "metadata": {},
   "source": [
    "On observe quelque **`'Store'`** comme le numéro $4$, le $7$ et le $15$ qui ont une corrélation positive avec **`'Weekly sales'`**, les autres ont une corrélation négative"
   ]
  },
  {
   "cell_type": "code",
   "execution_count": 193,
   "id": "bdf810f4",
   "metadata": {},
   "outputs": [
    {
     "name": "stdout",
     "output_type": "stream",
     "text": [
      "Holiday_Flag : 1921753.18\n",
      "Temperature  : 714030.27\n",
      "Fuel_Price   : 495624.03\n",
      "CPI          : -1142963.8\n",
      "Unemployment : 647977.84\n",
      "year         : 1001998.07\n",
      "month        : 1265680.45\n",
      "day          : 157709.55\n",
      "weekday      : 0.0\n"
     ]
    }
   ],
   "source": [
    "for el,col in zip(pip1[3].coef_[18:], X.columns.values[1:]):\n",
    "    print(f\"{col : <12} : {round(el,2)}\")"
   ]
  },
  {
   "cell_type": "markdown",
   "id": "906c2b25",
   "metadata": {},
   "source": [
    "Un coefficient négatif suggère que lorsque la variable indépendante(**feature Xi**) augmente, la variable dépendante (**target**) tend à diminuer. La valeur du coefficient indique de combien la moyenne de la variable dépendante change compte tenu d'un décalage d'une unité dans la variable indépendante tout en maintenant les autres variables dans le modèle constant."
   ]
  },
  {
   "cell_type": "markdown",
   "id": "041c3c85",
   "metadata": {},
   "source": [
    "On peut donc dire que lorsque **`'CPI'`** augmente (en ne prenant pas en compte **`'day'`**), qui a le coefficient le plus élevé négativement, **`'Weekly sales'`** baisse.</br>\n",
    "Alors que, si **`'Temperature'`** ou  **`'Holiday_Flag '`** augmente, qui a le coefficient le plus élevé positivement, alors **`'Weekly sales'`** augmente"
   ]
  },
  {
   "cell_type": "markdown",
   "id": "0dfe8b87",
   "metadata": {},
   "source": [
    "### Esssayons Ridge quand même pour voir si ça améliore le score"
   ]
  },
  {
   "cell_type": "code",
   "execution_count": 159,
   "id": "cf23a8da",
   "metadata": {},
   "outputs": [
    {
     "name": "stdout",
     "output_type": "stream",
     "text": [
      "Meilleurs hyperparametres :  {'alpha': 0}\n",
      "Meilleur R2-score :  0.9372141340069495\n"
     ]
    }
   ],
   "source": [
    "regressor = Ridge()\n",
    "\n",
    "params = {\n",
    "    'alpha': np.arange(0,50,2)\n",
    "}\n",
    "\n",
    "gridsearch = GridSearchCV(regressor, param_grid = params, cv = 10)\n",
    "gridsearch.fit(X_train, y_train)\n",
    "\n",
    "print(\"Meilleurs hyperparametres : \", gridsearch.best_params_)\n",
    "print(\"Meilleur R2-score : \", gridsearch.best_score_)"
   ]
  },
  {
   "cell_type": "code",
   "execution_count": 160,
   "id": "3e56fe6f",
   "metadata": {},
   "outputs": [
    {
     "name": "stdout",
     "output_type": "stream",
     "text": [
      "R2-score sur le training set :  0.9764459429384228\n",
      "R2-score sur le test set :  0.9616484150193487\n"
     ]
    }
   ],
   "source": [
    "print(\"R2-score sur le training set : \", gridsearch.score(X_train, y_train))\n",
    "print(\"R2-score sur le test set : \", gridsearch.score(X_test, y_test))"
   ]
  },
  {
   "cell_type": "markdown",
   "id": "6824bd1d",
   "metadata": {},
   "source": [
    "Il n'y a aucun changement avec Ridge"
   ]
  },
  {
   "cell_type": "code",
   "execution_count": 161,
   "id": "2d779f06",
   "metadata": {},
   "outputs": [
    {
     "name": "stdout",
     "output_type": "stream",
     "text": [
      "Le cross-validated R2-score est :  0.9372141340069495\n",
      "L'ecart-type est de :  0.022739022958880323\n"
     ]
    }
   ],
   "source": [
    "scores = cross_val_score(gridsearch.best_estimator_, X_train, y_train, cv = 10)\n",
    "\n",
    "print('Le cross-validated R2-score est : ', scores.mean())\n",
    "print(\"L'ecart-type est de : \", scores.std())"
   ]
  },
  {
   "cell_type": "markdown",
   "id": "86050946",
   "metadata": {},
   "source": [
    "### Essayons avec Lasso"
   ]
  },
  {
   "cell_type": "code",
   "execution_count": null,
   "id": "b1ed6db7",
   "metadata": {
    "scrolled": true
   },
   "outputs": [],
   "source": [
    "regressor = Lasso()\n",
    "\n",
    "lasso_params = {'alpha':[0.002, 0.0024, 0.0025, 0.0026, 0.003]}\n",
    "\n",
    "gridsearch = GridSearchCV(regressor, param_grid = lasso_params, cv = 8)\n",
    "gridsearch.fit(X_train, y_train)\n",
    "\n",
    "print(\"Meilleurs hyperparametres : \", gridsearch.best_params_)\n",
    "print(\"Meilleur R2-score : \", gridsearch.best_score_)"
   ]
  },
  {
   "cell_type": "markdown",
   "id": "cc22e32b",
   "metadata": {},
   "source": [
    "Meilleurs hyperparametres :  {'alpha': 0.02}</br>\n",
    "Meilleur R2-score :  0.9356659780278879"
   ]
  },
  {
   "cell_type": "markdown",
   "id": "65236817",
   "metadata": {},
   "source": [
    "Le score n'est guère mieux : retirons des features pour observer si on peut améliorer le score. On va donc analyser les coefficients de Lasso pour repérer quelle feature crée de l'overfitting"
   ]
  },
  {
   "cell_type": "code",
   "execution_count": 96,
   "id": "6fd25a36",
   "metadata": {},
   "outputs": [
    {
     "data": {
      "text/plain": [
       "array([ -168158.08891101,   -51214.7118945 ,   931593.27505998,\n",
       "        -278421.09969063,  -148824.42876733,   218958.90124075,\n",
       "        -125109.45639178,        0.        ,  -184566.91638305,\n",
       "         155804.0519886 , -1425939.91956382,  1092630.23997196,\n",
       "       -1562469.81236064,  -203204.46850904,  -977157.69928141,\n",
       "        -973773.66099195, -1339303.21635592,   995920.95987548,\n",
       "         964987.34504852,   604292.46581516,  -349374.2613579 ,\n",
       "       -1132149.34331449,  -297041.33772964,   137125.54732352,\n",
       "         406945.12898757,   399693.15350413,        0.        ])"
      ]
     },
     "execution_count": 96,
     "metadata": {},
     "output_type": "execute_result"
    }
   ],
   "source": [
    "gridsearch.best_estimator_.coef_"
   ]
  },
  {
   "cell_type": "code",
   "execution_count": 97,
   "id": "6078b5d1",
   "metadata": {},
   "outputs": [
    {
     "data": {
      "text/plain": [
       "array(['Store', 'Holiday_Flag', 'Temperature', 'Fuel_Price', 'CPI',\n",
       "       'Unemployment', 'year', 'month', 'day', 'weekday'], dtype=object)"
      ]
     },
     "execution_count": 97,
     "metadata": {},
     "output_type": "execute_result"
    }
   ],
   "source": [
    "preprocessor.feature_names_in_"
   ]
  },
  {
   "cell_type": "code",
   "execution_count": 98,
   "id": "0885a58e",
   "metadata": {},
   "outputs": [
    {
     "data": {
      "text/plain": [
       "{'pipeline': slice(0, 8, None),\n",
       " 'onehotencoder': slice(8, 27, None),\n",
       " 'remainder': slice(0, 0, None)}"
      ]
     },
     "execution_count": 98,
     "metadata": {},
     "output_type": "execute_result"
    }
   ],
   "source": [
    "preprocessor.output_indices_"
   ]
  },
  {
   "cell_type": "markdown",
   "id": "7e6307be",
   "metadata": {},
   "source": [
    "On va associer les features aux coefficients : il va falloir faire attention à l'ordre des features car il y en a des catégorielles et des numériques. "
   ]
  },
  {
   "cell_type": "code",
   "execution_count": 201,
   "id": "24e3422e",
   "metadata": {},
   "outputs": [
    {
     "name": "stdout",
     "output_type": "stream",
     "text": [
      "27\n"
     ]
    }
   ],
   "source": [
    "features_list = [stores_non_exclude + preprocessor.feature_names_in_[1:].tolist()]\n",
    "print(len(features_list[0]))"
   ]
  },
  {
   "cell_type": "code",
   "execution_count": 207,
   "id": "c8a80c93",
   "metadata": {},
   "outputs": [],
   "source": [
    "podium_coef = pd.DataFrame()"
   ]
  },
  {
   "cell_type": "code",
   "execution_count": 220,
   "id": "0ef73681",
   "metadata": {},
   "outputs": [],
   "source": [
    "coef_df = pd.DataFrame(gridsearch.best_estimator_.coef_, index=features_list, columns=['coef_'])\n",
    "coef_df['coef_']=round(coef_df['coef_'],2)\n",
    "coef_df = coef_df.reset_index().rename(columns={'level_0':'features_name'})"
   ]
  },
  {
   "cell_type": "code",
   "execution_count": 223,
   "id": "8a729d14",
   "metadata": {},
   "outputs": [
    {
     "data": {
      "application/vnd.plotly.v1+json": {
       "config": {
        "plotlyServerURL": "https://plot.ly"
       },
       "data": [
        {
         "alignmentgroup": "True",
         "hovertemplate": "coef_=%{x}<br>features_name=%{y}<extra></extra>",
         "legendgroup": "",
         "marker": {
          "color": "#636efa",
          "pattern": {
           "shape": ""
          }
         },
         "name": "",
         "offsetgroup": "",
         "orientation": "h",
         "showlegend": false,
         "textposition": "auto",
         "type": "bar",
         "x": [
          -168158.09,
          -51214.71,
          931593.28,
          -278421.1,
          -148824.43,
          218958.9,
          -125109.46,
          0,
          -184566.92,
          155804.05,
          -1425939.92,
          1092630.24,
          -1562469.81,
          -203204.47,
          -977157.7,
          -973773.66,
          -1339303.22,
          995920.96,
          964987.35,
          604292.47,
          -349374.26,
          -1132149.34,
          -297041.34,
          137125.55,
          406945.13,
          399693.15,
          0
         ],
         "xaxis": "x",
         "y": [
          "Store_1",
          "Store_2",
          "Store_3",
          "Store_4",
          "Store_5",
          "Store_6",
          "Store_7",
          "Store_8",
          "Store_9",
          "Store_10",
          "Store_13",
          "Store_14",
          "Store_15",
          "Store_16",
          "Store_17",
          "Store_18",
          "Store_19",
          "Store_20",
          "Holiday_Flag",
          "Temperature",
          "Fuel_Price",
          "CPI",
          "Unemployment",
          "year",
          "month",
          "day",
          "weekday"
         ],
         "yaxis": "y"
        }
       ],
       "layout": {
        "barmode": "relative",
        "legend": {
         "tracegroupgap": 0
        },
        "template": {
         "data": {
          "bar": [
           {
            "error_x": {
             "color": "#2a3f5f"
            },
            "error_y": {
             "color": "#2a3f5f"
            },
            "marker": {
             "line": {
              "color": "#E5ECF6",
              "width": 0.5
             },
             "pattern": {
              "fillmode": "overlay",
              "size": 10,
              "solidity": 0.2
             }
            },
            "type": "bar"
           }
          ],
          "barpolar": [
           {
            "marker": {
             "line": {
              "color": "#E5ECF6",
              "width": 0.5
             },
             "pattern": {
              "fillmode": "overlay",
              "size": 10,
              "solidity": 0.2
             }
            },
            "type": "barpolar"
           }
          ],
          "carpet": [
           {
            "aaxis": {
             "endlinecolor": "#2a3f5f",
             "gridcolor": "white",
             "linecolor": "white",
             "minorgridcolor": "white",
             "startlinecolor": "#2a3f5f"
            },
            "baxis": {
             "endlinecolor": "#2a3f5f",
             "gridcolor": "white",
             "linecolor": "white",
             "minorgridcolor": "white",
             "startlinecolor": "#2a3f5f"
            },
            "type": "carpet"
           }
          ],
          "choropleth": [
           {
            "colorbar": {
             "outlinewidth": 0,
             "ticks": ""
            },
            "type": "choropleth"
           }
          ],
          "contour": [
           {
            "colorbar": {
             "outlinewidth": 0,
             "ticks": ""
            },
            "colorscale": [
             [
              0,
              "#0d0887"
             ],
             [
              0.1111111111111111,
              "#46039f"
             ],
             [
              0.2222222222222222,
              "#7201a8"
             ],
             [
              0.3333333333333333,
              "#9c179e"
             ],
             [
              0.4444444444444444,
              "#bd3786"
             ],
             [
              0.5555555555555556,
              "#d8576b"
             ],
             [
              0.6666666666666666,
              "#ed7953"
             ],
             [
              0.7777777777777778,
              "#fb9f3a"
             ],
             [
              0.8888888888888888,
              "#fdca26"
             ],
             [
              1,
              "#f0f921"
             ]
            ],
            "type": "contour"
           }
          ],
          "contourcarpet": [
           {
            "colorbar": {
             "outlinewidth": 0,
             "ticks": ""
            },
            "type": "contourcarpet"
           }
          ],
          "heatmap": [
           {
            "colorbar": {
             "outlinewidth": 0,
             "ticks": ""
            },
            "colorscale": [
             [
              0,
              "#0d0887"
             ],
             [
              0.1111111111111111,
              "#46039f"
             ],
             [
              0.2222222222222222,
              "#7201a8"
             ],
             [
              0.3333333333333333,
              "#9c179e"
             ],
             [
              0.4444444444444444,
              "#bd3786"
             ],
             [
              0.5555555555555556,
              "#d8576b"
             ],
             [
              0.6666666666666666,
              "#ed7953"
             ],
             [
              0.7777777777777778,
              "#fb9f3a"
             ],
             [
              0.8888888888888888,
              "#fdca26"
             ],
             [
              1,
              "#f0f921"
             ]
            ],
            "type": "heatmap"
           }
          ],
          "heatmapgl": [
           {
            "colorbar": {
             "outlinewidth": 0,
             "ticks": ""
            },
            "colorscale": [
             [
              0,
              "#0d0887"
             ],
             [
              0.1111111111111111,
              "#46039f"
             ],
             [
              0.2222222222222222,
              "#7201a8"
             ],
             [
              0.3333333333333333,
              "#9c179e"
             ],
             [
              0.4444444444444444,
              "#bd3786"
             ],
             [
              0.5555555555555556,
              "#d8576b"
             ],
             [
              0.6666666666666666,
              "#ed7953"
             ],
             [
              0.7777777777777778,
              "#fb9f3a"
             ],
             [
              0.8888888888888888,
              "#fdca26"
             ],
             [
              1,
              "#f0f921"
             ]
            ],
            "type": "heatmapgl"
           }
          ],
          "histogram": [
           {
            "marker": {
             "pattern": {
              "fillmode": "overlay",
              "size": 10,
              "solidity": 0.2
             }
            },
            "type": "histogram"
           }
          ],
          "histogram2d": [
           {
            "colorbar": {
             "outlinewidth": 0,
             "ticks": ""
            },
            "colorscale": [
             [
              0,
              "#0d0887"
             ],
             [
              0.1111111111111111,
              "#46039f"
             ],
             [
              0.2222222222222222,
              "#7201a8"
             ],
             [
              0.3333333333333333,
              "#9c179e"
             ],
             [
              0.4444444444444444,
              "#bd3786"
             ],
             [
              0.5555555555555556,
              "#d8576b"
             ],
             [
              0.6666666666666666,
              "#ed7953"
             ],
             [
              0.7777777777777778,
              "#fb9f3a"
             ],
             [
              0.8888888888888888,
              "#fdca26"
             ],
             [
              1,
              "#f0f921"
             ]
            ],
            "type": "histogram2d"
           }
          ],
          "histogram2dcontour": [
           {
            "colorbar": {
             "outlinewidth": 0,
             "ticks": ""
            },
            "colorscale": [
             [
              0,
              "#0d0887"
             ],
             [
              0.1111111111111111,
              "#46039f"
             ],
             [
              0.2222222222222222,
              "#7201a8"
             ],
             [
              0.3333333333333333,
              "#9c179e"
             ],
             [
              0.4444444444444444,
              "#bd3786"
             ],
             [
              0.5555555555555556,
              "#d8576b"
             ],
             [
              0.6666666666666666,
              "#ed7953"
             ],
             [
              0.7777777777777778,
              "#fb9f3a"
             ],
             [
              0.8888888888888888,
              "#fdca26"
             ],
             [
              1,
              "#f0f921"
             ]
            ],
            "type": "histogram2dcontour"
           }
          ],
          "mesh3d": [
           {
            "colorbar": {
             "outlinewidth": 0,
             "ticks": ""
            },
            "type": "mesh3d"
           }
          ],
          "parcoords": [
           {
            "line": {
             "colorbar": {
              "outlinewidth": 0,
              "ticks": ""
             }
            },
            "type": "parcoords"
           }
          ],
          "pie": [
           {
            "automargin": true,
            "type": "pie"
           }
          ],
          "scatter": [
           {
            "fillpattern": {
             "fillmode": "overlay",
             "size": 10,
             "solidity": 0.2
            },
            "type": "scatter"
           }
          ],
          "scatter3d": [
           {
            "line": {
             "colorbar": {
              "outlinewidth": 0,
              "ticks": ""
             }
            },
            "marker": {
             "colorbar": {
              "outlinewidth": 0,
              "ticks": ""
             }
            },
            "type": "scatter3d"
           }
          ],
          "scattercarpet": [
           {
            "marker": {
             "colorbar": {
              "outlinewidth": 0,
              "ticks": ""
             }
            },
            "type": "scattercarpet"
           }
          ],
          "scattergeo": [
           {
            "marker": {
             "colorbar": {
              "outlinewidth": 0,
              "ticks": ""
             }
            },
            "type": "scattergeo"
           }
          ],
          "scattergl": [
           {
            "marker": {
             "colorbar": {
              "outlinewidth": 0,
              "ticks": ""
             }
            },
            "type": "scattergl"
           }
          ],
          "scattermapbox": [
           {
            "marker": {
             "colorbar": {
              "outlinewidth": 0,
              "ticks": ""
             }
            },
            "type": "scattermapbox"
           }
          ],
          "scatterpolar": [
           {
            "marker": {
             "colorbar": {
              "outlinewidth": 0,
              "ticks": ""
             }
            },
            "type": "scatterpolar"
           }
          ],
          "scatterpolargl": [
           {
            "marker": {
             "colorbar": {
              "outlinewidth": 0,
              "ticks": ""
             }
            },
            "type": "scatterpolargl"
           }
          ],
          "scatterternary": [
           {
            "marker": {
             "colorbar": {
              "outlinewidth": 0,
              "ticks": ""
             }
            },
            "type": "scatterternary"
           }
          ],
          "surface": [
           {
            "colorbar": {
             "outlinewidth": 0,
             "ticks": ""
            },
            "colorscale": [
             [
              0,
              "#0d0887"
             ],
             [
              0.1111111111111111,
              "#46039f"
             ],
             [
              0.2222222222222222,
              "#7201a8"
             ],
             [
              0.3333333333333333,
              "#9c179e"
             ],
             [
              0.4444444444444444,
              "#bd3786"
             ],
             [
              0.5555555555555556,
              "#d8576b"
             ],
             [
              0.6666666666666666,
              "#ed7953"
             ],
             [
              0.7777777777777778,
              "#fb9f3a"
             ],
             [
              0.8888888888888888,
              "#fdca26"
             ],
             [
              1,
              "#f0f921"
             ]
            ],
            "type": "surface"
           }
          ],
          "table": [
           {
            "cells": {
             "fill": {
              "color": "#EBF0F8"
             },
             "line": {
              "color": "white"
             }
            },
            "header": {
             "fill": {
              "color": "#C8D4E3"
             },
             "line": {
              "color": "white"
             }
            },
            "type": "table"
           }
          ]
         },
         "layout": {
          "annotationdefaults": {
           "arrowcolor": "#2a3f5f",
           "arrowhead": 0,
           "arrowwidth": 1
          },
          "autotypenumbers": "strict",
          "coloraxis": {
           "colorbar": {
            "outlinewidth": 0,
            "ticks": ""
           }
          },
          "colorscale": {
           "diverging": [
            [
             0,
             "#8e0152"
            ],
            [
             0.1,
             "#c51b7d"
            ],
            [
             0.2,
             "#de77ae"
            ],
            [
             0.3,
             "#f1b6da"
            ],
            [
             0.4,
             "#fde0ef"
            ],
            [
             0.5,
             "#f7f7f7"
            ],
            [
             0.6,
             "#e6f5d0"
            ],
            [
             0.7,
             "#b8e186"
            ],
            [
             0.8,
             "#7fbc41"
            ],
            [
             0.9,
             "#4d9221"
            ],
            [
             1,
             "#276419"
            ]
           ],
           "sequential": [
            [
             0,
             "#0d0887"
            ],
            [
             0.1111111111111111,
             "#46039f"
            ],
            [
             0.2222222222222222,
             "#7201a8"
            ],
            [
             0.3333333333333333,
             "#9c179e"
            ],
            [
             0.4444444444444444,
             "#bd3786"
            ],
            [
             0.5555555555555556,
             "#d8576b"
            ],
            [
             0.6666666666666666,
             "#ed7953"
            ],
            [
             0.7777777777777778,
             "#fb9f3a"
            ],
            [
             0.8888888888888888,
             "#fdca26"
            ],
            [
             1,
             "#f0f921"
            ]
           ],
           "sequentialminus": [
            [
             0,
             "#0d0887"
            ],
            [
             0.1111111111111111,
             "#46039f"
            ],
            [
             0.2222222222222222,
             "#7201a8"
            ],
            [
             0.3333333333333333,
             "#9c179e"
            ],
            [
             0.4444444444444444,
             "#bd3786"
            ],
            [
             0.5555555555555556,
             "#d8576b"
            ],
            [
             0.6666666666666666,
             "#ed7953"
            ],
            [
             0.7777777777777778,
             "#fb9f3a"
            ],
            [
             0.8888888888888888,
             "#fdca26"
            ],
            [
             1,
             "#f0f921"
            ]
           ]
          },
          "colorway": [
           "#636efa",
           "#EF553B",
           "#00cc96",
           "#ab63fa",
           "#FFA15A",
           "#19d3f3",
           "#FF6692",
           "#B6E880",
           "#FF97FF",
           "#FECB52"
          ],
          "font": {
           "color": "#2a3f5f"
          },
          "geo": {
           "bgcolor": "white",
           "lakecolor": "white",
           "landcolor": "#E5ECF6",
           "showlakes": true,
           "showland": true,
           "subunitcolor": "white"
          },
          "hoverlabel": {
           "align": "left"
          },
          "hovermode": "closest",
          "mapbox": {
           "style": "light"
          },
          "paper_bgcolor": "white",
          "plot_bgcolor": "#E5ECF6",
          "polar": {
           "angularaxis": {
            "gridcolor": "white",
            "linecolor": "white",
            "ticks": ""
           },
           "bgcolor": "#E5ECF6",
           "radialaxis": {
            "gridcolor": "white",
            "linecolor": "white",
            "ticks": ""
           }
          },
          "scene": {
           "xaxis": {
            "backgroundcolor": "#E5ECF6",
            "gridcolor": "white",
            "gridwidth": 2,
            "linecolor": "white",
            "showbackground": true,
            "ticks": "",
            "zerolinecolor": "white"
           },
           "yaxis": {
            "backgroundcolor": "#E5ECF6",
            "gridcolor": "white",
            "gridwidth": 2,
            "linecolor": "white",
            "showbackground": true,
            "ticks": "",
            "zerolinecolor": "white"
           },
           "zaxis": {
            "backgroundcolor": "#E5ECF6",
            "gridcolor": "white",
            "gridwidth": 2,
            "linecolor": "white",
            "showbackground": true,
            "ticks": "",
            "zerolinecolor": "white"
           }
          },
          "shapedefaults": {
           "line": {
            "color": "#2a3f5f"
           }
          },
          "ternary": {
           "aaxis": {
            "gridcolor": "white",
            "linecolor": "white",
            "ticks": ""
           },
           "baxis": {
            "gridcolor": "white",
            "linecolor": "white",
            "ticks": ""
           },
           "bgcolor": "#E5ECF6",
           "caxis": {
            "gridcolor": "white",
            "linecolor": "white",
            "ticks": ""
           }
          },
          "title": {
           "x": 0.05
          },
          "xaxis": {
           "automargin": true,
           "gridcolor": "white",
           "linecolor": "white",
           "ticks": "",
           "title": {
            "standoff": 15
           },
           "zerolinecolor": "white",
           "zerolinewidth": 2
          },
          "yaxis": {
           "automargin": true,
           "gridcolor": "white",
           "linecolor": "white",
           "ticks": "",
           "title": {
            "standoff": 15
           },
           "zerolinecolor": "white",
           "zerolinewidth": 2
          }
         }
        },
        "title": {
         "text": "Valeur des coefficients par features"
        },
        "xaxis": {
         "anchor": "y",
         "domain": [
          0,
          1
         ],
         "title": {
          "text": "coef_"
         }
        },
        "yaxis": {
         "anchor": "x",
         "domain": [
          0,
          1
         ],
         "title": {
          "text": "features_name"
         }
        }
       }
      },
      "text/html": [
       "<div>                            <div id=\"31297a32-5dee-424a-a572-30e3f15ec102\" class=\"plotly-graph-div\" style=\"height:525px; width:100%;\"></div>            <script type=\"text/javascript\">                require([\"plotly\"], function(Plotly) {                    window.PLOTLYENV=window.PLOTLYENV || {};                                    if (document.getElementById(\"31297a32-5dee-424a-a572-30e3f15ec102\")) {                    Plotly.newPlot(                        \"31297a32-5dee-424a-a572-30e3f15ec102\",                        [{\"alignmentgroup\":\"True\",\"hovertemplate\":\"coef_=%{x}<br>features_name=%{y}<extra></extra>\",\"legendgroup\":\"\",\"marker\":{\"color\":\"#636efa\",\"pattern\":{\"shape\":\"\"}},\"name\":\"\",\"offsetgroup\":\"\",\"orientation\":\"h\",\"showlegend\":false,\"textposition\":\"auto\",\"x\":[-168158.09,-51214.71,931593.28,-278421.1,-148824.43,218958.9,-125109.46,0.0,-184566.92,155804.05,-1425939.92,1092630.24,-1562469.81,-203204.47,-977157.7,-973773.66,-1339303.22,995920.96,964987.35,604292.47,-349374.26,-1132149.34,-297041.34,137125.55,406945.13,399693.15,0.0],\"xaxis\":\"x\",\"y\":[\"Store_1\",\"Store_2\",\"Store_3\",\"Store_4\",\"Store_5\",\"Store_6\",\"Store_7\",\"Store_8\",\"Store_9\",\"Store_10\",\"Store_13\",\"Store_14\",\"Store_15\",\"Store_16\",\"Store_17\",\"Store_18\",\"Store_19\",\"Store_20\",\"Holiday_Flag\",\"Temperature\",\"Fuel_Price\",\"CPI\",\"Unemployment\",\"year\",\"month\",\"day\",\"weekday\"],\"yaxis\":\"y\",\"type\":\"bar\"}],                        {\"template\":{\"data\":{\"histogram2dcontour\":[{\"type\":\"histogram2dcontour\",\"colorbar\":{\"outlinewidth\":0,\"ticks\":\"\"},\"colorscale\":[[0.0,\"#0d0887\"],[0.1111111111111111,\"#46039f\"],[0.2222222222222222,\"#7201a8\"],[0.3333333333333333,\"#9c179e\"],[0.4444444444444444,\"#bd3786\"],[0.5555555555555556,\"#d8576b\"],[0.6666666666666666,\"#ed7953\"],[0.7777777777777778,\"#fb9f3a\"],[0.8888888888888888,\"#fdca26\"],[1.0,\"#f0f921\"]]}],\"choropleth\":[{\"type\":\"choropleth\",\"colorbar\":{\"outlinewidth\":0,\"ticks\":\"\"}}],\"histogram2d\":[{\"type\":\"histogram2d\",\"colorbar\":{\"outlinewidth\":0,\"ticks\":\"\"},\"colorscale\":[[0.0,\"#0d0887\"],[0.1111111111111111,\"#46039f\"],[0.2222222222222222,\"#7201a8\"],[0.3333333333333333,\"#9c179e\"],[0.4444444444444444,\"#bd3786\"],[0.5555555555555556,\"#d8576b\"],[0.6666666666666666,\"#ed7953\"],[0.7777777777777778,\"#fb9f3a\"],[0.8888888888888888,\"#fdca26\"],[1.0,\"#f0f921\"]]}],\"heatmap\":[{\"type\":\"heatmap\",\"colorbar\":{\"outlinewidth\":0,\"ticks\":\"\"},\"colorscale\":[[0.0,\"#0d0887\"],[0.1111111111111111,\"#46039f\"],[0.2222222222222222,\"#7201a8\"],[0.3333333333333333,\"#9c179e\"],[0.4444444444444444,\"#bd3786\"],[0.5555555555555556,\"#d8576b\"],[0.6666666666666666,\"#ed7953\"],[0.7777777777777778,\"#fb9f3a\"],[0.8888888888888888,\"#fdca26\"],[1.0,\"#f0f921\"]]}],\"heatmapgl\":[{\"type\":\"heatmapgl\",\"colorbar\":{\"outlinewidth\":0,\"ticks\":\"\"},\"colorscale\":[[0.0,\"#0d0887\"],[0.1111111111111111,\"#46039f\"],[0.2222222222222222,\"#7201a8\"],[0.3333333333333333,\"#9c179e\"],[0.4444444444444444,\"#bd3786\"],[0.5555555555555556,\"#d8576b\"],[0.6666666666666666,\"#ed7953\"],[0.7777777777777778,\"#fb9f3a\"],[0.8888888888888888,\"#fdca26\"],[1.0,\"#f0f921\"]]}],\"contourcarpet\":[{\"type\":\"contourcarpet\",\"colorbar\":{\"outlinewidth\":0,\"ticks\":\"\"}}],\"contour\":[{\"type\":\"contour\",\"colorbar\":{\"outlinewidth\":0,\"ticks\":\"\"},\"colorscale\":[[0.0,\"#0d0887\"],[0.1111111111111111,\"#46039f\"],[0.2222222222222222,\"#7201a8\"],[0.3333333333333333,\"#9c179e\"],[0.4444444444444444,\"#bd3786\"],[0.5555555555555556,\"#d8576b\"],[0.6666666666666666,\"#ed7953\"],[0.7777777777777778,\"#fb9f3a\"],[0.8888888888888888,\"#fdca26\"],[1.0,\"#f0f921\"]]}],\"surface\":[{\"type\":\"surface\",\"colorbar\":{\"outlinewidth\":0,\"ticks\":\"\"},\"colorscale\":[[0.0,\"#0d0887\"],[0.1111111111111111,\"#46039f\"],[0.2222222222222222,\"#7201a8\"],[0.3333333333333333,\"#9c179e\"],[0.4444444444444444,\"#bd3786\"],[0.5555555555555556,\"#d8576b\"],[0.6666666666666666,\"#ed7953\"],[0.7777777777777778,\"#fb9f3a\"],[0.8888888888888888,\"#fdca26\"],[1.0,\"#f0f921\"]]}],\"mesh3d\":[{\"type\":\"mesh3d\",\"colorbar\":{\"outlinewidth\":0,\"ticks\":\"\"}}],\"scatter\":[{\"fillpattern\":{\"fillmode\":\"overlay\",\"size\":10,\"solidity\":0.2},\"type\":\"scatter\"}],\"parcoords\":[{\"type\":\"parcoords\",\"line\":{\"colorbar\":{\"outlinewidth\":0,\"ticks\":\"\"}}}],\"scatterpolargl\":[{\"type\":\"scatterpolargl\",\"marker\":{\"colorbar\":{\"outlinewidth\":0,\"ticks\":\"\"}}}],\"bar\":[{\"error_x\":{\"color\":\"#2a3f5f\"},\"error_y\":{\"color\":\"#2a3f5f\"},\"marker\":{\"line\":{\"color\":\"#E5ECF6\",\"width\":0.5},\"pattern\":{\"fillmode\":\"overlay\",\"size\":10,\"solidity\":0.2}},\"type\":\"bar\"}],\"scattergeo\":[{\"type\":\"scattergeo\",\"marker\":{\"colorbar\":{\"outlinewidth\":0,\"ticks\":\"\"}}}],\"scatterpolar\":[{\"type\":\"scatterpolar\",\"marker\":{\"colorbar\":{\"outlinewidth\":0,\"ticks\":\"\"}}}],\"histogram\":[{\"marker\":{\"pattern\":{\"fillmode\":\"overlay\",\"size\":10,\"solidity\":0.2}},\"type\":\"histogram\"}],\"scattergl\":[{\"type\":\"scattergl\",\"marker\":{\"colorbar\":{\"outlinewidth\":0,\"ticks\":\"\"}}}],\"scatter3d\":[{\"type\":\"scatter3d\",\"line\":{\"colorbar\":{\"outlinewidth\":0,\"ticks\":\"\"}},\"marker\":{\"colorbar\":{\"outlinewidth\":0,\"ticks\":\"\"}}}],\"scattermapbox\":[{\"type\":\"scattermapbox\",\"marker\":{\"colorbar\":{\"outlinewidth\":0,\"ticks\":\"\"}}}],\"scatterternary\":[{\"type\":\"scatterternary\",\"marker\":{\"colorbar\":{\"outlinewidth\":0,\"ticks\":\"\"}}}],\"scattercarpet\":[{\"type\":\"scattercarpet\",\"marker\":{\"colorbar\":{\"outlinewidth\":0,\"ticks\":\"\"}}}],\"carpet\":[{\"aaxis\":{\"endlinecolor\":\"#2a3f5f\",\"gridcolor\":\"white\",\"linecolor\":\"white\",\"minorgridcolor\":\"white\",\"startlinecolor\":\"#2a3f5f\"},\"baxis\":{\"endlinecolor\":\"#2a3f5f\",\"gridcolor\":\"white\",\"linecolor\":\"white\",\"minorgridcolor\":\"white\",\"startlinecolor\":\"#2a3f5f\"},\"type\":\"carpet\"}],\"table\":[{\"cells\":{\"fill\":{\"color\":\"#EBF0F8\"},\"line\":{\"color\":\"white\"}},\"header\":{\"fill\":{\"color\":\"#C8D4E3\"},\"line\":{\"color\":\"white\"}},\"type\":\"table\"}],\"barpolar\":[{\"marker\":{\"line\":{\"color\":\"#E5ECF6\",\"width\":0.5},\"pattern\":{\"fillmode\":\"overlay\",\"size\":10,\"solidity\":0.2}},\"type\":\"barpolar\"}],\"pie\":[{\"automargin\":true,\"type\":\"pie\"}]},\"layout\":{\"autotypenumbers\":\"strict\",\"colorway\":[\"#636efa\",\"#EF553B\",\"#00cc96\",\"#ab63fa\",\"#FFA15A\",\"#19d3f3\",\"#FF6692\",\"#B6E880\",\"#FF97FF\",\"#FECB52\"],\"font\":{\"color\":\"#2a3f5f\"},\"hovermode\":\"closest\",\"hoverlabel\":{\"align\":\"left\"},\"paper_bgcolor\":\"white\",\"plot_bgcolor\":\"#E5ECF6\",\"polar\":{\"bgcolor\":\"#E5ECF6\",\"angularaxis\":{\"gridcolor\":\"white\",\"linecolor\":\"white\",\"ticks\":\"\"},\"radialaxis\":{\"gridcolor\":\"white\",\"linecolor\":\"white\",\"ticks\":\"\"}},\"ternary\":{\"bgcolor\":\"#E5ECF6\",\"aaxis\":{\"gridcolor\":\"white\",\"linecolor\":\"white\",\"ticks\":\"\"},\"baxis\":{\"gridcolor\":\"white\",\"linecolor\":\"white\",\"ticks\":\"\"},\"caxis\":{\"gridcolor\":\"white\",\"linecolor\":\"white\",\"ticks\":\"\"}},\"coloraxis\":{\"colorbar\":{\"outlinewidth\":0,\"ticks\":\"\"}},\"colorscale\":{\"sequential\":[[0.0,\"#0d0887\"],[0.1111111111111111,\"#46039f\"],[0.2222222222222222,\"#7201a8\"],[0.3333333333333333,\"#9c179e\"],[0.4444444444444444,\"#bd3786\"],[0.5555555555555556,\"#d8576b\"],[0.6666666666666666,\"#ed7953\"],[0.7777777777777778,\"#fb9f3a\"],[0.8888888888888888,\"#fdca26\"],[1.0,\"#f0f921\"]],\"sequentialminus\":[[0.0,\"#0d0887\"],[0.1111111111111111,\"#46039f\"],[0.2222222222222222,\"#7201a8\"],[0.3333333333333333,\"#9c179e\"],[0.4444444444444444,\"#bd3786\"],[0.5555555555555556,\"#d8576b\"],[0.6666666666666666,\"#ed7953\"],[0.7777777777777778,\"#fb9f3a\"],[0.8888888888888888,\"#fdca26\"],[1.0,\"#f0f921\"]],\"diverging\":[[0,\"#8e0152\"],[0.1,\"#c51b7d\"],[0.2,\"#de77ae\"],[0.3,\"#f1b6da\"],[0.4,\"#fde0ef\"],[0.5,\"#f7f7f7\"],[0.6,\"#e6f5d0\"],[0.7,\"#b8e186\"],[0.8,\"#7fbc41\"],[0.9,\"#4d9221\"],[1,\"#276419\"]]},\"xaxis\":{\"gridcolor\":\"white\",\"linecolor\":\"white\",\"ticks\":\"\",\"title\":{\"standoff\":15},\"zerolinecolor\":\"white\",\"automargin\":true,\"zerolinewidth\":2},\"yaxis\":{\"gridcolor\":\"white\",\"linecolor\":\"white\",\"ticks\":\"\",\"title\":{\"standoff\":15},\"zerolinecolor\":\"white\",\"automargin\":true,\"zerolinewidth\":2},\"scene\":{\"xaxis\":{\"backgroundcolor\":\"#E5ECF6\",\"gridcolor\":\"white\",\"linecolor\":\"white\",\"showbackground\":true,\"ticks\":\"\",\"zerolinecolor\":\"white\",\"gridwidth\":2},\"yaxis\":{\"backgroundcolor\":\"#E5ECF6\",\"gridcolor\":\"white\",\"linecolor\":\"white\",\"showbackground\":true,\"ticks\":\"\",\"zerolinecolor\":\"white\",\"gridwidth\":2},\"zaxis\":{\"backgroundcolor\":\"#E5ECF6\",\"gridcolor\":\"white\",\"linecolor\":\"white\",\"showbackground\":true,\"ticks\":\"\",\"zerolinecolor\":\"white\",\"gridwidth\":2}},\"shapedefaults\":{\"line\":{\"color\":\"#2a3f5f\"}},\"annotationdefaults\":{\"arrowcolor\":\"#2a3f5f\",\"arrowhead\":0,\"arrowwidth\":1},\"geo\":{\"bgcolor\":\"white\",\"landcolor\":\"#E5ECF6\",\"subunitcolor\":\"white\",\"showland\":true,\"showlakes\":true,\"lakecolor\":\"white\"},\"title\":{\"x\":0.05},\"mapbox\":{\"style\":\"light\"}}},\"xaxis\":{\"anchor\":\"y\",\"domain\":[0.0,1.0],\"title\":{\"text\":\"coef_\"}},\"yaxis\":{\"anchor\":\"x\",\"domain\":[0.0,1.0],\"title\":{\"text\":\"features_name\"}},\"legend\":{\"tracegroupgap\":0},\"title\":{\"text\":\"Valeur des coefficients par features\"},\"barmode\":\"relative\"},                        {\"responsive\": true}                    ).then(function(){\n",
       "                            \n",
       "var gd = document.getElementById('31297a32-5dee-424a-a572-30e3f15ec102');\n",
       "var x = new MutationObserver(function (mutations, observer) {{\n",
       "        var display = window.getComputedStyle(gd).display;\n",
       "        if (!display || display === 'none') {{\n",
       "            console.log([gd, 'removed!']);\n",
       "            Plotly.purge(gd);\n",
       "            observer.disconnect();\n",
       "        }}\n",
       "}});\n",
       "\n",
       "// Listen for the removal of the full notebook cells\n",
       "var notebookContainer = gd.closest('#notebook-container');\n",
       "if (notebookContainer) {{\n",
       "    x.observe(notebookContainer, {childList: true});\n",
       "}}\n",
       "\n",
       "// Listen for the clearing of the current output cell\n",
       "var outputEl = gd.closest('.output');\n",
       "if (outputEl) {{\n",
       "    x.observe(outputEl, {childList: true});\n",
       "}}\n",
       "\n",
       "                        })                };                });            </script>        </div>"
      ]
     },
     "metadata": {},
     "output_type": "display_data"
    }
   ],
   "source": [
    "fig = px.bar(coef_df, x='coef_', y='features_name', title='Valeur des coefficients par features')\n",
    "fig.show()"
   ]
  },
  {
   "cell_type": "markdown",
   "id": "b6429963",
   "metadata": {},
   "source": [
    "On observe bien que les variables les plus importantes sont les `Stores` : On voit aussi que certaines features sont bien neutralisée par Lasso (comme year)\n",
    "\n",
    "Testons de retirer les features que Lasso neutralise (comme year, month, day, weekday) et observons le resultat"
   ]
  },
  {
   "cell_type": "code",
   "execution_count": 224,
   "id": "00a75345",
   "metadata": {},
   "outputs": [],
   "source": [
    "X_train, X_test, y_train, y_test = train_test_split(X, y, test_size=0.2, random_state=0)"
   ]
  },
  {
   "cell_type": "code",
   "execution_count": 225,
   "id": "3048c63d",
   "metadata": {},
   "outputs": [],
   "source": [
    "numerical_features = X_train[['Temperature', 'Fuel_Price', 'CPI', 'Unemployment']].columns\n",
    "categorical_features = X_train[['Store','Holiday_Flag']].columns"
   ]
  },
  {
   "cell_type": "code",
   "execution_count": 230,
   "id": "8c854d31",
   "metadata": {},
   "outputs": [
    {
     "data": {
      "text/plain": [
       "ColumnTransformer(transformers=[('pipeline',\n",
       "                                 Pipeline(steps=[('MinMaxScaler',\n",
       "                                                  MinMaxScaler()),\n",
       "                                                 ('KNNImputer',\n",
       "                                                  KNNImputer(n_neighbors=3))]),\n",
       "                                 Index(['Temperature', 'Fuel_Price', 'CPI', 'Unemployment'], dtype='object')),\n",
       "                                ('onehotencoder', OneHotEncoder(),\n",
       "                                 Index(['Store', 'Holiday_Flag'], dtype='object'))])"
      ]
     },
     "execution_count": 230,
     "metadata": {},
     "output_type": "execute_result"
    }
   ],
   "source": [
    "preprocessor = make_column_transformer(\n",
    "    (pip1[0:2], numerical_features),\n",
    "    (pip1[2], categorical_features))\n",
    "\n",
    "preprocessor"
   ]
  },
  {
   "cell_type": "code",
   "execution_count": 231,
   "id": "5537a645",
   "metadata": {},
   "outputs": [],
   "source": [
    "X_train = preprocessor.fit_transform(X_train)\n",
    "X_test = preprocessor.transform(X_test)"
   ]
  },
  {
   "cell_type": "code",
   "execution_count": 247,
   "id": "007bb4c2",
   "metadata": {},
   "outputs": [
    {
     "name": "stdout",
     "output_type": "stream",
     "text": [
      "Meilleurs hyperparametres :  {'alpha': 600}\n",
      "Meilleur R2-score :  0.922654367661922\n"
     ]
    }
   ],
   "source": [
    "regressor = Lasso()\n",
    "\n",
    "params={\n",
    "    'alpha':[400, 500, 600, 700, 735, 740, 745, 800]\n",
    "}\n",
    "\n",
    "gridsearch = GridSearchCV(regressor, param_grid = params, cv = 8)\n",
    "gridsearch.fit(X_train, y_train)\n",
    "\n",
    "print(\"Meilleurs hyperparametres : \", gridsearch.best_params_)\n",
    "print(\"Meilleur R2-score : \", gridsearch.best_score_)"
   ]
  },
  {
   "cell_type": "code",
   "execution_count": 256,
   "id": "5d6bf220",
   "metadata": {},
   "outputs": [],
   "source": [
    "import sys\n",
    "\n",
    "with warnings.catch_warnings():\n",
    "    warnings.filterwarnings(\"ignore\", category=ConvergenceWarning)\n",
    "    \n",
    "if not sys.warnoptions:\n",
    "    warnings.simplefilter(\"ignore\")\n",
    "    os.environ[\"PYTHONWARNINGS\"] = \"ignore\" "
   ]
  },
  {
   "cell_type": "code",
   "execution_count": 257,
   "id": "901e95e7",
   "metadata": {},
   "outputs": [
    {
     "name": "stdout",
     "output_type": "stream",
     "text": [
      "R2-score sur le Train: 0.9667489752285308\n",
      "R2-score sur le Test : 0.982287914866134\n",
      "Cross_Val_Score MEAN sur le Train : 0.9208236343388416\n",
      "Cross_Val_Score Std sur le Test : 0.039063889366023084\n"
     ]
    }
   ],
   "source": [
    "regressor.fit(X_train, y_train)\n",
    "\n",
    "y_pred_train = regressor.predict(X_train)\n",
    "y_pred_test = regressor.predict(X_test)\n",
    "\n",
    "print (f'R2-score sur le Train: {r2_score(y_train, y_pred_train)}')\n",
    "print (f'R2-score sur le Test : {r2_score(y_test, y_pred_test)}')\n",
    "print (f'Cross_Val_Score MEAN sur le Train : {cross_val_score(regressor, X_train, y_train, cv=10).mean()}')\n",
    "print (f'Cross_Val_Score Std sur le Test : {cross_val_score(regressor, X_train, y_train, cv=10).std()}')"
   ]
  },
  {
   "cell_type": "markdown",
   "id": "a3ab0645",
   "metadata": {},
   "source": [
    "On a réussi à faire baisser l'overfitting (en baissant légérement l'accuracy de notre modèle)"
   ]
  },
  {
   "cell_type": "markdown",
   "id": "9e2b62a8",
   "metadata": {},
   "source": [
    "### Feature Engineering "
   ]
  },
  {
   "cell_type": "markdown",
   "id": "12a2ea12",
   "metadata": {},
   "source": [
    "Le feature engineering va faire augmenter l'overfitting mais améliore t'il le modèle sur le train ? Testons pour voir !"
   ]
  },
  {
   "cell_type": "code",
   "execution_count": 183,
   "id": "e3d6cb0a",
   "metadata": {},
   "outputs": [],
   "source": [
    "poly = PolynomialFeatures(2)\n",
    "X_train = poly.fit_transform(X_train)\n",
    "X_test = poly.transform(X_test)"
   ]
  },
  {
   "cell_type": "code",
   "execution_count": 184,
   "id": "03209fbc",
   "metadata": {},
   "outputs": [
    {
     "name": "stdout",
     "output_type": "stream",
     "text": [
      "1.0\n",
      "0.8876888170182896\n"
     ]
    }
   ],
   "source": [
    "pip1[3].fit(X_train,y_train)\n",
    "\n",
    "print(pip1[3].score(X_train, y_train))\n",
    "print(pip1[3].score(X_test, y_test))"
   ]
  },
  {
   "cell_type": "markdown",
   "id": "0af790f1",
   "metadata": {},
   "source": [
    "On créant de nouvelles variables, on overfit de plus en plus sans vraiment améliorer le modèle du train et en baissant le score sur le test, donc ce n'est pas une bonne idée"
   ]
  },
  {
   "cell_type": "markdown",
   "id": "e6350346",
   "metadata": {},
   "source": [
    "### Time Series"
   ]
  },
  {
   "cell_type": "markdown",
   "id": "3cbb57d0",
   "metadata": {},
   "source": [
    "Nous allons utiliser des modèles de série temporelle pour essayer de prédire les ventes des magasins. On va découper notre dataset en 2 périodes : une qui sera le train (le passé) et une qui sera le test (le futur).\n",
    "\n",
    "Cependant, il nous manque certaines données pour réussir à faire du Time Series : Nous n'avons pas tous les C.A par magasin, ce qui va nous poser un problème de biais pour les magasins les plus représentés. Testons voir les resultats si nous pouvons prédire les ventes hebdomadaire seulement en fonction de la date.\n",
    "\n",
    "Il faut quand même prendre en considération le fait que nous essayons de prédire le prix des ventes en fonction de plusieurs paramètres tel que le prix de l'essence ou le taux de chomage, donc il est possible que notre modèle de Time Series ne soit pas optimal quand à réussir à faire ses prédictions. \n",
    "\n",
    "Nous n'allons garder que les lignes qui ont des dates (nous avions déja filtrer les valeurs manquantes mais verifions quand même)"
   ]
  },
  {
   "cell_type": "code",
   "execution_count": 269,
   "id": "914893d2",
   "metadata": {},
   "outputs": [],
   "source": [
    "import prophet\n",
    "from prophet import Prophet"
   ]
  },
  {
   "cell_type": "code",
   "execution_count": 259,
   "id": "b90c9097",
   "metadata": {},
   "outputs": [
    {
     "data": {
      "text/plain": [
       "0"
      ]
     },
     "execution_count": 259,
     "metadata": {},
     "output_type": "execute_result"
    }
   ],
   "source": [
    "df['Date'].isna().sum()"
   ]
  },
  {
   "cell_type": "code",
   "execution_count": 287,
   "id": "25a75662",
   "metadata": {},
   "outputs": [],
   "source": [
    "time_series = df[['Date', 'Weekly_Sales']].sort_values(by='Date').reset_index(drop=True)\n",
    "time_series['Date'] = pd.to_datetime(time_series['Date'])\n",
    "time_series = time_series.rename(columns={'Date':'ds', 'Weekly_Sales':'y'})"
   ]
  },
  {
   "cell_type": "code",
   "execution_count": 289,
   "id": "605cef83",
   "metadata": {},
   "outputs": [],
   "source": [
    "train = time_series[:100]\n",
    "test = time_series[100:]"
   ]
  },
  {
   "cell_type": "code",
   "execution_count": 294,
   "id": "6b729c8d",
   "metadata": {},
   "outputs": [
    {
     "name": "stderr",
     "output_type": "stream",
     "text": [
      "INFO:cmdstanpy:start chain 1\n",
      "INFO:cmdstanpy:finish chain 1\n"
     ]
    }
   ],
   "source": [
    "modl = Prophet(weekly_seasonality=True, daily_seasonality=True)\n",
    "modl.fit(train)\n",
    "preds = modl.predict(test)"
   ]
  },
  {
   "cell_type": "code",
   "execution_count": 295,
   "id": "1a060fdf",
   "metadata": {},
   "outputs": [],
   "source": [
    "future = m.make_future_dataframe(periods=100)\n",
    "prevision = m.predict(future)"
   ]
  },
  {
   "cell_type": "code",
   "execution_count": 298,
   "id": "2b3ca59c",
   "metadata": {},
   "outputs": [
    {
     "data": {
      "image/png": "[encoded data removed]",
      "text/plain": [
       "<Figure size 1500x500 with 1 Axes>"
      ]
     },
     "metadata": {},
     "output_type": "display_data"
    }
   ],
   "source": [
    "f, ax = plt.subplots(1)\n",
    "f.set_figheight(5)\n",
    "f.set_figwidth(15)\n",
    "ax.scatter(prevision['ds'], prevision['yhat'], color='r')\n",
    "ax.plot(prevision['ds'], prevision['yhat'], color='r')\n",
    "fig = modl.plot(preds, ax=ax)"
   ]
  },
  {
   "cell_type": "markdown",
   "id": "63bf7b29",
   "metadata": {},
   "source": [
    "On observe quand même une certaine saisonnalité pour les ventes avec un pic pour noel.\n",
    "\n",
    "Le modèle n'est pas bon car il y a eu une augmentation des ventes sans que le modèle le prenne en compte, ce qui donne des prédictions inférieures aux valeurs réelles\n",
    "\n",
    "Observons les tendances en fonction de différentes périodes: "
   ]
  },
  {
   "cell_type": "code",
   "execution_count": 282,
   "id": "07d28242",
   "metadata": {},
   "outputs": [
    {
     "data": {
      "image/png": "[encoded data removed]",
      "text/plain": [
       "<Figure size 900x1200 with 4 Axes>"
      ]
     },
     "metadata": {},
     "output_type": "display_data"
    }
   ],
   "source": [
    "fig2 = m.plot_components(forecast)"
   ]
  },
  {
   "cell_type": "markdown",
   "id": "4998c55b",
   "metadata": {},
   "source": [
    "Nous allons tester avec tout le dataset pour voir si on peut augmenter les valeurs prédictions temporelles."
   ]
  },
  {
   "cell_type": "code",
   "execution_count": 300,
   "id": "8c37ff93",
   "metadata": {},
   "outputs": [],
   "source": [
    "ts = df.copy()\n",
    "ts = ts.sort_values(by='Date')\n",
    "\n",
    "X = df[['CPI','Temperature', 'Unemployment', 'Fuel_Price', 'Holiday_Flag', 'Store']]\n",
    "y = df['Weekly_Sales']\n",
    "       \n",
    "X_train, X_test, y_train, y_test = X[:100], X[100:], y [:100], y[100:]\n",
    "\n",
    "X_train = preprocessor.fit_transform(X_train)\n",
    "X_test = preprocessor.transform(X_test)"
   ]
  },
  {
   "cell_type": "code",
   "execution_count": 302,
   "id": "fc214f2d",
   "metadata": {},
   "outputs": [
    {
     "data": {
      "text/plain": [
       "Lasso(alpha=600, max_iter=10000)"
      ]
     },
     "execution_count": 302,
     "metadata": {},
     "output_type": "execute_result"
    }
   ],
   "source": [
    "regressor=Lasso(alpha=600, max_iter=10000)\n",
    "\n",
    "regressor.fit(X_train, y_train)"
   ]
  },
  {
   "cell_type": "code",
   "execution_count": 303,
   "id": "a81895ff",
   "metadata": {},
   "outputs": [
    {
     "name": "stdout",
     "output_type": "stream",
     "text": [
      "R2-score sur le Train: 0.9558562043427189\n",
      "R2-score sur le Test : 0.9811461557013939\n",
      "Cross_Val_Score MEAN sur le Train : 0.9133253899813856\n",
      "Cross_Val_Score Std sur le Test : 0.04924404232788381\n"
     ]
    }
   ],
   "source": [
    "y_pred_train = regressor.predict(X_train)\n",
    "y_pred_test = regressor.predict(X_test)\n",
    "\n",
    "print (f'R2-score sur le Train: {r2_score(y_train, y_pred_train)}')\n",
    "print (f'R2-score sur le Test : {r2_score(y_test, y_pred_test)}')\n",
    "print (f'Cross_Val_Score MEAN sur le Train : {cross_val_score(regressor, X_train, y_train, cv=10).mean()}')\n",
    "print (f'Cross_Val_Score Std sur le Test : {cross_val_score(regressor, X_train, y_train, cv=10).std()}')"
   ]
  },
  {
   "cell_type": "markdown",
   "id": "654392a2",
   "metadata": {},
   "source": [
    "Il y a une légère amélioration des resultats sur le test mais nous n'avons pas assez de ligne pour dire que cela est significatif."
   ]
  },
  {
   "cell_type": "code",
   "execution_count": null,
   "id": "4c8bae22",
   "metadata": {},
   "outputs": [],
   "source": []
  }
 ],
 "metadata": {
  "kernelspec": {
   "display_name": "Python 3 (ipykernel)",
   "language": "python",
   "name": "python3"
  },
  "language_info": {
   "codemirror_mode": {
    "name": "ipython",
    "version": 3
   },
   "file_extension": ".py",
   "mimetype": "text/x-python",
   "name": "python",
   "nbconvert_exporter": "python",
   "pygments_lexer": "ipython3",
   "version": "3.8.15"
  }
 },
 "nbformat": 4,
 "nbformat_minor": 5
}
