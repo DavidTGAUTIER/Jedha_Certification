{
 "cells": [
  {
   "cell_type": "code",
   "execution_count": 1,
   "id": "5290dcf7",
   "metadata": {},
   "outputs": [
    {
     "name": "stderr",
     "output_type": "stream",
     "text": [
      "PROJ: proj_create_from_database: SQLite error on SELECT name, type, coordinate_system_auth_name, coordinate_system_code, datum_auth_name, datum_code, area_of_use_auth_name, area_of_use_code, text_definition, deprecated FROM geodetic_crs WHERE auth_name = ? AND code = ?: no such column: area_of_use_auth_name\n"
     ]
    }
   ],
   "source": [
    "import pandas as pd\n",
    "import seaborn as sns\n",
    "import matplotlib.pyplot as plt\n",
    "import plotly.figure_factory as ff\n",
    "import plotly.express as px\n",
    "from pathlib import Path\n",
    "import numpy as np\n",
    "import os\n",
    "import warnings\n",
    "warnings.filterwarnings(\"ignore\", category=DeprecationWarning)\n",
    "warnings.filterwarnings(\"ignore\", category=FutureWarning)\n",
    "warnings.simplefilter('always', category=UserWarning)\n",
    "from sklearn.model_selection import train_test_split, cross_val_score, GridSearchCV\n",
    "from sklearn.compose import TransformedTargetRegressor, make_column_transformer\n",
    "from sklearn.impute import SimpleImputer, KNNImputer\n",
    "from sklearn.preprocessing import OneHotEncoder, StandardScaler, MinMaxScaler, PolynomialFeatures\n",
    "from sklearn.linear_model import LinearRegression, Ridge, Lasso\n",
    "from sklearn.pipeline import Pipeline"
   ]
  },
  {
   "cell_type": "markdown",
   "id": "22769da7",
   "metadata": {},
   "source": [
    "### But du projet\n",
    "\n",
    "Construire un modèle de machine learning capable d'estimer les ventes hebdomadaires dans leurs magasins, avec la meilleure précision possible sur les prédictions faites\n",
    "\n",
    "### Objectifs\n",
    "\n",
    "- Partie 1 : réaliser un EDA et tous les prétraitements nécessaires pour préparer les données pour le machine learning\n",
    "- Partie 2 : former un modèle de **régression linéaire** (baseline)\n",
    "- Partie 3 : éviter le surajustement en entraînant un modèle de **régression régularisé**"
   ]
  },
  {
   "cell_type": "markdown",
   "id": "1e65ae77",
   "metadata": {},
   "source": [
    "### Features\n",
    "\n",
    "**`Store`** - Numéro du magasin</br>\n",
    "**`Date`**  - Semaine des ventes</br>\n",
    "**`Weekly_Sales`**  - Ventes pour le magasin donné</br>\n",
    "**`Holiday_Flag`**  - Si la semaine est spéciale(jour férié) :  week 1 – semaine spécial / week 0 – semaine de non-spécial</br>\n",
    "**`Temperature`**  - Température le jour de la vente</br>\n",
    "**`Fuel_Price`**  - Coût de carburant dans la région</br>\n",
    "**`CPI`**  – Indice des prix à la consommation</br>\n",
    "**`Unemployment`**  - Taux de chômage</br>\n",
    "\n",
    "**Jours fériés** : </br>\n",
    "**Super Bowl**: 12-Feb-10, 11-Feb-11, 10-Feb-12, 8-Feb-13</br>\n",
    "**Labour Day**: 10-Sep-10, 9-Sep-11, 7-Sep-12, 6-Sep-13</br>\n",
    "**Thanksgiving**: 26-Nov-10, 25-Nov-11, 23-Nov-12, 29-Nov-13</br>\n",
    "**Christmas**: 31-Dec-10, 30-Dec-11, 28-Dec-12, 27-Dec-13"
   ]
  },
  {
   "cell_type": "markdown",
   "id": "7b9f7bd5",
   "metadata": {},
   "source": [
    "# Partie 1 : EDA"
   ]
  },
  {
   "cell_type": "code",
   "execution_count": 2,
   "id": "b980a2d2",
   "metadata": {},
   "outputs": [],
   "source": [
    "f = r'C:\\Users\\david\\JEDHA BOOTCAMP\\FULLSTACK\\10_PROJECT\\Walmart'\n",
    "data_dir = Path(f)\n",
    "paths = list((data_dir).glob('*.csv'))"
   ]
  },
  {
   "cell_type": "code",
   "execution_count": 24,
   "id": "62250371",
   "metadata": {},
   "outputs": [
    {
     "data": {
      "text/plain": [
       "[WindowsPath('C:/Users/david/JEDHA BOOTCAMP/FULLSTACK/10_PROJECT/Walmart/conversion_data_test.csv'),\n",
       " WindowsPath('C:/Users/david/JEDHA BOOTCAMP/FULLSTACK/10_PROJECT/Walmart/conversion_data_train.csv'),\n",
       " WindowsPath('C:/Users/david/JEDHA BOOTCAMP/FULLSTACK/10_PROJECT/Walmart/Walmart_Store_sales.csv')]"
      ]
     },
     "execution_count": 24,
     "metadata": {},
     "output_type": "execute_result"
    }
   ],
   "source": [
    "paths"
   ]
  },
  {
   "cell_type": "code",
   "execution_count": 3,
   "id": "dc35ad96",
   "metadata": {},
   "outputs": [],
   "source": [
    "conversion_train = pd.read_csv('conversion_data_test.csv')\n",
    "conversion_test = pd.read_csv('conversion_data_test.csv')\n",
    "walmart_sales = pd.read_csv('Walmart_Store_sales.csv')"
   ]
  },
  {
   "cell_type": "code",
   "execution_count": 4,
   "id": "e3a48351",
   "metadata": {},
   "outputs": [
    {
     "data": {
      "text/html": [
       "<div>\n",
       "<style scoped>\n",
       "    .dataframe tbody tr th:only-of-type {\n",
       "        vertical-align: middle;\n",
       "    }\n",
       "\n",
       "    .dataframe tbody tr th {\n",
       "        vertical-align: top;\n",
       "    }\n",
       "\n",
       "    .dataframe thead th {\n",
       "        text-align: right;\n",
       "    }\n",
       "</style>\n",
       "<table border=\"1\" class=\"dataframe\">\n",
       "  <thead>\n",
       "    <tr style=\"text-align: right;\">\n",
       "      <th></th>\n",
       "      <th>Store</th>\n",
       "      <th>Date</th>\n",
       "      <th>Weekly_Sales</th>\n",
       "      <th>Holiday_Flag</th>\n",
       "      <th>Temperature</th>\n",
       "      <th>Fuel_Price</th>\n",
       "      <th>CPI</th>\n",
       "      <th>Unemployment</th>\n",
       "    </tr>\n",
       "  </thead>\n",
       "  <tbody>\n",
       "    <tr>\n",
       "      <th>0</th>\n",
       "      <td>6.0</td>\n",
       "      <td>18-02-2011</td>\n",
       "      <td>1572117.54</td>\n",
       "      <td>NaN</td>\n",
       "      <td>59.61</td>\n",
       "      <td>3.045</td>\n",
       "      <td>214.777523</td>\n",
       "      <td>6.858</td>\n",
       "    </tr>\n",
       "    <tr>\n",
       "      <th>1</th>\n",
       "      <td>13.0</td>\n",
       "      <td>25-03-2011</td>\n",
       "      <td>1807545.43</td>\n",
       "      <td>0.0</td>\n",
       "      <td>42.38</td>\n",
       "      <td>3.435</td>\n",
       "      <td>128.616064</td>\n",
       "      <td>7.470</td>\n",
       "    </tr>\n",
       "    <tr>\n",
       "      <th>2</th>\n",
       "      <td>17.0</td>\n",
       "      <td>27-07-2012</td>\n",
       "      <td>NaN</td>\n",
       "      <td>0.0</td>\n",
       "      <td>NaN</td>\n",
       "      <td>NaN</td>\n",
       "      <td>130.719581</td>\n",
       "      <td>5.936</td>\n",
       "    </tr>\n",
       "    <tr>\n",
       "      <th>3</th>\n",
       "      <td>11.0</td>\n",
       "      <td>NaN</td>\n",
       "      <td>1244390.03</td>\n",
       "      <td>0.0</td>\n",
       "      <td>84.57</td>\n",
       "      <td>NaN</td>\n",
       "      <td>214.556497</td>\n",
       "      <td>7.346</td>\n",
       "    </tr>\n",
       "    <tr>\n",
       "      <th>4</th>\n",
       "      <td>6.0</td>\n",
       "      <td>28-05-2010</td>\n",
       "      <td>1644470.66</td>\n",
       "      <td>0.0</td>\n",
       "      <td>78.89</td>\n",
       "      <td>2.759</td>\n",
       "      <td>212.412888</td>\n",
       "      <td>7.092</td>\n",
       "    </tr>\n",
       "  </tbody>\n",
       "</table>\n",
       "</div>"
      ],
      "text/plain": [
       "   Store        Date  Weekly_Sales  Holiday_Flag  Temperature  Fuel_Price  \\\n",
       "0    6.0  18-02-2011    1572117.54           NaN        59.61       3.045   \n",
       "1   13.0  25-03-2011    1807545.43           0.0        42.38       3.435   \n",
       "2   17.0  27-07-2012           NaN           0.0          NaN         NaN   \n",
       "3   11.0         NaN    1244390.03           0.0        84.57         NaN   \n",
       "4    6.0  28-05-2010    1644470.66           0.0        78.89       2.759   \n",
       "\n",
       "          CPI  Unemployment  \n",
       "0  214.777523         6.858  \n",
       "1  128.616064         7.470  \n",
       "2  130.719581         5.936  \n",
       "3  214.556497         7.346  \n",
       "4  212.412888         7.092  "
      ]
     },
     "execution_count": 4,
     "metadata": {},
     "output_type": "execute_result"
    }
   ],
   "source": [
    "walmart_sales.head()"
   ]
  },
  {
   "cell_type": "code",
   "execution_count": 5,
   "id": "509cfbd6",
   "metadata": {},
   "outputs": [
    {
     "data": {
      "text/plain": [
       "(150, 8)"
      ]
     },
     "execution_count": 5,
     "metadata": {},
     "output_type": "execute_result"
    }
   ],
   "source": [
    "walmart_sales.shape"
   ]
  },
  {
   "cell_type": "markdown",
   "id": "603fe221",
   "metadata": {},
   "source": [
    "Il y a très peu de lignes : ce dataset regroupe les ventes hebdomadaires des magasins Walmart"
   ]
  },
  {
   "cell_type": "code",
   "execution_count": 6,
   "id": "4adedad2",
   "metadata": {},
   "outputs": [
    {
     "data": {
      "text/plain": [
       "Store           0.000000\n",
       "Date            0.120000\n",
       "Weekly_Sales    0.093333\n",
       "Holiday_Flag    0.080000\n",
       "Temperature     0.120000\n",
       "Fuel_Price      0.093333\n",
       "CPI             0.080000\n",
       "Unemployment    0.100000\n",
       "dtype: float64"
      ]
     },
     "execution_count": 6,
     "metadata": {},
     "output_type": "execute_result"
    }
   ],
   "source": [
    "walmart_sales.isna().sum() / walmart_sales.shape[0]"
   ]
  },
  {
   "cell_type": "code",
   "execution_count": 7,
   "id": "02a3941e",
   "metadata": {},
   "outputs": [
    {
     "data": {
      "text/plain": [
       "<AxesSubplot:>"
      ]
     },
     "execution_count": 7,
     "metadata": {},
     "output_type": "execute_result"
    },
    {
     "data": {
      "image/png": "[encoded data removed]",
      "text/plain": [
       "<Figure size 2000x1200 with 2 Axes>"
      ]
     },
     "metadata": {},
     "output_type": "display_data"
    }
   ],
   "source": [
    "plt.figure(figsize=(20,12))\n",
    "sns.heatmap(walmart_sales.isna())"
   ]
  },
  {
   "cell_type": "markdown",
   "id": "f2adf0f3",
   "metadata": {},
   "source": [
    "les données manquantes sont assez dispersées dans le dataset"
   ]
  },
  {
   "cell_type": "code",
   "execution_count": 8,
   "id": "991427c6",
   "metadata": {},
   "outputs": [
    {
     "name": "stdout",
     "output_type": "stream",
     "text": [
      "<class 'pandas.core.frame.DataFrame'>\n",
      "RangeIndex: 150 entries, 0 to 149\n",
      "Data columns (total 8 columns):\n",
      " #   Column        Non-Null Count  Dtype  \n",
      "---  ------        --------------  -----  \n",
      " 0   Store         150 non-null    float64\n",
      " 1   Date          132 non-null    object \n",
      " 2   Weekly_Sales  136 non-null    float64\n",
      " 3   Holiday_Flag  138 non-null    float64\n",
      " 4   Temperature   132 non-null    float64\n",
      " 5   Fuel_Price    136 non-null    float64\n",
      " 6   CPI           138 non-null    float64\n",
      " 7   Unemployment  135 non-null    float64\n",
      "dtypes: float64(7), object(1)\n",
      "memory usage: 9.5+ KB\n"
     ]
    }
   ],
   "source": [
    "df = walmart_sales.copy()\n",
    "df.info()"
   ]
  },
  {
   "cell_type": "markdown",
   "id": "342e4461",
   "metadata": {},
   "source": [
    "Il n'y a que des valeurs numériques sauf la colonne **`Date`**"
   ]
  },
  {
   "cell_type": "markdown",
   "id": "328cf5e6",
   "metadata": {},
   "source": [
    "## Observation sommaire du dataset"
   ]
  },
  {
   "cell_type": "code",
   "execution_count": 9,
   "id": "b4db9428",
   "metadata": {},
   "outputs": [
    {
     "data": {
      "text/html": [
       "<div>\n",
       "<style scoped>\n",
       "    .dataframe tbody tr th:only-of-type {\n",
       "        vertical-align: middle;\n",
       "    }\n",
       "\n",
       "    .dataframe tbody tr th {\n",
       "        vertical-align: top;\n",
       "    }\n",
       "\n",
       "    .dataframe thead th {\n",
       "        text-align: right;\n",
       "    }\n",
       "</style>\n",
       "<table border=\"1\" class=\"dataframe\">\n",
       "  <thead>\n",
       "    <tr style=\"text-align: right;\">\n",
       "      <th></th>\n",
       "      <th>Store</th>\n",
       "      <th>Date</th>\n",
       "      <th>Weekly_Sales</th>\n",
       "      <th>Holiday_Flag</th>\n",
       "      <th>Temperature</th>\n",
       "      <th>Fuel_Price</th>\n",
       "      <th>CPI</th>\n",
       "      <th>Unemployment</th>\n",
       "    </tr>\n",
       "  </thead>\n",
       "  <tbody>\n",
       "    <tr>\n",
       "      <th>count</th>\n",
       "      <td>150.000000</td>\n",
       "      <td>132</td>\n",
       "      <td>1.360000e+02</td>\n",
       "      <td>138.000000</td>\n",
       "      <td>132.000000</td>\n",
       "      <td>136.000000</td>\n",
       "      <td>138.000000</td>\n",
       "      <td>135.000000</td>\n",
       "    </tr>\n",
       "    <tr>\n",
       "      <th>unique</th>\n",
       "      <td>NaN</td>\n",
       "      <td>85</td>\n",
       "      <td>NaN</td>\n",
       "      <td>NaN</td>\n",
       "      <td>NaN</td>\n",
       "      <td>NaN</td>\n",
       "      <td>NaN</td>\n",
       "      <td>NaN</td>\n",
       "    </tr>\n",
       "    <tr>\n",
       "      <th>top</th>\n",
       "      <td>NaN</td>\n",
       "      <td>19-10-2012</td>\n",
       "      <td>NaN</td>\n",
       "      <td>NaN</td>\n",
       "      <td>NaN</td>\n",
       "      <td>NaN</td>\n",
       "      <td>NaN</td>\n",
       "      <td>NaN</td>\n",
       "    </tr>\n",
       "    <tr>\n",
       "      <th>freq</th>\n",
       "      <td>NaN</td>\n",
       "      <td>4</td>\n",
       "      <td>NaN</td>\n",
       "      <td>NaN</td>\n",
       "      <td>NaN</td>\n",
       "      <td>NaN</td>\n",
       "      <td>NaN</td>\n",
       "      <td>NaN</td>\n",
       "    </tr>\n",
       "    <tr>\n",
       "      <th>mean</th>\n",
       "      <td>9.866667</td>\n",
       "      <td>NaN</td>\n",
       "      <td>1.249536e+06</td>\n",
       "      <td>0.079710</td>\n",
       "      <td>61.398106</td>\n",
       "      <td>3.320853</td>\n",
       "      <td>179.898509</td>\n",
       "      <td>7.598430</td>\n",
       "    </tr>\n",
       "    <tr>\n",
       "      <th>std</th>\n",
       "      <td>6.231191</td>\n",
       "      <td>NaN</td>\n",
       "      <td>6.474630e+05</td>\n",
       "      <td>0.271831</td>\n",
       "      <td>18.378901</td>\n",
       "      <td>0.478149</td>\n",
       "      <td>40.274956</td>\n",
       "      <td>1.577173</td>\n",
       "    </tr>\n",
       "    <tr>\n",
       "      <th>min</th>\n",
       "      <td>1.000000</td>\n",
       "      <td>NaN</td>\n",
       "      <td>2.689290e+05</td>\n",
       "      <td>0.000000</td>\n",
       "      <td>18.790000</td>\n",
       "      <td>2.514000</td>\n",
       "      <td>126.111903</td>\n",
       "      <td>5.143000</td>\n",
       "    </tr>\n",
       "    <tr>\n",
       "      <th>25%</th>\n",
       "      <td>4.000000</td>\n",
       "      <td>NaN</td>\n",
       "      <td>6.050757e+05</td>\n",
       "      <td>0.000000</td>\n",
       "      <td>45.587500</td>\n",
       "      <td>2.852250</td>\n",
       "      <td>131.970831</td>\n",
       "      <td>6.597500</td>\n",
       "    </tr>\n",
       "    <tr>\n",
       "      <th>50%</th>\n",
       "      <td>9.000000</td>\n",
       "      <td>NaN</td>\n",
       "      <td>1.261424e+06</td>\n",
       "      <td>0.000000</td>\n",
       "      <td>62.985000</td>\n",
       "      <td>3.451000</td>\n",
       "      <td>197.908893</td>\n",
       "      <td>7.470000</td>\n",
       "    </tr>\n",
       "    <tr>\n",
       "      <th>75%</th>\n",
       "      <td>15.750000</td>\n",
       "      <td>NaN</td>\n",
       "      <td>1.806386e+06</td>\n",
       "      <td>0.000000</td>\n",
       "      <td>76.345000</td>\n",
       "      <td>3.706250</td>\n",
       "      <td>214.934616</td>\n",
       "      <td>8.150000</td>\n",
       "    </tr>\n",
       "    <tr>\n",
       "      <th>max</th>\n",
       "      <td>20.000000</td>\n",
       "      <td>NaN</td>\n",
       "      <td>2.771397e+06</td>\n",
       "      <td>1.000000</td>\n",
       "      <td>91.650000</td>\n",
       "      <td>4.193000</td>\n",
       "      <td>226.968844</td>\n",
       "      <td>14.313000</td>\n",
       "    </tr>\n",
       "  </tbody>\n",
       "</table>\n",
       "</div>"
      ],
      "text/plain": [
       "             Store        Date  Weekly_Sales  Holiday_Flag  Temperature  \\\n",
       "count   150.000000         132  1.360000e+02    138.000000   132.000000   \n",
       "unique         NaN          85           NaN           NaN          NaN   \n",
       "top            NaN  19-10-2012           NaN           NaN          NaN   \n",
       "freq           NaN           4           NaN           NaN          NaN   \n",
       "mean      9.866667         NaN  1.249536e+06      0.079710    61.398106   \n",
       "std       6.231191         NaN  6.474630e+05      0.271831    18.378901   \n",
       "min       1.000000         NaN  2.689290e+05      0.000000    18.790000   \n",
       "25%       4.000000         NaN  6.050757e+05      0.000000    45.587500   \n",
       "50%       9.000000         NaN  1.261424e+06      0.000000    62.985000   \n",
       "75%      15.750000         NaN  1.806386e+06      0.000000    76.345000   \n",
       "max      20.000000         NaN  2.771397e+06      1.000000    91.650000   \n",
       "\n",
       "        Fuel_Price         CPI  Unemployment  \n",
       "count   136.000000  138.000000    135.000000  \n",
       "unique         NaN         NaN           NaN  \n",
       "top            NaN         NaN           NaN  \n",
       "freq           NaN         NaN           NaN  \n",
       "mean      3.320853  179.898509      7.598430  \n",
       "std       0.478149   40.274956      1.577173  \n",
       "min       2.514000  126.111903      5.143000  \n",
       "25%       2.852250  131.970831      6.597500  \n",
       "50%       3.451000  197.908893      7.470000  \n",
       "75%       3.706250  214.934616      8.150000  \n",
       "max       4.193000  226.968844     14.313000  "
      ]
     },
     "execution_count": 9,
     "metadata": {},
     "output_type": "execute_result"
    }
   ],
   "source": [
    "df.describe(include='all')"
   ]
  },
  {
   "cell_type": "code",
   "execution_count": 32,
   "id": "b94a1f2f",
   "metadata": {
    "scrolled": false
   },
   "outputs": [
    {
     "data": {
      "text/plain": [
       "<Figure size 432x288 with 0 Axes>"
      ]
     },
     "metadata": {},
     "output_type": "display_data"
    },
    {
     "data": {
      "image/png": "[encoded data removed]",
      "text/plain": [
       "<Figure size 360x360 with 1 Axes>"
      ]
     },
     "metadata": {
      "needs_background": "light"
     },
     "output_type": "display_data"
    },
    {
     "data": {
      "text/plain": [
       "<Figure size 432x288 with 0 Axes>"
      ]
     },
     "metadata": {},
     "output_type": "display_data"
    },
    {
     "data": {
      "image/png": "[encoded data removed]",
      "text/plain": [
       "<Figure size 360x360 with 1 Axes>"
      ]
     },
     "metadata": {
      "needs_background": "light"
     },
     "output_type": "display_data"
    },
    {
     "data": {
      "text/plain": [
       "<Figure size 432x288 with 0 Axes>"
      ]
     },
     "metadata": {},
     "output_type": "display_data"
    },
    {
     "data": {
      "image/png": "[encoded data removed]",
      "text/plain": [
       "<Figure size 360x360 with 1 Axes>"
      ]
     },
     "metadata": {
      "needs_background": "light"
     },
     "output_type": "display_data"
    },
    {
     "data": {
      "text/plain": [
       "<Figure size 432x288 with 0 Axes>"
      ]
     },
     "metadata": {},
     "output_type": "display_data"
    },
    {
     "data": {
      "image/png": "[encoded data removed]",
      "text/plain": [
       "<Figure size 360x360 with 1 Axes>"
      ]
     },
     "metadata": {
      "needs_background": "light"
     },
     "output_type": "display_data"
    },
    {
     "data": {
      "text/plain": [
       "<Figure size 432x288 with 0 Axes>"
      ]
     },
     "metadata": {},
     "output_type": "display_data"
    },
    {
     "data": {
      "image/png": "[encoded data removed]",
      "text/plain": [
       "<Figure size 360x360 with 1 Axes>"
      ]
     },
     "metadata": {
      "needs_background": "light"
     },
     "output_type": "display_data"
    },
    {
     "data": {
      "text/plain": [
       "<Figure size 432x288 with 0 Axes>"
      ]
     },
     "metadata": {},
     "output_type": "display_data"
    },
    {
     "data": {
      "image/png": "[encoded data removed]",
      "text/plain": [
       "<Figure size 360x360 with 1 Axes>"
      ]
     },
     "metadata": {
      "needs_background": "light"
     },
     "output_type": "display_data"
    },
    {
     "data": {
      "text/plain": [
       "<Figure size 432x288 with 0 Axes>"
      ]
     },
     "metadata": {},
     "output_type": "display_data"
    },
    {
     "data": {
      "image/png": "[encoded data removed]",
      "text/plain": [
       "<Figure size 360x360 with 1 Axes>"
      ]
     },
     "metadata": {
      "needs_background": "light"
     },
     "output_type": "display_data"
    }
   ],
   "source": [
    "for col in df.columns:\n",
    "    if col != 'Date':\n",
    "        plt.figure()\n",
    "        sns.displot(df[col], kde=True);"
   ]
  },
  {
   "cell_type": "markdown",
   "id": "3e062a33",
   "metadata": {},
   "source": [
    "**`Weekly_Sales`** : Le montant des ventes est assez homogène : Il y a plus de petites ventes que de grosses mais la distribution reste uniforme avec quelques variations\n",
    "    \n",
    "**`Holiday_Flag`** : on observe une très grande majorité de semaine de non-vacances \n",
    "\n",
    "**`Temperature`** : la plage de temperature est assez uniforme avec un peu plus de temperature élevée que très basse\n",
    "\n",
    "**`Fuel_Price`** : De même, nous observons une homogénité dans les données avec quelques pics à 2.85 et 3.65\n",
    "\n",
    "**`CPI`** : Indice des prix à la consommation est soit très faible, soit très élevé : \n"
   ]
  },
  {
   "cell_type": "code",
   "execution_count": 10,
   "id": "9b909e47",
   "metadata": {},
   "outputs": [
    {
     "data": {
      "text/plain": [
       "14"
      ]
     },
     "execution_count": 10,
     "metadata": {},
     "output_type": "execute_result"
    }
   ],
   "source": [
    "df['Weekly_Sales'].isna().sum()"
   ]
  },
  {
   "cell_type": "markdown",
   "id": "91bfb6ca",
   "metadata": {},
   "source": [
    "Il y a 14 lignes qui comportent des valeurs manquantes pour la colonne **`Weekly_Sales`** : nous allons supprimer ces lignes"
   ]
  },
  {
   "cell_type": "code",
   "execution_count": 11,
   "id": "b5aefa98",
   "metadata": {},
   "outputs": [
    {
     "data": {
      "text/html": [
       "<div>\n",
       "<style scoped>\n",
       "    .dataframe tbody tr th:only-of-type {\n",
       "        vertical-align: middle;\n",
       "    }\n",
       "\n",
       "    .dataframe tbody tr th {\n",
       "        vertical-align: top;\n",
       "    }\n",
       "\n",
       "    .dataframe thead th {\n",
       "        text-align: right;\n",
       "    }\n",
       "</style>\n",
       "<table border=\"1\" class=\"dataframe\">\n",
       "  <thead>\n",
       "    <tr style=\"text-align: right;\">\n",
       "      <th></th>\n",
       "      <th>Store</th>\n",
       "      <th>Date</th>\n",
       "      <th>Weekly_Sales</th>\n",
       "      <th>Holiday_Flag</th>\n",
       "      <th>Temperature</th>\n",
       "      <th>Fuel_Price</th>\n",
       "      <th>CPI</th>\n",
       "      <th>Unemployment</th>\n",
       "    </tr>\n",
       "  </thead>\n",
       "  <tbody>\n",
       "    <tr>\n",
       "      <th>2</th>\n",
       "      <td>17.0</td>\n",
       "      <td>27-07-2012</td>\n",
       "      <td>NaN</td>\n",
       "      <td>0.0</td>\n",
       "      <td>NaN</td>\n",
       "      <td>NaN</td>\n",
       "      <td>130.719581</td>\n",
       "      <td>5.936</td>\n",
       "    </tr>\n",
       "    <tr>\n",
       "      <th>19</th>\n",
       "      <td>3.0</td>\n",
       "      <td>18-05-2012</td>\n",
       "      <td>NaN</td>\n",
       "      <td>0.0</td>\n",
       "      <td>72.38</td>\n",
       "      <td>3.630</td>\n",
       "      <td>225.251202</td>\n",
       "      <td>6.664</td>\n",
       "    </tr>\n",
       "    <tr>\n",
       "      <th>31</th>\n",
       "      <td>5.0</td>\n",
       "      <td>30-12-2011</td>\n",
       "      <td>NaN</td>\n",
       "      <td>1.0</td>\n",
       "      <td>NaN</td>\n",
       "      <td>3.129</td>\n",
       "      <td>220.117823</td>\n",
       "      <td>6.300</td>\n",
       "    </tr>\n",
       "    <tr>\n",
       "      <th>57</th>\n",
       "      <td>4.0</td>\n",
       "      <td>07-01-2011</td>\n",
       "      <td>NaN</td>\n",
       "      <td>0.0</td>\n",
       "      <td>NaN</td>\n",
       "      <td>2.980</td>\n",
       "      <td>127.191774</td>\n",
       "      <td>6.510</td>\n",
       "    </tr>\n",
       "    <tr>\n",
       "      <th>69</th>\n",
       "      <td>20.0</td>\n",
       "      <td>26-03-2010</td>\n",
       "      <td>NaN</td>\n",
       "      <td>0.0</td>\n",
       "      <td>50.49</td>\n",
       "      <td>2.854</td>\n",
       "      <td>204.201755</td>\n",
       "      <td>8.187</td>\n",
       "    </tr>\n",
       "    <tr>\n",
       "      <th>71</th>\n",
       "      <td>20.0</td>\n",
       "      <td>07-09-2012</td>\n",
       "      <td>NaN</td>\n",
       "      <td>1.0</td>\n",
       "      <td>76.36</td>\n",
       "      <td>3.911</td>\n",
       "      <td>215.218957</td>\n",
       "      <td>NaN</td>\n",
       "    </tr>\n",
       "    <tr>\n",
       "      <th>77</th>\n",
       "      <td>3.0</td>\n",
       "      <td>29-07-2011</td>\n",
       "      <td>NaN</td>\n",
       "      <td>0.0</td>\n",
       "      <td>88.07</td>\n",
       "      <td>3.682</td>\n",
       "      <td>NaN</td>\n",
       "      <td>7.567</td>\n",
       "    </tr>\n",
       "    <tr>\n",
       "      <th>84</th>\n",
       "      <td>8.0</td>\n",
       "      <td>03-09-2010</td>\n",
       "      <td>NaN</td>\n",
       "      <td>0.0</td>\n",
       "      <td>76.14</td>\n",
       "      <td>2.577</td>\n",
       "      <td>214.894576</td>\n",
       "      <td>6.315</td>\n",
       "    </tr>\n",
       "    <tr>\n",
       "      <th>109</th>\n",
       "      <td>1.0</td>\n",
       "      <td>09-12-2011</td>\n",
       "      <td>NaN</td>\n",
       "      <td>NaN</td>\n",
       "      <td>43.93</td>\n",
       "      <td>3.158</td>\n",
       "      <td>218.961846</td>\n",
       "      <td>7.866</td>\n",
       "    </tr>\n",
       "    <tr>\n",
       "      <th>117</th>\n",
       "      <td>19.0</td>\n",
       "      <td>13-04-2012</td>\n",
       "      <td>NaN</td>\n",
       "      <td>0.0</td>\n",
       "      <td>44.42</td>\n",
       "      <td>4.187</td>\n",
       "      <td>137.868000</td>\n",
       "      <td>8.150</td>\n",
       "    </tr>\n",
       "    <tr>\n",
       "      <th>126</th>\n",
       "      <td>8.0</td>\n",
       "      <td>22-07-2011</td>\n",
       "      <td>NaN</td>\n",
       "      <td>0.0</td>\n",
       "      <td>85.46</td>\n",
       "      <td>3.651</td>\n",
       "      <td>218.832848</td>\n",
       "      <td>6.425</td>\n",
       "    </tr>\n",
       "    <tr>\n",
       "      <th>133</th>\n",
       "      <td>1.0</td>\n",
       "      <td>24-09-2010</td>\n",
       "      <td>NaN</td>\n",
       "      <td>0.0</td>\n",
       "      <td>80.94</td>\n",
       "      <td>NaN</td>\n",
       "      <td>211.597225</td>\n",
       "      <td>7.787</td>\n",
       "    </tr>\n",
       "    <tr>\n",
       "      <th>134</th>\n",
       "      <td>6.0</td>\n",
       "      <td>19-10-2012</td>\n",
       "      <td>NaN</td>\n",
       "      <td>0.0</td>\n",
       "      <td>69.68</td>\n",
       "      <td>3.594</td>\n",
       "      <td>225.050101</td>\n",
       "      <td>5.329</td>\n",
       "    </tr>\n",
       "    <tr>\n",
       "      <th>140</th>\n",
       "      <td>3.0</td>\n",
       "      <td>07-01-2011</td>\n",
       "      <td>NaN</td>\n",
       "      <td>0.0</td>\n",
       "      <td>53.35</td>\n",
       "      <td>2.976</td>\n",
       "      <td>214.695510</td>\n",
       "      <td>7.551</td>\n",
       "    </tr>\n",
       "  </tbody>\n",
       "</table>\n",
       "</div>"
      ],
      "text/plain": [
       "     Store        Date  Weekly_Sales  Holiday_Flag  Temperature  Fuel_Price  \\\n",
       "2     17.0  27-07-2012           NaN           0.0          NaN         NaN   \n",
       "19     3.0  18-05-2012           NaN           0.0        72.38       3.630   \n",
       "31     5.0  30-12-2011           NaN           1.0          NaN       3.129   \n",
       "57     4.0  07-01-2011           NaN           0.0          NaN       2.980   \n",
       "69    20.0  26-03-2010           NaN           0.0        50.49       2.854   \n",
       "71    20.0  07-09-2012           NaN           1.0        76.36       3.911   \n",
       "77     3.0  29-07-2011           NaN           0.0        88.07       3.682   \n",
       "84     8.0  03-09-2010           NaN           0.0        76.14       2.577   \n",
       "109    1.0  09-12-2011           NaN           NaN        43.93       3.158   \n",
       "117   19.0  13-04-2012           NaN           0.0        44.42       4.187   \n",
       "126    8.0  22-07-2011           NaN           0.0        85.46       3.651   \n",
       "133    1.0  24-09-2010           NaN           0.0        80.94         NaN   \n",
       "134    6.0  19-10-2012           NaN           0.0        69.68       3.594   \n",
       "140    3.0  07-01-2011           NaN           0.0        53.35       2.976   \n",
       "\n",
       "            CPI  Unemployment  \n",
       "2    130.719581         5.936  \n",
       "19   225.251202         6.664  \n",
       "31   220.117823         6.300  \n",
       "57   127.191774         6.510  \n",
       "69   204.201755         8.187  \n",
       "71   215.218957           NaN  \n",
       "77          NaN         7.567  \n",
       "84   214.894576         6.315  \n",
       "109  218.961846         7.866  \n",
       "117  137.868000         8.150  \n",
       "126  218.832848         6.425  \n",
       "133  211.597225         7.787  \n",
       "134  225.050101         5.329  \n",
       "140  214.695510         7.551  "
      ]
     },
     "execution_count": 11,
     "metadata": {},
     "output_type": "execute_result"
    }
   ],
   "source": [
    "df[df['Weekly_Sales'].isna()]"
   ]
  },
  {
   "cell_type": "code",
   "execution_count": 12,
   "id": "7331f09b",
   "metadata": {},
   "outputs": [],
   "source": [
    "df = df[~df['Weekly_Sales'].isna()]"
   ]
  },
  {
   "cell_type": "markdown",
   "id": "2dfcf8a9",
   "metadata": {},
   "source": [
    "## Feature Engineering"
   ]
  },
  {
   "cell_type": "markdown",
   "id": "c7975688",
   "metadata": {},
   "source": [
    "Nous allons transformer la colonne **`Date`** en datetime puis créer des sous-catégories de date : **`year`**, **`month`**, **`day`**, **`weekday`** : avant de le faire, nous devons prendre une décision pour les dates manquantes : soit nous faisons une interpolation, soit nous les supprimons (sachant qu'il y a 12% de valeurs manquantes avec peu de lignes dans le dataframe)\n",
    "\n",
    "Si nous faisons une interpolation, nous allons fausser des résultats car une date peut influencer le montant des ventes (nous le verrons plus tard avec la matrice de corrélation)\n",
    "\n",
    "Je décide donc, pour l'instant, de supprimer les valeurs manquantes de la colonne **`Date`**"
   ]
  },
  {
   "cell_type": "code",
   "execution_count": 13,
   "id": "e91c0921",
   "metadata": {},
   "outputs": [],
   "source": [
    "df = df[~df['Date'].isnull()]"
   ]
  },
  {
   "cell_type": "code",
   "execution_count": 14,
   "id": "25ce538c",
   "metadata": {},
   "outputs": [],
   "source": [
    "df.Date = pd.to_datetime(df.Date, infer_datetime_format=True)\n",
    "\n",
    "df['year'] = df.Date.dt.year\n",
    "df['month'] = df.Date.dt.month\n",
    "df['day'] = df.Date.dt.day\n",
    "df['weekday'] = df.Date.dt.weekday"
   ]
  },
  {
   "cell_type": "code",
   "execution_count": 15,
   "id": "90c4ad83",
   "metadata": {},
   "outputs": [
    {
     "data": {
      "text/html": [
       "<div>\n",
       "<style scoped>\n",
       "    .dataframe tbody tr th:only-of-type {\n",
       "        vertical-align: middle;\n",
       "    }\n",
       "\n",
       "    .dataframe tbody tr th {\n",
       "        vertical-align: top;\n",
       "    }\n",
       "\n",
       "    .dataframe thead th {\n",
       "        text-align: right;\n",
       "    }\n",
       "</style>\n",
       "<table border=\"1\" class=\"dataframe\">\n",
       "  <thead>\n",
       "    <tr style=\"text-align: right;\">\n",
       "      <th></th>\n",
       "      <th>Store</th>\n",
       "      <th>Date</th>\n",
       "      <th>Weekly_Sales</th>\n",
       "      <th>Holiday_Flag</th>\n",
       "      <th>Temperature</th>\n",
       "      <th>Fuel_Price</th>\n",
       "      <th>CPI</th>\n",
       "      <th>Unemployment</th>\n",
       "      <th>year</th>\n",
       "      <th>month</th>\n",
       "      <th>day</th>\n",
       "      <th>weekday</th>\n",
       "    </tr>\n",
       "  </thead>\n",
       "  <tbody>\n",
       "    <tr>\n",
       "      <th>0</th>\n",
       "      <td>6.0</td>\n",
       "      <td>2011-02-18</td>\n",
       "      <td>1572117.54</td>\n",
       "      <td>NaN</td>\n",
       "      <td>59.61</td>\n",
       "      <td>3.045</td>\n",
       "      <td>214.777523</td>\n",
       "      <td>6.858</td>\n",
       "      <td>2011</td>\n",
       "      <td>2</td>\n",
       "      <td>18</td>\n",
       "      <td>4</td>\n",
       "    </tr>\n",
       "    <tr>\n",
       "      <th>1</th>\n",
       "      <td>13.0</td>\n",
       "      <td>2011-03-25</td>\n",
       "      <td>1807545.43</td>\n",
       "      <td>0.0</td>\n",
       "      <td>42.38</td>\n",
       "      <td>3.435</td>\n",
       "      <td>128.616064</td>\n",
       "      <td>7.470</td>\n",
       "      <td>2011</td>\n",
       "      <td>3</td>\n",
       "      <td>25</td>\n",
       "      <td>4</td>\n",
       "    </tr>\n",
       "    <tr>\n",
       "      <th>4</th>\n",
       "      <td>6.0</td>\n",
       "      <td>2010-05-28</td>\n",
       "      <td>1644470.66</td>\n",
       "      <td>0.0</td>\n",
       "      <td>78.89</td>\n",
       "      <td>2.759</td>\n",
       "      <td>212.412888</td>\n",
       "      <td>7.092</td>\n",
       "      <td>2010</td>\n",
       "      <td>5</td>\n",
       "      <td>28</td>\n",
       "      <td>4</td>\n",
       "    </tr>\n",
       "    <tr>\n",
       "      <th>5</th>\n",
       "      <td>4.0</td>\n",
       "      <td>2010-05-28</td>\n",
       "      <td>1857533.70</td>\n",
       "      <td>0.0</td>\n",
       "      <td>NaN</td>\n",
       "      <td>2.756</td>\n",
       "      <td>126.160226</td>\n",
       "      <td>7.896</td>\n",
       "      <td>2010</td>\n",
       "      <td>5</td>\n",
       "      <td>28</td>\n",
       "      <td>4</td>\n",
       "    </tr>\n",
       "    <tr>\n",
       "      <th>6</th>\n",
       "      <td>15.0</td>\n",
       "      <td>2011-06-03</td>\n",
       "      <td>695396.19</td>\n",
       "      <td>0.0</td>\n",
       "      <td>69.80</td>\n",
       "      <td>4.069</td>\n",
       "      <td>134.855161</td>\n",
       "      <td>7.658</td>\n",
       "      <td>2011</td>\n",
       "      <td>6</td>\n",
       "      <td>3</td>\n",
       "      <td>4</td>\n",
       "    </tr>\n",
       "    <tr>\n",
       "      <th>...</th>\n",
       "      <td>...</td>\n",
       "      <td>...</td>\n",
       "      <td>...</td>\n",
       "      <td>...</td>\n",
       "      <td>...</td>\n",
       "      <td>...</td>\n",
       "      <td>...</td>\n",
       "      <td>...</td>\n",
       "      <td>...</td>\n",
       "      <td>...</td>\n",
       "      <td>...</td>\n",
       "      <td>...</td>\n",
       "    </tr>\n",
       "    <tr>\n",
       "      <th>144</th>\n",
       "      <td>3.0</td>\n",
       "      <td>2012-10-19</td>\n",
       "      <td>424513.08</td>\n",
       "      <td>0.0</td>\n",
       "      <td>73.44</td>\n",
       "      <td>3.594</td>\n",
       "      <td>226.968844</td>\n",
       "      <td>6.034</td>\n",
       "      <td>2012</td>\n",
       "      <td>10</td>\n",
       "      <td>19</td>\n",
       "      <td>4</td>\n",
       "    </tr>\n",
       "    <tr>\n",
       "      <th>145</th>\n",
       "      <td>14.0</td>\n",
       "      <td>2010-06-18</td>\n",
       "      <td>2248645.59</td>\n",
       "      <td>0.0</td>\n",
       "      <td>72.62</td>\n",
       "      <td>2.780</td>\n",
       "      <td>182.442420</td>\n",
       "      <td>8.899</td>\n",
       "      <td>2010</td>\n",
       "      <td>6</td>\n",
       "      <td>18</td>\n",
       "      <td>4</td>\n",
       "    </tr>\n",
       "    <tr>\n",
       "      <th>147</th>\n",
       "      <td>17.0</td>\n",
       "      <td>2010-06-11</td>\n",
       "      <td>845252.21</td>\n",
       "      <td>0.0</td>\n",
       "      <td>57.14</td>\n",
       "      <td>2.841</td>\n",
       "      <td>126.111903</td>\n",
       "      <td>NaN</td>\n",
       "      <td>2010</td>\n",
       "      <td>6</td>\n",
       "      <td>11</td>\n",
       "      <td>4</td>\n",
       "    </tr>\n",
       "    <tr>\n",
       "      <th>148</th>\n",
       "      <td>8.0</td>\n",
       "      <td>2011-08-12</td>\n",
       "      <td>856796.10</td>\n",
       "      <td>0.0</td>\n",
       "      <td>86.05</td>\n",
       "      <td>3.638</td>\n",
       "      <td>219.007525</td>\n",
       "      <td>NaN</td>\n",
       "      <td>2011</td>\n",
       "      <td>8</td>\n",
       "      <td>12</td>\n",
       "      <td>4</td>\n",
       "    </tr>\n",
       "    <tr>\n",
       "      <th>149</th>\n",
       "      <td>19.0</td>\n",
       "      <td>2012-04-20</td>\n",
       "      <td>1255087.26</td>\n",
       "      <td>0.0</td>\n",
       "      <td>55.20</td>\n",
       "      <td>4.170</td>\n",
       "      <td>137.923067</td>\n",
       "      <td>8.150</td>\n",
       "      <td>2012</td>\n",
       "      <td>4</td>\n",
       "      <td>20</td>\n",
       "      <td>4</td>\n",
       "    </tr>\n",
       "  </tbody>\n",
       "</table>\n",
       "<p>118 rows × 12 columns</p>\n",
       "</div>"
      ],
      "text/plain": [
       "     Store       Date  Weekly_Sales  Holiday_Flag  Temperature  Fuel_Price  \\\n",
       "0      6.0 2011-02-18    1572117.54           NaN        59.61       3.045   \n",
       "1     13.0 2011-03-25    1807545.43           0.0        42.38       3.435   \n",
       "4      6.0 2010-05-28    1644470.66           0.0        78.89       2.759   \n",
       "5      4.0 2010-05-28    1857533.70           0.0          NaN       2.756   \n",
       "6     15.0 2011-06-03     695396.19           0.0        69.80       4.069   \n",
       "..     ...        ...           ...           ...          ...         ...   \n",
       "144    3.0 2012-10-19     424513.08           0.0        73.44       3.594   \n",
       "145   14.0 2010-06-18    2248645.59           0.0        72.62       2.780   \n",
       "147   17.0 2010-06-11     845252.21           0.0        57.14       2.841   \n",
       "148    8.0 2011-08-12     856796.10           0.0        86.05       3.638   \n",
       "149   19.0 2012-04-20    1255087.26           0.0        55.20       4.170   \n",
       "\n",
       "            CPI  Unemployment  year  month  day  weekday  \n",
       "0    214.777523         6.858  2011      2   18        4  \n",
       "1    128.616064         7.470  2011      3   25        4  \n",
       "4    212.412888         7.092  2010      5   28        4  \n",
       "5    126.160226         7.896  2010      5   28        4  \n",
       "6    134.855161         7.658  2011      6    3        4  \n",
       "..          ...           ...   ...    ...  ...      ...  \n",
       "144  226.968844         6.034  2012     10   19        4  \n",
       "145  182.442420         8.899  2010      6   18        4  \n",
       "147  126.111903           NaN  2010      6   11        4  \n",
       "148  219.007525           NaN  2011      8   12        4  \n",
       "149  137.923067         8.150  2012      4   20        4  \n",
       "\n",
       "[118 rows x 12 columns]"
      ]
     },
     "execution_count": 15,
     "metadata": {},
     "output_type": "execute_result"
    }
   ],
   "source": [
    "df"
   ]
  },
  {
   "cell_type": "code",
   "execution_count": 16,
   "id": "399811b1",
   "metadata": {},
   "outputs": [
    {
     "data": {
      "text/html": [
       "<div>\n",
       "<style scoped>\n",
       "    .dataframe tbody tr th:only-of-type {\n",
       "        vertical-align: middle;\n",
       "    }\n",
       "\n",
       "    .dataframe tbody tr th {\n",
       "        vertical-align: top;\n",
       "    }\n",
       "\n",
       "    .dataframe thead th {\n",
       "        text-align: right;\n",
       "    }\n",
       "</style>\n",
       "<table border=\"1\" class=\"dataframe\">\n",
       "  <thead>\n",
       "    <tr style=\"text-align: right;\">\n",
       "      <th></th>\n",
       "      <th>Store</th>\n",
       "      <th>Date</th>\n",
       "      <th>Weekly_Sales</th>\n",
       "      <th>Holiday_Flag</th>\n",
       "      <th>Temperature</th>\n",
       "      <th>Fuel_Price</th>\n",
       "      <th>CPI</th>\n",
       "      <th>Unemployment</th>\n",
       "      <th>year</th>\n",
       "      <th>month</th>\n",
       "      <th>day</th>\n",
       "      <th>weekday</th>\n",
       "    </tr>\n",
       "  </thead>\n",
       "  <tbody>\n",
       "    <tr>\n",
       "      <th>32</th>\n",
       "      <td>7.0</td>\n",
       "      <td>2012-02-10</td>\n",
       "      <td>563460.77</td>\n",
       "      <td>1.0</td>\n",
       "      <td>18.79</td>\n",
       "      <td>3.103</td>\n",
       "      <td>196.919506</td>\n",
       "      <td>8.256</td>\n",
       "      <td>2012</td>\n",
       "      <td>2</td>\n",
       "      <td>10</td>\n",
       "      <td>4</td>\n",
       "    </tr>\n",
       "    <tr>\n",
       "      <th>33</th>\n",
       "      <td>14.0</td>\n",
       "      <td>2012-02-10</td>\n",
       "      <td>2077256.24</td>\n",
       "      <td>1.0</td>\n",
       "      <td>37.00</td>\n",
       "      <td>NaN</td>\n",
       "      <td>NaN</td>\n",
       "      <td>8.424</td>\n",
       "      <td>2012</td>\n",
       "      <td>2</td>\n",
       "      <td>10</td>\n",
       "      <td>4</td>\n",
       "    </tr>\n",
       "    <tr>\n",
       "      <th>44</th>\n",
       "      <td>1.0</td>\n",
       "      <td>2010-02-12</td>\n",
       "      <td>1641957.44</td>\n",
       "      <td>1.0</td>\n",
       "      <td>38.51</td>\n",
       "      <td>2.548</td>\n",
       "      <td>211.242170</td>\n",
       "      <td>8.106</td>\n",
       "      <td>2010</td>\n",
       "      <td>2</td>\n",
       "      <td>12</td>\n",
       "      <td>4</td>\n",
       "    </tr>\n",
       "    <tr>\n",
       "      <th>107</th>\n",
       "      <td>8.0</td>\n",
       "      <td>2010-02-12</td>\n",
       "      <td>994801.40</td>\n",
       "      <td>1.0</td>\n",
       "      <td>33.34</td>\n",
       "      <td>2.548</td>\n",
       "      <td>214.621419</td>\n",
       "      <td>6.299</td>\n",
       "      <td>2010</td>\n",
       "      <td>2</td>\n",
       "      <td>12</td>\n",
       "      <td>4</td>\n",
       "    </tr>\n",
       "    <tr>\n",
       "      <th>110</th>\n",
       "      <td>20.0</td>\n",
       "      <td>2010-12-31</td>\n",
       "      <td>1799737.79</td>\n",
       "      <td>1.0</td>\n",
       "      <td>28.85</td>\n",
       "      <td>3.179</td>\n",
       "      <td>204.643227</td>\n",
       "      <td>7.484</td>\n",
       "      <td>2010</td>\n",
       "      <td>12</td>\n",
       "      <td>31</td>\n",
       "      <td>4</td>\n",
       "    </tr>\n",
       "    <tr>\n",
       "      <th>114</th>\n",
       "      <td>11.0</td>\n",
       "      <td>2010-11-26</td>\n",
       "      <td>1757242.51</td>\n",
       "      <td>1.0</td>\n",
       "      <td>69.90</td>\n",
       "      <td>2.735</td>\n",
       "      <td>215.061403</td>\n",
       "      <td>7.564</td>\n",
       "      <td>2010</td>\n",
       "      <td>11</td>\n",
       "      <td>26</td>\n",
       "      <td>4</td>\n",
       "    </tr>\n",
       "    <tr>\n",
       "      <th>122</th>\n",
       "      <td>7.0</td>\n",
       "      <td>2012-09-07</td>\n",
       "      <td>597876.55</td>\n",
       "      <td>1.0</td>\n",
       "      <td>57.84</td>\n",
       "      <td>3.596</td>\n",
       "      <td>198.095048</td>\n",
       "      <td>7.872</td>\n",
       "      <td>2012</td>\n",
       "      <td>9</td>\n",
       "      <td>7</td>\n",
       "      <td>4</td>\n",
       "    </tr>\n",
       "    <tr>\n",
       "      <th>135</th>\n",
       "      <td>12.0</td>\n",
       "      <td>2010-09-10</td>\n",
       "      <td>903119.03</td>\n",
       "      <td>1.0</td>\n",
       "      <td>83.63</td>\n",
       "      <td>3.044</td>\n",
       "      <td>126.114581</td>\n",
       "      <td>14.180</td>\n",
       "      <td>2010</td>\n",
       "      <td>9</td>\n",
       "      <td>10</td>\n",
       "      <td>4</td>\n",
       "    </tr>\n",
       "  </tbody>\n",
       "</table>\n",
       "</div>"
      ],
      "text/plain": [
       "     Store       Date  Weekly_Sales  Holiday_Flag  Temperature  Fuel_Price  \\\n",
       "32     7.0 2012-02-10     563460.77           1.0        18.79       3.103   \n",
       "33    14.0 2012-02-10    2077256.24           1.0        37.00         NaN   \n",
       "44     1.0 2010-02-12    1641957.44           1.0        38.51       2.548   \n",
       "107    8.0 2010-02-12     994801.40           1.0        33.34       2.548   \n",
       "110   20.0 2010-12-31    1799737.79           1.0        28.85       3.179   \n",
       "114   11.0 2010-11-26    1757242.51           1.0        69.90       2.735   \n",
       "122    7.0 2012-09-07     597876.55           1.0        57.84       3.596   \n",
       "135   12.0 2010-09-10     903119.03           1.0        83.63       3.044   \n",
       "\n",
       "            CPI  Unemployment  year  month  day  weekday  \n",
       "32   196.919506         8.256  2012      2   10        4  \n",
       "33          NaN         8.424  2012      2   10        4  \n",
       "44   211.242170         8.106  2010      2   12        4  \n",
       "107  214.621419         6.299  2010      2   12        4  \n",
       "110  204.643227         7.484  2010     12   31        4  \n",
       "114  215.061403         7.564  2010     11   26        4  \n",
       "122  198.095048         7.872  2012      9    7        4  \n",
       "135  126.114581        14.180  2010      9   10        4  "
      ]
     },
     "execution_count": 16,
     "metadata": {},
     "output_type": "execute_result"
    }
   ],
   "source": [
    "df[df['Holiday_Flag'] == 1]"
   ]
  },
  {
   "cell_type": "code",
   "execution_count": 17,
   "id": "0c1735b6",
   "metadata": {},
   "outputs": [
    {
     "data": {
      "text/plain": [
       "array([4], dtype=int64)"
      ]
     },
     "execution_count": 17,
     "metadata": {},
     "output_type": "execute_result"
    }
   ],
   "source": [
    "df['weekday'].unique()"
   ]
  },
  {
   "cell_type": "markdown",
   "id": "d8b413ea",
   "metadata": {},
   "source": [
    "Toutes les lignes représentent un jeudi"
   ]
  },
  {
   "cell_type": "code",
   "execution_count": 41,
   "id": "2fa7a4e9",
   "metadata": {},
   "outputs": [
    {
     "data": {
      "text/html": [
       "<div>\n",
       "<style scoped>\n",
       "    .dataframe tbody tr th:only-of-type {\n",
       "        vertical-align: middle;\n",
       "    }\n",
       "\n",
       "    .dataframe tbody tr th {\n",
       "        vertical-align: top;\n",
       "    }\n",
       "\n",
       "    .dataframe thead th {\n",
       "        text-align: right;\n",
       "    }\n",
       "</style>\n",
       "<table border=\"1\" class=\"dataframe\">\n",
       "  <thead>\n",
       "    <tr style=\"text-align: right;\">\n",
       "      <th></th>\n",
       "      <th>Store</th>\n",
       "      <th>Date</th>\n",
       "      <th>Weekly_Sales</th>\n",
       "      <th>Holiday_Flag</th>\n",
       "      <th>Temperature</th>\n",
       "      <th>Fuel_Price</th>\n",
       "      <th>CPI</th>\n",
       "      <th>Unemployment</th>\n",
       "      <th>year</th>\n",
       "      <th>month</th>\n",
       "      <th>day</th>\n",
       "      <th>weekday</th>\n",
       "    </tr>\n",
       "  </thead>\n",
       "  <tbody>\n",
       "    <tr>\n",
       "      <th>5</th>\n",
       "      <td>4.0</td>\n",
       "      <td>2010-05-28</td>\n",
       "      <td>1857533.70</td>\n",
       "      <td>0.0</td>\n",
       "      <td>NaN</td>\n",
       "      <td>2.756</td>\n",
       "      <td>126.160226</td>\n",
       "      <td>7.896</td>\n",
       "      <td>2010</td>\n",
       "      <td>5</td>\n",
       "      <td>28</td>\n",
       "      <td>4</td>\n",
       "    </tr>\n",
       "    <tr>\n",
       "      <th>29</th>\n",
       "      <td>6.0</td>\n",
       "      <td>2011-08-26</td>\n",
       "      <td>1420405.41</td>\n",
       "      <td>0.0</td>\n",
       "      <td>NaN</td>\n",
       "      <td>3.523</td>\n",
       "      <td>217.270654</td>\n",
       "      <td>6.925</td>\n",
       "      <td>2011</td>\n",
       "      <td>8</td>\n",
       "      <td>26</td>\n",
       "      <td>4</td>\n",
       "    </tr>\n",
       "    <tr>\n",
       "      <th>37</th>\n",
       "      <td>18.0</td>\n",
       "      <td>2011-04-15</td>\n",
       "      <td>988157.72</td>\n",
       "      <td>0.0</td>\n",
       "      <td>NaN</td>\n",
       "      <td>3.823</td>\n",
       "      <td>134.278467</td>\n",
       "      <td>8.975</td>\n",
       "      <td>2011</td>\n",
       "      <td>4</td>\n",
       "      <td>15</td>\n",
       "      <td>4</td>\n",
       "    </tr>\n",
       "    <tr>\n",
       "      <th>41</th>\n",
       "      <td>16.0</td>\n",
       "      <td>2012-09-14</td>\n",
       "      <td>526525.16</td>\n",
       "      <td>0.0</td>\n",
       "      <td>NaN</td>\n",
       "      <td>3.659</td>\n",
       "      <td>198.126718</td>\n",
       "      <td>6.061</td>\n",
       "      <td>2012</td>\n",
       "      <td>9</td>\n",
       "      <td>14</td>\n",
       "      <td>4</td>\n",
       "    </tr>\n",
       "    <tr>\n",
       "      <th>58</th>\n",
       "      <td>6.0</td>\n",
       "      <td>2010-07-30</td>\n",
       "      <td>1532308.78</td>\n",
       "      <td>0.0</td>\n",
       "      <td>NaN</td>\n",
       "      <td>2.640</td>\n",
       "      <td>212.894485</td>\n",
       "      <td>6.973</td>\n",
       "      <td>2010</td>\n",
       "      <td>7</td>\n",
       "      <td>30</td>\n",
       "      <td>4</td>\n",
       "    </tr>\n",
       "    <tr>\n",
       "      <th>60</th>\n",
       "      <td>14.0</td>\n",
       "      <td>2011-05-06</td>\n",
       "      <td>2095599.93</td>\n",
       "      <td>0.0</td>\n",
       "      <td>NaN</td>\n",
       "      <td>4.046</td>\n",
       "      <td>185.937438</td>\n",
       "      <td>8.521</td>\n",
       "      <td>2011</td>\n",
       "      <td>5</td>\n",
       "      <td>6</td>\n",
       "      <td>4</td>\n",
       "    </tr>\n",
       "    <tr>\n",
       "      <th>93</th>\n",
       "      <td>12.0</td>\n",
       "      <td>2011-05-27</td>\n",
       "      <td>964332.51</td>\n",
       "      <td>0.0</td>\n",
       "      <td>NaN</td>\n",
       "      <td>4.087</td>\n",
       "      <td>129.062355</td>\n",
       "      <td>13.736</td>\n",
       "      <td>2011</td>\n",
       "      <td>5</td>\n",
       "      <td>27</td>\n",
       "      <td>4</td>\n",
       "    </tr>\n",
       "    <tr>\n",
       "      <th>111</th>\n",
       "      <td>19.0</td>\n",
       "      <td>2012-06-22</td>\n",
       "      <td>1468350.36</td>\n",
       "      <td>0.0</td>\n",
       "      <td>NaN</td>\n",
       "      <td>3.722</td>\n",
       "      <td>138.162900</td>\n",
       "      <td>8.150</td>\n",
       "      <td>2012</td>\n",
       "      <td>6</td>\n",
       "      <td>22</td>\n",
       "      <td>4</td>\n",
       "    </tr>\n",
       "    <tr>\n",
       "      <th>115</th>\n",
       "      <td>15.0</td>\n",
       "      <td>2010-02-19</td>\n",
       "      <td>660838.75</td>\n",
       "      <td>0.0</td>\n",
       "      <td>NaN</td>\n",
       "      <td>2.909</td>\n",
       "      <td>131.637000</td>\n",
       "      <td>NaN</td>\n",
       "      <td>2010</td>\n",
       "      <td>2</td>\n",
       "      <td>19</td>\n",
       "      <td>4</td>\n",
       "    </tr>\n",
       "    <tr>\n",
       "      <th>123</th>\n",
       "      <td>1.0</td>\n",
       "      <td>2011-05-27</td>\n",
       "      <td>1466046.67</td>\n",
       "      <td>0.0</td>\n",
       "      <td>NaN</td>\n",
       "      <td>3.786</td>\n",
       "      <td>215.503788</td>\n",
       "      <td>7.682</td>\n",
       "      <td>2011</td>\n",
       "      <td>5</td>\n",
       "      <td>27</td>\n",
       "      <td>4</td>\n",
       "    </tr>\n",
       "    <tr>\n",
       "      <th>131</th>\n",
       "      <td>17.0</td>\n",
       "      <td>2010-11-12</td>\n",
       "      <td>855459.96</td>\n",
       "      <td>0.0</td>\n",
       "      <td>NaN</td>\n",
       "      <td>2.831</td>\n",
       "      <td>126.546161</td>\n",
       "      <td>NaN</td>\n",
       "      <td>2010</td>\n",
       "      <td>11</td>\n",
       "      <td>12</td>\n",
       "      <td>4</td>\n",
       "    </tr>\n",
       "  </tbody>\n",
       "</table>\n",
       "</div>"
      ],
      "text/plain": [
       "     Store       Date  Weekly_Sales  Holiday_Flag  Temperature  Fuel_Price  \\\n",
       "5      4.0 2010-05-28    1857533.70           0.0          NaN       2.756   \n",
       "29     6.0 2011-08-26    1420405.41           0.0          NaN       3.523   \n",
       "37    18.0 2011-04-15     988157.72           0.0          NaN       3.823   \n",
       "41    16.0 2012-09-14     526525.16           0.0          NaN       3.659   \n",
       "58     6.0 2010-07-30    1532308.78           0.0          NaN       2.640   \n",
       "60    14.0 2011-05-06    2095599.93           0.0          NaN       4.046   \n",
       "93    12.0 2011-05-27     964332.51           0.0          NaN       4.087   \n",
       "111   19.0 2012-06-22    1468350.36           0.0          NaN       3.722   \n",
       "115   15.0 2010-02-19     660838.75           0.0          NaN       2.909   \n",
       "123    1.0 2011-05-27    1466046.67           0.0          NaN       3.786   \n",
       "131   17.0 2010-11-12     855459.96           0.0          NaN       2.831   \n",
       "\n",
       "            CPI  Unemployment  year  month  day  weekday  \n",
       "5    126.160226         7.896  2010      5   28        4  \n",
       "29   217.270654         6.925  2011      8   26        4  \n",
       "37   134.278467         8.975  2011      4   15        4  \n",
       "41   198.126718         6.061  2012      9   14        4  \n",
       "58   212.894485         6.973  2010      7   30        4  \n",
       "60   185.937438         8.521  2011      5    6        4  \n",
       "93   129.062355        13.736  2011      5   27        4  \n",
       "111  138.162900         8.150  2012      6   22        4  \n",
       "115  131.637000           NaN  2010      2   19        4  \n",
       "123  215.503788         7.682  2011      5   27        4  \n",
       "131  126.546161           NaN  2010     11   12        4  "
      ]
     },
     "execution_count": 41,
     "metadata": {},
     "output_type": "execute_result"
    }
   ],
   "source": [
    "df[df.Temperature.isna()]"
   ]
  },
  {
   "cell_type": "code",
   "execution_count": 18,
   "id": "a92b4248",
   "metadata": {},
   "outputs": [
    {
     "data": {
      "text/plain": [
       "Store                  float64\n",
       "Date            datetime64[ns]\n",
       "Weekly_Sales           float64\n",
       "Holiday_Flag           float64\n",
       "Temperature            float64\n",
       "Fuel_Price             float64\n",
       "CPI                    float64\n",
       "Unemployment           float64\n",
       "year                     int64\n",
       "month                    int64\n",
       "day                      int64\n",
       "weekday                  int64\n",
       "dtype: object"
      ]
     },
     "execution_count": 18,
     "metadata": {},
     "output_type": "execute_result"
    }
   ],
   "source": [
    "df.dtypes"
   ]
  },
  {
   "cell_type": "code",
   "execution_count": 19,
   "id": "3dd78c81",
   "metadata": {},
   "outputs": [],
   "source": [
    "df2 = df.copy()"
   ]
  },
  {
   "cell_type": "code",
   "execution_count": 20,
   "id": "7a928521",
   "metadata": {},
   "outputs": [],
   "source": [
    "def replace_outliers(df,n=3):\n",
    "    for col in df.select_dtypes(include=['float64', 'int64']).columns:\n",
    "        mean = df[col].mean()\n",
    "        std = df[col].std()\n",
    "        outliers = (df[col] - mean).abs() > std*n\n",
    "        df = df[~outliers]\n",
    "    return df"
   ]
  },
  {
   "cell_type": "markdown",
   "id": "1f78bae4",
   "metadata": {},
   "source": [
    "En supprimant les outliers, cad les valeurs qui s'éloignent de plus de 3 ecarts-types de la moyennes, nous n'auront plus de jours fériés dans le dataset (avant suppression, il en restant 8)"
   ]
  },
  {
   "cell_type": "code",
   "execution_count": 21,
   "id": "4c7abddd",
   "metadata": {},
   "outputs": [
    {
     "data": {
      "text/html": [
       "<div>\n",
       "<style scoped>\n",
       "    .dataframe tbody tr th:only-of-type {\n",
       "        vertical-align: middle;\n",
       "    }\n",
       "\n",
       "    .dataframe tbody tr th {\n",
       "        vertical-align: top;\n",
       "    }\n",
       "\n",
       "    .dataframe thead th {\n",
       "        text-align: right;\n",
       "    }\n",
       "</style>\n",
       "<table border=\"1\" class=\"dataframe\">\n",
       "  <thead>\n",
       "    <tr style=\"text-align: right;\">\n",
       "      <th></th>\n",
       "      <th>Store</th>\n",
       "      <th>Date</th>\n",
       "      <th>Weekly_Sales</th>\n",
       "      <th>Holiday_Flag</th>\n",
       "      <th>Temperature</th>\n",
       "      <th>Fuel_Price</th>\n",
       "      <th>CPI</th>\n",
       "      <th>Unemployment</th>\n",
       "      <th>year</th>\n",
       "      <th>month</th>\n",
       "      <th>day</th>\n",
       "      <th>weekday</th>\n",
       "    </tr>\n",
       "  </thead>\n",
       "  <tbody>\n",
       "    <tr>\n",
       "      <th>0</th>\n",
       "      <td>6.0</td>\n",
       "      <td>2011-02-18</td>\n",
       "      <td>1572117.54</td>\n",
       "      <td>NaN</td>\n",
       "      <td>59.61</td>\n",
       "      <td>3.045</td>\n",
       "      <td>214.777523</td>\n",
       "      <td>6.858</td>\n",
       "      <td>2011</td>\n",
       "      <td>2</td>\n",
       "      <td>18</td>\n",
       "      <td>4</td>\n",
       "    </tr>\n",
       "    <tr>\n",
       "      <th>1</th>\n",
       "      <td>13.0</td>\n",
       "      <td>2011-03-25</td>\n",
       "      <td>1807545.43</td>\n",
       "      <td>0.0</td>\n",
       "      <td>42.38</td>\n",
       "      <td>3.435</td>\n",
       "      <td>128.616064</td>\n",
       "      <td>7.470</td>\n",
       "      <td>2011</td>\n",
       "      <td>3</td>\n",
       "      <td>25</td>\n",
       "      <td>4</td>\n",
       "    </tr>\n",
       "    <tr>\n",
       "      <th>2</th>\n",
       "      <td>6.0</td>\n",
       "      <td>2010-05-28</td>\n",
       "      <td>1644470.66</td>\n",
       "      <td>0.0</td>\n",
       "      <td>78.89</td>\n",
       "      <td>2.759</td>\n",
       "      <td>212.412888</td>\n",
       "      <td>7.092</td>\n",
       "      <td>2010</td>\n",
       "      <td>5</td>\n",
       "      <td>28</td>\n",
       "      <td>4</td>\n",
       "    </tr>\n",
       "    <tr>\n",
       "      <th>3</th>\n",
       "      <td>4.0</td>\n",
       "      <td>2010-05-28</td>\n",
       "      <td>1857533.70</td>\n",
       "      <td>0.0</td>\n",
       "      <td>NaN</td>\n",
       "      <td>2.756</td>\n",
       "      <td>126.160226</td>\n",
       "      <td>7.896</td>\n",
       "      <td>2010</td>\n",
       "      <td>5</td>\n",
       "      <td>28</td>\n",
       "      <td>4</td>\n",
       "    </tr>\n",
       "    <tr>\n",
       "      <th>4</th>\n",
       "      <td>15.0</td>\n",
       "      <td>2011-06-03</td>\n",
       "      <td>695396.19</td>\n",
       "      <td>0.0</td>\n",
       "      <td>69.80</td>\n",
       "      <td>4.069</td>\n",
       "      <td>134.855161</td>\n",
       "      <td>7.658</td>\n",
       "      <td>2011</td>\n",
       "      <td>6</td>\n",
       "      <td>3</td>\n",
       "      <td>4</td>\n",
       "    </tr>\n",
       "    <tr>\n",
       "      <th>...</th>\n",
       "      <td>...</td>\n",
       "      <td>...</td>\n",
       "      <td>...</td>\n",
       "      <td>...</td>\n",
       "      <td>...</td>\n",
       "      <td>...</td>\n",
       "      <td>...</td>\n",
       "      <td>...</td>\n",
       "      <td>...</td>\n",
       "      <td>...</td>\n",
       "      <td>...</td>\n",
       "      <td>...</td>\n",
       "    </tr>\n",
       "    <tr>\n",
       "      <th>101</th>\n",
       "      <td>3.0</td>\n",
       "      <td>2012-10-19</td>\n",
       "      <td>424513.08</td>\n",
       "      <td>0.0</td>\n",
       "      <td>73.44</td>\n",
       "      <td>3.594</td>\n",
       "      <td>226.968844</td>\n",
       "      <td>6.034</td>\n",
       "      <td>2012</td>\n",
       "      <td>10</td>\n",
       "      <td>19</td>\n",
       "      <td>4</td>\n",
       "    </tr>\n",
       "    <tr>\n",
       "      <th>102</th>\n",
       "      <td>14.0</td>\n",
       "      <td>2010-06-18</td>\n",
       "      <td>2248645.59</td>\n",
       "      <td>0.0</td>\n",
       "      <td>72.62</td>\n",
       "      <td>2.780</td>\n",
       "      <td>182.442420</td>\n",
       "      <td>8.899</td>\n",
       "      <td>2010</td>\n",
       "      <td>6</td>\n",
       "      <td>18</td>\n",
       "      <td>4</td>\n",
       "    </tr>\n",
       "    <tr>\n",
       "      <th>103</th>\n",
       "      <td>17.0</td>\n",
       "      <td>2010-06-11</td>\n",
       "      <td>845252.21</td>\n",
       "      <td>0.0</td>\n",
       "      <td>57.14</td>\n",
       "      <td>2.841</td>\n",
       "      <td>126.111903</td>\n",
       "      <td>NaN</td>\n",
       "      <td>2010</td>\n",
       "      <td>6</td>\n",
       "      <td>11</td>\n",
       "      <td>4</td>\n",
       "    </tr>\n",
       "    <tr>\n",
       "      <th>104</th>\n",
       "      <td>8.0</td>\n",
       "      <td>2011-08-12</td>\n",
       "      <td>856796.10</td>\n",
       "      <td>0.0</td>\n",
       "      <td>86.05</td>\n",
       "      <td>3.638</td>\n",
       "      <td>219.007525</td>\n",
       "      <td>NaN</td>\n",
       "      <td>2011</td>\n",
       "      <td>8</td>\n",
       "      <td>12</td>\n",
       "      <td>4</td>\n",
       "    </tr>\n",
       "    <tr>\n",
       "      <th>105</th>\n",
       "      <td>19.0</td>\n",
       "      <td>2012-04-20</td>\n",
       "      <td>1255087.26</td>\n",
       "      <td>0.0</td>\n",
       "      <td>55.20</td>\n",
       "      <td>4.170</td>\n",
       "      <td>137.923067</td>\n",
       "      <td>8.150</td>\n",
       "      <td>2012</td>\n",
       "      <td>4</td>\n",
       "      <td>20</td>\n",
       "      <td>4</td>\n",
       "    </tr>\n",
       "  </tbody>\n",
       "</table>\n",
       "<p>106 rows × 12 columns</p>\n",
       "</div>"
      ],
      "text/plain": [
       "     Store       Date  Weekly_Sales  Holiday_Flag  Temperature  Fuel_Price  \\\n",
       "0      6.0 2011-02-18    1572117.54           NaN        59.61       3.045   \n",
       "1     13.0 2011-03-25    1807545.43           0.0        42.38       3.435   \n",
       "2      6.0 2010-05-28    1644470.66           0.0        78.89       2.759   \n",
       "3      4.0 2010-05-28    1857533.70           0.0          NaN       2.756   \n",
       "4     15.0 2011-06-03     695396.19           0.0        69.80       4.069   \n",
       "..     ...        ...           ...           ...          ...         ...   \n",
       "101    3.0 2012-10-19     424513.08           0.0        73.44       3.594   \n",
       "102   14.0 2010-06-18    2248645.59           0.0        72.62       2.780   \n",
       "103   17.0 2010-06-11     845252.21           0.0        57.14       2.841   \n",
       "104    8.0 2011-08-12     856796.10           0.0        86.05       3.638   \n",
       "105   19.0 2012-04-20    1255087.26           0.0        55.20       4.170   \n",
       "\n",
       "            CPI  Unemployment  year  month  day  weekday  \n",
       "0    214.777523         6.858  2011      2   18        4  \n",
       "1    128.616064         7.470  2011      3   25        4  \n",
       "2    212.412888         7.092  2010      5   28        4  \n",
       "3    126.160226         7.896  2010      5   28        4  \n",
       "4    134.855161         7.658  2011      6    3        4  \n",
       "..          ...           ...   ...    ...  ...      ...  \n",
       "101  226.968844         6.034  2012     10   19        4  \n",
       "102  182.442420         8.899  2010      6   18        4  \n",
       "103  126.111903           NaN  2010      6   11        4  \n",
       "104  219.007525           NaN  2011      8   12        4  \n",
       "105  137.923067         8.150  2012      4   20        4  \n",
       "\n",
       "[106 rows x 12 columns]"
      ]
     },
     "execution_count": 21,
     "metadata": {},
     "output_type": "execute_result"
    }
   ],
   "source": [
    "df_without_outliers = replace_outliers(df2).reset_index().drop(['index'],axis=1)\n",
    "df_without_outliers"
   ]
  },
  {
   "cell_type": "code",
   "execution_count": 22,
   "id": "74017531",
   "metadata": {},
   "outputs": [],
   "source": [
    "target = df_without_outliers['Weekly_Sales']\n",
    "df_without_outliers.drop(['Date'], axis=1, inplace=True)"
   ]
  },
  {
   "cell_type": "code",
   "execution_count": 23,
   "id": "8eeaaa02",
   "metadata": {},
   "outputs": [
    {
     "data": {
      "text/plain": [
       "Store            0\n",
       "Weekly_Sales     0\n",
       "Holiday_Flag     9\n",
       "Temperature     10\n",
       "Fuel_Price      10\n",
       "CPI              8\n",
       "Unemployment    11\n",
       "year             0\n",
       "month            0\n",
       "day              0\n",
       "weekday          0\n",
       "dtype: int64"
      ]
     },
     "execution_count": 23,
     "metadata": {},
     "output_type": "execute_result"
    }
   ],
   "source": [
    "df_without_outliers.isna().sum()"
   ]
  },
  {
   "cell_type": "markdown",
   "id": "9a8a38ad",
   "metadata": {},
   "source": [
    "### Valeurs manquantes\n",
    "\n",
    "Variables numériques : **`Température`**, **`Fuel_Price`**, **`CPI`**, **`Unemployment`**</br>\n",
    "Variable catégorielle : **`Holiday_Flag`**\n",
    "\n",
    "Il faut trouver une strategie de remplacement de valeurs manquantes pour ces colonnes :\n",
    "\n",
    "- **`Holiday_Flag`** : il suffit de determiner avec la date si c'est un jour férié ou non\n",
    "- **`Temperature`** : nous pouvons remplacer les NaN par la moyenne en fonction du mois de l'année\n",
    "- **`Fuel_Price`** : on distingue que le prix de l'essence depend de l'année donc on va remplacer les NaN par la moyenne de chaque année \n",
    "- **`CPI`** : il augmente legerement en fonction de l'année mais n'est corrélé a rien, ce qui pose problème : on va utiliser KNNImputer pour remplacer les valeurs manquantes car il y a 2 distributions très différentes\n",
    "- **`Unemployment`** : en supprimant les outliers, nous avons qu'une seule distributions donc nous pouvons prendre la moyenne de celle-ci"
   ]
  },
  {
   "cell_type": "code",
   "execution_count": 48,
   "id": "052b2fc7",
   "metadata": {},
   "outputs": [
    {
     "data": {
      "image/png": "[encoded data removed]",
      "text/plain": [
       "<Figure size 432x288 with 1 Axes>"
      ]
     },
     "metadata": {
      "needs_background": "light"
     },
     "output_type": "display_data"
    },
    {
     "data": {
      "image/png": "[encoded data removed]",
      "text/plain": [
       "<Figure size 432x288 with 1 Axes>"
      ]
     },
     "metadata": {
      "needs_background": "light"
     },
     "output_type": "display_data"
    },
    {
     "data": {
      "image/png": "[encoded data removed]",
      "text/plain": [
       "<Figure size 432x288 with 1 Axes>"
      ]
     },
     "metadata": {
      "needs_background": "light"
     },
     "output_type": "display_data"
    }
   ],
   "source": [
    "for col in ['Fuel_Price', 'CPI', 'Unemployment']:\n",
    "    plt.figure()\n",
    "    sns.distplot(df_without_outliers[col], bins=8);"
   ]
  },
  {
   "cell_type": "code",
   "execution_count": 49,
   "id": "c61aa612",
   "metadata": {},
   "outputs": [
    {
     "data": {
      "text/plain": [
       "year\n",
       "2010    2.782026\n",
       "2011    3.567125\n",
       "2012    3.743120\n",
       "Name: Fuel_Price, dtype: float64"
      ]
     },
     "metadata": {},
     "output_type": "display_data"
    },
    {
     "data": {
      "image/png": "[encoded data removed]",
      "text/plain": [
       "<Figure size 576x432 with 2 Axes>"
      ]
     },
     "metadata": {
      "needs_background": "light"
     },
     "output_type": "display_data"
    }
   ],
   "source": [
    "display(df_without_outliers.groupby('year')['Fuel_Price'].mean())\n",
    "plt.figure(figsize=(8,6))\n",
    "sns.heatmap(df_without_outliers.corr(),annot=True);"
   ]
  },
  {
   "cell_type": "code",
   "execution_count": 50,
   "id": "a102638f",
   "metadata": {},
   "outputs": [
    {
     "data": {
      "image/png": "[encoded data removed]",
      "text/plain": [
       "<Figure size 432x288 with 1 Axes>"
      ]
     },
     "metadata": {
      "needs_background": "light"
     },
     "output_type": "display_data"
    }
   ],
   "source": [
    "sns.barplot(data=df_without_outliers, x='month', y='CPI');"
   ]
  },
  {
   "cell_type": "code",
   "execution_count": 24,
   "id": "63af41b9",
   "metadata": {},
   "outputs": [],
   "source": [
    "# remplacement des NaN de 'Holiday_Flag'\n",
    "df_without_outliers['Holiday_Flag'].fillna(0.0, inplace=True)\n",
    "\n",
    "# remplacement des NaN de 'Temperature'\n",
    "gb_month = df_without_outliers.groupby('month')\n",
    "df_without_outliers['Temperature'] = round(df_without_outliers['Temperature'].fillna(gb_month['Temperature'].transform('mean')),2)\n",
    "\n",
    "# remplacement des NaN de 'Fuel_Price'\n",
    "gb_month = df_without_outliers.groupby('year')\n",
    "df_without_outliers['Fuel_Price'] = round(df_without_outliers['Fuel_Price'].fillna(gb_month['Fuel_Price'].transform('mean')),3)\n",
    "\n",
    "# remplacement des NaN de 'Unemployment'\n",
    "df_without_outliers['Unemployment'] = df_without_outliers['Unemployment'].fillna(df_without_outliers['Unemployment'].mean())"
   ]
  },
  {
   "cell_type": "code",
   "execution_count": 25,
   "id": "7e6b24d1",
   "metadata": {},
   "outputs": [
    {
     "data": {
      "text/plain": [
       "Store           0\n",
       "Weekly_Sales    0\n",
       "Holiday_Flag    0\n",
       "Temperature     0\n",
       "Fuel_Price      0\n",
       "CPI             8\n",
       "Unemployment    0\n",
       "year            0\n",
       "month           0\n",
       "day             0\n",
       "weekday         0\n",
       "dtype: int64"
      ]
     },
     "execution_count": 25,
     "metadata": {},
     "output_type": "execute_result"
    }
   ],
   "source": [
    "df_without_outliers.isna().sum()"
   ]
  },
  {
   "cell_type": "code",
   "execution_count": 26,
   "id": "cff7f6ae",
   "metadata": {},
   "outputs": [
    {
     "data": {
      "text/plain": [
       "Store           0\n",
       "Weekly_Sales    0\n",
       "Holiday_Flag    0\n",
       "Temperature     0\n",
       "Fuel_Price      0\n",
       "CPI             0\n",
       "Unemployment    0\n",
       "year            0\n",
       "month           0\n",
       "day             0\n",
       "weekday         0\n",
       "dtype: int64"
      ]
     },
     "execution_count": 26,
     "metadata": {},
     "output_type": "execute_result"
    }
   ],
   "source": [
    "df_without_outliers = df_without_outliers[df_without_outliers['CPI'].notna()]\n",
    "df_without_outliers.isna().sum()"
   ]
  },
  {
   "cell_type": "markdown",
   "id": "8e0b4d50",
   "metadata": {},
   "source": [
    "## Preprocessing"
   ]
  },
  {
   "cell_type": "code",
   "execution_count": 27,
   "id": "9c46187e",
   "metadata": {},
   "outputs": [],
   "source": [
    "X = df_without_outliers.drop(['Weekly_Sales'], axis=1)\n",
    "y = df_without_outliers['Weekly_Sales']"
   ]
  },
  {
   "cell_type": "code",
   "execution_count": 28,
   "id": "a09a99f7",
   "metadata": {},
   "outputs": [],
   "source": [
    "X_train, X_test, y_train, y_test = train_test_split(X, y, test_size=0.2, random_state=0)"
   ]
  },
  {
   "cell_type": "code",
   "execution_count": 29,
   "id": "4773b147",
   "metadata": {},
   "outputs": [
    {
     "data": {
      "text/plain": [
       "((78, 10), (20, 10), (78,), (20,))"
      ]
     },
     "execution_count": 29,
     "metadata": {},
     "output_type": "execute_result"
    }
   ],
   "source": [
    "X_train.shape, X_test.shape, y_train.shape, y_test.shape"
   ]
  },
  {
   "cell_type": "code",
   "execution_count": 30,
   "id": "6d8c6b55",
   "metadata": {},
   "outputs": [
    {
     "data": {
      "text/plain": [
       "0"
      ]
     },
     "execution_count": 30,
     "metadata": {},
     "output_type": "execute_result"
    }
   ],
   "source": [
    "X_train.isna().sum().sum()"
   ]
  },
  {
   "cell_type": "code",
   "execution_count": 31,
   "id": "7f19790b",
   "metadata": {},
   "outputs": [
    {
     "data": {
      "text/plain": [
       "(Index(['Store', 'Holiday_Flag', 'Temperature', 'Fuel_Price', 'CPI',\n",
       "        'Unemployment', 'year', 'month', 'day', 'weekday'],\n",
       "       dtype='object'),\n",
       " Index(['Store', 'Holiday_Flag', 'Temperature', 'Fuel_Price', 'CPI',\n",
       "        'Unemployment', 'year', 'month', 'day', 'weekday'],\n",
       "       dtype='object'))"
      ]
     },
     "execution_count": 31,
     "metadata": {},
     "output_type": "execute_result"
    }
   ],
   "source": [
    "X_train.columns, X_test.columns"
   ]
  },
  {
   "cell_type": "markdown",
   "id": "c6d93eec",
   "metadata": {},
   "source": [
    "### Modèles"
   ]
  },
  {
   "cell_type": "markdown",
   "id": "2076c46f",
   "metadata": {},
   "source": [
    "On va d'abord tester un modèle `baseline` pour voir le score"
   ]
  },
  {
   "cell_type": "code",
   "execution_count": 35,
   "id": "fd3c6edf",
   "metadata": {},
   "outputs": [
    {
     "data": {
      "text/plain": [
       "((78, 1), (20, 1))"
      ]
     },
     "execution_count": 35,
     "metadata": {},
     "output_type": "execute_result"
    }
   ],
   "source": [
    "categorical_features = X_train[['Store']].columns\n",
    "X_train = X_train[['Store']]\n",
    "X_test = X_test[['Store']]\n",
    "X_train.shape, X_test.shape"
   ]
  },
  {
   "cell_type": "code",
   "execution_count": 36,
   "id": "4173aa61",
   "metadata": {},
   "outputs": [],
   "source": [
    "onehot = OneHotEncoder()\n",
    "X_train = onehot.fit_transform(X_train)\n",
    "X_test = onehot.transform(X_test)"
   ]
  },
  {
   "cell_type": "code",
   "execution_count": 37,
   "id": "d9e7beba",
   "metadata": {},
   "outputs": [
    {
     "data": {
      "text/plain": [
       "LinearRegression()"
      ]
     },
     "execution_count": 37,
     "metadata": {},
     "output_type": "execute_result"
    }
   ],
   "source": [
    "lr = LinearRegression()\n",
    "lr.fit(X_train, y_train)"
   ]
  },
  {
   "cell_type": "code",
   "execution_count": 38,
   "id": "4c5d29fe",
   "metadata": {},
   "outputs": [
    {
     "name": "stdout",
     "output_type": "stream",
     "text": [
      "0.9615849236586866\n",
      "0.9798033518935911\n"
     ]
    }
   ],
   "source": [
    "print(lr.score(X_train, y_train))\n",
    "print(lr.score(X_test, y_test))"
   ]
  },
  {
   "cell_type": "markdown",
   "id": "d341f4d6",
   "metadata": {},
   "source": [
    "On obtient de très bon score avec seulement le numéro du magasin. On va tester avec toutes les colonnes disponibles"
   ]
  },
  {
   "cell_type": "markdown",
   "id": "87eb2ef9",
   "metadata": {},
   "source": [
    "2 variables categorielles : **`Store`** et **`Holiday_Flag`**"
   ]
  },
  {
   "cell_type": "code",
   "execution_count": null,
   "id": "fb9dcf3a",
   "metadata": {},
   "outputs": [],
   "source": []
  },
  {
   "cell_type": "code",
   "execution_count": 170,
   "id": "ce9e49e4",
   "metadata": {},
   "outputs": [],
   "source": [
    "numerical_features = X_train[['Temperature', 'Fuel_Price', 'CPI', 'Unemployment', 'year', 'month', 'day','weekday']].columns\n",
    "categorical_features = X_train[['Store','Holiday_Flag']].columns"
   ]
  },
  {
   "cell_type": "code",
   "execution_count": 171,
   "id": "617b75a0",
   "metadata": {},
   "outputs": [
    {
     "data": {
      "text/plain": [
       "Index(['Temperature', 'Fuel_Price', 'CPI', 'Unemployment', 'year', 'month',\n",
       "       'day', 'weekday'],\n",
       "      dtype='object')"
      ]
     },
     "execution_count": 171,
     "metadata": {},
     "output_type": "execute_result"
    }
   ],
   "source": [
    "numerical_features"
   ]
  },
  {
   "cell_type": "code",
   "execution_count": 172,
   "id": "9f747402",
   "metadata": {},
   "outputs": [
    {
     "data": {
      "text/plain": [
       "Index(['Store', 'Holiday_Flag'], dtype='object')"
      ]
     },
     "execution_count": 172,
     "metadata": {},
     "output_type": "execute_result"
    }
   ],
   "source": [
    "categorical_features"
   ]
  },
  {
   "cell_type": "code",
   "execution_count": 173,
   "id": "e384192d",
   "metadata": {},
   "outputs": [
    {
     "data": {
      "text/plain": [
       "((78, 10), (20, 10))"
      ]
     },
     "execution_count": 173,
     "metadata": {},
     "output_type": "execute_result"
    }
   ],
   "source": [
    "X_train.shape, X_test.shape"
   ]
  },
  {
   "cell_type": "markdown",
   "id": "6aba5c9d",
   "metadata": {},
   "source": [
    "### Testons le modele"
   ]
  },
  {
   "cell_type": "markdown",
   "id": "96ea74bf",
   "metadata": {},
   "source": [
    "D'après les distributions obtenues avec **`sns.displot`**, elles ne semblent pas être normales donc appliquons un MinMaxScaler qui conserve la forme des distributions.\n",
    "\n",
    "Comme nous avons supprimer les outliers, pas besoin d'utiliser un RobustScaler."
   ]
  },
  {
   "cell_type": "code",
   "execution_count": 174,
   "id": "82adb563",
   "metadata": {},
   "outputs": [
    {
     "data": {
      "text/plain": [
       "Index(['Store', 'Weekly_Sales', 'Holiday_Flag', 'Temperature', 'Fuel_Price',\n",
       "       'CPI', 'Unemployment', 'year', 'month', 'day', 'weekday'],\n",
       "      dtype='object')"
      ]
     },
     "execution_count": 174,
     "metadata": {},
     "output_type": "execute_result"
    }
   ],
   "source": [
    "df_without_outliers.columns"
   ]
  },
  {
   "cell_type": "code",
   "execution_count": 175,
   "id": "a48e8c59",
   "metadata": {},
   "outputs": [
    {
     "data": {
      "text/plain": [
       "['Store',\n",
       " 'Holiday_Flag',\n",
       " 'Temperature',\n",
       " 'Fuel_Price',\n",
       " 'CPI',\n",
       " 'Unemployment',\n",
       " 'year',\n",
       " 'month',\n",
       " 'day',\n",
       " 'weekday']"
      ]
     },
     "execution_count": 175,
     "metadata": {},
     "output_type": "execute_result"
    }
   ],
   "source": [
    "from numpy import s_\n",
    "\n",
    "arr = df_without_outliers.columns.tolist()\n",
    "slices = s_[0,2:]\n",
    "\n",
    "def xslice(arr, slices):\n",
    "    if isinstance(slices, tuple):\n",
    "        return sum((arr[s] if isinstance(s, slice) else [arr[s]] for s in slices), [])\n",
    "    elif isinstance(slices, slice):\n",
    "        return arr[slices]\n",
    "    else:\n",
    "        return [arr[slices]]\n",
    "    \n",
    "select_features = xslice(arr, slices)\n",
    "select_features"
   ]
  },
  {
   "cell_type": "code",
   "execution_count": 176,
   "id": "c4660da7",
   "metadata": {
    "scrolled": false
   },
   "outputs": [
    {
     "data": {
      "image/png": "[encoded data removed]",
      "text/plain": [
       "<Figure size 432x288 with 1 Axes>"
      ]
     },
     "metadata": {
      "needs_background": "light"
     },
     "output_type": "display_data"
    },
    {
     "data": {
      "image/png": "[encoded data removed]",
      "text/plain": [
       "<Figure size 432x288 with 1 Axes>"
      ]
     },
     "metadata": {
      "needs_background": "light"
     },
     "output_type": "display_data"
    },
    {
     "data": {
      "image/png": "[encoded data removed]",
      "text/plain": [
       "<Figure size 432x288 with 1 Axes>"
      ]
     },
     "metadata": {
      "needs_background": "light"
     },
     "output_type": "display_data"
    },
    {
     "data": {
      "image/png": "[encoded data removed]",
      "text/plain": [
       "<Figure size 432x288 with 1 Axes>"
      ]
     },
     "metadata": {
      "needs_background": "light"
     },
     "output_type": "display_data"
    }
   ],
   "source": [
    "for col in select_features:\n",
    "    if col not in X_train[['Store','Holiday_Flag', 'year', 'month', 'day','weekday']].columns:\n",
    "        plt.figure()\n",
    "        sns.scatterplot(x=df_without_outliers[col], y=target);"
   ]
  },
  {
   "cell_type": "code",
   "execution_count": 177,
   "id": "0b56f82d",
   "metadata": {},
   "outputs": [
    {
     "data": {
      "text/html": [
       "<style>#sk-container-id-9 {color: black;background-color: white;}#sk-container-id-9 pre{padding: 0;}#sk-container-id-9 div.sk-toggleable {background-color: white;}#sk-container-id-9 label.sk-toggleable__label {cursor: pointer;display: block;width: 100%;margin-bottom: 0;padding: 0.3em;box-sizing: border-box;text-align: center;}#sk-container-id-9 label.sk-toggleable__label-arrow:before {content: \"▸\";float: left;margin-right: 0.25em;color: #696969;}#sk-container-id-9 label.sk-toggleable__label-arrow:hover:before {color: black;}#sk-container-id-9 div.sk-estimator:hover label.sk-toggleable__label-arrow:before {color: black;}#sk-container-id-9 div.sk-toggleable__content {max-height: 0;max-width: 0;overflow: hidden;text-align: left;background-color: #f0f8ff;}#sk-container-id-9 div.sk-toggleable__content pre {margin: 0.2em;color: black;border-radius: 0.25em;background-color: #f0f8ff;}#sk-container-id-9 input.sk-toggleable__control:checked~div.sk-toggleable__content {max-height: 200px;max-width: 100%;overflow: auto;}#sk-container-id-9 input.sk-toggleable__control:checked~label.sk-toggleable__label-arrow:before {content: \"▾\";}#sk-container-id-9 div.sk-estimator input.sk-toggleable__control:checked~label.sk-toggleable__label {background-color: #d4ebff;}#sk-container-id-9 div.sk-label input.sk-toggleable__control:checked~label.sk-toggleable__label {background-color: #d4ebff;}#sk-container-id-9 input.sk-hidden--visually {border: 0;clip: rect(1px 1px 1px 1px);clip: rect(1px, 1px, 1px, 1px);height: 1px;margin: -1px;overflow: hidden;padding: 0;position: absolute;width: 1px;}#sk-container-id-9 div.sk-estimator {font-family: monospace;background-color: #f0f8ff;border: 1px dotted black;border-radius: 0.25em;box-sizing: border-box;margin-bottom: 0.5em;}#sk-container-id-9 div.sk-estimator:hover {background-color: #d4ebff;}#sk-container-id-9 div.sk-parallel-item::after {content: \"\";width: 100%;border-bottom: 1px solid gray;flex-grow: 1;}#sk-container-id-9 div.sk-label:hover label.sk-toggleable__label {background-color: #d4ebff;}#sk-container-id-9 div.sk-serial::before {content: \"\";position: absolute;border-left: 1px solid gray;box-sizing: border-box;top: 0;bottom: 0;left: 50%;z-index: 0;}#sk-container-id-9 div.sk-serial {display: flex;flex-direction: column;align-items: center;background-color: white;padding-right: 0.2em;padding-left: 0.2em;position: relative;}#sk-container-id-9 div.sk-item {position: relative;z-index: 1;}#sk-container-id-9 div.sk-parallel {display: flex;align-items: stretch;justify-content: center;background-color: white;position: relative;}#sk-container-id-9 div.sk-item::before, #sk-container-id-9 div.sk-parallel-item::before {content: \"\";position: absolute;border-left: 1px solid gray;box-sizing: border-box;top: 0;bottom: 0;left: 50%;z-index: -1;}#sk-container-id-9 div.sk-parallel-item {display: flex;flex-direction: column;z-index: 1;position: relative;background-color: white;}#sk-container-id-9 div.sk-parallel-item:first-child::after {align-self: flex-end;width: 50%;}#sk-container-id-9 div.sk-parallel-item:last-child::after {align-self: flex-start;width: 50%;}#sk-container-id-9 div.sk-parallel-item:only-child::after {width: 0;}#sk-container-id-9 div.sk-dashed-wrapped {border: 1px dashed gray;margin: 0 0.4em 0.5em 0.4em;box-sizing: border-box;padding-bottom: 0.4em;background-color: white;}#sk-container-id-9 div.sk-label label {font-family: monospace;font-weight: bold;display: inline-block;line-height: 1.2em;}#sk-container-id-9 div.sk-label-container {text-align: center;}#sk-container-id-9 div.sk-container {/* jupyter's `normalize.less` sets `[hidden] { display: none; }` but bootstrap.min.css set `[hidden] { display: none !important; }` so we also need the `!important` here to be able to override the default hidden behavior on the sphinx rendered scikit-learn.org. See: https://github.com/scikit-learn/scikit-learn/issues/21755 */display: inline-block !important;position: relative;}#sk-container-id-9 div.sk-text-repr-fallback {display: none;}</style><div id=\"sk-container-id-9\" class=\"sk-top-container\"><div class=\"sk-text-repr-fallback\"><pre>ColumnTransformer(transformers=[(&#x27;pipeline&#x27;,\n",
       "                                 Pipeline(steps=[(&#x27;MinMaxScaler&#x27;,\n",
       "                                                  MinMaxScaler()),\n",
       "                                                 (&#x27;KNNImputer&#x27;,\n",
       "                                                  KNNImputer(n_neighbors=3))]),\n",
       "                                 Index([&#x27;Temperature&#x27;, &#x27;Fuel_Price&#x27;, &#x27;CPI&#x27;, &#x27;Unemployment&#x27;, &#x27;year&#x27;, &#x27;month&#x27;,\n",
       "       &#x27;day&#x27;, &#x27;weekday&#x27;],\n",
       "      dtype=&#x27;object&#x27;)),\n",
       "                                (&#x27;onehotencoder&#x27;, OneHotEncoder(),\n",
       "                                 Index([&#x27;Store&#x27;, &#x27;Holiday_Flag&#x27;], dtype=&#x27;object&#x27;))])</pre><b>In a Jupyter environment, please rerun this cell to show the HTML representation or trust the notebook. <br />On GitHub, the HTML representation is unable to render, please try loading this page with nbviewer.org.</b></div><div class=\"sk-container\" hidden><div class=\"sk-item sk-dashed-wrapped\"><div class=\"sk-label-container\"><div class=\"sk-label sk-toggleable\"><input class=\"sk-toggleable__control sk-hidden--visually\" id=\"sk-estimator-id-49\" type=\"checkbox\" ><label for=\"sk-estimator-id-49\" class=\"sk-toggleable__label sk-toggleable__label-arrow\">ColumnTransformer</label><div class=\"sk-toggleable__content\"><pre>ColumnTransformer(transformers=[(&#x27;pipeline&#x27;,\n",
       "                                 Pipeline(steps=[(&#x27;MinMaxScaler&#x27;,\n",
       "                                                  MinMaxScaler()),\n",
       "                                                 (&#x27;KNNImputer&#x27;,\n",
       "                                                  KNNImputer(n_neighbors=3))]),\n",
       "                                 Index([&#x27;Temperature&#x27;, &#x27;Fuel_Price&#x27;, &#x27;CPI&#x27;, &#x27;Unemployment&#x27;, &#x27;year&#x27;, &#x27;month&#x27;,\n",
       "       &#x27;day&#x27;, &#x27;weekday&#x27;],\n",
       "      dtype=&#x27;object&#x27;)),\n",
       "                                (&#x27;onehotencoder&#x27;, OneHotEncoder(),\n",
       "                                 Index([&#x27;Store&#x27;, &#x27;Holiday_Flag&#x27;], dtype=&#x27;object&#x27;))])</pre></div></div></div><div class=\"sk-parallel\"><div class=\"sk-parallel-item\"><div class=\"sk-item\"><div class=\"sk-label-container\"><div class=\"sk-label sk-toggleable\"><input class=\"sk-toggleable__control sk-hidden--visually\" id=\"sk-estimator-id-50\" type=\"checkbox\" ><label for=\"sk-estimator-id-50\" class=\"sk-toggleable__label sk-toggleable__label-arrow\">pipeline</label><div class=\"sk-toggleable__content\"><pre>Index([&#x27;Temperature&#x27;, &#x27;Fuel_Price&#x27;, &#x27;CPI&#x27;, &#x27;Unemployment&#x27;, &#x27;year&#x27;, &#x27;month&#x27;,\n",
       "       &#x27;day&#x27;, &#x27;weekday&#x27;],\n",
       "      dtype=&#x27;object&#x27;)</pre></div></div></div><div class=\"sk-serial\"><div class=\"sk-item\"><div class=\"sk-serial\"><div class=\"sk-item\"><div class=\"sk-estimator sk-toggleable\"><input class=\"sk-toggleable__control sk-hidden--visually\" id=\"sk-estimator-id-51\" type=\"checkbox\" ><label for=\"sk-estimator-id-51\" class=\"sk-toggleable__label sk-toggleable__label-arrow\">MinMaxScaler</label><div class=\"sk-toggleable__content\"><pre>MinMaxScaler()</pre></div></div></div><div class=\"sk-item\"><div class=\"sk-estimator sk-toggleable\"><input class=\"sk-toggleable__control sk-hidden--visually\" id=\"sk-estimator-id-52\" type=\"checkbox\" ><label for=\"sk-estimator-id-52\" class=\"sk-toggleable__label sk-toggleable__label-arrow\">KNNImputer</label><div class=\"sk-toggleable__content\"><pre>KNNImputer(n_neighbors=3)</pre></div></div></div></div></div></div></div></div><div class=\"sk-parallel-item\"><div class=\"sk-item\"><div class=\"sk-label-container\"><div class=\"sk-label sk-toggleable\"><input class=\"sk-toggleable__control sk-hidden--visually\" id=\"sk-estimator-id-53\" type=\"checkbox\" ><label for=\"sk-estimator-id-53\" class=\"sk-toggleable__label sk-toggleable__label-arrow\">onehotencoder</label><div class=\"sk-toggleable__content\"><pre>Index([&#x27;Store&#x27;, &#x27;Holiday_Flag&#x27;], dtype=&#x27;object&#x27;)</pre></div></div></div><div class=\"sk-serial\"><div class=\"sk-item\"><div class=\"sk-estimator sk-toggleable\"><input class=\"sk-toggleable__control sk-hidden--visually\" id=\"sk-estimator-id-54\" type=\"checkbox\" ><label for=\"sk-estimator-id-54\" class=\"sk-toggleable__label sk-toggleable__label-arrow\">OneHotEncoder</label><div class=\"sk-toggleable__content\"><pre>OneHotEncoder()</pre></div></div></div></div></div></div></div></div></div></div>"
      ],
      "text/plain": [
       "ColumnTransformer(transformers=[('pipeline',\n",
       "                                 Pipeline(steps=[('MinMaxScaler',\n",
       "                                                  MinMaxScaler()),\n",
       "                                                 ('KNNImputer',\n",
       "                                                  KNNImputer(n_neighbors=3))]),\n",
       "                                 Index(['Temperature', 'Fuel_Price', 'CPI', 'Unemployment', 'year', 'month',\n",
       "       'day', 'weekday'],\n",
       "      dtype='object')),\n",
       "                                ('onehotencoder', OneHotEncoder(),\n",
       "                                 Index(['Store', 'Holiday_Flag'], dtype='object'))])"
      ]
     },
     "execution_count": 177,
     "metadata": {},
     "output_type": "execute_result"
    }
   ],
   "source": [
    "# modl = TransformedTargetRegressor(regressor=LinearRegression(), transformer=MinMaxScaler())\n",
    "pip1 = Pipeline([('MinMaxScaler', MinMaxScaler()),\n",
    "                 ('KNNImputer', KNNImputer(n_neighbors=3)),\n",
    "                 ('OneHotEncoder', OneHotEncoder()),\n",
    "                 ('Regressor', LinearRegression())])\n",
    "\n",
    "preprocessor = make_column_transformer(\n",
    "    (pip1[0:2], numerical_features),\n",
    "    (pip1[2], categorical_features))\n",
    "\n",
    "preprocessor"
   ]
  },
  {
   "cell_type": "code",
   "execution_count": 178,
   "id": "93223974",
   "metadata": {},
   "outputs": [],
   "source": [
    "X_train = preprocessor.fit_transform(X_train)\n",
    "X_test = preprocessor.transform(X_test)"
   ]
  },
  {
   "cell_type": "code",
   "execution_count": 153,
   "id": "2b41aff3",
   "metadata": {
    "scrolled": true
   },
   "outputs": [
    {
     "name": "stdout",
     "output_type": "stream",
     "text": [
      "0.9764459429384228\n",
      "0.9616484150193486\n"
     ]
    }
   ],
   "source": [
    "pip1[3].fit(X_train,y_train)\n",
    "\n",
    "print(pip1[3].score(X_train, y_train))\n",
    "print(pip1[3].score(X_test, y_test))"
   ]
  },
  {
   "cell_type": "markdown",
   "id": "6cc85925",
   "metadata": {},
   "source": [
    "Il n'y a pas l'air d'avoir de l'overfitting, on va faire un cross_val_score pour le confirmer"
   ]
  },
  {
   "cell_type": "code",
   "execution_count": 154,
   "id": "e1af1bb1",
   "metadata": {},
   "outputs": [
    {
     "name": "stdout",
     "output_type": "stream",
     "text": [
      "Tous les scores :  [0.95384827 0.90655919 0.95702669 0.95053239 0.91646667 0.97151405\n",
      " 0.92756379 0.90443469 0.95886138 0.92569154]\n",
      "Le cross-validated R2-score est :  0.9372498664043656\n",
      "L'ecart-type est de :  0.022720599910311518\n"
     ]
    }
   ],
   "source": [
    "score_model1 = cross_val_score(pip1[3], X_train, y_train, cv = 10)\n",
    "\n",
    "print(\"Tous les scores : \", score_model1)\n",
    "print('Le cross-validated R2-score est : ', score_model1.mean())\n",
    "print(\"L'ecart-type est de : \", score_model1.std())"
   ]
  },
  {
   "cell_type": "markdown",
   "id": "742653be",
   "metadata": {},
   "source": [
    "On voit que les scores sont assez aléatoires allant de 0.97 à 0.66 : cela est du au faible nombre de samples dans le dataset.\n",
    "la moyenne est de 0.84 avec un ecart type de 0.1 : il n'y a donc pas d'overfitting"
   ]
  },
  {
   "cell_type": "code",
   "execution_count": 155,
   "id": "95a0b959",
   "metadata": {},
   "outputs": [
    {
     "data": {
      "text/plain": [
       "<matplotlib.collections.PathCollection at 0x210ba896280>"
      ]
     },
     "execution_count": 155,
     "metadata": {},
     "output_type": "execute_result"
    },
    {
     "data": {
      "image/png": "[encoded data removed]",
      "text/plain": [
       "<Figure size 432x288 with 1 Axes>"
      ]
     },
     "metadata": {
      "needs_background": "light"
     },
     "output_type": "display_data"
    }
   ],
   "source": [
    "plt.scatter(y_train.sort_values(), pip1[3].predict(X_train))"
   ]
  },
  {
   "cell_type": "code",
   "execution_count": 156,
   "id": "a50e2f3c",
   "metadata": {},
   "outputs": [
    {
     "data": {
      "text/plain": [
       "<matplotlib.collections.PathCollection at 0x210ba84b700>"
      ]
     },
     "execution_count": 156,
     "metadata": {},
     "output_type": "execute_result"
    },
    {
     "data": {
      "image/png": "[encoded data removed]",
      "text/plain": [
       "<Figure size 432x288 with 1 Axes>"
      ]
     },
     "metadata": {
      "needs_background": "light"
     },
     "output_type": "display_data"
    }
   ],
   "source": [
    "plt.scatter(y_test.sort_values(), pip1[3].predict(X_test))"
   ]
  },
  {
   "cell_type": "code",
   "execution_count": 157,
   "id": "97781818",
   "metadata": {},
   "outputs": [
    {
     "data": {
      "text/plain": [
       "array([-1.72342502e+05, -2.28784140e+04,  2.43806708e+06, -3.05986606e+05,\n",
       "       -2.92155341e+05,  1.76177535e+05, -1.39907676e+05, -1.62981451e-09,\n",
       "       -5.26541989e+05, -1.67906491e+05, -1.83070221e+06,  2.03867985e+06,\n",
       "       -1.91700763e+06, -5.54492899e+05, -9.87507888e+05, -1.36359648e+06,\n",
       "       -1.72545339e+06,  1.97271955e+06,  1.92175318e+06,  7.14030270e+05,\n",
       "        4.95624031e+05, -1.14296380e+06,  6.47977837e+05,  1.00199807e+06,\n",
       "        1.26568045e+06,  1.57709551e+05,  0.00000000e+00])"
      ]
     },
     "execution_count": 157,
     "metadata": {},
     "output_type": "execute_result"
    }
   ],
   "source": [
    "pip1[3].coef_"
   ]
  },
  {
   "cell_type": "code",
   "execution_count": 158,
   "id": "bdf810f4",
   "metadata": {},
   "outputs": [
    {
     "name": "stdout",
     "output_type": "stream",
     "text": [
      "Store        : -172342.5\n",
      "Holiday_Flag : -22878.41\n",
      "Temperature  : 2438067.08\n",
      "Fuel_Price   : -305986.61\n",
      "CPI          : -292155.34\n",
      "Unemployment : 176177.53\n",
      "year         : -139907.68\n",
      "month        : -0.0\n",
      "day          : -526541.99\n",
      "weekday      : -167906.49\n"
     ]
    }
   ],
   "source": [
    "for el,col in zip(pip1[3].coef_, X.columns.values):\n",
    "    print(f\"{col : <12} : {round(el,2)}\")"
   ]
  },
  {
   "cell_type": "markdown",
   "id": "906c2b25",
   "metadata": {},
   "source": [
    "Un coefficient négatif suggère que lorsque la variable indépendante(**feature Xi**) augmente, la variable dépendante (**target**) tend à diminuer. La valeur du coefficient indique de combien la moyenne de la variable dépendante change compte tenu d'un décalage d'une unité dans la variable indépendante tout en maintenant les autres variables dans le modèle constant."
   ]
  },
  {
   "cell_type": "markdown",
   "id": "041c3c85",
   "metadata": {},
   "source": [
    "On peut donc dire que lorsque **`'CPI'`** augmente (en ne prenant pas en compte **`'day'`**), qui a le coefficient le plus élevé négativement, **`'Weekly sales'`** baisse.</br>\n",
    "Alors que, si **`'Temperature'`** augmente, qui a le coefficient le plus élevé positivement, alors **`'Weekly sales'`** augmente"
   ]
  },
  {
   "cell_type": "markdown",
   "id": "0dfe8b87",
   "metadata": {},
   "source": [
    "### Esssayons Ridge quand même pour voir si ça améliore le score"
   ]
  },
  {
   "cell_type": "code",
   "execution_count": 159,
   "id": "cf23a8da",
   "metadata": {},
   "outputs": [
    {
     "name": "stdout",
     "output_type": "stream",
     "text": [
      "Meilleurs hyperparametres :  {'alpha': 0}\n",
      "Meilleur R2-score :  0.9372141340069495\n"
     ]
    }
   ],
   "source": [
    "regressor = Ridge()\n",
    "\n",
    "params = {\n",
    "    'alpha': np.arange(0,50,2)\n",
    "}\n",
    "\n",
    "gridsearch = GridSearchCV(regressor, param_grid = params, cv = 10)\n",
    "gridsearch.fit(X_train, y_train)\n",
    "\n",
    "print(\"Meilleurs hyperparametres : \", gridsearch.best_params_)\n",
    "print(\"Meilleur R2-score : \", gridsearch.best_score_)"
   ]
  },
  {
   "cell_type": "code",
   "execution_count": 160,
   "id": "3e56fe6f",
   "metadata": {},
   "outputs": [
    {
     "name": "stdout",
     "output_type": "stream",
     "text": [
      "R2-score sur le training set :  0.9764459429384228\n",
      "R2-score sur le test set :  0.9616484150193487\n"
     ]
    }
   ],
   "source": [
    "print(\"R2-score sur le training set : \", gridsearch.score(X_train, y_train))\n",
    "print(\"R2-score sur le test set : \", gridsearch.score(X_test, y_test))"
   ]
  },
  {
   "cell_type": "markdown",
   "id": "6824bd1d",
   "metadata": {},
   "source": [
    "Il n'y a aucun changement avec Ridge"
   ]
  },
  {
   "cell_type": "code",
   "execution_count": 161,
   "id": "2d779f06",
   "metadata": {},
   "outputs": [
    {
     "name": "stdout",
     "output_type": "stream",
     "text": [
      "Le cross-validated R2-score est :  0.9372141340069495\n",
      "L'ecart-type est de :  0.022739022958880323\n"
     ]
    }
   ],
   "source": [
    "scores = cross_val_score(gridsearch.best_estimator_, X_train, y_train, cv = 10)\n",
    "\n",
    "print('Le cross-validated R2-score est : ', scores.mean())\n",
    "print(\"L'ecart-type est de : \", scores.std())"
   ]
  },
  {
   "cell_type": "markdown",
   "id": "86050946",
   "metadata": {},
   "source": [
    "### Essayons avec Lasso"
   ]
  },
  {
   "cell_type": "code",
   "execution_count": null,
   "id": "b1ed6db7",
   "metadata": {},
   "outputs": [],
   "source": [
    "regressor = Lasso()\n",
    "\n",
    "lasso_params = {'alpha':[0.02, 0.024, 0.025, 0.026, 0.03]}\n",
    "\n",
    "gridsearch = GridSearchCV(regressor, param_grid = lasso_params, cv = 10)\n",
    "gridsearch.fit(X_train, y_train)\n",
    "\n",
    "print(\"Meilleurs hyperparametres : \", gridsearch.best_params_)\n",
    "print(\"Meilleur R2-score : \", gridsearch.best_score_)"
   ]
  },
  {
   "cell_type": "markdown",
   "id": "cc22e32b",
   "metadata": {},
   "source": [
    "Meilleurs hyperparametres :  {'alpha': 0.02}</br>\n",
    "Meilleur R2-score :  0.9356659780278879"
   ]
  },
  {
   "cell_type": "markdown",
   "id": "9e2b62a8",
   "metadata": {},
   "source": [
    "### Essayons de faire du Feature Engineering en augmentant la complexité du modèle"
   ]
  },
  {
   "cell_type": "code",
   "execution_count": 183,
   "id": "e3d6cb0a",
   "metadata": {},
   "outputs": [],
   "source": [
    "poly = PolynomialFeatures(2)\n",
    "X_train = poly.fit_transform(X_train)\n",
    "X_test = poly.transform(X_test)"
   ]
  },
  {
   "cell_type": "code",
   "execution_count": 184,
   "id": "03209fbc",
   "metadata": {},
   "outputs": [
    {
     "name": "stdout",
     "output_type": "stream",
     "text": [
      "1.0\n",
      "0.8876888170182896\n"
     ]
    }
   ],
   "source": [
    "pip1[3].fit(X_train,y_train)\n",
    "\n",
    "print(pip1[3].score(X_train, y_train))\n",
    "print(pip1[3].score(X_test, y_test))"
   ]
  },
  {
   "cell_type": "markdown",
   "id": "0af790f1",
   "metadata": {},
   "source": [
    "On créant de nouvelles variables, on overfit de plus en plus sans vraiment améliorer le modèle du train et en baissant le score sur le test, donc ce n'est pas une bonne idée"
   ]
  },
  {
   "cell_type": "code",
   "execution_count": null,
   "id": "563e844e",
   "metadata": {},
   "outputs": [],
   "source": []
  }
 ],
 "metadata": {
  "kernelspec": {
   "display_name": "Python 3 (ipykernel)",
   "language": "python",
   "name": "python3"
  },
  "language_info": {
   "codemirror_mode": {
    "name": "ipython",
    "version": 3
   },
   "file_extension": ".py",
   "mimetype": "text/x-python",
   "name": "python",
   "nbconvert_exporter": "python",
   "pygments_lexer": "ipython3",
   "version": "3.8.15"
  }
 },
 "nbformat": 4,
 "nbformat_minor": 5
}
