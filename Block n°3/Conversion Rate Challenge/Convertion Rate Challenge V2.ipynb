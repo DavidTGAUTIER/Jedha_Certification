{
 "cells": [
  {
   "cell_type": "code",
   "execution_count": 1,
   "id": "42c4f66f",
   "metadata": {},
   "outputs": [],
   "source": [
    "import pandas as pd\n",
    "import numpy as np\n",
    "\n",
    "from sklearn.model_selection import train_test_split, GridSearchCV, RandomizedSearchCV, learning_curve, cross_val_score, KFold\n",
    "from sklearn.tree import DecisionTreeClassifier\n",
    "from sklearn.impute import SimpleImputer\n",
    "from sklearn.preprocessing import StandardScaler, OneHotEncoder\n",
    "from sklearn.pipeline import make_pipeline\n",
    "from sklearn.svm import SVC\n",
    "from sklearn.ensemble import RandomForestClassifier, VotingClassifier, StackingClassifier\n",
    "from sklearn.compose import make_column_transformer\n",
    "from sklearn.linear_model import LogisticRegression\n",
    "from sklearn.metrics import accuracy_score, f1_score, ConfusionMatrixDisplay, RocCurveDisplay, confusion_matrix, classification_report\n",
    "\n",
    "import warnings\n",
    "warnings.filterwarnings(\"ignore\")\n",
    "\n",
    "import matplotlib.pyplot as plt\n",
    "import seaborn as sns\n",
    "import plotly.express as px\n",
    "import plotly.graph_objects as go\n",
    "import plotly.io as pio\n",
    "# setting Jedha color palette as default\n",
    "pio.templates[\"jedha\"] = go.layout.Template(\n",
    "    layout_colorway=[\"#4B9AC7\", \"#4BE8E0\", \"#9DD4F3\", \"#97FBF6\", \"#2A7FAF\", \"#23B1AB\", \"#0E3449\", \"#015955\"]\n",
    ")\n",
    "pio.templates.default = \"jedha\"\n",
    "pio.renderers.default = \"svg\" # to be replaced by \"iframe\" if working on JULIE\n",
    "from IPython.display import display"
   ]
  },
  {
   "cell_type": "code",
   "execution_count": 2,
   "id": "70a3670a",
   "metadata": {},
   "outputs": [
    {
     "data": {
      "text/plain": [
       "(284580, 6)"
      ]
     },
     "execution_count": 2,
     "metadata": {},
     "output_type": "execute_result"
    }
   ],
   "source": [
    "df = pd.read_csv('conversion_data_train.csv')\n",
    "df.shape"
   ]
  },
  {
   "cell_type": "code",
   "execution_count": 3,
   "id": "925a0740",
   "metadata": {},
   "outputs": [],
   "source": [
    "categ_str_features = ['country', 'source']\n",
    "categ_int_features = ['new_user']\n",
    "numeric_features = ['age', 'total_pages_visited']\n",
    "target = 'converted'"
   ]
  },
  {
   "cell_type": "code",
   "execution_count": 110,
   "id": "bbbfcbcd",
   "metadata": {},
   "outputs": [],
   "source": [
    "X = df.iloc[:, :-1]\n",
    "y = df.loc[:, 'converted']\n",
    "\n",
    "X_train, X_test, y_train, y_test = train_test_split(X, y, test_size=0.1, random_state=0, stratify=y)"
   ]
  },
  {
   "cell_type": "code",
   "execution_count": 111,
   "id": "4fa91951",
   "metadata": {},
   "outputs": [],
   "source": [
    "numeric_features = ['age', 'total_pages_visited']\n",
    "categ_features = ['country', 'source', 'new_user']\n",
    "# numeric_features = ['total_pages_visited']\n",
    "# categ_features = ['new_user']\n",
    "\n",
    "num_transf = make_pipeline(\n",
    "    (SimpleImputer(strategy='mean')),\n",
    "    (StandardScaler())\n",
    ")\n",
    "\n",
    "categ_transf = OneHotEncoder(drop='first')\n",
    "\n",
    "preprocessor = make_column_transformer(\n",
    "    (num_transf, numeric_features),\n",
    "    (categ_transf, categ_features)\n",
    ")"
   ]
  },
  {
   "cell_type": "code",
   "execution_count": 112,
   "id": "25061405",
   "metadata": {},
   "outputs": [],
   "source": [
    "X_train = preprocessor.fit_transform(X_train)\n",
    "X_test = preprocessor.transform(X_test)"
   ]
  },
  {
   "cell_type": "code",
   "execution_count": 61,
   "id": "e56207f9",
   "metadata": {},
   "outputs": [
    {
     "data": {
      "text/plain": [
       "array([3.9186666e+10, 1.3062222e+09])"
      ]
     },
     "execution_count": 61,
     "metadata": {},
     "output_type": "execute_result"
    }
   ],
   "source": [
    "284580 / 2 * np.bincount(y)"
   ]
  },
  {
   "cell_type": "code",
   "execution_count": 151,
   "id": "5580c3d8",
   "metadata": {},
   "outputs": [],
   "source": [
    "model = LogisticRegression()"
   ]
  },
  {
   "cell_type": "code",
   "execution_count": 124,
   "id": "0cfa406d",
   "metadata": {},
   "outputs": [
    {
     "name": "stdout",
     "output_type": "stream",
     "text": [
      "0.986283878721137\n",
      "0.00020985533466930093\n"
     ]
    }
   ],
   "source": [
    "scores_lr = cross_val_score(model, X_train, y_train, cv=5)\n",
    "print(scores_lr.mean())\n",
    "print(scores_lr.std())"
   ]
  },
  {
   "cell_type": "code",
   "execution_count": 157,
   "id": "ebfdf546",
   "metadata": {},
   "outputs": [
    {
     "data": {
      "text/html": [
       "<style>#sk-container-id-32 {color: black;background-color: white;}#sk-container-id-32 pre{padding: 0;}#sk-container-id-32 div.sk-toggleable {background-color: white;}#sk-container-id-32 label.sk-toggleable__label {cursor: pointer;display: block;width: 100%;margin-bottom: 0;padding: 0.3em;box-sizing: border-box;text-align: center;}#sk-container-id-32 label.sk-toggleable__label-arrow:before {content: \"▸\";float: left;margin-right: 0.25em;color: #696969;}#sk-container-id-32 label.sk-toggleable__label-arrow:hover:before {color: black;}#sk-container-id-32 div.sk-estimator:hover label.sk-toggleable__label-arrow:before {color: black;}#sk-container-id-32 div.sk-toggleable__content {max-height: 0;max-width: 0;overflow: hidden;text-align: left;background-color: #f0f8ff;}#sk-container-id-32 div.sk-toggleable__content pre {margin: 0.2em;color: black;border-radius: 0.25em;background-color: #f0f8ff;}#sk-container-id-32 input.sk-toggleable__control:checked~div.sk-toggleable__content {max-height: 200px;max-width: 100%;overflow: auto;}#sk-container-id-32 input.sk-toggleable__control:checked~label.sk-toggleable__label-arrow:before {content: \"▾\";}#sk-container-id-32 div.sk-estimator input.sk-toggleable__control:checked~label.sk-toggleable__label {background-color: #d4ebff;}#sk-container-id-32 div.sk-label input.sk-toggleable__control:checked~label.sk-toggleable__label {background-color: #d4ebff;}#sk-container-id-32 input.sk-hidden--visually {border: 0;clip: rect(1px 1px 1px 1px);clip: rect(1px, 1px, 1px, 1px);height: 1px;margin: -1px;overflow: hidden;padding: 0;position: absolute;width: 1px;}#sk-container-id-32 div.sk-estimator {font-family: monospace;background-color: #f0f8ff;border: 1px dotted black;border-radius: 0.25em;box-sizing: border-box;margin-bottom: 0.5em;}#sk-container-id-32 div.sk-estimator:hover {background-color: #d4ebff;}#sk-container-id-32 div.sk-parallel-item::after {content: \"\";width: 100%;border-bottom: 1px solid gray;flex-grow: 1;}#sk-container-id-32 div.sk-label:hover label.sk-toggleable__label {background-color: #d4ebff;}#sk-container-id-32 div.sk-serial::before {content: \"\";position: absolute;border-left: 1px solid gray;box-sizing: border-box;top: 0;bottom: 0;left: 50%;z-index: 0;}#sk-container-id-32 div.sk-serial {display: flex;flex-direction: column;align-items: center;background-color: white;padding-right: 0.2em;padding-left: 0.2em;position: relative;}#sk-container-id-32 div.sk-item {position: relative;z-index: 1;}#sk-container-id-32 div.sk-parallel {display: flex;align-items: stretch;justify-content: center;background-color: white;position: relative;}#sk-container-id-32 div.sk-item::before, #sk-container-id-32 div.sk-parallel-item::before {content: \"\";position: absolute;border-left: 1px solid gray;box-sizing: border-box;top: 0;bottom: 0;left: 50%;z-index: -1;}#sk-container-id-32 div.sk-parallel-item {display: flex;flex-direction: column;z-index: 1;position: relative;background-color: white;}#sk-container-id-32 div.sk-parallel-item:first-child::after {align-self: flex-end;width: 50%;}#sk-container-id-32 div.sk-parallel-item:last-child::after {align-self: flex-start;width: 50%;}#sk-container-id-32 div.sk-parallel-item:only-child::after {width: 0;}#sk-container-id-32 div.sk-dashed-wrapped {border: 1px dashed gray;margin: 0 0.4em 0.5em 0.4em;box-sizing: border-box;padding-bottom: 0.4em;background-color: white;}#sk-container-id-32 div.sk-label label {font-family: monospace;font-weight: bold;display: inline-block;line-height: 1.2em;}#sk-container-id-32 div.sk-label-container {text-align: center;}#sk-container-id-32 div.sk-container {/* jupyter's `normalize.less` sets `[hidden] { display: none; }` but bootstrap.min.css set `[hidden] { display: none !important; }` so we also need the `!important` here to be able to override the default hidden behavior on the sphinx rendered scikit-learn.org. See: https://github.com/scikit-learn/scikit-learn/issues/21755 */display: inline-block !important;position: relative;}#sk-container-id-32 div.sk-text-repr-fallback {display: none;}</style><div id=\"sk-container-id-32\" class=\"sk-top-container\"><div class=\"sk-text-repr-fallback\"><pre>GridSearchCV(cv=10, estimator=LogisticRegression(),\n",
       "             param_grid={&#x27;C&#x27;: [1.025, 1.027, 1.029, 1.031, 1.032, 1.034],\n",
       "                         &#x27;penalty&#x27;: [&#x27;l1&#x27;, &#x27;l2&#x27;]})</pre><b>In a Jupyter environment, please rerun this cell to show the HTML representation or trust the notebook. <br />On GitHub, the HTML representation is unable to render, please try loading this page with nbviewer.org.</b></div><div class=\"sk-container\" hidden><div class=\"sk-item sk-dashed-wrapped\"><div class=\"sk-label-container\"><div class=\"sk-label sk-toggleable\"><input class=\"sk-toggleable__control sk-hidden--visually\" id=\"sk-estimator-id-94\" type=\"checkbox\" ><label for=\"sk-estimator-id-94\" class=\"sk-toggleable__label sk-toggleable__label-arrow\">GridSearchCV</label><div class=\"sk-toggleable__content\"><pre>GridSearchCV(cv=10, estimator=LogisticRegression(),\n",
       "             param_grid={&#x27;C&#x27;: [1.025, 1.027, 1.029, 1.031, 1.032, 1.034],\n",
       "                         &#x27;penalty&#x27;: [&#x27;l1&#x27;, &#x27;l2&#x27;]})</pre></div></div></div><div class=\"sk-parallel\"><div class=\"sk-parallel-item\"><div class=\"sk-item\"><div class=\"sk-label-container\"><div class=\"sk-label sk-toggleable\"><input class=\"sk-toggleable__control sk-hidden--visually\" id=\"sk-estimator-id-95\" type=\"checkbox\" ><label for=\"sk-estimator-id-95\" class=\"sk-toggleable__label sk-toggleable__label-arrow\">estimator: LogisticRegression</label><div class=\"sk-toggleable__content\"><pre>LogisticRegression()</pre></div></div></div><div class=\"sk-serial\"><div class=\"sk-item\"><div class=\"sk-estimator sk-toggleable\"><input class=\"sk-toggleable__control sk-hidden--visually\" id=\"sk-estimator-id-96\" type=\"checkbox\" ><label for=\"sk-estimator-id-96\" class=\"sk-toggleable__label sk-toggleable__label-arrow\">LogisticRegression</label><div class=\"sk-toggleable__content\"><pre>LogisticRegression()</pre></div></div></div></div></div></div></div></div></div></div>"
      ],
      "text/plain": [
       "GridSearchCV(cv=10, estimator=LogisticRegression(),\n",
       "             param_grid={'C': [1.025, 1.027, 1.029, 1.031, 1.032, 1.034],\n",
       "                         'penalty': ['l1', 'l2']})"
      ]
     },
     "execution_count": 157,
     "metadata": {},
     "output_type": "execute_result"
    }
   ],
   "source": [
    "# class_weight='balanced' ==> n_samples / (n_classes * np.bincount(y)) ==> \n",
    "params = {\n",
    "    'C' : [1.025, 1.027, 1.029, 1.031, 1.032,1.034],\n",
    "    'penalty' : ['l1','l2']\n",
    "}\n",
    "\n",
    "gridsearch_lr = GridSearchCV(model, param_grid = params, cv=10)\n",
    "gridsearch_lr.fit(X_train, y_train)"
   ]
  },
  {
   "cell_type": "code",
   "execution_count": 158,
   "id": "7407b401",
   "metadata": {},
   "outputs": [
    {
     "name": "stdout",
     "output_type": "stream",
     "text": [
      "Best hyperparameters :  {'C': 1.027, 'penalty': 'l2'}\n",
      "Best R2 score :  0.9862526435130908\n"
     ]
    }
   ],
   "source": [
    "print(\"Best hyperparameters : \", gridsearch_lr.best_params_)\n",
    "print(\"Best R2 score : \", gridsearch_lr.best_score_)"
   ]
  },
  {
   "cell_type": "code",
   "execution_count": 159,
   "id": "bad13834",
   "metadata": {},
   "outputs": [],
   "source": [
    "y_train_pred_lr = gridsearch_lr.predict(X_train)\n",
    "y_test_pred_lr = gridsearch_lr.predict(X_test)"
   ]
  },
  {
   "cell_type": "code",
   "execution_count": 160,
   "id": "b3fea37f",
   "metadata": {},
   "outputs": [
    {
     "name": "stdout",
     "output_type": "stream",
     "text": [
      "f1-score sur le train set :  0.7640283915896611\n",
      "f1-score sur le test set :  0.7595396729254997\n"
     ]
    }
   ],
   "source": [
    "print(\"f1-score sur le train set : \", f1_score(y_train, y_train_pred_lr))\n",
    "print(\"f1-score sur le test set : \", f1_score(y_test, y_test_pred_lr))"
   ]
  },
  {
   "cell_type": "code",
   "execution_count": 161,
   "id": "e70b0d69",
   "metadata": {},
   "outputs": [
    {
     "data": {
      "image/png": "[encoded data removed]",
      "text/plain": [
       "<Figure size 432x288 with 2 Axes>"
      ]
     },
     "metadata": {
      "needs_background": "light"
     },
     "output_type": "display_data"
    },
    {
     "data": {
      "image/png": "[encoded data removed]",
      "text/plain": [
       "<Figure size 432x288 with 2 Axes>"
      ]
     },
     "metadata": {
      "needs_background": "light"
     },
     "output_type": "display_data"
    }
   ],
   "source": [
    "_ , ax = plt.subplots() \n",
    "ax.set(title=\"Confusion Matrix on Train set\") \n",
    "ConfusionMatrixDisplay.from_estimator(gridsearch_lr, X_train, y_train, ax=ax) \n",
    "plt.show()\n",
    "\n",
    "_ , ax = plt.subplots() \n",
    "ax.set(title=\"Confusion Matrix on Test set\") \n",
    "ConfusionMatrixDisplay.from_estimator(gridsearch_lr, X_test, y_test, ax=ax) \n",
    "plt.show()"
   ]
  },
  {
   "cell_type": "code",
   "execution_count": 162,
   "id": "8ceceac9",
   "metadata": {},
   "outputs": [],
   "source": [
    "from xgboost import XGBClassifier"
   ]
  },
  {
   "cell_type": "code",
   "execution_count": 178,
   "id": "d82d4b00",
   "metadata": {},
   "outputs": [
    {
     "data": {
      "text/html": [
       "<style>#sk-container-id-36 {color: black;background-color: white;}#sk-container-id-36 pre{padding: 0;}#sk-container-id-36 div.sk-toggleable {background-color: white;}#sk-container-id-36 label.sk-toggleable__label {cursor: pointer;display: block;width: 100%;margin-bottom: 0;padding: 0.3em;box-sizing: border-box;text-align: center;}#sk-container-id-36 label.sk-toggleable__label-arrow:before {content: \"▸\";float: left;margin-right: 0.25em;color: #696969;}#sk-container-id-36 label.sk-toggleable__label-arrow:hover:before {color: black;}#sk-container-id-36 div.sk-estimator:hover label.sk-toggleable__label-arrow:before {color: black;}#sk-container-id-36 div.sk-toggleable__content {max-height: 0;max-width: 0;overflow: hidden;text-align: left;background-color: #f0f8ff;}#sk-container-id-36 div.sk-toggleable__content pre {margin: 0.2em;color: black;border-radius: 0.25em;background-color: #f0f8ff;}#sk-container-id-36 input.sk-toggleable__control:checked~div.sk-toggleable__content {max-height: 200px;max-width: 100%;overflow: auto;}#sk-container-id-36 input.sk-toggleable__control:checked~label.sk-toggleable__label-arrow:before {content: \"▾\";}#sk-container-id-36 div.sk-estimator input.sk-toggleable__control:checked~label.sk-toggleable__label {background-color: #d4ebff;}#sk-container-id-36 div.sk-label input.sk-toggleable__control:checked~label.sk-toggleable__label {background-color: #d4ebff;}#sk-container-id-36 input.sk-hidden--visually {border: 0;clip: rect(1px 1px 1px 1px);clip: rect(1px, 1px, 1px, 1px);height: 1px;margin: -1px;overflow: hidden;padding: 0;position: absolute;width: 1px;}#sk-container-id-36 div.sk-estimator {font-family: monospace;background-color: #f0f8ff;border: 1px dotted black;border-radius: 0.25em;box-sizing: border-box;margin-bottom: 0.5em;}#sk-container-id-36 div.sk-estimator:hover {background-color: #d4ebff;}#sk-container-id-36 div.sk-parallel-item::after {content: \"\";width: 100%;border-bottom: 1px solid gray;flex-grow: 1;}#sk-container-id-36 div.sk-label:hover label.sk-toggleable__label {background-color: #d4ebff;}#sk-container-id-36 div.sk-serial::before {content: \"\";position: absolute;border-left: 1px solid gray;box-sizing: border-box;top: 0;bottom: 0;left: 50%;z-index: 0;}#sk-container-id-36 div.sk-serial {display: flex;flex-direction: column;align-items: center;background-color: white;padding-right: 0.2em;padding-left: 0.2em;position: relative;}#sk-container-id-36 div.sk-item {position: relative;z-index: 1;}#sk-container-id-36 div.sk-parallel {display: flex;align-items: stretch;justify-content: center;background-color: white;position: relative;}#sk-container-id-36 div.sk-item::before, #sk-container-id-36 div.sk-parallel-item::before {content: \"\";position: absolute;border-left: 1px solid gray;box-sizing: border-box;top: 0;bottom: 0;left: 50%;z-index: -1;}#sk-container-id-36 div.sk-parallel-item {display: flex;flex-direction: column;z-index: 1;position: relative;background-color: white;}#sk-container-id-36 div.sk-parallel-item:first-child::after {align-self: flex-end;width: 50%;}#sk-container-id-36 div.sk-parallel-item:last-child::after {align-self: flex-start;width: 50%;}#sk-container-id-36 div.sk-parallel-item:only-child::after {width: 0;}#sk-container-id-36 div.sk-dashed-wrapped {border: 1px dashed gray;margin: 0 0.4em 0.5em 0.4em;box-sizing: border-box;padding-bottom: 0.4em;background-color: white;}#sk-container-id-36 div.sk-label label {font-family: monospace;font-weight: bold;display: inline-block;line-height: 1.2em;}#sk-container-id-36 div.sk-label-container {text-align: center;}#sk-container-id-36 div.sk-container {/* jupyter's `normalize.less` sets `[hidden] { display: none; }` but bootstrap.min.css set `[hidden] { display: none !important; }` so we also need the `!important` here to be able to override the default hidden behavior on the sphinx rendered scikit-learn.org. See: https://github.com/scikit-learn/scikit-learn/issues/21755 */display: inline-block !important;position: relative;}#sk-container-id-36 div.sk-text-repr-fallback {display: none;}</style><div id=\"sk-container-id-36\" class=\"sk-top-container\"><div class=\"sk-text-repr-fallback\"><pre>GridSearchCV(cv=10,\n",
       "             estimator=XGBClassifier(base_score=None, booster=None,\n",
       "                                     callbacks=None, colsample_bylevel=None,\n",
       "                                     colsample_bynode=None,\n",
       "                                     colsample_bytree=None,\n",
       "                                     early_stopping_rounds=None,\n",
       "                                     enable_categorical=False, eval_metric=None,\n",
       "                                     gamma=None, gpu_id=None, grow_policy=None,\n",
       "                                     importance_type=None,\n",
       "                                     interaction_constraints=None,\n",
       "                                     learning_rate=None, max_bin=None,\n",
       "                                     max_cat_to_onehot=None,\n",
       "                                     max_delta_step=None, max_depth=None,\n",
       "                                     max_leaves=None, min_child_weight=None,\n",
       "                                     missing=nan, monotone_constraints=None,\n",
       "                                     n_estimators=100, n_jobs=None,\n",
       "                                     num_parallel_tree=None, predictor=None,\n",
       "                                     random_state=None, reg_alpha=None,\n",
       "                                     reg_lambda=None, ...),\n",
       "             param_grid={&#x27;max_depth&#x27;: [4, 5, 6, 7, 8],\n",
       "                         &#x27;min_child_weight&#x27;: [3.5, 4.0, 5.0],\n",
       "                         &#x27;n_estimators&#x27;: [14, 15, 17, 20]})</pre><b>In a Jupyter environment, please rerun this cell to show the HTML representation or trust the notebook. <br />On GitHub, the HTML representation is unable to render, please try loading this page with nbviewer.org.</b></div><div class=\"sk-container\" hidden><div class=\"sk-item sk-dashed-wrapped\"><div class=\"sk-label-container\"><div class=\"sk-label sk-toggleable\"><input class=\"sk-toggleable__control sk-hidden--visually\" id=\"sk-estimator-id-106\" type=\"checkbox\" ><label for=\"sk-estimator-id-106\" class=\"sk-toggleable__label sk-toggleable__label-arrow\">GridSearchCV</label><div class=\"sk-toggleable__content\"><pre>GridSearchCV(cv=10,\n",
       "             estimator=XGBClassifier(base_score=None, booster=None,\n",
       "                                     callbacks=None, colsample_bylevel=None,\n",
       "                                     colsample_bynode=None,\n",
       "                                     colsample_bytree=None,\n",
       "                                     early_stopping_rounds=None,\n",
       "                                     enable_categorical=False, eval_metric=None,\n",
       "                                     gamma=None, gpu_id=None, grow_policy=None,\n",
       "                                     importance_type=None,\n",
       "                                     interaction_constraints=None,\n",
       "                                     learning_rate=None, max_bin=None,\n",
       "                                     max_cat_to_onehot=None,\n",
       "                                     max_delta_step=None, max_depth=None,\n",
       "                                     max_leaves=None, min_child_weight=None,\n",
       "                                     missing=nan, monotone_constraints=None,\n",
       "                                     n_estimators=100, n_jobs=None,\n",
       "                                     num_parallel_tree=None, predictor=None,\n",
       "                                     random_state=None, reg_alpha=None,\n",
       "                                     reg_lambda=None, ...),\n",
       "             param_grid={&#x27;max_depth&#x27;: [4, 5, 6, 7, 8],\n",
       "                         &#x27;min_child_weight&#x27;: [3.5, 4.0, 5.0],\n",
       "                         &#x27;n_estimators&#x27;: [14, 15, 17, 20]})</pre></div></div></div><div class=\"sk-parallel\"><div class=\"sk-parallel-item\"><div class=\"sk-item\"><div class=\"sk-label-container\"><div class=\"sk-label sk-toggleable\"><input class=\"sk-toggleable__control sk-hidden--visually\" id=\"sk-estimator-id-107\" type=\"checkbox\" ><label for=\"sk-estimator-id-107\" class=\"sk-toggleable__label sk-toggleable__label-arrow\">estimator: XGBClassifier</label><div class=\"sk-toggleable__content\"><pre>XGBClassifier(base_score=None, booster=None, callbacks=None,\n",
       "              colsample_bylevel=None, colsample_bynode=None,\n",
       "              colsample_bytree=None, early_stopping_rounds=None,\n",
       "              enable_categorical=False, eval_metric=None, gamma=None,\n",
       "              gpu_id=None, grow_policy=None, importance_type=None,\n",
       "              interaction_constraints=None, learning_rate=None, max_bin=None,\n",
       "              max_cat_to_onehot=None, max_delta_step=None, max_depth=None,\n",
       "              max_leaves=None, min_child_weight=None, missing=nan,\n",
       "              monotone_constraints=None, n_estimators=100, n_jobs=None,\n",
       "              num_parallel_tree=None, predictor=None, random_state=None,\n",
       "              reg_alpha=None, reg_lambda=None, ...)</pre></div></div></div><div class=\"sk-serial\"><div class=\"sk-item\"><div class=\"sk-estimator sk-toggleable\"><input class=\"sk-toggleable__control sk-hidden--visually\" id=\"sk-estimator-id-108\" type=\"checkbox\" ><label for=\"sk-estimator-id-108\" class=\"sk-toggleable__label sk-toggleable__label-arrow\">XGBClassifier</label><div class=\"sk-toggleable__content\"><pre>XGBClassifier(base_score=None, booster=None, callbacks=None,\n",
       "              colsample_bylevel=None, colsample_bynode=None,\n",
       "              colsample_bytree=None, early_stopping_rounds=None,\n",
       "              enable_categorical=False, eval_metric=None, gamma=None,\n",
       "              gpu_id=None, grow_policy=None, importance_type=None,\n",
       "              interaction_constraints=None, learning_rate=None, max_bin=None,\n",
       "              max_cat_to_onehot=None, max_delta_step=None, max_depth=None,\n",
       "              max_leaves=None, min_child_weight=None, missing=nan,\n",
       "              monotone_constraints=None, n_estimators=100, n_jobs=None,\n",
       "              num_parallel_tree=None, predictor=None, random_state=None,\n",
       "              reg_alpha=None, reg_lambda=None, ...)</pre></div></div></div></div></div></div></div></div></div></div>"
      ],
      "text/plain": [
       "GridSearchCV(cv=10,\n",
       "             estimator=XGBClassifier(base_score=None, booster=None,\n",
       "                                     callbacks=None, colsample_bylevel=None,\n",
       "                                     colsample_bynode=None,\n",
       "                                     colsample_bytree=None,\n",
       "                                     early_stopping_rounds=None,\n",
       "                                     enable_categorical=False, eval_metric=None,\n",
       "                                     gamma=None, gpu_id=None, grow_policy=None,\n",
       "                                     importance_type=None,\n",
       "                                     interaction_constraints=None,\n",
       "                                     learning_rate=None, max_bin=None,\n",
       "                                     max_cat_to_onehot=None,\n",
       "                                     max_delta_step=None, max_depth=None,\n",
       "                                     max_leaves=None, min_child_weight=None,\n",
       "                                     missing=nan, monotone_constraints=None,\n",
       "                                     n_estimators=100, n_jobs=None,\n",
       "                                     num_parallel_tree=None, predictor=None,\n",
       "                                     random_state=None, reg_alpha=None,\n",
       "                                     reg_lambda=None, ...),\n",
       "             param_grid={'max_depth': [4, 5, 6, 7, 8],\n",
       "                         'min_child_weight': [3.5, 4.0, 5.0],\n",
       "                         'n_estimators': [14, 15, 17, 20]})"
      ]
     },
     "execution_count": 178,
     "metadata": {},
     "output_type": "execute_result"
    }
   ],
   "source": [
    "xgboost = XGBClassifier()\n",
    "\n",
    "params = {\n",
    "    'max_depth': [4,5,6,7,8], # exactly the same role as in scikit-learn\n",
    "    'min_child_weight': [3.5,4.0,5.0], # effect is more or less similar to min_samples_leaf and min_samples_split\n",
    "    'n_estimators': [14,15,17,20] # exactly the same role as in scikit-learn\n",
    "}\n",
    "\n",
    "gridsearch = GridSearchCV(xgboost, param_grid = params, cv=10) \n",
    "gridsearch.fit(X_train, y_train)"
   ]
  },
  {
   "cell_type": "code",
   "execution_count": 179,
   "id": "8927cffb",
   "metadata": {},
   "outputs": [
    {
     "name": "stdout",
     "output_type": "stream",
     "text": [
      "Best hyperparameters :  {'max_depth': 4, 'min_child_weight': 3.5, 'n_estimators': 20}\n",
      "Best R2 score :  0.9861238011656814\n"
     ]
    }
   ],
   "source": [
    "print(\"Best hyperparameters : \", gridsearch.best_params_)\n",
    "print(\"Best R2 score : \", gridsearch.best_score_)"
   ]
  },
  {
   "cell_type": "code",
   "execution_count": 175,
   "id": "57416f65",
   "metadata": {},
   "outputs": [],
   "source": [
    "y_train_pred_xgboost = gridsearch.predict(X_train)\n",
    "y_test_pred_xgboost = gridsearch.predict(X_test)"
   ]
  },
  {
   "cell_type": "code",
   "execution_count": 176,
   "id": "06de140c",
   "metadata": {},
   "outputs": [
    {
     "name": "stdout",
     "output_type": "stream",
     "text": [
      "f1-score sur le train set :  0.7677882697167177\n",
      "f1-score sur le test set :  0.7568862275449102\n"
     ]
    }
   ],
   "source": [
    "print(\"f1-score sur le train set : \", f1_score(y_train, y_train_pred_xgboost))\n",
    "print(\"f1-score sur le test set : \", f1_score(y_test, y_test_pred_xgboost))"
   ]
  },
  {
   "cell_type": "code",
   "execution_count": 177,
   "id": "8af5ae4a",
   "metadata": {},
   "outputs": [
    {
     "data": {
      "image/png": "[encoded data removed]",
      "text/plain": [
       "<Figure size 432x288 with 2 Axes>"
      ]
     },
     "metadata": {
      "needs_background": "light"
     },
     "output_type": "display_data"
    },
    {
     "data": {
      "image/png": "[encoded data removed]",
      "text/plain": [
       "<Figure size 432x288 with 2 Axes>"
      ]
     },
     "metadata": {
      "needs_background": "light"
     },
     "output_type": "display_data"
    }
   ],
   "source": [
    "_ , ax = plt.subplots() \n",
    "ax.set(title=\"Confusion Matrix on Train set\") \n",
    "ConfusionMatrixDisplay.from_estimator(gridsearch, X_train, y_train, ax=ax) \n",
    "plt.show()\n",
    "\n",
    "_ , ax = plt.subplots() \n",
    "ax.set(title=\"Confusion Matrix on Test set\") \n",
    "ConfusionMatrixDisplay.from_estimator(gridsearch, X_test, y_test, ax=ax) \n",
    "plt.show()"
   ]
  },
  {
   "cell_type": "markdown",
   "id": "5ec07073",
   "metadata": {},
   "source": [
    "https://www.kaggle.com/code/prashant111/a-guide-on-xgboost-hyperparameters-tuning/notebook"
   ]
  },
  {
   "cell_type": "code",
   "execution_count": 181,
   "id": "5729f86b",
   "metadata": {},
   "outputs": [],
   "source": [
    "from hyperopt import STATUS_OK, Trials, fmin, hp, tpe\n",
    "\n",
    "space={'max_depth': hp.quniform(\"max_depth\", 3, 18, 1),\n",
    "        'gamma': hp.uniform ('gamma', 1,9),\n",
    "        'reg_alpha' : hp.quniform('reg_alpha', 40,180,1),\n",
    "        'reg_lambda' : hp.uniform('reg_lambda', 0,1),\n",
    "        'colsample_bytree' : hp.uniform('colsample_bytree', 0.5,1),\n",
    "        'min_child_weight' : hp.quniform('min_child_weight', 0, 10, 1),\n",
    "        'n_estimators': 180,\n",
    "        'seed': 0\n",
    "    }"
   ]
  },
  {
   "cell_type": "code",
   "execution_count": 184,
   "id": "c5b62f78",
   "metadata": {},
   "outputs": [],
   "source": [
    "def objective(space):\n",
    "    clf=XGBClassifier(\n",
    "                    n_estimators =space['n_estimators'],\n",
    "                    max_depth = int(space['max_depth']),\n",
    "                    gamma = space['gamma'],\n",
    "                    reg_alpha = int(space['reg_alpha']),\n",
    "                    min_child_weight=int(space['min_child_weight']),\n",
    "                    colsample_bytree=int(space['colsample_bytree']))\n",
    "    \n",
    "    evaluation = [( X_train, y_train), ( X_test, y_test)]\n",
    "    \n",
    "    clf.fit(X_train, y_train,\n",
    "            eval_set=evaluation,\n",
    "            eval_metric=\"auc\",\n",
    "            early_stopping_rounds=10,\n",
    "            verbose=False)\n",
    "    \n",
    "\n",
    "    pred = clf.predict(X_test)\n",
    "    accuracy = accuracy_score(y_test, pred>0.5)\n",
    "    print (\"SCORE:\", accuracy)\n",
    "    return {'loss': -accuracy, 'status': STATUS_OK }"
   ]
  },
  {
   "cell_type": "code",
   "execution_count": 185,
   "id": "e3a80a1a",
   "metadata": {
    "scrolled": true
   },
   "outputs": [
    {
     "name": "stdout",
     "output_type": "stream",
     "text": [
      "SCORE:                                                                                                                 \n",
      "0.9853468269028042                                                                                                     \n",
      "SCORE:                                                                                                                 \n",
      "0.985663082437276                                                                                                      \n",
      "SCORE:                                                                                                                 \n",
      "0.9835547122074636                                                                                                     \n",
      "SCORE:                                                                                                                 \n",
      "0.9847494553376906                                                                                                     \n",
      "SCORE:                                                                                                                 \n",
      "0.984292641787898                                                                                                      \n",
      "SCORE:                                                                                                                 \n",
      "0.9841520837725771                                                                                                     \n",
      "SCORE:                                                                                                                 \n",
      "0.9853819664066343                                                                                                     \n",
      "SCORE:                                                                                                                 \n",
      "0.9842575022840677                                                                                                     \n",
      "SCORE:                                                                                                                 \n",
      "0.9839763862534261                                                                                                     \n",
      "SCORE:                                                                                                                 \n",
      "0.984116944268747                                                                                                      \n",
      "SCORE:                                                                                                                 \n",
      "0.9839061072457657                                                                                                     \n",
      "SCORE:                                                                                                                 \n",
      "0.9854171059104645                                                                                                     \n",
      "SCORE:                                                                                                                 \n",
      "0.9847845948415208                                                                                                     \n",
      "SCORE:                                                                                                                 \n",
      "0.9841520837725771                                                                                                     \n",
      "SCORE:                                                                                                                 \n",
      "0.9854171059104645                                                                                                     \n",
      "SCORE:                                                                                                                 \n",
      "0.9840115257572563                                                                                                     \n",
      "SCORE:                                                                                                                 \n",
      "0.9854873849181249                                                                                                     \n",
      "SCORE:                                                                                                                 \n",
      "0.9841520837725771                                                                                                     \n",
      "SCORE:                                                                                                                 \n",
      "0.9846088973223698                                                                                                     \n",
      "SCORE:                                                                                                                 \n",
      "0.9839061072457657                                                                                                     \n",
      "SCORE:                                                                                                                 \n",
      "0.9847494553376906                                                                                                     \n",
      "SCORE:                                                                                                                 \n",
      "0.9854171059104645                                                                                                     \n",
      "SCORE:                                                                                                                 \n",
      "0.9854171059104645                                                                                                     \n",
      "SCORE:                                                                                                                 \n",
      "0.9848548738491812                                                                                                     \n",
      "SCORE:                                                                                                                 \n",
      "0.9847845948415208                                                                                                     \n",
      "SCORE:                                                                                                                 \n",
      "0.9854873849181249                                                                                                     \n",
      "SCORE:                                                                                                                 \n",
      "0.9853116873989739                                                                                                     \n",
      "SCORE:                                                                                                                 \n",
      "0.984116944268747                                                                                                      \n",
      "SCORE:                                                                                                                 \n",
      "0.9854171059104645                                                                                                     \n",
      "SCORE:                                                                                                                 \n",
      "0.9853819664066343                                                                                                     \n",
      "SCORE:                                                                                                                 \n",
      "0.9848197343453511                                                                                                     \n",
      "SCORE:                                                                                                                 \n",
      "0.9854171059104645                                                                                                     \n",
      "SCORE:                                                                                                                 \n",
      "0.9855928034296155                                                                                                     \n",
      "SCORE:                                                                                                                 \n",
      "0.9847494553376906                                                                                                     \n",
      "SCORE:                                                                                                                 \n",
      "0.9853819664066343                                                                                                     \n",
      "SCORE:                                                                                                                 \n",
      "0.9853819664066343                                                                                                     \n",
      "SCORE:                                                                                                                 \n",
      "0.9848548738491812                                                                                                     \n",
      "SCORE:                                                                                                                 \n",
      "0.984116944268747                                                                                                      \n",
      "SCORE:                                                                                                                 \n",
      "0.9855576639257854                                                                                                     \n",
      "SCORE:                                                                                                                 \n",
      "0.9848548738491812                                                                                                     \n",
      "SCORE:                                                                                                                 \n",
      "0.9854171059104645                                                                                                     \n",
      "SCORE:                                                                                                                 \n",
      "0.9854171059104645                                                                                                     \n",
      "SCORE:                                                                                                                 \n",
      "0.9847845948415208                                                                                                     \n",
      "SCORE:                                                                                                                 \n",
      "0.9841520837725771                                                                                                     \n",
      "SCORE:                                                                                                                 \n",
      "0.985663082437276                                                                                                      \n",
      "SCORE:                                                                                                                 \n",
      "0.9854171059104645                                                                                                     \n",
      "SCORE:                                                                                                                 \n",
      "0.9847845948415208                                                                                                     \n",
      "SCORE:                                                                                                                 \n",
      "0.9843629207955583                                                                                                     \n",
      "SCORE:                                                                                                                 \n",
      "0.9841520837725771                                                                                                     \n",
      "SCORE:                                                                                                                 \n",
      "0.9848548738491812                                                                                                     \n",
      "SCORE:                                                                                                                 \n",
      "0.9853116873989739                                                                                                     \n",
      "SCORE:                                                                                                                 \n",
      "0.9841520837725771                                                                                                     \n",
      "SCORE:                                                                                                                 \n",
      "0.9854171059104645                                                                                                     \n",
      "SCORE:                                                                                                                 \n",
      "0.9838358282381052                                                                                                     \n",
      "SCORE:                                                                                                                 \n",
      "0.9854873849181249                                                                                                     \n",
      "SCORE:                                                                                                                 \n",
      "0.9852765478951437                                                                                                     \n",
      "SCORE:                                                                                                                 \n",
      "0.9848197343453511                                                                                                     \n",
      "SCORE:                                                                                                                 \n",
      "0.9852765478951437                                                                                                     \n",
      "SCORE:                                                                                                                 \n",
      "0.9838709677419355                                                                                                     \n",
      "SCORE:                                                                                                                 \n",
      "0.9853116873989739                                                                                                     \n",
      "SCORE:                                                                                                                 \n",
      "0.9845386183147093                                                                                                     \n",
      "SCORE:                                                                                                                 \n",
      "0.9838358282381052                                                                                                     \n",
      "SCORE:                                                                                                                 \n",
      "0.9854171059104645                                                                                                     \n",
      "SCORE:                                                                                                                 \n",
      "0.9854171059104645                                                                                                     \n",
      "SCORE:                                                                                                                 \n",
      "0.9847845948415208                                                                                                     \n",
      "SCORE:                                                                                                                 \n",
      "0.9855576639257854                                                                                                     \n",
      "SCORE:                                                                                                                 \n",
      "0.9853819664066343                                                                                                     \n",
      "SCORE:                                                                                                                 \n",
      "0.9853819664066343                                                                                                     \n"
     ]
    },
    {
     "name": "stdout",
     "output_type": "stream",
     "text": [
      "SCORE:                                                                                                                 \n",
      "0.9855576639257854                                                                                                     \n",
      "SCORE:                                                                                                                 \n",
      "0.9847845948415208                                                                                                     \n",
      "SCORE:                                                                                                                 \n",
      "0.9854171059104645                                                                                                     \n",
      "SCORE:                                                                                                                 \n",
      "0.9854171059104645                                                                                                     \n",
      "SCORE:                                                                                                                 \n",
      "0.9854873849181249                                                                                                     \n",
      "SCORE:                                                                                                                 \n",
      "0.9854171059104645                                                                                                     \n",
      "SCORE:                                                                                                                 \n",
      "0.9853819664066343                                                                                                     \n",
      "SCORE:                                                                                                                 \n",
      "0.9853819664066343                                                                                                     \n",
      "SCORE:                                                                                                                 \n",
      "0.9848548738491812                                                                                                     \n",
      "SCORE:                                                                                                                 \n",
      "0.9854171059104645                                                                                                     \n",
      "SCORE:                                                                                                                 \n",
      "0.9854171059104645                                                                                                     \n",
      "SCORE:                                                                                                                 \n",
      "0.9847494553376906                                                                                                     \n",
      "SCORE:                                                                                                                 \n",
      "0.9854171059104645                                                                                                     \n",
      "SCORE:                                                                                                                 \n",
      "0.9846088973223698                                                                                                     \n",
      "SCORE:                                                                                                                 \n",
      "0.9847845948415208                                                                                                     \n",
      "SCORE:                                                                                                                 \n",
      "0.9854171059104645                                                                                                     \n",
      "SCORE:                                                                                                                 \n",
      "0.9854873849181249                                                                                                     \n",
      "SCORE:                                                                                                                 \n",
      "0.9853819664066343                                                                                                     \n",
      "SCORE:                                                                                                                 \n",
      "0.9839412467495959                                                                                                     \n",
      "SCORE:                                                                                                                 \n",
      "0.9853116873989739                                                                                                     \n",
      "SCORE:                                                                                                                 \n",
      "0.9853819664066343                                                                                                     \n",
      "SCORE:                                                                                                                 \n",
      "0.9842223627802376                                                                                                     \n",
      "SCORE:                                                                                                                 \n",
      "0.9854171059104645                                                                                                     \n",
      "SCORE:                                                                                                                 \n",
      "0.9849251528568417                                                                                                     \n",
      "SCORE:                                                                                                                 \n",
      "0.9846088973223698                                                                                                     \n",
      "SCORE:                                                                                                                 \n",
      "0.9847845948415208                                                                                                     \n",
      "SCORE:                                                                                                                 \n",
      "0.9848197343453511                                                                                                     \n",
      "SCORE:                                                                                                                 \n",
      "0.9854171059104645                                                                                                     \n",
      "SCORE:                                                                                                                 \n",
      "0.9852765478951437                                                                                                     \n",
      "SCORE:                                                                                                                 \n",
      "0.9854873849181249                                                                                                     \n",
      "SCORE:                                                                                                                 \n",
      "0.9855928034296155                                                                                                     \n",
      "SCORE:                                                                                                                 \n",
      "0.9853819664066343                                                                                                     \n",
      "100%|██████████████████████████████████████████████| 100/100 [07:31<00:00,  4.51s/trial, best loss: -0.985663082437276]\n"
     ]
    }
   ],
   "source": [
    "trials = Trials()\n",
    "\n",
    "best_hyperparams = fmin(fn = objective,\n",
    "                        space = space,\n",
    "                        algo = tpe.suggest,\n",
    "                        max_evals = 100,\n",
    "                        trials = trials)"
   ]
  },
  {
   "cell_type": "code",
   "execution_count": 186,
   "id": "9f9f99e7",
   "metadata": {},
   "outputs": [
    {
     "name": "stdout",
     "output_type": "stream",
     "text": [
      "The best hyperparameters are :  \n",
      "\n",
      "{'colsample_bytree': 0.5932617287877644, 'gamma': 1.3650137578892094, 'max_depth': 6.0, 'min_child_weight': 3.0, 'reg_alpha': 51.0, 'reg_lambda': 0.8217358660799771}\n"
     ]
    }
   ],
   "source": [
    "print(\"The best hyperparameters are : \",\"\\n\")\n",
    "print(best_hyperparams)"
   ]
  },
  {
   "cell_type": "code",
   "execution_count": 194,
   "id": "9635ccf1",
   "metadata": {},
   "outputs": [],
   "source": [
    "xgboost = XGBClassifier(\n",
    "     colsample_bytree=0.5932617287877644,\n",
    "     gamma=1.3650137578892094,\n",
    "     max_depth=6,\n",
    "     min_child_weight=3.0, \n",
    "     reg_alpha=51.0, \n",
    "     reg_lambda=0.8217358660799771\n",
    ")"
   ]
  },
  {
   "cell_type": "code",
   "execution_count": 195,
   "id": "fabe932e",
   "metadata": {},
   "outputs": [
    {
     "data": {
      "text/html": [
       "<style>#sk-container-id-37 {color: black;background-color: white;}#sk-container-id-37 pre{padding: 0;}#sk-container-id-37 div.sk-toggleable {background-color: white;}#sk-container-id-37 label.sk-toggleable__label {cursor: pointer;display: block;width: 100%;margin-bottom: 0;padding: 0.3em;box-sizing: border-box;text-align: center;}#sk-container-id-37 label.sk-toggleable__label-arrow:before {content: \"▸\";float: left;margin-right: 0.25em;color: #696969;}#sk-container-id-37 label.sk-toggleable__label-arrow:hover:before {color: black;}#sk-container-id-37 div.sk-estimator:hover label.sk-toggleable__label-arrow:before {color: black;}#sk-container-id-37 div.sk-toggleable__content {max-height: 0;max-width: 0;overflow: hidden;text-align: left;background-color: #f0f8ff;}#sk-container-id-37 div.sk-toggleable__content pre {margin: 0.2em;color: black;border-radius: 0.25em;background-color: #f0f8ff;}#sk-container-id-37 input.sk-toggleable__control:checked~div.sk-toggleable__content {max-height: 200px;max-width: 100%;overflow: auto;}#sk-container-id-37 input.sk-toggleable__control:checked~label.sk-toggleable__label-arrow:before {content: \"▾\";}#sk-container-id-37 div.sk-estimator input.sk-toggleable__control:checked~label.sk-toggleable__label {background-color: #d4ebff;}#sk-container-id-37 div.sk-label input.sk-toggleable__control:checked~label.sk-toggleable__label {background-color: #d4ebff;}#sk-container-id-37 input.sk-hidden--visually {border: 0;clip: rect(1px 1px 1px 1px);clip: rect(1px, 1px, 1px, 1px);height: 1px;margin: -1px;overflow: hidden;padding: 0;position: absolute;width: 1px;}#sk-container-id-37 div.sk-estimator {font-family: monospace;background-color: #f0f8ff;border: 1px dotted black;border-radius: 0.25em;box-sizing: border-box;margin-bottom: 0.5em;}#sk-container-id-37 div.sk-estimator:hover {background-color: #d4ebff;}#sk-container-id-37 div.sk-parallel-item::after {content: \"\";width: 100%;border-bottom: 1px solid gray;flex-grow: 1;}#sk-container-id-37 div.sk-label:hover label.sk-toggleable__label {background-color: #d4ebff;}#sk-container-id-37 div.sk-serial::before {content: \"\";position: absolute;border-left: 1px solid gray;box-sizing: border-box;top: 0;bottom: 0;left: 50%;z-index: 0;}#sk-container-id-37 div.sk-serial {display: flex;flex-direction: column;align-items: center;background-color: white;padding-right: 0.2em;padding-left: 0.2em;position: relative;}#sk-container-id-37 div.sk-item {position: relative;z-index: 1;}#sk-container-id-37 div.sk-parallel {display: flex;align-items: stretch;justify-content: center;background-color: white;position: relative;}#sk-container-id-37 div.sk-item::before, #sk-container-id-37 div.sk-parallel-item::before {content: \"\";position: absolute;border-left: 1px solid gray;box-sizing: border-box;top: 0;bottom: 0;left: 50%;z-index: -1;}#sk-container-id-37 div.sk-parallel-item {display: flex;flex-direction: column;z-index: 1;position: relative;background-color: white;}#sk-container-id-37 div.sk-parallel-item:first-child::after {align-self: flex-end;width: 50%;}#sk-container-id-37 div.sk-parallel-item:last-child::after {align-self: flex-start;width: 50%;}#sk-container-id-37 div.sk-parallel-item:only-child::after {width: 0;}#sk-container-id-37 div.sk-dashed-wrapped {border: 1px dashed gray;margin: 0 0.4em 0.5em 0.4em;box-sizing: border-box;padding-bottom: 0.4em;background-color: white;}#sk-container-id-37 div.sk-label label {font-family: monospace;font-weight: bold;display: inline-block;line-height: 1.2em;}#sk-container-id-37 div.sk-label-container {text-align: center;}#sk-container-id-37 div.sk-container {/* jupyter's `normalize.less` sets `[hidden] { display: none; }` but bootstrap.min.css set `[hidden] { display: none !important; }` so we also need the `!important` here to be able to override the default hidden behavior on the sphinx rendered scikit-learn.org. See: https://github.com/scikit-learn/scikit-learn/issues/21755 */display: inline-block !important;position: relative;}#sk-container-id-37 div.sk-text-repr-fallback {display: none;}</style><div id=\"sk-container-id-37\" class=\"sk-top-container\"><div class=\"sk-text-repr-fallback\"><pre>XGBClassifier(base_score=0.5, booster=&#x27;gbtree&#x27;, callbacks=None,\n",
       "              colsample_bylevel=1, colsample_bynode=1,\n",
       "              colsample_bytree=0.5932617287877644, early_stopping_rounds=None,\n",
       "              enable_categorical=False, eval_metric=None,\n",
       "              gamma=1.3650137578892094, gpu_id=-1, grow_policy=&#x27;depthwise&#x27;,\n",
       "              importance_type=None, interaction_constraints=&#x27;&#x27;,\n",
       "              learning_rate=0.300000012, max_bin=256, max_cat_to_onehot=4,\n",
       "              max_delta_step=0, max_depth=6, max_leaves=0, min_child_weight=3.0,\n",
       "              missing=nan, monotone_constraints=&#x27;()&#x27;, n_estimators=100,\n",
       "              n_jobs=0, num_parallel_tree=1, predictor=&#x27;auto&#x27;, random_state=0,\n",
       "              reg_alpha=51.0, reg_lambda=0.8217358660799771, ...)</pre><b>In a Jupyter environment, please rerun this cell to show the HTML representation or trust the notebook. <br />On GitHub, the HTML representation is unable to render, please try loading this page with nbviewer.org.</b></div><div class=\"sk-container\" hidden><div class=\"sk-item\"><div class=\"sk-estimator sk-toggleable\"><input class=\"sk-toggleable__control sk-hidden--visually\" id=\"sk-estimator-id-109\" type=\"checkbox\" checked><label for=\"sk-estimator-id-109\" class=\"sk-toggleable__label sk-toggleable__label-arrow\">XGBClassifier</label><div class=\"sk-toggleable__content\"><pre>XGBClassifier(base_score=0.5, booster=&#x27;gbtree&#x27;, callbacks=None,\n",
       "              colsample_bylevel=1, colsample_bynode=1,\n",
       "              colsample_bytree=0.5932617287877644, early_stopping_rounds=None,\n",
       "              enable_categorical=False, eval_metric=None,\n",
       "              gamma=1.3650137578892094, gpu_id=-1, grow_policy=&#x27;depthwise&#x27;,\n",
       "              importance_type=None, interaction_constraints=&#x27;&#x27;,\n",
       "              learning_rate=0.300000012, max_bin=256, max_cat_to_onehot=4,\n",
       "              max_delta_step=0, max_depth=6, max_leaves=0, min_child_weight=3.0,\n",
       "              missing=nan, monotone_constraints=&#x27;()&#x27;, n_estimators=100,\n",
       "              n_jobs=0, num_parallel_tree=1, predictor=&#x27;auto&#x27;, random_state=0,\n",
       "              reg_alpha=51.0, reg_lambda=0.8217358660799771, ...)</pre></div></div></div></div></div>"
      ],
      "text/plain": [
       "XGBClassifier(base_score=0.5, booster='gbtree', callbacks=None,\n",
       "              colsample_bylevel=1, colsample_bynode=1,\n",
       "              colsample_bytree=0.5932617287877644, early_stopping_rounds=None,\n",
       "              enable_categorical=False, eval_metric=None,\n",
       "              gamma=1.3650137578892094, gpu_id=-1, grow_policy='depthwise',\n",
       "              importance_type=None, interaction_constraints='',\n",
       "              learning_rate=0.300000012, max_bin=256, max_cat_to_onehot=4,\n",
       "              max_delta_step=0, max_depth=6, max_leaves=0, min_child_weight=3.0,\n",
       "              missing=nan, monotone_constraints='()', n_estimators=100,\n",
       "              n_jobs=0, num_parallel_tree=1, predictor='auto', random_state=0,\n",
       "              reg_alpha=51.0, reg_lambda=0.8217358660799771, ...)"
      ]
     },
     "execution_count": 195,
     "metadata": {},
     "output_type": "execute_result"
    }
   ],
   "source": [
    "evaluation = [( X_train, y_train), ( X_test, y_test)]\n",
    "\n",
    "xgboost.fit(X_train, y_train,\n",
    "            eval_set=evaluation,\n",
    "            eval_metric=\"auc\",\n",
    "            early_stopping_rounds=10,\n",
    "            verbose=False)"
   ]
  },
  {
   "cell_type": "code",
   "execution_count": 200,
   "id": "0af9efbd",
   "metadata": {},
   "outputs": [],
   "source": [
    "y_train_pred_xgboost = xgboost.predict(X_train)\n",
    "y_test_pred_xgboost = xgboost.predict(X_test)"
   ]
  },
  {
   "cell_type": "code",
   "execution_count": 201,
   "id": "3c545268",
   "metadata": {},
   "outputs": [
    {
     "name": "stdout",
     "output_type": "stream",
     "text": [
      "f1-score sur le train set :  0.7652544630961896\n",
      "f1-score sur le test set :  0.7570485902819436\n"
     ]
    }
   ],
   "source": [
    "print(\"f1-score sur le train set : \", f1_score(y_train, y_train_pred_xgboost))\n",
    "print(\"f1-score sur le test set : \", f1_score(y_test, y_test_pred_xgboost))"
   ]
  },
  {
   "cell_type": "code",
   "execution_count": 202,
   "id": "58ae6780",
   "metadata": {},
   "outputs": [
    {
     "data": {
      "image/png": "[encoded data removed]",
      "text/plain": [
       "<Figure size 432x288 with 2 Axes>"
      ]
     },
     "metadata": {
      "needs_background": "light"
     },
     "output_type": "display_data"
    },
    {
     "data": {
      "image/png": "[encoded data removed]",
      "text/plain": [
       "<Figure size 432x288 with 2 Axes>"
      ]
     },
     "metadata": {
      "needs_background": "light"
     },
     "output_type": "display_data"
    }
   ],
   "source": [
    "_ , ax = plt.subplots() \n",
    "ax.set(title=\"Confusion Matrix on Train set\") \n",
    "ConfusionMatrixDisplay.from_estimator(xgboost, X_train, y_train, ax=ax) \n",
    "plt.show()\n",
    "\n",
    "_ , ax = plt.subplots() \n",
    "ax.set(title=\"Confusion Matrix on Test set\") \n",
    "ConfusionMatrixDisplay.from_estimator(xgboost, X_test, y_test, ax=ax) \n",
    "plt.show()"
   ]
  },
  {
   "cell_type": "code",
   "execution_count": 203,
   "id": "b81c079a",
   "metadata": {},
   "outputs": [],
   "source": [
    "import pickle\n",
    "\n",
    "with open('xgboost_model', 'wb') as f:\n",
    "    pickle.dump(xgboost, f)"
   ]
  },
  {
   "cell_type": "code",
   "execution_count": 204,
   "id": "0daf0c86",
   "metadata": {},
   "outputs": [],
   "source": [
    "data_without_labels = pd.read_csv('conversion_data_test.csv')"
   ]
  },
  {
   "cell_type": "code",
   "execution_count": 205,
   "id": "0bb6c0a8",
   "metadata": {},
   "outputs": [
    {
     "data": {
      "text/html": [
       "<div>\n",
       "<style scoped>\n",
       "    .dataframe tbody tr th:only-of-type {\n",
       "        vertical-align: middle;\n",
       "    }\n",
       "\n",
       "    .dataframe tbody tr th {\n",
       "        vertical-align: top;\n",
       "    }\n",
       "\n",
       "    .dataframe thead th {\n",
       "        text-align: right;\n",
       "    }\n",
       "</style>\n",
       "<table border=\"1\" class=\"dataframe\">\n",
       "  <thead>\n",
       "    <tr style=\"text-align: right;\">\n",
       "      <th></th>\n",
       "      <th>country</th>\n",
       "      <th>age</th>\n",
       "      <th>new_user</th>\n",
       "      <th>source</th>\n",
       "      <th>total_pages_visited</th>\n",
       "    </tr>\n",
       "  </thead>\n",
       "  <tbody>\n",
       "    <tr>\n",
       "      <th>0</th>\n",
       "      <td>UK</td>\n",
       "      <td>28</td>\n",
       "      <td>0</td>\n",
       "      <td>Seo</td>\n",
       "      <td>16</td>\n",
       "    </tr>\n",
       "    <tr>\n",
       "      <th>1</th>\n",
       "      <td>UK</td>\n",
       "      <td>22</td>\n",
       "      <td>1</td>\n",
       "      <td>Direct</td>\n",
       "      <td>5</td>\n",
       "    </tr>\n",
       "    <tr>\n",
       "      <th>2</th>\n",
       "      <td>China</td>\n",
       "      <td>32</td>\n",
       "      <td>1</td>\n",
       "      <td>Seo</td>\n",
       "      <td>1</td>\n",
       "    </tr>\n",
       "    <tr>\n",
       "      <th>3</th>\n",
       "      <td>US</td>\n",
       "      <td>32</td>\n",
       "      <td>1</td>\n",
       "      <td>Ads</td>\n",
       "      <td>6</td>\n",
       "    </tr>\n",
       "    <tr>\n",
       "      <th>4</th>\n",
       "      <td>China</td>\n",
       "      <td>25</td>\n",
       "      <td>0</td>\n",
       "      <td>Seo</td>\n",
       "      <td>3</td>\n",
       "    </tr>\n",
       "  </tbody>\n",
       "</table>\n",
       "</div>"
      ],
      "text/plain": [
       "  country  age  new_user  source  total_pages_visited\n",
       "0      UK   28         0     Seo                   16\n",
       "1      UK   22         1  Direct                    5\n",
       "2   China   32         1     Seo                    1\n",
       "3      US   32         1     Ads                    6\n",
       "4   China   25         0     Seo                    3"
      ]
     },
     "execution_count": 205,
     "metadata": {},
     "output_type": "execute_result"
    }
   ],
   "source": [
    "data_without_labels.head()"
   ]
  },
  {
   "cell_type": "code",
   "execution_count": 206,
   "id": "54e9f2f5",
   "metadata": {},
   "outputs": [],
   "source": [
    "X = preprocessor.transform(data_without_labels)"
   ]
  },
  {
   "cell_type": "code",
   "execution_count": 208,
   "id": "64c35ef4",
   "metadata": {},
   "outputs": [],
   "source": [
    "data = {\n",
    "    'converted': xgboost.predict(X)\n",
    "}"
   ]
  },
  {
   "cell_type": "code",
   "execution_count": 209,
   "id": "30d47262",
   "metadata": {},
   "outputs": [],
   "source": [
    "y_predictions = pd.DataFrame(columns=['converted'],data=data)\n",
    "y_predictions.to_csv('conversion_data_test_predictions_david.csv', index=False)"
   ]
  },
  {
   "cell_type": "code",
   "execution_count": 210,
   "id": "f64f5f1b",
   "metadata": {},
   "outputs": [
    {
     "data": {
      "text/html": [
       "<div>\n",
       "<style scoped>\n",
       "    .dataframe tbody tr th:only-of-type {\n",
       "        vertical-align: middle;\n",
       "    }\n",
       "\n",
       "    .dataframe tbody tr th {\n",
       "        vertical-align: top;\n",
       "    }\n",
       "\n",
       "    .dataframe thead th {\n",
       "        text-align: right;\n",
       "    }\n",
       "</style>\n",
       "<table border=\"1\" class=\"dataframe\">\n",
       "  <thead>\n",
       "    <tr style=\"text-align: right;\">\n",
       "      <th></th>\n",
       "      <th>converted</th>\n",
       "    </tr>\n",
       "  </thead>\n",
       "  <tbody>\n",
       "    <tr>\n",
       "      <th>0</th>\n",
       "      <td>1</td>\n",
       "    </tr>\n",
       "    <tr>\n",
       "      <th>1</th>\n",
       "      <td>0</td>\n",
       "    </tr>\n",
       "    <tr>\n",
       "      <th>2</th>\n",
       "      <td>0</td>\n",
       "    </tr>\n",
       "    <tr>\n",
       "      <th>3</th>\n",
       "      <td>0</td>\n",
       "    </tr>\n",
       "    <tr>\n",
       "      <th>4</th>\n",
       "      <td>0</td>\n",
       "    </tr>\n",
       "    <tr>\n",
       "      <th>...</th>\n",
       "      <td>...</td>\n",
       "    </tr>\n",
       "    <tr>\n",
       "      <th>31615</th>\n",
       "      <td>0</td>\n",
       "    </tr>\n",
       "    <tr>\n",
       "      <th>31616</th>\n",
       "      <td>0</td>\n",
       "    </tr>\n",
       "    <tr>\n",
       "      <th>31617</th>\n",
       "      <td>0</td>\n",
       "    </tr>\n",
       "    <tr>\n",
       "      <th>31618</th>\n",
       "      <td>0</td>\n",
       "    </tr>\n",
       "    <tr>\n",
       "      <th>31619</th>\n",
       "      <td>0</td>\n",
       "    </tr>\n",
       "  </tbody>\n",
       "</table>\n",
       "<p>31620 rows × 1 columns</p>\n",
       "</div>"
      ],
      "text/plain": [
       "       converted\n",
       "0              1\n",
       "1              0\n",
       "2              0\n",
       "3              0\n",
       "4              0\n",
       "...          ...\n",
       "31615          0\n",
       "31616          0\n",
       "31617          0\n",
       "31618          0\n",
       "31619          0\n",
       "\n",
       "[31620 rows x 1 columns]"
      ]
     },
     "execution_count": 210,
     "metadata": {},
     "output_type": "execute_result"
    }
   ],
   "source": [
    "y_predictions"
   ]
  },
  {
   "cell_type": "code",
   "execution_count": 211,
   "id": "caec5df0",
   "metadata": {},
   "outputs": [],
   "source": [
    "with open('svc_proba_model', 'rb') as f:\n",
    "    svc = pickle.load(f)"
   ]
  },
  {
   "cell_type": "code",
   "execution_count": 214,
   "id": "5ce9e00d",
   "metadata": {},
   "outputs": [
    {
     "data": {
      "text/plain": [
       "0.9861745557267826"
      ]
     },
     "execution_count": 214,
     "metadata": {},
     "output_type": "execute_result"
    }
   ],
   "source": [
    "cv = KFold(n_splits=10)\n",
    "\n",
    "models = []\n",
    "models.append(('xgb', xgboost))\n",
    "models.append(('svc', svc))\n",
    "models.append(('random_forest', gridsearch_lr))\n",
    "\n",
    "model = VotingClassifier(models)\n",
    "score = cross_val_score(model, X_train, y_train, cv=cv)\n",
    "score.mean()"
   ]
  },
  {
   "cell_type": "code",
   "execution_count": 215,
   "id": "008058f9",
   "metadata": {},
   "outputs": [
    {
     "data": {
      "text/html": [
       "<style>#sk-container-id-39 {color: black;background-color: white;}#sk-container-id-39 pre{padding: 0;}#sk-container-id-39 div.sk-toggleable {background-color: white;}#sk-container-id-39 label.sk-toggleable__label {cursor: pointer;display: block;width: 100%;margin-bottom: 0;padding: 0.3em;box-sizing: border-box;text-align: center;}#sk-container-id-39 label.sk-toggleable__label-arrow:before {content: \"▸\";float: left;margin-right: 0.25em;color: #696969;}#sk-container-id-39 label.sk-toggleable__label-arrow:hover:before {color: black;}#sk-container-id-39 div.sk-estimator:hover label.sk-toggleable__label-arrow:before {color: black;}#sk-container-id-39 div.sk-toggleable__content {max-height: 0;max-width: 0;overflow: hidden;text-align: left;background-color: #f0f8ff;}#sk-container-id-39 div.sk-toggleable__content pre {margin: 0.2em;color: black;border-radius: 0.25em;background-color: #f0f8ff;}#sk-container-id-39 input.sk-toggleable__control:checked~div.sk-toggleable__content {max-height: 200px;max-width: 100%;overflow: auto;}#sk-container-id-39 input.sk-toggleable__control:checked~label.sk-toggleable__label-arrow:before {content: \"▾\";}#sk-container-id-39 div.sk-estimator input.sk-toggleable__control:checked~label.sk-toggleable__label {background-color: #d4ebff;}#sk-container-id-39 div.sk-label input.sk-toggleable__control:checked~label.sk-toggleable__label {background-color: #d4ebff;}#sk-container-id-39 input.sk-hidden--visually {border: 0;clip: rect(1px 1px 1px 1px);clip: rect(1px, 1px, 1px, 1px);height: 1px;margin: -1px;overflow: hidden;padding: 0;position: absolute;width: 1px;}#sk-container-id-39 div.sk-estimator {font-family: monospace;background-color: #f0f8ff;border: 1px dotted black;border-radius: 0.25em;box-sizing: border-box;margin-bottom: 0.5em;}#sk-container-id-39 div.sk-estimator:hover {background-color: #d4ebff;}#sk-container-id-39 div.sk-parallel-item::after {content: \"\";width: 100%;border-bottom: 1px solid gray;flex-grow: 1;}#sk-container-id-39 div.sk-label:hover label.sk-toggleable__label {background-color: #d4ebff;}#sk-container-id-39 div.sk-serial::before {content: \"\";position: absolute;border-left: 1px solid gray;box-sizing: border-box;top: 0;bottom: 0;left: 50%;z-index: 0;}#sk-container-id-39 div.sk-serial {display: flex;flex-direction: column;align-items: center;background-color: white;padding-right: 0.2em;padding-left: 0.2em;position: relative;}#sk-container-id-39 div.sk-item {position: relative;z-index: 1;}#sk-container-id-39 div.sk-parallel {display: flex;align-items: stretch;justify-content: center;background-color: white;position: relative;}#sk-container-id-39 div.sk-item::before, #sk-container-id-39 div.sk-parallel-item::before {content: \"\";position: absolute;border-left: 1px solid gray;box-sizing: border-box;top: 0;bottom: 0;left: 50%;z-index: -1;}#sk-container-id-39 div.sk-parallel-item {display: flex;flex-direction: column;z-index: 1;position: relative;background-color: white;}#sk-container-id-39 div.sk-parallel-item:first-child::after {align-self: flex-end;width: 50%;}#sk-container-id-39 div.sk-parallel-item:last-child::after {align-self: flex-start;width: 50%;}#sk-container-id-39 div.sk-parallel-item:only-child::after {width: 0;}#sk-container-id-39 div.sk-dashed-wrapped {border: 1px dashed gray;margin: 0 0.4em 0.5em 0.4em;box-sizing: border-box;padding-bottom: 0.4em;background-color: white;}#sk-container-id-39 div.sk-label label {font-family: monospace;font-weight: bold;display: inline-block;line-height: 1.2em;}#sk-container-id-39 div.sk-label-container {text-align: center;}#sk-container-id-39 div.sk-container {/* jupyter's `normalize.less` sets `[hidden] { display: none; }` but bootstrap.min.css set `[hidden] { display: none !important; }` so we also need the `!important` here to be able to override the default hidden behavior on the sphinx rendered scikit-learn.org. See: https://github.com/scikit-learn/scikit-learn/issues/21755 */display: inline-block !important;position: relative;}#sk-container-id-39 div.sk-text-repr-fallback {display: none;}</style><div id=\"sk-container-id-39\" class=\"sk-top-container\"><div class=\"sk-text-repr-fallback\"><pre>VotingClassifier(estimators=[(&#x27;xgb&#x27;,\n",
       "                              XGBClassifier(base_score=0.5, booster=&#x27;gbtree&#x27;,\n",
       "                                            callbacks=None, colsample_bylevel=1,\n",
       "                                            colsample_bynode=1,\n",
       "                                            colsample_bytree=0.5932617287877644,\n",
       "                                            early_stopping_rounds=None,\n",
       "                                            enable_categorical=False,\n",
       "                                            eval_metric=None,\n",
       "                                            gamma=1.3650137578892094, gpu_id=-1,\n",
       "                                            grow_policy=&#x27;depthwise&#x27;,\n",
       "                                            importance_type=None,\n",
       "                                            interaction_constraints=&#x27;&#x27;,\n",
       "                                            le...\n",
       "                                            monotone_constraints=&#x27;()&#x27;,\n",
       "                                            n_estimators=100, n_jobs=0,\n",
       "                                            num_parallel_tree=1,\n",
       "                                            predictor=&#x27;auto&#x27;, random_state=0,\n",
       "                                            reg_alpha=51.0,\n",
       "                                            reg_lambda=0.8217358660799771, ...)),\n",
       "                             (&#x27;svc&#x27;, SVC(C=48, gamma=0.0005, probability=True)),\n",
       "                             (&#x27;random_forest&#x27;,\n",
       "                              GridSearchCV(cv=10,\n",
       "                                           estimator=LogisticRegression(),\n",
       "                                           param_grid={&#x27;C&#x27;: [1.025, 1.027,\n",
       "                                                             1.029, 1.031,\n",
       "                                                             1.032, 1.034],\n",
       "                                                       &#x27;penalty&#x27;: [&#x27;l1&#x27;,\n",
       "                                                                   &#x27;l2&#x27;]}))])</pre><b>In a Jupyter environment, please rerun this cell to show the HTML representation or trust the notebook. <br />On GitHub, the HTML representation is unable to render, please try loading this page with nbviewer.org.</b></div><div class=\"sk-container\" hidden><div class=\"sk-item sk-dashed-wrapped\"><div class=\"sk-label-container\"><div class=\"sk-label sk-toggleable\"><input class=\"sk-toggleable__control sk-hidden--visually\" id=\"sk-estimator-id-111\" type=\"checkbox\" ><label for=\"sk-estimator-id-111\" class=\"sk-toggleable__label sk-toggleable__label-arrow\">VotingClassifier</label><div class=\"sk-toggleable__content\"><pre>VotingClassifier(estimators=[(&#x27;xgb&#x27;,\n",
       "                              XGBClassifier(base_score=0.5, booster=&#x27;gbtree&#x27;,\n",
       "                                            callbacks=None, colsample_bylevel=1,\n",
       "                                            colsample_bynode=1,\n",
       "                                            colsample_bytree=0.5932617287877644,\n",
       "                                            early_stopping_rounds=None,\n",
       "                                            enable_categorical=False,\n",
       "                                            eval_metric=None,\n",
       "                                            gamma=1.3650137578892094, gpu_id=-1,\n",
       "                                            grow_policy=&#x27;depthwise&#x27;,\n",
       "                                            importance_type=None,\n",
       "                                            interaction_constraints=&#x27;&#x27;,\n",
       "                                            le...\n",
       "                                            monotone_constraints=&#x27;()&#x27;,\n",
       "                                            n_estimators=100, n_jobs=0,\n",
       "                                            num_parallel_tree=1,\n",
       "                                            predictor=&#x27;auto&#x27;, random_state=0,\n",
       "                                            reg_alpha=51.0,\n",
       "                                            reg_lambda=0.8217358660799771, ...)),\n",
       "                             (&#x27;svc&#x27;, SVC(C=48, gamma=0.0005, probability=True)),\n",
       "                             (&#x27;random_forest&#x27;,\n",
       "                              GridSearchCV(cv=10,\n",
       "                                           estimator=LogisticRegression(),\n",
       "                                           param_grid={&#x27;C&#x27;: [1.025, 1.027,\n",
       "                                                             1.029, 1.031,\n",
       "                                                             1.032, 1.034],\n",
       "                                                       &#x27;penalty&#x27;: [&#x27;l1&#x27;,\n",
       "                                                                   &#x27;l2&#x27;]}))])</pre></div></div></div><div class=\"sk-parallel\"><div class=\"sk-parallel-item\"><div class=\"sk-item\"><div class=\"sk-label-container\"><div class=\"sk-label sk-toggleable\"><label>xgb</label></div></div><div class=\"sk-serial\"><div class=\"sk-item\"><div class=\"sk-estimator sk-toggleable\"><input class=\"sk-toggleable__control sk-hidden--visually\" id=\"sk-estimator-id-112\" type=\"checkbox\" ><label for=\"sk-estimator-id-112\" class=\"sk-toggleable__label sk-toggleable__label-arrow\">XGBClassifier</label><div class=\"sk-toggleable__content\"><pre>XGBClassifier(base_score=0.5, booster=&#x27;gbtree&#x27;, callbacks=None,\n",
       "              colsample_bylevel=1, colsample_bynode=1,\n",
       "              colsample_bytree=0.5932617287877644, early_stopping_rounds=None,\n",
       "              enable_categorical=False, eval_metric=None,\n",
       "              gamma=1.3650137578892094, gpu_id=-1, grow_policy=&#x27;depthwise&#x27;,\n",
       "              importance_type=None, interaction_constraints=&#x27;&#x27;,\n",
       "              learning_rate=0.300000012, max_bin=256, max_cat_to_onehot=4,\n",
       "              max_delta_step=0, max_depth=6, max_leaves=0, min_child_weight=3.0,\n",
       "              missing=nan, monotone_constraints=&#x27;()&#x27;, n_estimators=100,\n",
       "              n_jobs=0, num_parallel_tree=1, predictor=&#x27;auto&#x27;, random_state=0,\n",
       "              reg_alpha=51.0, reg_lambda=0.8217358660799771, ...)</pre></div></div></div></div></div></div><div class=\"sk-parallel-item\"><div class=\"sk-item\"><div class=\"sk-label-container\"><div class=\"sk-label sk-toggleable\"><label>svc</label></div></div><div class=\"sk-serial\"><div class=\"sk-item\"><div class=\"sk-estimator sk-toggleable\"><input class=\"sk-toggleable__control sk-hidden--visually\" id=\"sk-estimator-id-113\" type=\"checkbox\" ><label for=\"sk-estimator-id-113\" class=\"sk-toggleable__label sk-toggleable__label-arrow\">SVC</label><div class=\"sk-toggleable__content\"><pre>SVC(C=48, gamma=0.0005, probability=True)</pre></div></div></div></div></div></div><div class=\"sk-parallel-item\"><div class=\"sk-item\"><div class=\"sk-label-container\"><div class=\"sk-label sk-toggleable\"><label>random_forest</label></div></div><div class=\"sk-serial\"><div class=\"sk-item sk-dashed-wrapped\"><div class=\"sk-parallel\"><div class=\"sk-parallel-item\"><div class=\"sk-item\"><div class=\"sk-label-container\"><div class=\"sk-label sk-toggleable\"><input class=\"sk-toggleable__control sk-hidden--visually\" id=\"sk-estimator-id-114\" type=\"checkbox\" ><label for=\"sk-estimator-id-114\" class=\"sk-toggleable__label sk-toggleable__label-arrow\">estimator: LogisticRegression</label><div class=\"sk-toggleable__content\"><pre>LogisticRegression()</pre></div></div></div><div class=\"sk-serial\"><div class=\"sk-item\"><div class=\"sk-estimator sk-toggleable\"><input class=\"sk-toggleable__control sk-hidden--visually\" id=\"sk-estimator-id-115\" type=\"checkbox\" ><label for=\"sk-estimator-id-115\" class=\"sk-toggleable__label sk-toggleable__label-arrow\">LogisticRegression</label><div class=\"sk-toggleable__content\"><pre>LogisticRegression()</pre></div></div></div></div></div></div></div></div></div></div></div></div></div></div></div>"
      ],
      "text/plain": [
       "VotingClassifier(estimators=[('xgb',\n",
       "                              XGBClassifier(base_score=0.5, booster='gbtree',\n",
       "                                            callbacks=None, colsample_bylevel=1,\n",
       "                                            colsample_bynode=1,\n",
       "                                            colsample_bytree=0.5932617287877644,\n",
       "                                            early_stopping_rounds=None,\n",
       "                                            enable_categorical=False,\n",
       "                                            eval_metric=None,\n",
       "                                            gamma=1.3650137578892094, gpu_id=-1,\n",
       "                                            grow_policy='depthwise',\n",
       "                                            importance_type=None,\n",
       "                                            interaction_constraints='',\n",
       "                                            le...\n",
       "                                            monotone_constraints='()',\n",
       "                                            n_estimators=100, n_jobs=0,\n",
       "                                            num_parallel_tree=1,\n",
       "                                            predictor='auto', random_state=0,\n",
       "                                            reg_alpha=51.0,\n",
       "                                            reg_lambda=0.8217358660799771, ...)),\n",
       "                             ('svc', SVC(C=48, gamma=0.0005, probability=True)),\n",
       "                             ('random_forest',\n",
       "                              GridSearchCV(cv=10,\n",
       "                                           estimator=LogisticRegression(),\n",
       "                                           param_grid={'C': [1.025, 1.027,\n",
       "                                                             1.029, 1.031,\n",
       "                                                             1.032, 1.034],\n",
       "                                                       'penalty': ['l1',\n",
       "                                                                   'l2']}))])"
      ]
     },
     "execution_count": 215,
     "metadata": {},
     "output_type": "execute_result"
    }
   ],
   "source": [
    "model.fit(X_train, y_train)"
   ]
  },
  {
   "cell_type": "code",
   "execution_count": 217,
   "id": "a24f29eb",
   "metadata": {},
   "outputs": [],
   "source": [
    "voting_pred_train = model.predict(X_train)\n",
    "voting_pred_test = model.predict(X_test)"
   ]
  },
  {
   "cell_type": "code",
   "execution_count": 218,
   "id": "cb4cb358",
   "metadata": {},
   "outputs": [
    {
     "name": "stdout",
     "output_type": "stream",
     "text": [
      "f1-score sur le train set :  0.7624368899360484\n",
      "f1-score sur le test set :  0.7577413479052825\n"
     ]
    }
   ],
   "source": [
    "print(\"f1-score sur le train set : \", f1_score(y_train, voting_pred_train))\n",
    "print(\"f1-score sur le test set : \", f1_score(y_test, voting_pred_test))"
   ]
  },
  {
   "cell_type": "code",
   "execution_count": 220,
   "id": "e564ae58",
   "metadata": {},
   "outputs": [
    {
     "data": {
      "image/png": "[encoded data removed]",
      "text/plain": [
       "<Figure size 432x288 with 2 Axes>"
      ]
     },
     "metadata": {
      "needs_background": "light"
     },
     "output_type": "display_data"
    },
    {
     "data": {
      "image/png": "[encoded data removed]",
      "text/plain": [
       "<Figure size 432x288 with 2 Axes>"
      ]
     },
     "metadata": {
      "needs_background": "light"
     },
     "output_type": "display_data"
    }
   ],
   "source": [
    "_ , ax = plt.subplots() \n",
    "ax.set(title=\"Confusion Matrix on Train set\") \n",
    "ConfusionMatrixDisplay.from_estimator(model, X_train, y_train, ax=ax) \n",
    "plt.show()\n",
    "\n",
    "_ , ax = plt.subplots() \n",
    "ax.set(title=\"Confusion Matrix on Test set\") \n",
    "ConfusionMatrixDisplay.from_estimator(model, X_test, y_test, ax=ax) \n",
    "plt.show()"
   ]
  },
  {
   "cell_type": "code",
   "execution_count": 221,
   "id": "92f4ac05",
   "metadata": {},
   "outputs": [],
   "source": [
    "with open('voting_model', 'wb') as f:\n",
    "    pickle.dump(model, f)"
   ]
  },
  {
   "cell_type": "code",
   "execution_count": 222,
   "id": "0217cf29",
   "metadata": {},
   "outputs": [],
   "source": [
    "data = {\n",
    "    'converted': model.predict(X)\n",
    "}"
   ]
  },
  {
   "cell_type": "code",
   "execution_count": 223,
   "id": "f35ce18a",
   "metadata": {},
   "outputs": [],
   "source": [
    "y_predictions = pd.DataFrame(columns=['converted'],data=data)\n",
    "y_predictions.to_csv('conversion_data_test_predictions_david2.csv', index=False)"
   ]
  },
  {
   "cell_type": "code",
   "execution_count": null,
   "id": "fd945bb8",
   "metadata": {},
   "outputs": [],
   "source": []
  }
 ],
 "metadata": {
  "kernelspec": {
   "display_name": "Python 3 (ipykernel)",
   "language": "python",
   "name": "python3"
  },
  "language_info": {
   "codemirror_mode": {
    "name": "ipython",
    "version": 3
   },
   "file_extension": ".py",
   "mimetype": "text/x-python",
   "name": "python",
   "nbconvert_exporter": "python",
   "pygments_lexer": "ipython3",
   "version": "3.8.13"
  }
 },
 "nbformat": 4,
 "nbformat_minor": 5
}
