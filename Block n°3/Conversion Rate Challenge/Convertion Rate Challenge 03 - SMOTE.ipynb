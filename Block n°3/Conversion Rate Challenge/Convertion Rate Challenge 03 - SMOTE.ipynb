{
 "cells": [
  {
   "cell_type": "markdown",
   "id": "53680575",
   "metadata": {},
   "source": [
    "## Resampling avec SMOTE (Synthetic Minority Oversampling TEchnique)"
   ]
  },
  {
   "cell_type": "markdown",
   "id": "4f21d5e1",
   "metadata": {},
   "source": [
    "Dans ce notebook, nous allons voir une technique d'augmentation de données par rééchantillonnage : SMOTE."
   ]
  },
  {
   "cell_type": "markdown",
   "id": "cc9c5c2b",
   "metadata": {},
   "source": [
    "Il existe plusieurs solutions pour traiter les données déséquilibrées est de les **rééquilibrer**. Ce type d’approches – appelées **data-level** solutions – se décline sous 2 formes principales :\n",
    "\n",
    "* **Sous-échantillonnage (undersampling)** :  Parmi les individus majoritaires, on en retire une partie afin d’accorder plus d’importance aux individus minoritaires. Cette approche permet de diminuer la redondance des informations apportées par le grand nombre d’individus majoritaires.\n",
    "\n",
    "\n",
    "* **Sur-échantillonnage (oversampling)** : Le nombre d’individus minoritaires est augmenté pour qu’ils aient plus d’importance lors de la modélisation. Différentes solutions sont possibles, comme le **clonage** aléatoire ou le SMOTE.\n",
    "\n",
    "Le sous-échantillonnage et le sur-échantillonnage peuvent être combinés pour corriger le déséquilibre plus efficacement.\n",
    "\n",
    "Nous allons étudier SMOTE"
   ]
  },
  {
   "cell_type": "markdown",
   "id": "3820f5fa",
   "metadata": {},
   "source": [
    "### S.M.O.T.E"
   ]
  },
  {
   "cell_type": "markdown",
   "id": "6bd152dc",
   "metadata": {},
   "source": [
    "Le **SMOTE**, acronyme pour **Synthetic Minority Oversampling TEchnique**, est une méthode de **suréchantillonnage des observations minoritaires**. Pour éviter de réaliser un simple clonage des individus minoritaires, le SMOTE se base sur un principe simple : générer de nouveaux individus minoritaires qui ressemblent aux autres, sans être strictement identiques. Cela permet de densifier de façon plus homogène la population d’individus minoritaires.\n",
    "\n",
    "C’est sur ces données transformées, auxquelles on a ajouté de faux individus synthétiques, que l’on va ensuite entraîner un modèle de Machine Learning.\n",
    "\n",
    "Il faut savoir que pour générer de nouvelles données, les techniques qui se basent sur SMOTE doivent calculer des moyennes de distances pour **clusteriser** les données en différentes catégories, il faut donc faire attention à bien avoir des features numériques si l'on traite des features catégorielles (nous verrons plus tard ce mélange de variables **Numériques-Catégorielles** qui est un SMOTE particulier : le **SMOTE-NC**)\n",
    "\n",
    "#### Fonctionnement de SMOTE (avec KNN) : Creer des observations synthétiques\n",
    "\n",
    "Pour créer un individu synthétique, voici les étapes de l’algorithme du SMOTE :\n",
    "\n",
    "1. On sélectionne aléatoirement un sample d'observation minoritaire initiale.\n",
    "2. On Identifie ses KNN(k plus proches voisins) parmi les observations minoritaires (où k est un paramètre défini par l’utilisateur).\n",
    "3. On choisit aléatoirement l’un des k plus proches voisins.\n",
    "4. On génère aléatoirement un coefficient $0<\\alpha<1$.\n",
    "5. On crée un nouvel individu entre l’observation initiale et le plus proche voisin choisi, selon la valeur du coefficient . Par exemple, si $\\alpha = 0.5$, le nouvel individu sera positionné à mi-chemin entre l’observation initiale et le plus proche voisin choisi.\n",
    "\n",
    "\n",
    "Ces étapes sont répétées jusqu’à ce que le nombre d’individus générés atteigne une valeur définie par l’utilisateur.\n",
    "\n",
    "Il existe deux paramètres qu'il faut configurer pour SMOTE :\n",
    "\n",
    "* **k_neighbors (k)** : le nombre de plus proches voisins (nearest neighbors) candidats pour la création d’un nouvel individu. Ce paramètre a un effet sur la distribution des individus synthétiques dans l’espace, et donc sur la performance du modèle qui sera entraîné après le SMOTE. Sa valeur optimale dépend de la structure des données. Attention ! Si les individus minoritaires originaux sont répartis sous forme de groupes de taille inférieure à $n$ individus et que l’on utilise $k > n$, les individus générés risquent d’être positionnés entre les groupes de minoritaires réels. Ils ne sont alors pas représentatifs des données réelles et risquent de diminuer les performances du modèle.\n",
    "\n",
    "* **sampling_strategy ($\\alpha_{os}$ ou le nombre d’observations synthétiques)** à générer : Ce paramètre est exprimé sous la forme d’un taux d’observations minoritaires à atteindre, noté $\\alpha_{os}$ (os pour “oversampling“). Plus le ratio est élevé par rapport au ratio initial de vos données, plus l’algorithme devra produire d’individus synthétiques et plus son temps de calcul sera long.\n",
    "\n",
    "Le problème majeur des classes déséquilibrées est l'**Overfitting** : Il faut voir les points de données comme une repartition de distribution dans l'espace (espace à p-dimensions représenté par p features). Le modèle prédit uniformément une probabilité très faible sur la majorité de l’espace, à l’exception de quelques zones très réduites, celles où sont situées les données du train. Ces zones sont trop restreintes pour permettre de bien prédire les données du test, qui sont souvent situées juste à côté, mais dans une zone de faible probabilité. Le modèle a donc une bonne performance sur train, mais médiocre sur test : il a surappris les données et a une forte variance (cette forte variance lui empèche de pouvoir généraliser au données du test car le modèle est devenu trop complexe..il faudrait augmenter le biais pour réduire la variance, ce qui peut se faire en augmentant le nombre de samples de la classe minoritaire). \n",
    "\n",
    "En utilisant des techniques de rééchantillonnage (qui est du rééquilibrage de classe), lees zones de forte probabilité prédites dans l'espace à p-dimensions par le modèle sont à présent plus larges (car il y a mécaniquement plus de samples de classe minoritaire dans le même espace) et permettent de couvrir l’espace dans lequel se trouvent les données du test. Ainsi un point de donnée de classe minoritaire se voit attribuer une probabilité plus élevée de repartition dans l'espace du test, alors qu’il était dans une zone de probabilité faible sans rééquilibrage. Le modèle a une performance similaire sur le train et le test : il a **réduit sa variance en augmentant son biais** (cad qu'en occupant plus d'espace, le modèle perd en compléxité).\n",
    "\n",
    "Etudions comment fonctionne SMOTE en détail"
   ]
  },
  {
   "cell_type": "code",
   "execution_count": 24,
   "id": "e55aeb52",
   "metadata": {},
   "outputs": [],
   "source": [
    "import pandas as pd\n",
    "import numpy as np\n",
    "from imblearn.combine import SMOTETomek\n",
    "\n",
    "from sklearn.linear_model import LogisticRegression\n",
    "from sklearn.model_selection import train_test_split, GridSearchCV, RandomizedSearchCV, learning_curve, cross_val_score, KFold\n",
    "from sklearn.tree import DecisionTreeClassifier\n",
    "from sklearn.impute import SimpleImputer\n",
    "from sklearn.preprocessing import StandardScaler, OneHotEncoder\n",
    "from sklearn.pipeline import make_pipeline\n",
    "\n",
    "from xgboost import XGBClassifier\n",
    "\n",
    "from sklearn.svm import SVC\n",
    "from sklearn.ensemble import RandomForestClassifier, VotingClassifier, StackingClassifier, GradientBoostingClassifier, AdaBoostClassifier\n",
    "from sklearn.compose import make_column_transformer\n",
    "from sklearn.tree import DecisionTreeClassifier\n",
    "from sklearn.linear_model import LogisticRegression\n",
    "from sklearn.metrics import accuracy_score, f1_score, precision_score, recall_score, ConfusionMatrixDisplay, RocCurveDisplay, confusion_matrix, classification_report\n",
    "\n",
    "import warnings\n",
    "warnings.filterwarnings(\"ignore\")\n",
    "\n",
    "import matplotlib.pyplot as plt\n",
    "import seaborn as sns\n",
    "import plotly.express as px\n",
    "import plotly.graph_objects as go\n",
    "import plotly.io as pio\n",
    "# setting Jedha color palette as default\n",
    "pio.templates[\"jedha\"] = go.layout.Template(\n",
    "    layout_colorway=[\"#4B9AC7\", \"#4BE8E0\", \"#9DD4F3\", \"#97FBF6\", \"#2A7FAF\", \"#23B1AB\", \"#0E3449\", \"#015955\"]\n",
    ")\n",
    "pio.templates.default = \"jedha\"\n",
    "pio.renderers.default = \"svg\" # to be replaced by \"iframe\" if working on JULIE\n",
    "from IPython.display import display"
   ]
  },
  {
   "cell_type": "code",
   "execution_count": 2,
   "id": "17483514",
   "metadata": {},
   "outputs": [
    {
     "data": {
      "text/plain": [
       "(284580, 6)"
      ]
     },
     "execution_count": 2,
     "metadata": {},
     "output_type": "execute_result"
    }
   ],
   "source": [
    "#df = pd.read_csv('./src/conversion_data_train.csv')\n",
    "df = pd.read_csv('conversion_data_train.csv')\n",
    "df.shape"
   ]
  },
  {
   "cell_type": "code",
   "execution_count": 3,
   "id": "925cda88",
   "metadata": {},
   "outputs": [],
   "source": [
    "categ_str_features = ['country', 'source']\n",
    "categ_int_features = ['new_user']\n",
    "numeric_features = ['age', 'total_pages_visited']\n",
    "target = 'converted'"
   ]
  },
  {
   "cell_type": "code",
   "execution_count": 4,
   "id": "e79321b0",
   "metadata": {},
   "outputs": [],
   "source": [
    "X = df.iloc[:, :-1]\n",
    "y = df.loc[:, 'converted']"
   ]
  },
  {
   "cell_type": "markdown",
   "id": "c67dc57c",
   "metadata": {},
   "source": [
    "### 1. Deal with Unbalanced Data : SMOTE"
   ]
  },
  {
   "cell_type": "markdown",
   "id": "b7e310ee",
   "metadata": {},
   "source": [
    "On va utiliser SMOTE pour faire du resampling mais il faut faire attention aux variables categorielles : nous avons le choix entre SMOTETOmek et SMOTE-NC"
   ]
  },
  {
   "cell_type": "markdown",
   "id": "6f8d0e3e",
   "metadata": {},
   "source": [
    "On commence par OneHotEncoded les variables categorielles"
   ]
  },
  {
   "cell_type": "code",
   "execution_count": 5,
   "id": "41ac91ff",
   "metadata": {},
   "outputs": [],
   "source": [
    "onehot = OneHotEncoder(drop='first')\n",
    "X = onehot.fit_transform(X)"
   ]
  },
  {
   "cell_type": "code",
   "execution_count": null,
   "id": "811fc143",
   "metadata": {},
   "outputs": [],
   "source": [
    "# https://imbalanced-learn.org/stable/references/generated/imblearn.combine.SMOTETomek.html\n",
    "# https://kobia.fr/imbalanced-data-smote-nc/\n",
    "# SMOTE-NC permet de traiter des variables categorielles (avec des one hot encoded)"
   ]
  },
  {
   "cell_type": "code",
   "execution_count": 15,
   "id": "3f510935",
   "metadata": {},
   "outputs": [
    {
     "name": "stdout",
     "output_type": "stream",
     "text": [
      "Il y a 30x plus de non abonnés que d'abonnés, cad 0.03 % en taux de classe minoritaire\n"
     ]
    }
   ],
   "source": [
    "print(f\"Il y a {int(y.value_counts()[0] / y.value_counts()[1])}x plus de non abonnés que d'abonnés, cad {round(y.value_counts()[1] / y.value_counts()[0],2)} % en taux de classe minoritaire\") "
   ]
  },
  {
   "cell_type": "markdown",
   "id": "a771e0c1",
   "metadata": {},
   "source": [
    "On va commencer par utiliser SMOTE (car il existe plusieurs variantes : SMOTETomek, SMOTE-NC que nous detaillerons par la suite).\n",
    "\n",
    "Pour le choix des valeurs des paramètres, nous allons prendre un `k_neighbors`(**nombre de voisins(KNN))** de **3** : l'algorithme **K-nearest neighbors** se base sur un calcul de distance (Euclidienne(la droite entre deux points) ou Manhattan(deplacement en angle droit entre deux points). Pour un problème de classification (fonctionne aussi pour des problèmes de regression, et dans ce cas, on fait la moyenne des valeurs des voisins), nous allons prendre la classe majoritaire des voisins les plus proches. En ce qui concerne `sampling_strategy`, nous definissons un taux de samples synthétique de 50% par rapport au nombre de la classe majoritaire. De base, nous étions à 0.03% et nous voudrions élever cette proportion à 50%, cad élevé 16x le taux de classe minoritaire pour l'equilibrer à hauteur de 50% par rapport à la classe majoritaire) "
   ]
  },
  {
   "cell_type": "code",
   "execution_count": 13,
   "id": "5d4950ac",
   "metadata": {},
   "outputs": [
    {
     "name": "stdout",
     "output_type": "stream",
     "text": [
      "Imblearn version : 0.9.1\n"
     ]
    }
   ],
   "source": [
    "import imblearn\n",
    "print(\"Imblearn version :\",imblearn.__version__)\n",
    "from imblearn.over_sampling import SMOTE\n",
    "\n",
    "# Instanciation de SMOTE avec comme paramètres 3 KNN et 50% de taux de faux samples pour la classe minoritaire\n",
    "sm = SMOTE(k_neighbors=3, sampling_strategy=0.5)\n",
    "\n",
    "# On effectue le resample\n",
    "X_resampled, y_resampled = sm.fit_resample(X, y)"
   ]
  },
  {
   "cell_type": "markdown",
   "id": "055fc089",
   "metadata": {},
   "source": [
    "Pour ce notebook, nous utiliserons entièrement nos test sur une **Logistic Regression**, **Decision Tree** et **Random Forest** pour comparer les différents scores."
   ]
  },
  {
   "cell_type": "code",
   "execution_count": 14,
   "id": "8269baa1",
   "metadata": {},
   "outputs": [],
   "source": [
    "X_train_resampled, X_test_resampled, y_train_resampled, y_test_resampled = train_test_split(X_resampled, y_resampled, test_size=0.15, random_state=0, stratify=y_res)"
   ]
  },
  {
   "cell_type": "code",
   "execution_count": 8,
   "id": "348cdb85",
   "metadata": {},
   "outputs": [],
   "source": [
    "numeric_features = ['age', 'total_pages_visited']\n",
    "categ_features = ['country', 'source', 'new_user']\n",
    "# numeric_features = ['total_pages_visited']\n",
    "# categ_features = ['new_user']\n",
    "\n",
    "num_transf = make_pipeline(\n",
    "    (SimpleImputer(strategy='mean')),\n",
    "    (StandardScaler())\n",
    ")\n",
    "\n",
    "categ_transf = OneHotEncoder(drop='first')\n",
    "\n",
    "preprocessor = make_column_transformer(\n",
    "    (num_transf, numeric_features),\n",
    "    (categ_transf, categ_features)\n",
    ")"
   ]
  },
  {
   "cell_type": "code",
   "execution_count": 33,
   "id": "ea48094f",
   "metadata": {},
   "outputs": [
    {
     "data": {
      "text/plain": [
       "RandomForestClassifier()"
      ]
     },
     "execution_count": 33,
     "metadata": {},
     "output_type": "execute_result"
    }
   ],
   "source": [
    "lr = LogisticRegression(solver='saga', max_iter=1000)\n",
    "dt = DecisionTreeClassifier()\n",
    "rf = RandomForestClassifier()\n",
    "\n",
    "lr.fit(X_train_resampled, y_train_resampled)\n",
    "dt.fit(X_train_resampled, y_train_resampled)\n",
    "rf.fit(X_train_resampled, y_train_resampled)"
   ]
  },
  {
   "cell_type": "code",
   "execution_count": 36,
   "id": "6ade3e8a",
   "metadata": {},
   "outputs": [],
   "source": [
    "params_lr = {\n",
    "    'C' : [1.025, 1.027, 1.029, 1.031, 1.032,1.034],\n",
    "    'penalty' : ['l1','l2']\n",
    "}\n",
    "\n",
    "params_dt ={\n",
    "    'max_depth':[10, 11, 12, 13, 14],\n",
    "    'min_samples_split':[10, 12, 14,18,22],\n",
    "    'min_samples_leaf':[3, 4, 5, 6]\n",
    "}\n",
    "\n",
    "params_rf = {\n",
    "    'max_depth':[7, 8, 9, 10, 11, 12],\n",
    "    'min_samples_split':[7, 8, 9, 10, 11, 12],\n",
    "    'n_estimators':[20, 30, 40, 50, 60]\n",
    "}"
   ]
  },
  {
   "cell_type": "markdown",
   "id": "216550fb",
   "metadata": {},
   "source": [
    "### Logsitic Regression"
   ]
  },
  {
   "cell_type": "code",
   "execution_count": 35,
   "id": "517370bd",
   "metadata": {},
   "outputs": [
    {
     "data": {
      "text/plain": [
       "GridSearchCV(cv=10, estimator=LogisticRegression(max_iter=1000, solver='saga'),\n",
       "             param_grid={'C': [1.025, 1.027, 1.029, 1.031, 1.032, 1.034],\n",
       "                         'penalty': ['l1', 'l2']})"
      ]
     },
     "execution_count": 35,
     "metadata": {},
     "output_type": "execute_result"
    }
   ],
   "source": [
    "gridsearch_lr_resampled = GridSearchCV(lr, param_grid = params_lr, cv=10)\n",
    "gridsearch_lr_resampled.fit(X_train_resampled, y_train_resampled)"
   ]
  },
  {
   "cell_type": "code",
   "execution_count": 42,
   "id": "9f940cfb",
   "metadata": {},
   "outputs": [
    {
     "data": {
      "text/plain": [
       "{'C': 1.027, 'penalty': 'l1'}"
      ]
     },
     "execution_count": 42,
     "metadata": {},
     "output_type": "execute_result"
    }
   ],
   "source": [
    "gridsearch_lr_resampled.best_params_"
   ]
  },
  {
   "cell_type": "code",
   "execution_count": 45,
   "id": "2ac5e323",
   "metadata": {},
   "outputs": [],
   "source": [
    "log_reg_resampled = gridsearch_lr_resampled.best_estimator_"
   ]
  },
  {
   "cell_type": "code",
   "execution_count": 47,
   "id": "379898de",
   "metadata": {},
   "outputs": [],
   "source": [
    "y_train_pred_lr_resampled = log_reg.predict(X_train_resampled)\n",
    "y_test_pred_lr_resampled = log_reg.predict(X_test_resampled)"
   ]
  },
  {
   "cell_type": "code",
   "execution_count": 48,
   "id": "ecc5bc10",
   "metadata": {},
   "outputs": [
    {
     "name": "stdout",
     "output_type": "stream",
     "text": [
      "f1_score sur le train set :0.9277460491819458\n",
      "f1_score sur le test set :0.9280886857587396\n"
     ]
    }
   ],
   "source": [
    "print(f\"f1_score sur le train set :{f1_score(y_train_resampled, y_train_pred_lr_resampled)}\")\n",
    "print(f\"f1_score sur le test set :{f1_score(y_test_resampled, y_test_pred_lr_resampled)}\")"
   ]
  },
  {
   "cell_type": "code",
   "execution_count": 49,
   "id": "a0298c29",
   "metadata": {},
   "outputs": [
    {
     "name": "stdout",
     "output_type": "stream",
     "text": [
      "Moyenne des f1_scores pour le train set :0.9275681867956775\n",
      "Ecart-type des f1_scores pour le train set :0.0014190960629014077\n"
     ]
    }
   ],
   "source": [
    "scores_train_lr_resampled = cross_val_score(log_reg_resampled, X_train_resampled, y_train_resampled, scoring='f1', cv=10)\n",
    "print(f\"Moyenne des f1_scores pour le train set :{scores_train_lr_resampled.mean()}\")\n",
    "print(f\"Ecart-type des f1_scores pour le train set :{scores_train_lr_resampled.std()}\")"
   ]
  },
  {
   "cell_type": "code",
   "execution_count": 50,
   "id": "328ebd28",
   "metadata": {},
   "outputs": [
    {
     "name": "stdout",
     "output_type": "stream",
     "text": [
      "Moyenne des f1_scores pour le test set :0.9267686314342592\n",
      "Ecart-type des f1_scores pour le test set :0.0038782478941427087\n"
     ]
    }
   ],
   "source": [
    "scores_test_lr_resampled = cross_val_score(log_reg_resampled, X_test_resampled, y_test_resampled, scoring='f1', cv=10)\n",
    "print(f\"Moyenne des f1_scores pour le test set :{scores_test_lr_resampled.mean()}\")\n",
    "print(f\"Ecart-type des f1_scores pour le test set :{scores_test_lr_resampled.std()}\")"
   ]
  },
  {
   "cell_type": "code",
   "execution_count": 63,
   "id": "80feb936",
   "metadata": {},
   "outputs": [
    {
     "data": {
      "image/png": "[encoded data removed]",
      "text/plain": [
       "<Figure size 640x480 with 2 Axes>"
      ]
     },
     "metadata": {},
     "output_type": "display_data"
    }
   ],
   "source": [
    "ConfusionMatrixDisplay.from_estimator(log_reg_resampled, X_test_resampled, y_test_resampled);"
   ]
  },
  {
   "cell_type": "markdown",
   "id": "ba65cc84",
   "metadata": {},
   "source": [
    "### Decision Tree"
   ]
  },
  {
   "cell_type": "code",
   "execution_count": 37,
   "id": "eef0b8e6",
   "metadata": {},
   "outputs": [
    {
     "data": {
      "text/plain": [
       "GridSearchCV(cv=10, estimator=DecisionTreeClassifier(),\n",
       "             param_grid={'max_depth': [10, 11, 12, 13, 14],\n",
       "                         'min_samples_leaf': [3, 4, 5, 6],\n",
       "                         'min_samples_split': [10, 12, 14, 18, 22]})"
      ]
     },
     "execution_count": 37,
     "metadata": {},
     "output_type": "execute_result"
    }
   ],
   "source": [
    "gridsearch_dt_resampled = GridSearchCV(dt, param_grid = params_dt, cv=10)\n",
    "gridsearch_dt_resampled.fit(X_train_resampled, y_train_resampled)"
   ]
  },
  {
   "cell_type": "code",
   "execution_count": 43,
   "id": "72a1f66a",
   "metadata": {},
   "outputs": [
    {
     "data": {
      "text/plain": [
       "{'max_depth': 14, 'min_samples_leaf': 3, 'min_samples_split': 10}"
      ]
     },
     "execution_count": 43,
     "metadata": {},
     "output_type": "execute_result"
    }
   ],
   "source": [
    "gridsearch_dt_resampled.best_params_"
   ]
  },
  {
   "cell_type": "code",
   "execution_count": 52,
   "id": "27ff1a17",
   "metadata": {},
   "outputs": [],
   "source": [
    "dec_tree_resampled = gridsearch_dt_resampled.best_estimator_"
   ]
  },
  {
   "cell_type": "code",
   "execution_count": 53,
   "id": "707621e4",
   "metadata": {},
   "outputs": [],
   "source": [
    "y_train_pred_dt_resampled = dec_tree_resampled.predict(X_train_resampled)\n",
    "y_test_pred_dt_resampled = dec_tree_resampled.predict(X_test_resampled)"
   ]
  },
  {
   "cell_type": "code",
   "execution_count": 54,
   "id": "aaa5ab6f",
   "metadata": {},
   "outputs": [
    {
     "name": "stdout",
     "output_type": "stream",
     "text": [
      "f1_score sur le train set :0.8938396193800109\n",
      "f1_score sur le test set :0.8910133843212237\n"
     ]
    }
   ],
   "source": [
    "print(f\"f1_score sur le train set :{f1_score(y_train_resampled, y_train_pred_dt_resampled)}\")\n",
    "print(f\"f1_score sur le test set :{f1_score(y_test_resampled, y_test_pred_dt_resampled)}\")"
   ]
  },
  {
   "cell_type": "code",
   "execution_count": 55,
   "id": "a35acb53",
   "metadata": {},
   "outputs": [
    {
     "name": "stdout",
     "output_type": "stream",
     "text": [
      "Moyenne des f1_scores pour le train set :0.8936049406987591\n",
      "Ecart-type des f1_scores pour le train set :0.0021585300476389207\n"
     ]
    }
   ],
   "source": [
    "scores_train_dt_resampled = cross_val_score(dec_tree_resampled, X_train_resampled, y_train_resampled, scoring='f1', cv=10)\n",
    "print(f\"Moyenne des f1_scores pour le train set :{scores_train_dt_resampled.mean()}\")\n",
    "print(f\"Ecart-type des f1_scores pour le train set :{scores_train_dt_resampled.std()}\")"
   ]
  },
  {
   "cell_type": "code",
   "execution_count": 56,
   "id": "9e98139e",
   "metadata": {},
   "outputs": [
    {
     "name": "stdout",
     "output_type": "stream",
     "text": [
      "Moyenne des f1_scores pour le test set :0.8856325237693732\n",
      "Ecart-type des f1_scores pour le test set :0.003689706576811362\n"
     ]
    }
   ],
   "source": [
    "scores_test_dt_resampled = cross_val_score(dec_tree_resampled, X_test_resampled, y_test_resampled, scoring='f1', cv=10)\n",
    "print(f\"Moyenne des f1_scores pour le test set :{scores_test_dt_resampled.mean()}\")\n",
    "print(f\"Ecart-type des f1_scores pour le test set :{scores_test_dt_resampled.std()}\")"
   ]
  },
  {
   "cell_type": "code",
   "execution_count": 62,
   "id": "216d9ba4",
   "metadata": {},
   "outputs": [
    {
     "data": {
      "image/png": "[encoded data removed]",
      "text/plain": [
       "<Figure size 640x480 with 2 Axes>"
      ]
     },
     "metadata": {},
     "output_type": "display_data"
    }
   ],
   "source": [
    "ConfusionMatrixDisplay.from_estimator(dec_tree_resampled, X_test_resampled, y_test_resampled);"
   ]
  },
  {
   "cell_type": "markdown",
   "id": "e2663f48",
   "metadata": {},
   "source": [
    "### Random Forest"
   ]
  },
  {
   "cell_type": "code",
   "execution_count": 38,
   "id": "18c20aa6",
   "metadata": {},
   "outputs": [
    {
     "data": {
      "text/plain": [
       "GridSearchCV(cv=10, estimator=RandomForestClassifier(),\n",
       "             param_grid={'max_depth': [7, 8, 9, 10, 11, 12],\n",
       "                         'min_samples_split': [7, 8, 9, 10, 11, 12],\n",
       "                         'n_estimators': [20, 30, 40, 50, 60]})"
      ]
     },
     "execution_count": 38,
     "metadata": {},
     "output_type": "execute_result"
    }
   ],
   "source": [
    "gridsearch_rf_resampled = GridSearchCV(rf, param_grid = params_rf, cv=10)\n",
    "gridsearch_rf_resampled.fit(X_train_resampled, y_train_resampled)"
   ]
  },
  {
   "cell_type": "code",
   "execution_count": 44,
   "id": "8a101783",
   "metadata": {},
   "outputs": [
    {
     "data": {
      "text/plain": [
       "{'max_depth': 12, 'min_samples_split': 9, 'n_estimators': 50}"
      ]
     },
     "execution_count": 44,
     "metadata": {},
     "output_type": "execute_result"
    }
   ],
   "source": [
    "gridsearch_rf_resampled.best_params_"
   ]
  },
  {
   "cell_type": "code",
   "execution_count": 58,
   "id": "bbf58675",
   "metadata": {},
   "outputs": [],
   "source": [
    "ran_for_resampled = gridsearch_rf_resampled.best_estimator_"
   ]
  },
  {
   "cell_type": "code",
   "execution_count": 59,
   "id": "f1d1415b",
   "metadata": {},
   "outputs": [],
   "source": [
    "y_train_pred_rf_resampled = ran_for_resampled.predict(X_train_resampled)\n",
    "y_test_pred_rf_resampled = ran_for_resampled.predict(X_test_resampled)"
   ]
  },
  {
   "cell_type": "code",
   "execution_count": 60,
   "id": "86b0621c",
   "metadata": {},
   "outputs": [
    {
     "name": "stdout",
     "output_type": "stream",
     "text": [
      "f1_score sur le train set :0.9018240660354632\n",
      "f1_score sur le test set :0.8984556582821136\n"
     ]
    }
   ],
   "source": [
    "print(f\"f1_score sur le train set :{f1_score(y_train_resampled, y_train_pred_rf_resampled)}\")\n",
    "print(f\"f1_score sur le test set :{f1_score(y_test_resampled, y_test_pred_rf_resampled)}\")"
   ]
  },
  {
   "cell_type": "code",
   "execution_count": 61,
   "id": "03720c40",
   "metadata": {},
   "outputs": [
    {
     "name": "stdout",
     "output_type": "stream",
     "text": [
      "Moyenne des f1_scores pour le train set :0.900517006393056\n",
      "Ecart-type des f1_scores pour le train set :0.004413193401936689\n"
     ]
    }
   ],
   "source": [
    "scores_train_rf_resampled = cross_val_score(ran_for_resampled, X_train_resampled, y_train_resampled, scoring='f1', cv=10)\n",
    "print(f\"Moyenne des f1_scores pour le train set :{scores_train_rf_resampled.mean()}\")\n",
    "print(f\"Ecart-type des f1_scores pour le train set :{scores_train_rf_resampled.std()}\")"
   ]
  },
  {
   "cell_type": "code",
   "execution_count": 64,
   "id": "40bd8647",
   "metadata": {},
   "outputs": [
    {
     "name": "stdout",
     "output_type": "stream",
     "text": [
      "Moyenne des f1_scores pour le test set :0.9000123617276973\n",
      "Ecart-type des f1_scores pour le test set :0.007259331033854059\n"
     ]
    }
   ],
   "source": [
    "scores_test_rf_resampled = cross_val_score(ran_for_resampled, X_test_resampled, y_test_resampled, scoring='f1', cv=10)\n",
    "print(f\"Moyenne des f1_scores pour le test set :{scores_test_rf_resampled.mean()}\")\n",
    "print(f\"Ecart-type des f1_scores pour le test set :{scores_test_rf_resampled.std()}\")"
   ]
  },
  {
   "cell_type": "code",
   "execution_count": 65,
   "id": "ff734361",
   "metadata": {},
   "outputs": [
    {
     "data": {
      "image/png": "[encoded data removed]",
      "text/plain": [
       "<Figure size 640x480 with 2 Axes>"
      ]
     },
     "metadata": {},
     "output_type": "display_data"
    }
   ],
   "source": [
    "ConfusionMatrixDisplay.from_estimator(ran_for_resampled, X_test_resampled, y_test_resampled);"
   ]
  },
  {
   "cell_type": "markdown",
   "id": "97c6bdb8",
   "metadata": {},
   "source": [
    "### Sauvegarde des modèles"
   ]
  },
  {
   "cell_type": "code",
   "execution_count": 41,
   "id": "8e72e5d5",
   "metadata": {},
   "outputs": [],
   "source": [
    "import pickle\n",
    "\n",
    "with open('./src/models/logistic_regression_model_resampled', 'wb') as f:\n",
    "    pickle.dump(gridsearch_lr_resampled, f)\n",
    "    \n",
    "with open('./src/models/decision_tree_model_resampled', 'wb') as f:\n",
    "    pickle.dump(gridsearch_dt_resampled, f)\n",
    "    \n",
    "with open('./src/models/random_forest_model_resampled', 'wb') as f:\n",
    "    pickle.dump(gridsearch_rf_resampled, f)"
   ]
  },
  {
   "cell_type": "markdown",
   "id": "c66d80eb",
   "metadata": {},
   "source": [
    "### Chargement des modèles"
   ]
  },
  {
   "cell_type": "code",
   "execution_count": 16,
   "id": "bb2e2642",
   "metadata": {},
   "outputs": [],
   "source": [
    "import pickle\n",
    "\n",
    "with open('./src/models/logistic_regression_model_resampled', 'rb') as f:\n",
    "    gridsearch_lr_resampled = pickle.load(f)\n",
    "    \n",
    "with open('./src/models/decision_tree_model_resampled', 'rb') as f:\n",
    "    gridsearch_dt_resampled = pickle.load(f)\n",
    "    \n",
    "with open('./src/models/random_forest_model_resampled', 'rb') as f:\n",
    "    gridsearch_rf_resampled = pickle.load(f)"
   ]
  },
  {
   "cell_type": "markdown",
   "id": "c5e5c902",
   "metadata": {},
   "source": [
    "Après avoir trouver les meilleurs hyperparamètres pour les 3 modèles **Logistic Regression**, **Decision Tree** et **Random Forest**, nous allons les appliquer à 3 autres modèles mais qui s'entraineront cette fois-ci sur le dataset original (non undersampled)"
   ]
  },
  {
   "cell_type": "code",
   "execution_count": 19,
   "id": "caba01e8",
   "metadata": {},
   "outputs": [
    {
     "name": "stdout",
     "output_type": "stream",
     "text": [
      "Meilleurs hyperparamètres pour le modèle de Logistic Regression : {'C': 1.027, 'penalty': 'l1'}\n",
      "Meilleurs hyperparamètres pour le modèle de Decision Tree : {'max_depth': 14, 'min_samples_leaf': 3, 'min_samples_split': 10}\n",
      "Meilleurs hyperparamètres pour le modèle de Random Forest : {'max_depth': 12, 'min_samples_split': 9, 'n_estimators': 50}\n"
     ]
    }
   ],
   "source": [
    "print(f\"Meilleurs hyperparamètres pour le modèle de Logistic Regression : {gridsearch_lr_resampled.best_params_}\")\n",
    "print(f\"Meilleurs hyperparamètres pour le modèle de Decision Tree : {gridsearch_dt_resampled.best_params_}\")\n",
    "print(f\"Meilleurs hyperparamètres pour le modèle de Random Forest : {gridsearch_rf_resampled.best_params_}\")"
   ]
  },
  {
   "cell_type": "markdown",
   "id": "f515046d",
   "metadata": {},
   "source": [
    "On va créer une fonction pour repérer facilement le f1-score, la precision et le recall pour comparer les modèles"
   ]
  },
  {
   "cell_type": "code",
   "execution_count": 22,
   "id": "4a087f27",
   "metadata": {},
   "outputs": [],
   "source": [
    "def model_score(model, undersamp=False):\n",
    "    y_train_pred = model.predict(X_train)\n",
    "    y_test_pred = model.predict(X_test)\n",
    "    \n",
    "    if undersamp:\n",
    "        y_train_pred = model.predict(X_train_resampled)\n",
    "        y_test_pred = model.predict(X_test_resampled)\n",
    "        y_train = y_train_resampled\n",
    "        y_test = y_test_resampled\n",
    "    \n",
    "    print(\"----------------------------------------\\n                 Sur le Train set            \\n----------------------------------------\")\n",
    "    print(f'Accuracy : {accuracy_score(y_train,y_train_pred)}')\n",
    "    print(f'Precision : {precision_score(y_train,y_train_pred)}')\n",
    "    print(f'Recall : {recall_score(y_train,y_train_pred)}')\n",
    "    print(\"----------------------------------------\\n                 Sur le Test set            \\n----------------------------------------\")\n",
    "    print(f'Accuracy : {accuracy_score(y_test,y_test_pred)}')\n",
    "    print(f'Precision : {precision_score(y_test,y_test_pred)}')\n",
    "    print(f'Recall : {recall_score(y_test,y_test_pred)}')"
   ]
  },
  {
   "cell_type": "code",
   "execution_count": 23,
   "id": "69f5adf6",
   "metadata": {},
   "outputs": [
    {
     "name": "stdout",
     "output_type": "stream",
     "text": [
      "----------------------------------------\n",
      "                 Sur le Train set            \n",
      "----------------------------------------\n",
      "Accuracy : 0.9516937929856039\n"
     ]
    },
    {
     "ename": "NameError",
     "evalue": "name 'precision_score' is not defined",
     "output_type": "error",
     "traceback": [
      "\u001b[1;31m---------------------------------------------------------------------------\u001b[0m",
      "\u001b[1;31mNameError\u001b[0m                                 Traceback (most recent call last)",
      "Cell \u001b[1;32mIn[23], line 1\u001b[0m\n\u001b[1;32m----> 1\u001b[0m \u001b[43mmodel_score\u001b[49m\u001b[43m(\u001b[49m\u001b[43mgridsearch_lr_resampled\u001b[49m\u001b[43m,\u001b[49m\u001b[43m \u001b[49m\u001b[43mundersamp\u001b[49m\u001b[38;5;241;43m=\u001b[39;49m\u001b[38;5;28;43;01mTrue\u001b[39;49;00m\u001b[43m)\u001b[49m\n",
      "Cell \u001b[1;32mIn[22], line 13\u001b[0m, in \u001b[0;36mmodel_score\u001b[1;34m(model, undersamp)\u001b[0m\n\u001b[0;32m     11\u001b[0m \u001b[38;5;28mprint\u001b[39m(\u001b[38;5;124m\"\u001b[39m\u001b[38;5;124m----------------------------------------\u001b[39m\u001b[38;5;130;01m\\n\u001b[39;00m\u001b[38;5;124m                 Sur le Train set            \u001b[39m\u001b[38;5;130;01m\\n\u001b[39;00m\u001b[38;5;124m----------------------------------------\u001b[39m\u001b[38;5;124m\"\u001b[39m)\n\u001b[0;32m     12\u001b[0m \u001b[38;5;28mprint\u001b[39m(\u001b[38;5;124mf\u001b[39m\u001b[38;5;124m'\u001b[39m\u001b[38;5;124mAccuracy : \u001b[39m\u001b[38;5;132;01m{\u001b[39;00maccuracy_score(y_train,y_train_pred)\u001b[38;5;132;01m}\u001b[39;00m\u001b[38;5;124m'\u001b[39m)\n\u001b[1;32m---> 13\u001b[0m \u001b[38;5;28mprint\u001b[39m(\u001b[38;5;124mf\u001b[39m\u001b[38;5;124m'\u001b[39m\u001b[38;5;124mPrecision : \u001b[39m\u001b[38;5;132;01m{\u001b[39;00mprecision_score(y_train,y_train_pred)\u001b[38;5;132;01m}\u001b[39;00m\u001b[38;5;124m'\u001b[39m)\n\u001b[0;32m     14\u001b[0m \u001b[38;5;28mprint\u001b[39m(\u001b[38;5;124mf\u001b[39m\u001b[38;5;124m'\u001b[39m\u001b[38;5;124mRecall : \u001b[39m\u001b[38;5;132;01m{\u001b[39;00mrecall_score(y_train,y_train_pred)\u001b[38;5;132;01m}\u001b[39;00m\u001b[38;5;124m'\u001b[39m)\n\u001b[0;32m     15\u001b[0m \u001b[38;5;28mprint\u001b[39m(\u001b[38;5;124m\"\u001b[39m\u001b[38;5;124m----------------------------------------\u001b[39m\u001b[38;5;130;01m\\n\u001b[39;00m\u001b[38;5;124m                 Sur le Test set            \u001b[39m\u001b[38;5;130;01m\\n\u001b[39;00m\u001b[38;5;124m----------------------------------------\u001b[39m\u001b[38;5;124m\"\u001b[39m)\n",
      "\u001b[1;31mNameError\u001b[0m: name 'precision_score' is not defined"
     ]
    }
   ],
   "source": [
    "model_score(gridsearch_lr_resampled, undersamp=True)"
   ]
  },
  {
   "cell_type": "code",
   "execution_count": null,
   "id": "98cd4622",
   "metadata": {},
   "outputs": [],
   "source": []
  },
  {
   "cell_type": "code",
   "execution_count": null,
   "id": "1da78569",
   "metadata": {},
   "outputs": [],
   "source": []
  },
  {
   "cell_type": "code",
   "execution_count": null,
   "id": "c6b70ee5",
   "metadata": {},
   "outputs": [],
   "source": []
  },
  {
   "cell_type": "code",
   "execution_count": null,
   "id": "89055962",
   "metadata": {},
   "outputs": [],
   "source": []
  },
  {
   "cell_type": "code",
   "execution_count": null,
   "id": "2ace01d3",
   "metadata": {},
   "outputs": [],
   "source": []
  },
  {
   "cell_type": "markdown",
   "id": "a86ac760",
   "metadata": {},
   "source": [
    "### Deal with Unbalanced Data : SMOTETomek"
   ]
  },
  {
   "cell_type": "code",
   "execution_count": 10,
   "id": "8850a086",
   "metadata": {},
   "outputs": [],
   "source": [
    "smt = SMOTETomek(random_state=42,n_jobs=-1)\n",
    "\n",
    "X_res, y_res = smt.fit_resample(X, y)"
   ]
  },
  {
   "cell_type": "code",
   "execution_count": 17,
   "id": "863a6a26",
   "metadata": {},
   "outputs": [],
   "source": [
    "X_train, X_test, y_train, y_test = train_test_split(X_res, y_res, test_size=0.15, random_state=0, stratify=y_res)"
   ]
  },
  {
   "cell_type": "code",
   "execution_count": 19,
   "id": "a4198e08",
   "metadata": {},
   "outputs": [],
   "source": [
    "numeric_features = ['age', 'total_pages_visited']\n",
    "categ_features = ['country', 'source', 'new_user']\n",
    "# numeric_features = ['total_pages_visited']\n",
    "# categ_features = ['new_user']\n",
    "\n",
    "num_transf = make_pipeline(\n",
    "    (SimpleImputer(strategy='mean')),\n",
    "    (StandardScaler())\n",
    ")\n",
    "\n",
    "categ_transf = OneHotEncoder(drop='first')\n",
    "\n",
    "preprocessor = make_column_transformer(\n",
    "    (num_transf, numeric_features),\n",
    "    (categ_transf, categ_features)\n",
    ")"
   ]
  },
  {
   "cell_type": "markdown",
   "id": "9483c92c",
   "metadata": {},
   "source": [
    "### Logistic Regression"
   ]
  },
  {
   "cell_type": "code",
   "execution_count": 29,
   "id": "d00518f2",
   "metadata": {},
   "outputs": [
    {
     "data": {
      "text/html": [
       "<style>#sk-container-id-1 {color: black;background-color: white;}#sk-container-id-1 pre{padding: 0;}#sk-container-id-1 div.sk-toggleable {background-color: white;}#sk-container-id-1 label.sk-toggleable__label {cursor: pointer;display: block;width: 100%;margin-bottom: 0;padding: 0.3em;box-sizing: border-box;text-align: center;}#sk-container-id-1 label.sk-toggleable__label-arrow:before {content: \"▸\";float: left;margin-right: 0.25em;color: #696969;}#sk-container-id-1 label.sk-toggleable__label-arrow:hover:before {color: black;}#sk-container-id-1 div.sk-estimator:hover label.sk-toggleable__label-arrow:before {color: black;}#sk-container-id-1 div.sk-toggleable__content {max-height: 0;max-width: 0;overflow: hidden;text-align: left;background-color: #f0f8ff;}#sk-container-id-1 div.sk-toggleable__content pre {margin: 0.2em;color: black;border-radius: 0.25em;background-color: #f0f8ff;}#sk-container-id-1 input.sk-toggleable__control:checked~div.sk-toggleable__content {max-height: 200px;max-width: 100%;overflow: auto;}#sk-container-id-1 input.sk-toggleable__control:checked~label.sk-toggleable__label-arrow:before {content: \"▾\";}#sk-container-id-1 div.sk-estimator input.sk-toggleable__control:checked~label.sk-toggleable__label {background-color: #d4ebff;}#sk-container-id-1 div.sk-label input.sk-toggleable__control:checked~label.sk-toggleable__label {background-color: #d4ebff;}#sk-container-id-1 input.sk-hidden--visually {border: 0;clip: rect(1px 1px 1px 1px);clip: rect(1px, 1px, 1px, 1px);height: 1px;margin: -1px;overflow: hidden;padding: 0;position: absolute;width: 1px;}#sk-container-id-1 div.sk-estimator {font-family: monospace;background-color: #f0f8ff;border: 1px dotted black;border-radius: 0.25em;box-sizing: border-box;margin-bottom: 0.5em;}#sk-container-id-1 div.sk-estimator:hover {background-color: #d4ebff;}#sk-container-id-1 div.sk-parallel-item::after {content: \"\";width: 100%;border-bottom: 1px solid gray;flex-grow: 1;}#sk-container-id-1 div.sk-label:hover label.sk-toggleable__label {background-color: #d4ebff;}#sk-container-id-1 div.sk-serial::before {content: \"\";position: absolute;border-left: 1px solid gray;box-sizing: border-box;top: 0;bottom: 0;left: 50%;z-index: 0;}#sk-container-id-1 div.sk-serial {display: flex;flex-direction: column;align-items: center;background-color: white;padding-right: 0.2em;padding-left: 0.2em;position: relative;}#sk-container-id-1 div.sk-item {position: relative;z-index: 1;}#sk-container-id-1 div.sk-parallel {display: flex;align-items: stretch;justify-content: center;background-color: white;position: relative;}#sk-container-id-1 div.sk-item::before, #sk-container-id-1 div.sk-parallel-item::before {content: \"\";position: absolute;border-left: 1px solid gray;box-sizing: border-box;top: 0;bottom: 0;left: 50%;z-index: -1;}#sk-container-id-1 div.sk-parallel-item {display: flex;flex-direction: column;z-index: 1;position: relative;background-color: white;}#sk-container-id-1 div.sk-parallel-item:first-child::after {align-self: flex-end;width: 50%;}#sk-container-id-1 div.sk-parallel-item:last-child::after {align-self: flex-start;width: 50%;}#sk-container-id-1 div.sk-parallel-item:only-child::after {width: 0;}#sk-container-id-1 div.sk-dashed-wrapped {border: 1px dashed gray;margin: 0 0.4em 0.5em 0.4em;box-sizing: border-box;padding-bottom: 0.4em;background-color: white;}#sk-container-id-1 div.sk-label label {font-family: monospace;font-weight: bold;display: inline-block;line-height: 1.2em;}#sk-container-id-1 div.sk-label-container {text-align: center;}#sk-container-id-1 div.sk-container {/* jupyter's `normalize.less` sets `[hidden] { display: none; }` but bootstrap.min.css set `[hidden] { display: none !important; }` so we also need the `!important` here to be able to override the default hidden behavior on the sphinx rendered scikit-learn.org. See: https://github.com/scikit-learn/scikit-learn/issues/21755 */display: inline-block !important;position: relative;}#sk-container-id-1 div.sk-text-repr-fallback {display: none;}</style><div id=\"sk-container-id-1\" class=\"sk-top-container\"><div class=\"sk-text-repr-fallback\"><pre>LogisticRegression()</pre><b>In a Jupyter environment, please rerun this cell to show the HTML representation or trust the notebook. <br />On GitHub, the HTML representation is unable to render, please try loading this page with nbviewer.org.</b></div><div class=\"sk-container\" hidden><div class=\"sk-item\"><div class=\"sk-estimator sk-toggleable\"><input class=\"sk-toggleable__control sk-hidden--visually\" id=\"sk-estimator-id-1\" type=\"checkbox\" checked><label for=\"sk-estimator-id-1\" class=\"sk-toggleable__label sk-toggleable__label-arrow\">LogisticRegression</label><div class=\"sk-toggleable__content\"><pre>LogisticRegression()</pre></div></div></div></div></div>"
      ],
      "text/plain": [
       "LogisticRegression()"
      ]
     },
     "execution_count": 29,
     "metadata": {},
     "output_type": "execute_result"
    }
   ],
   "source": [
    "lr = LogisticRegression()\n",
    "\n",
    "lr.fit(X_train, y_train)"
   ]
  },
  {
   "cell_type": "code",
   "execution_count": 30,
   "id": "d13465c9",
   "metadata": {},
   "outputs": [
    {
     "data": {
      "text/html": [
       "<style>#sk-container-id-2 {color: black;background-color: white;}#sk-container-id-2 pre{padding: 0;}#sk-container-id-2 div.sk-toggleable {background-color: white;}#sk-container-id-2 label.sk-toggleable__label {cursor: pointer;display: block;width: 100%;margin-bottom: 0;padding: 0.3em;box-sizing: border-box;text-align: center;}#sk-container-id-2 label.sk-toggleable__label-arrow:before {content: \"▸\";float: left;margin-right: 0.25em;color: #696969;}#sk-container-id-2 label.sk-toggleable__label-arrow:hover:before {color: black;}#sk-container-id-2 div.sk-estimator:hover label.sk-toggleable__label-arrow:before {color: black;}#sk-container-id-2 div.sk-toggleable__content {max-height: 0;max-width: 0;overflow: hidden;text-align: left;background-color: #f0f8ff;}#sk-container-id-2 div.sk-toggleable__content pre {margin: 0.2em;color: black;border-radius: 0.25em;background-color: #f0f8ff;}#sk-container-id-2 input.sk-toggleable__control:checked~div.sk-toggleable__content {max-height: 200px;max-width: 100%;overflow: auto;}#sk-container-id-2 input.sk-toggleable__control:checked~label.sk-toggleable__label-arrow:before {content: \"▾\";}#sk-container-id-2 div.sk-estimator input.sk-toggleable__control:checked~label.sk-toggleable__label {background-color: #d4ebff;}#sk-container-id-2 div.sk-label input.sk-toggleable__control:checked~label.sk-toggleable__label {background-color: #d4ebff;}#sk-container-id-2 input.sk-hidden--visually {border: 0;clip: rect(1px 1px 1px 1px);clip: rect(1px, 1px, 1px, 1px);height: 1px;margin: -1px;overflow: hidden;padding: 0;position: absolute;width: 1px;}#sk-container-id-2 div.sk-estimator {font-family: monospace;background-color: #f0f8ff;border: 1px dotted black;border-radius: 0.25em;box-sizing: border-box;margin-bottom: 0.5em;}#sk-container-id-2 div.sk-estimator:hover {background-color: #d4ebff;}#sk-container-id-2 div.sk-parallel-item::after {content: \"\";width: 100%;border-bottom: 1px solid gray;flex-grow: 1;}#sk-container-id-2 div.sk-label:hover label.sk-toggleable__label {background-color: #d4ebff;}#sk-container-id-2 div.sk-serial::before {content: \"\";position: absolute;border-left: 1px solid gray;box-sizing: border-box;top: 0;bottom: 0;left: 50%;z-index: 0;}#sk-container-id-2 div.sk-serial {display: flex;flex-direction: column;align-items: center;background-color: white;padding-right: 0.2em;padding-left: 0.2em;position: relative;}#sk-container-id-2 div.sk-item {position: relative;z-index: 1;}#sk-container-id-2 div.sk-parallel {display: flex;align-items: stretch;justify-content: center;background-color: white;position: relative;}#sk-container-id-2 div.sk-item::before, #sk-container-id-2 div.sk-parallel-item::before {content: \"\";position: absolute;border-left: 1px solid gray;box-sizing: border-box;top: 0;bottom: 0;left: 50%;z-index: -1;}#sk-container-id-2 div.sk-parallel-item {display: flex;flex-direction: column;z-index: 1;position: relative;background-color: white;}#sk-container-id-2 div.sk-parallel-item:first-child::after {align-self: flex-end;width: 50%;}#sk-container-id-2 div.sk-parallel-item:last-child::after {align-self: flex-start;width: 50%;}#sk-container-id-2 div.sk-parallel-item:only-child::after {width: 0;}#sk-container-id-2 div.sk-dashed-wrapped {border: 1px dashed gray;margin: 0 0.4em 0.5em 0.4em;box-sizing: border-box;padding-bottom: 0.4em;background-color: white;}#sk-container-id-2 div.sk-label label {font-family: monospace;font-weight: bold;display: inline-block;line-height: 1.2em;}#sk-container-id-2 div.sk-label-container {text-align: center;}#sk-container-id-2 div.sk-container {/* jupyter's `normalize.less` sets `[hidden] { display: none; }` but bootstrap.min.css set `[hidden] { display: none !important; }` so we also need the `!important` here to be able to override the default hidden behavior on the sphinx rendered scikit-learn.org. See: https://github.com/scikit-learn/scikit-learn/issues/21755 */display: inline-block !important;position: relative;}#sk-container-id-2 div.sk-text-repr-fallback {display: none;}</style><div id=\"sk-container-id-2\" class=\"sk-top-container\"><div class=\"sk-text-repr-fallback\"><pre>GridSearchCV(cv=10, estimator=LogisticRegression(),\n",
       "             param_grid={&#x27;C&#x27;: [1.025, 1.027, 1.029, 1.031, 1.032, 1.034],\n",
       "                         &#x27;penalty&#x27;: [&#x27;l1&#x27;, &#x27;l2&#x27;]})</pre><b>In a Jupyter environment, please rerun this cell to show the HTML representation or trust the notebook. <br />On GitHub, the HTML representation is unable to render, please try loading this page with nbviewer.org.</b></div><div class=\"sk-container\" hidden><div class=\"sk-item sk-dashed-wrapped\"><div class=\"sk-label-container\"><div class=\"sk-label sk-toggleable\"><input class=\"sk-toggleable__control sk-hidden--visually\" id=\"sk-estimator-id-2\" type=\"checkbox\" ><label for=\"sk-estimator-id-2\" class=\"sk-toggleable__label sk-toggleable__label-arrow\">GridSearchCV</label><div class=\"sk-toggleable__content\"><pre>GridSearchCV(cv=10, estimator=LogisticRegression(),\n",
       "             param_grid={&#x27;C&#x27;: [1.025, 1.027, 1.029, 1.031, 1.032, 1.034],\n",
       "                         &#x27;penalty&#x27;: [&#x27;l1&#x27;, &#x27;l2&#x27;]})</pre></div></div></div><div class=\"sk-parallel\"><div class=\"sk-parallel-item\"><div class=\"sk-item\"><div class=\"sk-label-container\"><div class=\"sk-label sk-toggleable\"><input class=\"sk-toggleable__control sk-hidden--visually\" id=\"sk-estimator-id-3\" type=\"checkbox\" ><label for=\"sk-estimator-id-3\" class=\"sk-toggleable__label sk-toggleable__label-arrow\">estimator: LogisticRegression</label><div class=\"sk-toggleable__content\"><pre>LogisticRegression()</pre></div></div></div><div class=\"sk-serial\"><div class=\"sk-item\"><div class=\"sk-estimator sk-toggleable\"><input class=\"sk-toggleable__control sk-hidden--visually\" id=\"sk-estimator-id-4\" type=\"checkbox\" ><label for=\"sk-estimator-id-4\" class=\"sk-toggleable__label sk-toggleable__label-arrow\">LogisticRegression</label><div class=\"sk-toggleable__content\"><pre>LogisticRegression()</pre></div></div></div></div></div></div></div></div></div></div>"
      ],
      "text/plain": [
       "GridSearchCV(cv=10, estimator=LogisticRegression(),\n",
       "             param_grid={'C': [1.025, 1.027, 1.029, 1.031, 1.032, 1.034],\n",
       "                         'penalty': ['l1', 'l2']})"
      ]
     },
     "execution_count": 30,
     "metadata": {},
     "output_type": "execute_result"
    }
   ],
   "source": [
    "params = {\n",
    "    'C' : [1.025, 1.027, 1.029, 1.031, 1.032,1.034],\n",
    "    'penalty' : ['l1','l2']\n",
    "}\n",
    "\n",
    "gridsearch_lr = GridSearchCV(lr, param_grid = params, cv=10)\n",
    "gridsearch_lr.fit(X_train, y_train)"
   ]
  },
  {
   "cell_type": "code",
   "execution_count": 31,
   "id": "1cdc9db4",
   "metadata": {},
   "outputs": [
    {
     "name": "stdout",
     "output_type": "stream",
     "text": [
      "Best hyperparameters :  {'C': 1.034, 'penalty': 'l2'}\n",
      "Best R2 score :  0.9505019436968686\n"
     ]
    }
   ],
   "source": [
    "print(\"Best hyperparameters : \", gridsearch_lr.best_params_)\n",
    "print(\"Best R2 score : \", gridsearch_lr.best_score_)"
   ]
  },
  {
   "cell_type": "code",
   "execution_count": 32,
   "id": "fd19b3bb",
   "metadata": {},
   "outputs": [],
   "source": [
    "y_train_pred_lr = gridsearch_lr.predict(X_train)\n",
    "y_test_pred_lr = gridsearch_lr.predict(X_test)"
   ]
  },
  {
   "cell_type": "code",
   "execution_count": 33,
   "id": "bf61481d",
   "metadata": {},
   "outputs": [
    {
     "name": "stdout",
     "output_type": "stream",
     "text": [
      "f1-score sur le train set :  0.9506967185154864\n",
      "f1-score sur le test set :  0.9501959266605389\n"
     ]
    }
   ],
   "source": [
    "print(\"f1-score sur le train set : \", f1_score(y_train, y_train_pred_lr))\n",
    "print(\"f1-score sur le test set : \", f1_score(y_test, y_test_pred_lr))"
   ]
  },
  {
   "cell_type": "code",
   "execution_count": 34,
   "id": "0bbf74f1",
   "metadata": {},
   "outputs": [
    {
     "data": {
      "image/png": "[encoded data removed]",
      "text/plain": [
       "<Figure size 432x288 with 2 Axes>"
      ]
     },
     "metadata": {
      "needs_background": "light"
     },
     "output_type": "display_data"
    },
    {
     "data": {
      "image/png": "[encoded data removed]",
      "text/plain": [
       "<Figure size 432x288 with 2 Axes>"
      ]
     },
     "metadata": {
      "needs_background": "light"
     },
     "output_type": "display_data"
    }
   ],
   "source": [
    "_ , ax = plt.subplots() \n",
    "ax.set(title=\"Confusion Matrix on Train set\") \n",
    "ConfusionMatrixDisplay.from_estimator(gridsearch_lr, X_train, y_train, ax=ax) \n",
    "plt.show()\n",
    "\n",
    "_ , ax = plt.subplots() \n",
    "ax.set(title=\"Confusion Matrix on Test set\") \n",
    "ConfusionMatrixDisplay.from_estimator(gridsearch_lr, X_test, y_test, ax=ax) \n",
    "plt.show()"
   ]
  },
  {
   "cell_type": "markdown",
   "id": "026acbf5",
   "metadata": {},
   "source": [
    "### XGBoost"
   ]
  },
  {
   "cell_type": "code",
   "execution_count": 7,
   "id": "6062ab44",
   "metadata": {},
   "outputs": [
    {
     "data": {
      "text/html": [
       "<style>#sk-container-id-1 {color: black;background-color: white;}#sk-container-id-1 pre{padding: 0;}#sk-container-id-1 div.sk-toggleable {background-color: white;}#sk-container-id-1 label.sk-toggleable__label {cursor: pointer;display: block;width: 100%;margin-bottom: 0;padding: 0.3em;box-sizing: border-box;text-align: center;}#sk-container-id-1 label.sk-toggleable__label-arrow:before {content: \"▸\";float: left;margin-right: 0.25em;color: #696969;}#sk-container-id-1 label.sk-toggleable__label-arrow:hover:before {color: black;}#sk-container-id-1 div.sk-estimator:hover label.sk-toggleable__label-arrow:before {color: black;}#sk-container-id-1 div.sk-toggleable__content {max-height: 0;max-width: 0;overflow: hidden;text-align: left;background-color: #f0f8ff;}#sk-container-id-1 div.sk-toggleable__content pre {margin: 0.2em;color: black;border-radius: 0.25em;background-color: #f0f8ff;}#sk-container-id-1 input.sk-toggleable__control:checked~div.sk-toggleable__content {max-height: 200px;max-width: 100%;overflow: auto;}#sk-container-id-1 input.sk-toggleable__control:checked~label.sk-toggleable__label-arrow:before {content: \"▾\";}#sk-container-id-1 div.sk-estimator input.sk-toggleable__control:checked~label.sk-toggleable__label {background-color: #d4ebff;}#sk-container-id-1 div.sk-label input.sk-toggleable__control:checked~label.sk-toggleable__label {background-color: #d4ebff;}#sk-container-id-1 input.sk-hidden--visually {border: 0;clip: rect(1px 1px 1px 1px);clip: rect(1px, 1px, 1px, 1px);height: 1px;margin: -1px;overflow: hidden;padding: 0;position: absolute;width: 1px;}#sk-container-id-1 div.sk-estimator {font-family: monospace;background-color: #f0f8ff;border: 1px dotted black;border-radius: 0.25em;box-sizing: border-box;margin-bottom: 0.5em;}#sk-container-id-1 div.sk-estimator:hover {background-color: #d4ebff;}#sk-container-id-1 div.sk-parallel-item::after {content: \"\";width: 100%;border-bottom: 1px solid gray;flex-grow: 1;}#sk-container-id-1 div.sk-label:hover label.sk-toggleable__label {background-color: #d4ebff;}#sk-container-id-1 div.sk-serial::before {content: \"\";position: absolute;border-left: 1px solid gray;box-sizing: border-box;top: 0;bottom: 0;left: 50%;z-index: 0;}#sk-container-id-1 div.sk-serial {display: flex;flex-direction: column;align-items: center;background-color: white;padding-right: 0.2em;padding-left: 0.2em;position: relative;}#sk-container-id-1 div.sk-item {position: relative;z-index: 1;}#sk-container-id-1 div.sk-parallel {display: flex;align-items: stretch;justify-content: center;background-color: white;position: relative;}#sk-container-id-1 div.sk-item::before, #sk-container-id-1 div.sk-parallel-item::before {content: \"\";position: absolute;border-left: 1px solid gray;box-sizing: border-box;top: 0;bottom: 0;left: 50%;z-index: -1;}#sk-container-id-1 div.sk-parallel-item {display: flex;flex-direction: column;z-index: 1;position: relative;background-color: white;}#sk-container-id-1 div.sk-parallel-item:first-child::after {align-self: flex-end;width: 50%;}#sk-container-id-1 div.sk-parallel-item:last-child::after {align-self: flex-start;width: 50%;}#sk-container-id-1 div.sk-parallel-item:only-child::after {width: 0;}#sk-container-id-1 div.sk-dashed-wrapped {border: 1px dashed gray;margin: 0 0.4em 0.5em 0.4em;box-sizing: border-box;padding-bottom: 0.4em;background-color: white;}#sk-container-id-1 div.sk-label label {font-family: monospace;font-weight: bold;display: inline-block;line-height: 1.2em;}#sk-container-id-1 div.sk-label-container {text-align: center;}#sk-container-id-1 div.sk-container {/* jupyter's `normalize.less` sets `[hidden] { display: none; }` but bootstrap.min.css set `[hidden] { display: none !important; }` so we also need the `!important` here to be able to override the default hidden behavior on the sphinx rendered scikit-learn.org. See: https://github.com/scikit-learn/scikit-learn/issues/21755 */display: inline-block !important;position: relative;}#sk-container-id-1 div.sk-text-repr-fallback {display: none;}</style><div id=\"sk-container-id-1\" class=\"sk-top-container\"><div class=\"sk-text-repr-fallback\"><pre>GridSearchCV(cv=10,\n",
       "             estimator=XGBClassifier(base_score=None, booster=None,\n",
       "                                     callbacks=None, colsample_bylevel=None,\n",
       "                                     colsample_bynode=None,\n",
       "                                     colsample_bytree=None,\n",
       "                                     early_stopping_rounds=None,\n",
       "                                     enable_categorical=False, eval_metric=None,\n",
       "                                     gamma=None, gpu_id=None, grow_policy=None,\n",
       "                                     importance_type=None,\n",
       "                                     interaction_constraints=None,\n",
       "                                     learning_rate=None, max_bin=None,\n",
       "                                     max_cat_to_onehot=None,\n",
       "                                     max_delta_step=None, max_depth=None,\n",
       "                                     max_leaves=None, min_child_weight=None,\n",
       "                                     missing=nan, monotone_constraints=None,\n",
       "                                     n_estimators=100, n_jobs=None,\n",
       "                                     num_parallel_tree=None, predictor=None,\n",
       "                                     random_state=None, reg_alpha=None,\n",
       "                                     reg_lambda=None, ...),\n",
       "             param_grid={&#x27;max_depth&#x27;: [4, 5, 6, 7, 8],\n",
       "                         &#x27;min_child_weight&#x27;: [3.5, 4.0, 5.0],\n",
       "                         &#x27;n_estimators&#x27;: [14, 15, 17, 20]})</pre><b>In a Jupyter environment, please rerun this cell to show the HTML representation or trust the notebook. <br />On GitHub, the HTML representation is unable to render, please try loading this page with nbviewer.org.</b></div><div class=\"sk-container\" hidden><div class=\"sk-item sk-dashed-wrapped\"><div class=\"sk-label-container\"><div class=\"sk-label sk-toggleable\"><input class=\"sk-toggleable__control sk-hidden--visually\" id=\"sk-estimator-id-1\" type=\"checkbox\" ><label for=\"sk-estimator-id-1\" class=\"sk-toggleable__label sk-toggleable__label-arrow\">GridSearchCV</label><div class=\"sk-toggleable__content\"><pre>GridSearchCV(cv=10,\n",
       "             estimator=XGBClassifier(base_score=None, booster=None,\n",
       "                                     callbacks=None, colsample_bylevel=None,\n",
       "                                     colsample_bynode=None,\n",
       "                                     colsample_bytree=None,\n",
       "                                     early_stopping_rounds=None,\n",
       "                                     enable_categorical=False, eval_metric=None,\n",
       "                                     gamma=None, gpu_id=None, grow_policy=None,\n",
       "                                     importance_type=None,\n",
       "                                     interaction_constraints=None,\n",
       "                                     learning_rate=None, max_bin=None,\n",
       "                                     max_cat_to_onehot=None,\n",
       "                                     max_delta_step=None, max_depth=None,\n",
       "                                     max_leaves=None, min_child_weight=None,\n",
       "                                     missing=nan, monotone_constraints=None,\n",
       "                                     n_estimators=100, n_jobs=None,\n",
       "                                     num_parallel_tree=None, predictor=None,\n",
       "                                     random_state=None, reg_alpha=None,\n",
       "                                     reg_lambda=None, ...),\n",
       "             param_grid={&#x27;max_depth&#x27;: [4, 5, 6, 7, 8],\n",
       "                         &#x27;min_child_weight&#x27;: [3.5, 4.0, 5.0],\n",
       "                         &#x27;n_estimators&#x27;: [14, 15, 17, 20]})</pre></div></div></div><div class=\"sk-parallel\"><div class=\"sk-parallel-item\"><div class=\"sk-item\"><div class=\"sk-label-container\"><div class=\"sk-label sk-toggleable\"><input class=\"sk-toggleable__control sk-hidden--visually\" id=\"sk-estimator-id-2\" type=\"checkbox\" ><label for=\"sk-estimator-id-2\" class=\"sk-toggleable__label sk-toggleable__label-arrow\">estimator: XGBClassifier</label><div class=\"sk-toggleable__content\"><pre>XGBClassifier(base_score=None, booster=None, callbacks=None,\n",
       "              colsample_bylevel=None, colsample_bynode=None,\n",
       "              colsample_bytree=None, early_stopping_rounds=None,\n",
       "              enable_categorical=False, eval_metric=None, gamma=None,\n",
       "              gpu_id=None, grow_policy=None, importance_type=None,\n",
       "              interaction_constraints=None, learning_rate=None, max_bin=None,\n",
       "              max_cat_to_onehot=None, max_delta_step=None, max_depth=None,\n",
       "              max_leaves=None, min_child_weight=None, missing=nan,\n",
       "              monotone_constraints=None, n_estimators=100, n_jobs=None,\n",
       "              num_parallel_tree=None, predictor=None, random_state=None,\n",
       "              reg_alpha=None, reg_lambda=None, ...)</pre></div></div></div><div class=\"sk-serial\"><div class=\"sk-item\"><div class=\"sk-estimator sk-toggleable\"><input class=\"sk-toggleable__control sk-hidden--visually\" id=\"sk-estimator-id-3\" type=\"checkbox\" ><label for=\"sk-estimator-id-3\" class=\"sk-toggleable__label sk-toggleable__label-arrow\">XGBClassifier</label><div class=\"sk-toggleable__content\"><pre>XGBClassifier(base_score=None, booster=None, callbacks=None,\n",
       "              colsample_bylevel=None, colsample_bynode=None,\n",
       "              colsample_bytree=None, early_stopping_rounds=None,\n",
       "              enable_categorical=False, eval_metric=None, gamma=None,\n",
       "              gpu_id=None, grow_policy=None, importance_type=None,\n",
       "              interaction_constraints=None, learning_rate=None, max_bin=None,\n",
       "              max_cat_to_onehot=None, max_delta_step=None, max_depth=None,\n",
       "              max_leaves=None, min_child_weight=None, missing=nan,\n",
       "              monotone_constraints=None, n_estimators=100, n_jobs=None,\n",
       "              num_parallel_tree=None, predictor=None, random_state=None,\n",
       "              reg_alpha=None, reg_lambda=None, ...)</pre></div></div></div></div></div></div></div></div></div></div>"
      ],
      "text/plain": [
       "GridSearchCV(cv=10,\n",
       "             estimator=XGBClassifier(base_score=None, booster=None,\n",
       "                                     callbacks=None, colsample_bylevel=None,\n",
       "                                     colsample_bynode=None,\n",
       "                                     colsample_bytree=None,\n",
       "                                     early_stopping_rounds=None,\n",
       "                                     enable_categorical=False, eval_metric=None,\n",
       "                                     gamma=None, gpu_id=None, grow_policy=None,\n",
       "                                     importance_type=None,\n",
       "                                     interaction_constraints=None,\n",
       "                                     learning_rate=None, max_bin=None,\n",
       "                                     max_cat_to_onehot=None,\n",
       "                                     max_delta_step=None, max_depth=None,\n",
       "                                     max_leaves=None, min_child_weight=None,\n",
       "                                     missing=nan, monotone_constraints=None,\n",
       "                                     n_estimators=100, n_jobs=None,\n",
       "                                     num_parallel_tree=None, predictor=None,\n",
       "                                     random_state=None, reg_alpha=None,\n",
       "                                     reg_lambda=None, ...),\n",
       "             param_grid={'max_depth': [4, 5, 6, 7, 8],\n",
       "                         'min_child_weight': [3.5, 4.0, 5.0],\n",
       "                         'n_estimators': [14, 15, 17, 20]})"
      ]
     },
     "execution_count": 7,
     "metadata": {},
     "output_type": "execute_result"
    }
   ],
   "source": [
    "xgboost = XGBClassifier()\n",
    "\n",
    "params = {\n",
    "    'max_depth': [4,5,6,7,8], \n",
    "    'min_child_weight': [3.5,4.0,5.0], \n",
    "    'n_estimators': [14,15,17,20] \n",
    "}\n",
    "\n",
    "xgboost_gs = GridSearchCV(xgboost, param_grid = params, cv=10) \n",
    "xgboost_gs.fit(X_train, y_train)"
   ]
  },
  {
   "cell_type": "code",
   "execution_count": 9,
   "id": "dcfa11b4",
   "metadata": {},
   "outputs": [
    {
     "name": "stdout",
     "output_type": "stream",
     "text": [
      "Best hyperparameters :  {'max_depth': 8, 'min_child_weight': 5.0, 'n_estimators': 20}\n",
      "Best R2 score :  0.9431757016532103\n"
     ]
    }
   ],
   "source": [
    "print(\"Best hyperparameters : \", xgboost_gs.best_params_)\n",
    "print(\"Best R2 score : \", xgboost_gs.best_score_)"
   ]
  },
  {
   "cell_type": "code",
   "execution_count": 10,
   "id": "dbf2e0db",
   "metadata": {},
   "outputs": [],
   "source": [
    "y_train_pred_lr = xgboost_gs.predict(X_train)\n",
    "y_test_pred_lr = xgboost_gs.predict(X_test)"
   ]
  },
  {
   "cell_type": "code",
   "execution_count": 11,
   "id": "b3d2cdc2",
   "metadata": {},
   "outputs": [
    {
     "name": "stdout",
     "output_type": "stream",
     "text": [
      "f1-score sur le train set :  0.9441076357724678\n",
      "f1-score sur le test set :  0.9427337093483739\n"
     ]
    }
   ],
   "source": [
    "print(\"f1-score sur le train set : \", f1_score(y_train, y_train_pred_lr))\n",
    "print(\"f1-score sur le test set : \", f1_score(y_test, y_test_pred_lr))"
   ]
  },
  {
   "cell_type": "code",
   "execution_count": 12,
   "id": "eac2c15f",
   "metadata": {},
   "outputs": [
    {
     "data": {
      "image/png": "[encoded data removed]",
      "text/plain": [
       "<Figure size 432x288 with 2 Axes>"
      ]
     },
     "metadata": {
      "needs_background": "light"
     },
     "output_type": "display_data"
    },
    {
     "data": {
      "image/png": "[encoded data removed]",
      "text/plain": [
       "<Figure size 432x288 with 2 Axes>"
      ]
     },
     "metadata": {
      "needs_background": "light"
     },
     "output_type": "display_data"
    }
   ],
   "source": [
    "_ , ax = plt.subplots() \n",
    "ax.set(title=\"Confusion Matrix on Train set\") \n",
    "ConfusionMatrixDisplay.from_estimator(xgboost_gs, X_train, y_train, ax=ax) \n",
    "plt.show()\n",
    "\n",
    "_ , ax = plt.subplots() \n",
    "ax.set(title=\"Confusion Matrix on Test set\") \n",
    "ConfusionMatrixDisplay.from_estimator(xgboost_gs, X_test, y_test, ax=ax) \n",
    "plt.show()"
   ]
  },
  {
   "cell_type": "code",
   "execution_count": 43,
   "id": "3d807a83",
   "metadata": {},
   "outputs": [
    {
     "data": {
      "text/html": [
       "<div>\n",
       "<style scoped>\n",
       "    .dataframe tbody tr th:only-of-type {\n",
       "        vertical-align: middle;\n",
       "    }\n",
       "\n",
       "    .dataframe tbody tr th {\n",
       "        vertical-align: top;\n",
       "    }\n",
       "\n",
       "    .dataframe thead th {\n",
       "        text-align: right;\n",
       "    }\n",
       "</style>\n",
       "<table border=\"1\" class=\"dataframe\">\n",
       "  <thead>\n",
       "    <tr style=\"text-align: right;\">\n",
       "      <th></th>\n",
       "      <th>0</th>\n",
       "    </tr>\n",
       "  </thead>\n",
       "  <tbody>\n",
       "    <tr>\n",
       "      <th>0</th>\n",
       "      <td>(0, 7)\\t1.0\\n  (0, 62)\\t1.0\\n  (0, 63)\\t1.0\\...</td>\n",
       "    </tr>\n",
       "    <tr>\n",
       "      <th>1</th>\n",
       "      <td>(0, 1)\\t1.0\\n  (0, 6)\\t1.0\\n  (0, 62)\\t1.0\\n...</td>\n",
       "    </tr>\n",
       "    <tr>\n",
       "      <th>2</th>\n",
       "      <td>(0, 0)\\t1.0\\n  (0, 5)\\t1.0\\n  (0, 64)\\t1.0\\n...</td>\n",
       "    </tr>\n",
       "    <tr>\n",
       "      <th>3</th>\n",
       "      <td>(0, 2)\\t1.0\\n  (0, 8)\\t1.0\\n  (0, 62)\\t1.0\\n...</td>\n",
       "    </tr>\n",
       "    <tr>\n",
       "      <th>4</th>\n",
       "      <td>(0, 2)\\t1.0\\n  (0, 13)\\t1.0\\n  (0, 62)\\t1.0\\...</td>\n",
       "    </tr>\n",
       "    <tr>\n",
       "      <th>...</th>\n",
       "      <td>...</td>\n",
       "    </tr>\n",
       "    <tr>\n",
       "      <th>550795</th>\n",
       "      <td>(0, 79)\\t1.0\\n  (0, 64)\\t1.0\\n  (0, 8)\\t1.0\\...</td>\n",
       "    </tr>\n",
       "    <tr>\n",
       "      <th>550796</th>\n",
       "      <td>(0, 69)\\t1.0\\n  (0, 64)\\t0.09729176726242972...</td>\n",
       "    </tr>\n",
       "    <tr>\n",
       "      <th>550797</th>\n",
       "      <td>(0, 75)\\t1.0\\n  (0, 64)\\t1.0\\n  (0, 62)\\t1.0...</td>\n",
       "    </tr>\n",
       "    <tr>\n",
       "      <th>550798</th>\n",
       "      <td>(0, 76)\\t1.0\\n  (0, 6)\\t1.0\\n  (0, 2)\\t1.0</td>\n",
       "    </tr>\n",
       "    <tr>\n",
       "      <th>550799</th>\n",
       "      <td>(0, 81)\\t1.0\\n  (0, 64)\\t1.0\\n  (0, 10)\\t1.0...</td>\n",
       "    </tr>\n",
       "  </tbody>\n",
       "</table>\n",
       "<p>550800 rows × 1 columns</p>\n",
       "</div>"
      ],
      "text/plain": [
       "                                                        0\n",
       "0         (0, 7)\\t1.0\\n  (0, 62)\\t1.0\\n  (0, 63)\\t1.0\\...\n",
       "1         (0, 1)\\t1.0\\n  (0, 6)\\t1.0\\n  (0, 62)\\t1.0\\n...\n",
       "2         (0, 0)\\t1.0\\n  (0, 5)\\t1.0\\n  (0, 64)\\t1.0\\n...\n",
       "3         (0, 2)\\t1.0\\n  (0, 8)\\t1.0\\n  (0, 62)\\t1.0\\n...\n",
       "4         (0, 2)\\t1.0\\n  (0, 13)\\t1.0\\n  (0, 62)\\t1.0\\...\n",
       "...                                                   ...\n",
       "550795    (0, 79)\\t1.0\\n  (0, 64)\\t1.0\\n  (0, 8)\\t1.0\\...\n",
       "550796    (0, 69)\\t1.0\\n  (0, 64)\\t0.09729176726242972...\n",
       "550797    (0, 75)\\t1.0\\n  (0, 64)\\t1.0\\n  (0, 62)\\t1.0...\n",
       "550798         (0, 76)\\t1.0\\n  (0, 6)\\t1.0\\n  (0, 2)\\t1.0\n",
       "550799    (0, 81)\\t1.0\\n  (0, 64)\\t1.0\\n  (0, 10)\\t1.0...\n",
       "\n",
       "[550800 rows x 1 columns]"
      ]
     },
     "execution_count": 43,
     "metadata": {},
     "output_type": "execute_result"
    }
   ],
   "source": [
    "X_res_df = pd.DataFrame(X_res)"
   ]
  },
  {
   "cell_type": "code",
   "execution_count": 54,
   "id": "e7b97d62",
   "metadata": {},
   "outputs": [
    {
     "data": {
      "text/html": [
       "<div>\n",
       "<style scoped>\n",
       "    .dataframe tbody tr th:only-of-type {\n",
       "        vertical-align: middle;\n",
       "    }\n",
       "\n",
       "    .dataframe tbody tr th {\n",
       "        vertical-align: top;\n",
       "    }\n",
       "\n",
       "    .dataframe thead th {\n",
       "        text-align: right;\n",
       "    }\n",
       "</style>\n",
       "<table border=\"1\" class=\"dataframe\">\n",
       "  <thead>\n",
       "    <tr style=\"text-align: right;\">\n",
       "      <th></th>\n",
       "      <th>0</th>\n",
       "      <th>1</th>\n",
       "      <th>2</th>\n",
       "      <th>3</th>\n",
       "      <th>4</th>\n",
       "      <th>5</th>\n",
       "      <th>6</th>\n",
       "      <th>7</th>\n",
       "      <th>8</th>\n",
       "      <th>9</th>\n",
       "      <th>...</th>\n",
       "      <th>83</th>\n",
       "      <th>84</th>\n",
       "      <th>85</th>\n",
       "      <th>86</th>\n",
       "      <th>87</th>\n",
       "      <th>88</th>\n",
       "      <th>89</th>\n",
       "      <th>90</th>\n",
       "      <th>91</th>\n",
       "      <th>92</th>\n",
       "    </tr>\n",
       "  </thead>\n",
       "  <tbody>\n",
       "    <tr>\n",
       "      <th>0</th>\n",
       "      <td>0.0</td>\n",
       "      <td>0.0</td>\n",
       "      <td>0.0</td>\n",
       "      <td>0.0</td>\n",
       "      <td>0.0</td>\n",
       "      <td>0.0</td>\n",
       "      <td>0.0</td>\n",
       "      <td>1.0</td>\n",
       "      <td>0.0</td>\n",
       "      <td>0.0</td>\n",
       "      <td>...</td>\n",
       "      <td>0.0</td>\n",
       "      <td>0.0</td>\n",
       "      <td>0.0</td>\n",
       "      <td>0.0</td>\n",
       "      <td>0.0</td>\n",
       "      <td>0.0</td>\n",
       "      <td>0.0</td>\n",
       "      <td>0.0</td>\n",
       "      <td>0.0</td>\n",
       "      <td>0.0</td>\n",
       "    </tr>\n",
       "    <tr>\n",
       "      <th>1</th>\n",
       "      <td>0.0</td>\n",
       "      <td>1.0</td>\n",
       "      <td>0.0</td>\n",
       "      <td>0.0</td>\n",
       "      <td>0.0</td>\n",
       "      <td>0.0</td>\n",
       "      <td>1.0</td>\n",
       "      <td>0.0</td>\n",
       "      <td>0.0</td>\n",
       "      <td>0.0</td>\n",
       "      <td>...</td>\n",
       "      <td>0.0</td>\n",
       "      <td>0.0</td>\n",
       "      <td>0.0</td>\n",
       "      <td>0.0</td>\n",
       "      <td>0.0</td>\n",
       "      <td>0.0</td>\n",
       "      <td>0.0</td>\n",
       "      <td>0.0</td>\n",
       "      <td>0.0</td>\n",
       "      <td>0.0</td>\n",
       "    </tr>\n",
       "    <tr>\n",
       "      <th>2</th>\n",
       "      <td>1.0</td>\n",
       "      <td>0.0</td>\n",
       "      <td>0.0</td>\n",
       "      <td>0.0</td>\n",
       "      <td>0.0</td>\n",
       "      <td>1.0</td>\n",
       "      <td>0.0</td>\n",
       "      <td>0.0</td>\n",
       "      <td>0.0</td>\n",
       "      <td>0.0</td>\n",
       "      <td>...</td>\n",
       "      <td>0.0</td>\n",
       "      <td>0.0</td>\n",
       "      <td>0.0</td>\n",
       "      <td>0.0</td>\n",
       "      <td>0.0</td>\n",
       "      <td>0.0</td>\n",
       "      <td>0.0</td>\n",
       "      <td>0.0</td>\n",
       "      <td>0.0</td>\n",
       "      <td>0.0</td>\n",
       "    </tr>\n",
       "    <tr>\n",
       "      <th>3</th>\n",
       "      <td>0.0</td>\n",
       "      <td>0.0</td>\n",
       "      <td>1.0</td>\n",
       "      <td>0.0</td>\n",
       "      <td>0.0</td>\n",
       "      <td>0.0</td>\n",
       "      <td>0.0</td>\n",
       "      <td>0.0</td>\n",
       "      <td>1.0</td>\n",
       "      <td>0.0</td>\n",
       "      <td>...</td>\n",
       "      <td>0.0</td>\n",
       "      <td>0.0</td>\n",
       "      <td>0.0</td>\n",
       "      <td>0.0</td>\n",
       "      <td>0.0</td>\n",
       "      <td>0.0</td>\n",
       "      <td>0.0</td>\n",
       "      <td>0.0</td>\n",
       "      <td>0.0</td>\n",
       "      <td>0.0</td>\n",
       "    </tr>\n",
       "    <tr>\n",
       "      <th>4</th>\n",
       "      <td>0.0</td>\n",
       "      <td>0.0</td>\n",
       "      <td>1.0</td>\n",
       "      <td>0.0</td>\n",
       "      <td>0.0</td>\n",
       "      <td>0.0</td>\n",
       "      <td>0.0</td>\n",
       "      <td>0.0</td>\n",
       "      <td>0.0</td>\n",
       "      <td>0.0</td>\n",
       "      <td>...</td>\n",
       "      <td>0.0</td>\n",
       "      <td>0.0</td>\n",
       "      <td>0.0</td>\n",
       "      <td>0.0</td>\n",
       "      <td>0.0</td>\n",
       "      <td>0.0</td>\n",
       "      <td>0.0</td>\n",
       "      <td>0.0</td>\n",
       "      <td>0.0</td>\n",
       "      <td>0.0</td>\n",
       "    </tr>\n",
       "    <tr>\n",
       "      <th>...</th>\n",
       "      <td>...</td>\n",
       "      <td>...</td>\n",
       "      <td>...</td>\n",
       "      <td>...</td>\n",
       "      <td>...</td>\n",
       "      <td>...</td>\n",
       "      <td>...</td>\n",
       "      <td>...</td>\n",
       "      <td>...</td>\n",
       "      <td>...</td>\n",
       "      <td>...</td>\n",
       "      <td>...</td>\n",
       "      <td>...</td>\n",
       "      <td>...</td>\n",
       "      <td>...</td>\n",
       "      <td>...</td>\n",
       "      <td>...</td>\n",
       "      <td>...</td>\n",
       "      <td>...</td>\n",
       "      <td>...</td>\n",
       "      <td>...</td>\n",
       "    </tr>\n",
       "    <tr>\n",
       "      <th>550795</th>\n",
       "      <td>0.0</td>\n",
       "      <td>1.0</td>\n",
       "      <td>0.0</td>\n",
       "      <td>0.0</td>\n",
       "      <td>0.0</td>\n",
       "      <td>0.0</td>\n",
       "      <td>0.0</td>\n",
       "      <td>0.0</td>\n",
       "      <td>1.0</td>\n",
       "      <td>0.0</td>\n",
       "      <td>...</td>\n",
       "      <td>0.0</td>\n",
       "      <td>0.0</td>\n",
       "      <td>0.0</td>\n",
       "      <td>0.0</td>\n",
       "      <td>0.0</td>\n",
       "      <td>0.0</td>\n",
       "      <td>0.0</td>\n",
       "      <td>0.0</td>\n",
       "      <td>0.0</td>\n",
       "      <td>0.0</td>\n",
       "    </tr>\n",
       "    <tr>\n",
       "      <th>550796</th>\n",
       "      <td>0.0</td>\n",
       "      <td>0.0</td>\n",
       "      <td>1.0</td>\n",
       "      <td>0.0</td>\n",
       "      <td>0.0</td>\n",
       "      <td>0.0</td>\n",
       "      <td>0.0</td>\n",
       "      <td>0.0</td>\n",
       "      <td>0.0</td>\n",
       "      <td>0.0</td>\n",
       "      <td>...</td>\n",
       "      <td>0.0</td>\n",
       "      <td>0.0</td>\n",
       "      <td>0.0</td>\n",
       "      <td>0.0</td>\n",
       "      <td>0.0</td>\n",
       "      <td>0.0</td>\n",
       "      <td>0.0</td>\n",
       "      <td>0.0</td>\n",
       "      <td>0.0</td>\n",
       "      <td>0.0</td>\n",
       "    </tr>\n",
       "    <tr>\n",
       "      <th>550797</th>\n",
       "      <td>0.0</td>\n",
       "      <td>1.0</td>\n",
       "      <td>0.0</td>\n",
       "      <td>0.0</td>\n",
       "      <td>0.0</td>\n",
       "      <td>0.0</td>\n",
       "      <td>0.0</td>\n",
       "      <td>0.0</td>\n",
       "      <td>0.0</td>\n",
       "      <td>0.0</td>\n",
       "      <td>...</td>\n",
       "      <td>0.0</td>\n",
       "      <td>0.0</td>\n",
       "      <td>0.0</td>\n",
       "      <td>0.0</td>\n",
       "      <td>0.0</td>\n",
       "      <td>0.0</td>\n",
       "      <td>0.0</td>\n",
       "      <td>0.0</td>\n",
       "      <td>0.0</td>\n",
       "      <td>0.0</td>\n",
       "    </tr>\n",
       "    <tr>\n",
       "      <th>550798</th>\n",
       "      <td>0.0</td>\n",
       "      <td>0.0</td>\n",
       "      <td>1.0</td>\n",
       "      <td>0.0</td>\n",
       "      <td>0.0</td>\n",
       "      <td>0.0</td>\n",
       "      <td>1.0</td>\n",
       "      <td>0.0</td>\n",
       "      <td>0.0</td>\n",
       "      <td>0.0</td>\n",
       "      <td>...</td>\n",
       "      <td>0.0</td>\n",
       "      <td>0.0</td>\n",
       "      <td>0.0</td>\n",
       "      <td>0.0</td>\n",
       "      <td>0.0</td>\n",
       "      <td>0.0</td>\n",
       "      <td>0.0</td>\n",
       "      <td>0.0</td>\n",
       "      <td>0.0</td>\n",
       "      <td>0.0</td>\n",
       "    </tr>\n",
       "    <tr>\n",
       "      <th>550799</th>\n",
       "      <td>0.0</td>\n",
       "      <td>0.0</td>\n",
       "      <td>1.0</td>\n",
       "      <td>0.0</td>\n",
       "      <td>0.0</td>\n",
       "      <td>0.0</td>\n",
       "      <td>0.0</td>\n",
       "      <td>0.0</td>\n",
       "      <td>0.0</td>\n",
       "      <td>0.0</td>\n",
       "      <td>...</td>\n",
       "      <td>0.0</td>\n",
       "      <td>0.0</td>\n",
       "      <td>0.0</td>\n",
       "      <td>0.0</td>\n",
       "      <td>0.0</td>\n",
       "      <td>0.0</td>\n",
       "      <td>0.0</td>\n",
       "      <td>0.0</td>\n",
       "      <td>0.0</td>\n",
       "      <td>0.0</td>\n",
       "    </tr>\n",
       "  </tbody>\n",
       "</table>\n",
       "<p>550800 rows × 93 columns</p>\n",
       "</div>"
      ],
      "text/plain": [
       "         0    1    2    3    4    5    6    7    8    9   ...   83   84   85  \\\n",
       "0       0.0  0.0  0.0  0.0  0.0  0.0  0.0  1.0  0.0  0.0  ...  0.0  0.0  0.0   \n",
       "1       0.0  1.0  0.0  0.0  0.0  0.0  1.0  0.0  0.0  0.0  ...  0.0  0.0  0.0   \n",
       "2       1.0  0.0  0.0  0.0  0.0  1.0  0.0  0.0  0.0  0.0  ...  0.0  0.0  0.0   \n",
       "3       0.0  0.0  1.0  0.0  0.0  0.0  0.0  0.0  1.0  0.0  ...  0.0  0.0  0.0   \n",
       "4       0.0  0.0  1.0  0.0  0.0  0.0  0.0  0.0  0.0  0.0  ...  0.0  0.0  0.0   \n",
       "...     ...  ...  ...  ...  ...  ...  ...  ...  ...  ...  ...  ...  ...  ...   \n",
       "550795  0.0  1.0  0.0  0.0  0.0  0.0  0.0  0.0  1.0  0.0  ...  0.0  0.0  0.0   \n",
       "550796  0.0  0.0  1.0  0.0  0.0  0.0  0.0  0.0  0.0  0.0  ...  0.0  0.0  0.0   \n",
       "550797  0.0  1.0  0.0  0.0  0.0  0.0  0.0  0.0  0.0  0.0  ...  0.0  0.0  0.0   \n",
       "550798  0.0  0.0  1.0  0.0  0.0  0.0  1.0  0.0  0.0  0.0  ...  0.0  0.0  0.0   \n",
       "550799  0.0  0.0  1.0  0.0  0.0  0.0  0.0  0.0  0.0  0.0  ...  0.0  0.0  0.0   \n",
       "\n",
       "         86   87   88   89   90   91   92  \n",
       "0       0.0  0.0  0.0  0.0  0.0  0.0  0.0  \n",
       "1       0.0  0.0  0.0  0.0  0.0  0.0  0.0  \n",
       "2       0.0  0.0  0.0  0.0  0.0  0.0  0.0  \n",
       "3       0.0  0.0  0.0  0.0  0.0  0.0  0.0  \n",
       "4       0.0  0.0  0.0  0.0  0.0  0.0  0.0  \n",
       "...     ...  ...  ...  ...  ...  ...  ...  \n",
       "550795  0.0  0.0  0.0  0.0  0.0  0.0  0.0  \n",
       "550796  0.0  0.0  0.0  0.0  0.0  0.0  0.0  \n",
       "550797  0.0  0.0  0.0  0.0  0.0  0.0  0.0  \n",
       "550798  0.0  0.0  0.0  0.0  0.0  0.0  0.0  \n",
       "550799  0.0  0.0  0.0  0.0  0.0  0.0  0.0  \n",
       "\n",
       "[550800 rows x 93 columns]"
      ]
     },
     "execution_count": 54,
     "metadata": {},
     "output_type": "execute_result"
    }
   ],
   "source": [
    "X_res_df = pd.DataFrame(X_res.todense())\n",
    "X_res_df"
   ]
  },
  {
   "cell_type": "code",
   "execution_count": 52,
   "id": "46566514",
   "metadata": {},
   "outputs": [],
   "source": [
    "smote_df = pd.concat([X_res_df,y_res],axis=1)"
   ]
  },
  {
   "cell_type": "code",
   "execution_count": 53,
   "id": "6d41069c",
   "metadata": {},
   "outputs": [
    {
     "data": {
      "text/html": [
       "<div>\n",
       "<style scoped>\n",
       "    .dataframe tbody tr th:only-of-type {\n",
       "        vertical-align: middle;\n",
       "    }\n",
       "\n",
       "    .dataframe tbody tr th {\n",
       "        vertical-align: top;\n",
       "    }\n",
       "\n",
       "    .dataframe thead th {\n",
       "        text-align: right;\n",
       "    }\n",
       "</style>\n",
       "<table border=\"1\" class=\"dataframe\">\n",
       "  <thead>\n",
       "    <tr style=\"text-align: right;\">\n",
       "      <th></th>\n",
       "      <th>0</th>\n",
       "      <th>1</th>\n",
       "      <th>2</th>\n",
       "      <th>3</th>\n",
       "      <th>4</th>\n",
       "      <th>5</th>\n",
       "      <th>6</th>\n",
       "      <th>7</th>\n",
       "      <th>8</th>\n",
       "      <th>9</th>\n",
       "      <th>...</th>\n",
       "      <th>84</th>\n",
       "      <th>85</th>\n",
       "      <th>86</th>\n",
       "      <th>87</th>\n",
       "      <th>88</th>\n",
       "      <th>89</th>\n",
       "      <th>90</th>\n",
       "      <th>91</th>\n",
       "      <th>92</th>\n",
       "      <th>converted</th>\n",
       "    </tr>\n",
       "  </thead>\n",
       "  <tbody>\n",
       "    <tr>\n",
       "      <th>0</th>\n",
       "      <td>0.0</td>\n",
       "      <td>0.0</td>\n",
       "      <td>0.0</td>\n",
       "      <td>0.0</td>\n",
       "      <td>0.0</td>\n",
       "      <td>0.0</td>\n",
       "      <td>0.0</td>\n",
       "      <td>1.0</td>\n",
       "      <td>0.0</td>\n",
       "      <td>0.0</td>\n",
       "      <td>...</td>\n",
       "      <td>0.0</td>\n",
       "      <td>0.0</td>\n",
       "      <td>0.0</td>\n",
       "      <td>0.0</td>\n",
       "      <td>0.0</td>\n",
       "      <td>0.0</td>\n",
       "      <td>0.0</td>\n",
       "      <td>0.0</td>\n",
       "      <td>0.0</td>\n",
       "      <td>0</td>\n",
       "    </tr>\n",
       "    <tr>\n",
       "      <th>1</th>\n",
       "      <td>0.0</td>\n",
       "      <td>1.0</td>\n",
       "      <td>0.0</td>\n",
       "      <td>0.0</td>\n",
       "      <td>0.0</td>\n",
       "      <td>0.0</td>\n",
       "      <td>1.0</td>\n",
       "      <td>0.0</td>\n",
       "      <td>0.0</td>\n",
       "      <td>0.0</td>\n",
       "      <td>...</td>\n",
       "      <td>0.0</td>\n",
       "      <td>0.0</td>\n",
       "      <td>0.0</td>\n",
       "      <td>0.0</td>\n",
       "      <td>0.0</td>\n",
       "      <td>0.0</td>\n",
       "      <td>0.0</td>\n",
       "      <td>0.0</td>\n",
       "      <td>0.0</td>\n",
       "      <td>0</td>\n",
       "    </tr>\n",
       "    <tr>\n",
       "      <th>2</th>\n",
       "      <td>1.0</td>\n",
       "      <td>0.0</td>\n",
       "      <td>0.0</td>\n",
       "      <td>0.0</td>\n",
       "      <td>0.0</td>\n",
       "      <td>1.0</td>\n",
       "      <td>0.0</td>\n",
       "      <td>0.0</td>\n",
       "      <td>0.0</td>\n",
       "      <td>0.0</td>\n",
       "      <td>...</td>\n",
       "      <td>0.0</td>\n",
       "      <td>0.0</td>\n",
       "      <td>0.0</td>\n",
       "      <td>0.0</td>\n",
       "      <td>0.0</td>\n",
       "      <td>0.0</td>\n",
       "      <td>0.0</td>\n",
       "      <td>0.0</td>\n",
       "      <td>0.0</td>\n",
       "      <td>1</td>\n",
       "    </tr>\n",
       "    <tr>\n",
       "      <th>3</th>\n",
       "      <td>0.0</td>\n",
       "      <td>0.0</td>\n",
       "      <td>1.0</td>\n",
       "      <td>0.0</td>\n",
       "      <td>0.0</td>\n",
       "      <td>0.0</td>\n",
       "      <td>0.0</td>\n",
       "      <td>0.0</td>\n",
       "      <td>1.0</td>\n",
       "      <td>0.0</td>\n",
       "      <td>...</td>\n",
       "      <td>0.0</td>\n",
       "      <td>0.0</td>\n",
       "      <td>0.0</td>\n",
       "      <td>0.0</td>\n",
       "      <td>0.0</td>\n",
       "      <td>0.0</td>\n",
       "      <td>0.0</td>\n",
       "      <td>0.0</td>\n",
       "      <td>0.0</td>\n",
       "      <td>0</td>\n",
       "    </tr>\n",
       "    <tr>\n",
       "      <th>4</th>\n",
       "      <td>0.0</td>\n",
       "      <td>0.0</td>\n",
       "      <td>1.0</td>\n",
       "      <td>0.0</td>\n",
       "      <td>0.0</td>\n",
       "      <td>0.0</td>\n",
       "      <td>0.0</td>\n",
       "      <td>0.0</td>\n",
       "      <td>0.0</td>\n",
       "      <td>0.0</td>\n",
       "      <td>...</td>\n",
       "      <td>0.0</td>\n",
       "      <td>0.0</td>\n",
       "      <td>0.0</td>\n",
       "      <td>0.0</td>\n",
       "      <td>0.0</td>\n",
       "      <td>0.0</td>\n",
       "      <td>0.0</td>\n",
       "      <td>0.0</td>\n",
       "      <td>0.0</td>\n",
       "      <td>0</td>\n",
       "    </tr>\n",
       "  </tbody>\n",
       "</table>\n",
       "<p>5 rows × 94 columns</p>\n",
       "</div>"
      ],
      "text/plain": [
       "     0    1    2    3    4    5    6    7    8    9  ...   84   85   86   87  \\\n",
       "0  0.0  0.0  0.0  0.0  0.0  0.0  0.0  1.0  0.0  0.0  ...  0.0  0.0  0.0  0.0   \n",
       "1  0.0  1.0  0.0  0.0  0.0  0.0  1.0  0.0  0.0  0.0  ...  0.0  0.0  0.0  0.0   \n",
       "2  1.0  0.0  0.0  0.0  0.0  1.0  0.0  0.0  0.0  0.0  ...  0.0  0.0  0.0  0.0   \n",
       "3  0.0  0.0  1.0  0.0  0.0  0.0  0.0  0.0  1.0  0.0  ...  0.0  0.0  0.0  0.0   \n",
       "4  0.0  0.0  1.0  0.0  0.0  0.0  0.0  0.0  0.0  0.0  ...  0.0  0.0  0.0  0.0   \n",
       "\n",
       "    88   89   90   91   92  converted  \n",
       "0  0.0  0.0  0.0  0.0  0.0          0  \n",
       "1  0.0  0.0  0.0  0.0  0.0          0  \n",
       "2  0.0  0.0  0.0  0.0  0.0          1  \n",
       "3  0.0  0.0  0.0  0.0  0.0          0  \n",
       "4  0.0  0.0  0.0  0.0  0.0          0  \n",
       "\n",
       "[5 rows x 94 columns]"
      ]
     },
     "execution_count": 53,
     "metadata": {},
     "output_type": "execute_result"
    }
   ],
   "source": [
    "smote_df.head()"
   ]
  },
  {
   "cell_type": "code",
   "execution_count": 55,
   "id": "70942561",
   "metadata": {},
   "outputs": [],
   "source": [
    "smote_df.to_csv(\"./src/smote_df.csv\", index=False)"
   ]
  },
  {
   "cell_type": "markdown",
   "id": "c09d37a9",
   "metadata": {},
   "source": [
    "### Work with SMOTE"
   ]
  },
  {
   "cell_type": "code",
   "execution_count": 3,
   "id": "102d9ae7",
   "metadata": {},
   "outputs": [
    {
     "data": {
      "text/html": [
       "<div>\n",
       "<style scoped>\n",
       "    .dataframe tbody tr th:only-of-type {\n",
       "        vertical-align: middle;\n",
       "    }\n",
       "\n",
       "    .dataframe tbody tr th {\n",
       "        vertical-align: top;\n",
       "    }\n",
       "\n",
       "    .dataframe thead th {\n",
       "        text-align: right;\n",
       "    }\n",
       "</style>\n",
       "<table border=\"1\" class=\"dataframe\">\n",
       "  <thead>\n",
       "    <tr style=\"text-align: right;\">\n",
       "      <th></th>\n",
       "      <th>0</th>\n",
       "      <th>1</th>\n",
       "      <th>2</th>\n",
       "      <th>3</th>\n",
       "      <th>4</th>\n",
       "      <th>5</th>\n",
       "      <th>6</th>\n",
       "      <th>7</th>\n",
       "      <th>8</th>\n",
       "      <th>9</th>\n",
       "      <th>...</th>\n",
       "      <th>84</th>\n",
       "      <th>85</th>\n",
       "      <th>86</th>\n",
       "      <th>87</th>\n",
       "      <th>88</th>\n",
       "      <th>89</th>\n",
       "      <th>90</th>\n",
       "      <th>91</th>\n",
       "      <th>92</th>\n",
       "      <th>converted</th>\n",
       "    </tr>\n",
       "  </thead>\n",
       "  <tbody>\n",
       "    <tr>\n",
       "      <th>0</th>\n",
       "      <td>0.0</td>\n",
       "      <td>0.0</td>\n",
       "      <td>0.0</td>\n",
       "      <td>0.0</td>\n",
       "      <td>0.0</td>\n",
       "      <td>0.0</td>\n",
       "      <td>0.0</td>\n",
       "      <td>1.0</td>\n",
       "      <td>0.0</td>\n",
       "      <td>0.0</td>\n",
       "      <td>...</td>\n",
       "      <td>0.0</td>\n",
       "      <td>0.0</td>\n",
       "      <td>0.0</td>\n",
       "      <td>0.0</td>\n",
       "      <td>0.0</td>\n",
       "      <td>0.0</td>\n",
       "      <td>0.0</td>\n",
       "      <td>0.0</td>\n",
       "      <td>0.0</td>\n",
       "      <td>0</td>\n",
       "    </tr>\n",
       "    <tr>\n",
       "      <th>1</th>\n",
       "      <td>0.0</td>\n",
       "      <td>1.0</td>\n",
       "      <td>0.0</td>\n",
       "      <td>0.0</td>\n",
       "      <td>0.0</td>\n",
       "      <td>0.0</td>\n",
       "      <td>1.0</td>\n",
       "      <td>0.0</td>\n",
       "      <td>0.0</td>\n",
       "      <td>0.0</td>\n",
       "      <td>...</td>\n",
       "      <td>0.0</td>\n",
       "      <td>0.0</td>\n",
       "      <td>0.0</td>\n",
       "      <td>0.0</td>\n",
       "      <td>0.0</td>\n",
       "      <td>0.0</td>\n",
       "      <td>0.0</td>\n",
       "      <td>0.0</td>\n",
       "      <td>0.0</td>\n",
       "      <td>0</td>\n",
       "    </tr>\n",
       "    <tr>\n",
       "      <th>2</th>\n",
       "      <td>1.0</td>\n",
       "      <td>0.0</td>\n",
       "      <td>0.0</td>\n",
       "      <td>0.0</td>\n",
       "      <td>0.0</td>\n",
       "      <td>1.0</td>\n",
       "      <td>0.0</td>\n",
       "      <td>0.0</td>\n",
       "      <td>0.0</td>\n",
       "      <td>0.0</td>\n",
       "      <td>...</td>\n",
       "      <td>0.0</td>\n",
       "      <td>0.0</td>\n",
       "      <td>0.0</td>\n",
       "      <td>0.0</td>\n",
       "      <td>0.0</td>\n",
       "      <td>0.0</td>\n",
       "      <td>0.0</td>\n",
       "      <td>0.0</td>\n",
       "      <td>0.0</td>\n",
       "      <td>1</td>\n",
       "    </tr>\n",
       "    <tr>\n",
       "      <th>3</th>\n",
       "      <td>0.0</td>\n",
       "      <td>0.0</td>\n",
       "      <td>1.0</td>\n",
       "      <td>0.0</td>\n",
       "      <td>0.0</td>\n",
       "      <td>0.0</td>\n",
       "      <td>0.0</td>\n",
       "      <td>0.0</td>\n",
       "      <td>1.0</td>\n",
       "      <td>0.0</td>\n",
       "      <td>...</td>\n",
       "      <td>0.0</td>\n",
       "      <td>0.0</td>\n",
       "      <td>0.0</td>\n",
       "      <td>0.0</td>\n",
       "      <td>0.0</td>\n",
       "      <td>0.0</td>\n",
       "      <td>0.0</td>\n",
       "      <td>0.0</td>\n",
       "      <td>0.0</td>\n",
       "      <td>0</td>\n",
       "    </tr>\n",
       "    <tr>\n",
       "      <th>4</th>\n",
       "      <td>0.0</td>\n",
       "      <td>0.0</td>\n",
       "      <td>1.0</td>\n",
       "      <td>0.0</td>\n",
       "      <td>0.0</td>\n",
       "      <td>0.0</td>\n",
       "      <td>0.0</td>\n",
       "      <td>0.0</td>\n",
       "      <td>0.0</td>\n",
       "      <td>0.0</td>\n",
       "      <td>...</td>\n",
       "      <td>0.0</td>\n",
       "      <td>0.0</td>\n",
       "      <td>0.0</td>\n",
       "      <td>0.0</td>\n",
       "      <td>0.0</td>\n",
       "      <td>0.0</td>\n",
       "      <td>0.0</td>\n",
       "      <td>0.0</td>\n",
       "      <td>0.0</td>\n",
       "      <td>0</td>\n",
       "    </tr>\n",
       "    <tr>\n",
       "      <th>...</th>\n",
       "      <td>...</td>\n",
       "      <td>...</td>\n",
       "      <td>...</td>\n",
       "      <td>...</td>\n",
       "      <td>...</td>\n",
       "      <td>...</td>\n",
       "      <td>...</td>\n",
       "      <td>...</td>\n",
       "      <td>...</td>\n",
       "      <td>...</td>\n",
       "      <td>...</td>\n",
       "      <td>...</td>\n",
       "      <td>...</td>\n",
       "      <td>...</td>\n",
       "      <td>...</td>\n",
       "      <td>...</td>\n",
       "      <td>...</td>\n",
       "      <td>...</td>\n",
       "      <td>...</td>\n",
       "      <td>...</td>\n",
       "      <td>...</td>\n",
       "    </tr>\n",
       "    <tr>\n",
       "      <th>550795</th>\n",
       "      <td>0.0</td>\n",
       "      <td>1.0</td>\n",
       "      <td>0.0</td>\n",
       "      <td>0.0</td>\n",
       "      <td>0.0</td>\n",
       "      <td>0.0</td>\n",
       "      <td>0.0</td>\n",
       "      <td>0.0</td>\n",
       "      <td>1.0</td>\n",
       "      <td>0.0</td>\n",
       "      <td>...</td>\n",
       "      <td>0.0</td>\n",
       "      <td>0.0</td>\n",
       "      <td>0.0</td>\n",
       "      <td>0.0</td>\n",
       "      <td>0.0</td>\n",
       "      <td>0.0</td>\n",
       "      <td>0.0</td>\n",
       "      <td>0.0</td>\n",
       "      <td>0.0</td>\n",
       "      <td>1</td>\n",
       "    </tr>\n",
       "    <tr>\n",
       "      <th>550796</th>\n",
       "      <td>0.0</td>\n",
       "      <td>0.0</td>\n",
       "      <td>1.0</td>\n",
       "      <td>0.0</td>\n",
       "      <td>0.0</td>\n",
       "      <td>0.0</td>\n",
       "      <td>0.0</td>\n",
       "      <td>0.0</td>\n",
       "      <td>0.0</td>\n",
       "      <td>0.0</td>\n",
       "      <td>...</td>\n",
       "      <td>0.0</td>\n",
       "      <td>0.0</td>\n",
       "      <td>0.0</td>\n",
       "      <td>0.0</td>\n",
       "      <td>0.0</td>\n",
       "      <td>0.0</td>\n",
       "      <td>0.0</td>\n",
       "      <td>0.0</td>\n",
       "      <td>0.0</td>\n",
       "      <td>1</td>\n",
       "    </tr>\n",
       "    <tr>\n",
       "      <th>550797</th>\n",
       "      <td>0.0</td>\n",
       "      <td>1.0</td>\n",
       "      <td>0.0</td>\n",
       "      <td>0.0</td>\n",
       "      <td>0.0</td>\n",
       "      <td>0.0</td>\n",
       "      <td>0.0</td>\n",
       "      <td>0.0</td>\n",
       "      <td>0.0</td>\n",
       "      <td>0.0</td>\n",
       "      <td>...</td>\n",
       "      <td>0.0</td>\n",
       "      <td>0.0</td>\n",
       "      <td>0.0</td>\n",
       "      <td>0.0</td>\n",
       "      <td>0.0</td>\n",
       "      <td>0.0</td>\n",
       "      <td>0.0</td>\n",
       "      <td>0.0</td>\n",
       "      <td>0.0</td>\n",
       "      <td>1</td>\n",
       "    </tr>\n",
       "    <tr>\n",
       "      <th>550798</th>\n",
       "      <td>0.0</td>\n",
       "      <td>0.0</td>\n",
       "      <td>1.0</td>\n",
       "      <td>0.0</td>\n",
       "      <td>0.0</td>\n",
       "      <td>0.0</td>\n",
       "      <td>1.0</td>\n",
       "      <td>0.0</td>\n",
       "      <td>0.0</td>\n",
       "      <td>0.0</td>\n",
       "      <td>...</td>\n",
       "      <td>0.0</td>\n",
       "      <td>0.0</td>\n",
       "      <td>0.0</td>\n",
       "      <td>0.0</td>\n",
       "      <td>0.0</td>\n",
       "      <td>0.0</td>\n",
       "      <td>0.0</td>\n",
       "      <td>0.0</td>\n",
       "      <td>0.0</td>\n",
       "      <td>1</td>\n",
       "    </tr>\n",
       "    <tr>\n",
       "      <th>550799</th>\n",
       "      <td>0.0</td>\n",
       "      <td>0.0</td>\n",
       "      <td>1.0</td>\n",
       "      <td>0.0</td>\n",
       "      <td>0.0</td>\n",
       "      <td>0.0</td>\n",
       "      <td>0.0</td>\n",
       "      <td>0.0</td>\n",
       "      <td>0.0</td>\n",
       "      <td>0.0</td>\n",
       "      <td>...</td>\n",
       "      <td>0.0</td>\n",
       "      <td>0.0</td>\n",
       "      <td>0.0</td>\n",
       "      <td>0.0</td>\n",
       "      <td>0.0</td>\n",
       "      <td>0.0</td>\n",
       "      <td>0.0</td>\n",
       "      <td>0.0</td>\n",
       "      <td>0.0</td>\n",
       "      <td>1</td>\n",
       "    </tr>\n",
       "  </tbody>\n",
       "</table>\n",
       "<p>550800 rows × 94 columns</p>\n",
       "</div>"
      ],
      "text/plain": [
       "          0    1    2    3    4    5    6    7    8    9  ...   84   85   86  \\\n",
       "0       0.0  0.0  0.0  0.0  0.0  0.0  0.0  1.0  0.0  0.0  ...  0.0  0.0  0.0   \n",
       "1       0.0  1.0  0.0  0.0  0.0  0.0  1.0  0.0  0.0  0.0  ...  0.0  0.0  0.0   \n",
       "2       1.0  0.0  0.0  0.0  0.0  1.0  0.0  0.0  0.0  0.0  ...  0.0  0.0  0.0   \n",
       "3       0.0  0.0  1.0  0.0  0.0  0.0  0.0  0.0  1.0  0.0  ...  0.0  0.0  0.0   \n",
       "4       0.0  0.0  1.0  0.0  0.0  0.0  0.0  0.0  0.0  0.0  ...  0.0  0.0  0.0   \n",
       "...     ...  ...  ...  ...  ...  ...  ...  ...  ...  ...  ...  ...  ...  ...   \n",
       "550795  0.0  1.0  0.0  0.0  0.0  0.0  0.0  0.0  1.0  0.0  ...  0.0  0.0  0.0   \n",
       "550796  0.0  0.0  1.0  0.0  0.0  0.0  0.0  0.0  0.0  0.0  ...  0.0  0.0  0.0   \n",
       "550797  0.0  1.0  0.0  0.0  0.0  0.0  0.0  0.0  0.0  0.0  ...  0.0  0.0  0.0   \n",
       "550798  0.0  0.0  1.0  0.0  0.0  0.0  1.0  0.0  0.0  0.0  ...  0.0  0.0  0.0   \n",
       "550799  0.0  0.0  1.0  0.0  0.0  0.0  0.0  0.0  0.0  0.0  ...  0.0  0.0  0.0   \n",
       "\n",
       "         87   88   89   90   91   92  converted  \n",
       "0       0.0  0.0  0.0  0.0  0.0  0.0          0  \n",
       "1       0.0  0.0  0.0  0.0  0.0  0.0          0  \n",
       "2       0.0  0.0  0.0  0.0  0.0  0.0          1  \n",
       "3       0.0  0.0  0.0  0.0  0.0  0.0          0  \n",
       "4       0.0  0.0  0.0  0.0  0.0  0.0          0  \n",
       "...     ...  ...  ...  ...  ...  ...        ...  \n",
       "550795  0.0  0.0  0.0  0.0  0.0  0.0          1  \n",
       "550796  0.0  0.0  0.0  0.0  0.0  0.0          1  \n",
       "550797  0.0  0.0  0.0  0.0  0.0  0.0          1  \n",
       "550798  0.0  0.0  0.0  0.0  0.0  0.0          1  \n",
       "550799  0.0  0.0  0.0  0.0  0.0  0.0          1  \n",
       "\n",
       "[550800 rows x 94 columns]"
      ]
     },
     "execution_count": 3,
     "metadata": {},
     "output_type": "execute_result"
    }
   ],
   "source": [
    "df_smote = pd.read_csv(\"./src/smote_df.csv\")\n",
    "df_smote"
   ]
  },
  {
   "cell_type": "code",
   "execution_count": 5,
   "id": "563d6dcd",
   "metadata": {},
   "outputs": [],
   "source": [
    "X = df_smote.iloc[:,:-1]\n",
    "y = df_smote['converted']"
   ]
  },
  {
   "cell_type": "code",
   "execution_count": 6,
   "id": "f6979206",
   "metadata": {},
   "outputs": [],
   "source": [
    "X_train, X_test, y_train, y_test = train_test_split(X, y, test_size=0.15, random_state=0, stratify=y)"
   ]
  },
  {
   "cell_type": "code",
   "execution_count": 13,
   "id": "c4e74fb7",
   "metadata": {},
   "outputs": [],
   "source": [
    "df = pd.read_csv('conversion_data_train.csv')\n",
    "\n",
    "X = df.iloc[:,:-1]\n",
    "y = df['converted']\n",
    "\n",
    "X_train, X_test, y_train, y_test = train_test_split(X, y, test_size=0.15, random_state=0, stratify=y)"
   ]
  },
  {
   "cell_type": "code",
   "execution_count": null,
   "id": "dc042007",
   "metadata": {},
   "outputs": [],
   "source": [
    "xgboost_gs.predict(X_train)\n",
    "# y_test_pred_lr = xgboost_gs.predict(X_test)"
   ]
  },
  {
   "cell_type": "code",
   "execution_count": null,
   "id": "a29df6f8",
   "metadata": {},
   "outputs": [],
   "source": []
  }
 ],
 "metadata": {
  "kernelspec": {
   "display_name": "Python 3 (ipykernel)",
   "language": "python",
   "name": "python3"
  },
  "language_info": {
   "codemirror_mode": {
    "name": "ipython",
    "version": 3
   },
   "file_extension": ".py",
   "mimetype": "text/x-python",
   "name": "python",
   "nbconvert_exporter": "python",
   "pygments_lexer": "ipython3",
   "version": "3.8.5"
  },
  "vscode": {
   "interpreter": {
    "hash": "5e9be3726a3e1eb0488b4d4f640ef9d4f9840d98d40cbcadb810c3cb4446c190"
   }
  }
 },
 "nbformat": 4,
 "nbformat_minor": 5
}
