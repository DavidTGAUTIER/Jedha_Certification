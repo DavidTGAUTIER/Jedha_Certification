{
 "cells": [
  {
   "cell_type": "markdown",
   "id": "d3b49461",
   "metadata": {},
   "source": [
    "## UBER Pickup - Clustering : Kmeans"
   ]
  },
  {
   "cell_type": "markdown",
   "id": "34f376c0",
   "metadata": {},
   "source": [
    "Nous allons utiliser Kmeans, qui est un algorithme de clustering d'apprentissage non supervisé qui permet de créer des groupes de données en fonction de leur proximité géographique. "
   ]
  },
  {
   "cell_type": "code",
   "execution_count": 1,
   "id": "1dd34ee2",
   "metadata": {},
   "outputs": [],
   "source": [
    "import seaborn as sns\n",
    "import pandas as pd\n",
    "import matplotlib.pyplot as plt\n",
    "import plotly.express as px\n",
    "import numpy as np\n",
    "from sklearn.cluster import KMeans, MiniBatchKMeans\n",
    "from sklearn.metrics import silhouette_score\n",
    "import warnings\n",
    "warnings.filterwarnings(\"ignore\")\n",
    "from sklearn.preprocessing import  OneHotEncoder, StandardScaler\n",
    "import plotly\n",
    "from plotly.graph_objs import Scattermapbox\n",
    "import plotly.graph_objs as go\n",
    "import plotly.io as pio\n",
    "# pio.renderers.default = \"svg\"\n",
    "pio.renderers.default = \"iframe_connected\""
   ]
  },
  {
   "cell_type": "code",
   "execution_count": 2,
   "id": "20422729",
   "metadata": {},
   "outputs": [],
   "source": [
    "merge_df = pd.read_csv('./src/merge_df.csv')\n",
    "\n",
    "df_apr14 = pd.read_csv('./src/uber-raw-data-apr14_modified.csv')"
   ]
  },
  {
   "cell_type": "code",
   "execution_count": 3,
   "id": "0e2a9814",
   "metadata": {},
   "outputs": [],
   "source": [
    "merge_sample = merge_df.sample(500000)"
   ]
  },
  {
   "cell_type": "markdown",
   "id": "bfaabdfa",
   "metadata": {},
   "source": [
    "On crée un dataset `test` pour faire des tests de clustering"
   ]
  },
  {
   "cell_type": "code",
   "execution_count": 5,
   "id": "71a8774b",
   "metadata": {},
   "outputs": [],
   "source": [
    "df_test = df_apr14[(df_apr14['Date'] == '2014-04-01')]"
   ]
  },
  {
   "cell_type": "code",
   "execution_count": 7,
   "id": "cbcbcd24",
   "metadata": {},
   "outputs": [],
   "source": [
    "coords = ['Lat','Lon']\n",
    "X = df_test.loc[:,coords]"
   ]
  },
  {
   "cell_type": "markdown",
   "id": "1e3cbadd",
   "metadata": {},
   "source": [
    "On scale les données pour faciliter les calculs"
   ]
  },
  {
   "cell_type": "code",
   "execution_count": 8,
   "id": "9f5b0bda",
   "metadata": {},
   "outputs": [],
   "source": [
    "scaler = StandardScaler()\n",
    "X = scaler.fit_transform(X)"
   ]
  },
  {
   "cell_type": "code",
   "execution_count": 9,
   "id": "cb9db45b",
   "metadata": {},
   "outputs": [
    {
     "data": {
      "text/plain": [
       "array([[ 0.7672978 ,  0.41505401],\n",
       "       [-0.38027247, -1.10899284],\n",
       "       [-0.2473388 , -0.20528667],\n",
       "       ...,\n",
       "       [-0.11711806, -0.30676215],\n",
       "       [-0.70039845,  0.69076098],\n",
       "       [ 0.23285018, -0.00425034]])"
      ]
     },
     "execution_count": 9,
     "metadata": {},
     "output_type": "execute_result"
    }
   ],
   "source": [
    "X"
   ]
  },
  {
   "cell_type": "markdown",
   "id": "7df0fe5c",
   "metadata": {},
   "source": [
    "### KMEANS"
   ]
  },
  {
   "cell_type": "markdown",
   "id": "b2726187",
   "metadata": {},
   "source": [
    "L'algorithme `KMEANS` est un algorithme de clustering qui est un type d’apprentissage non supervisé\n",
    "\n",
    "Il partitionne les données par un procédé itératif, cad qu'il va répéter une opération autant de fois que nécessaire avant de trouver le meilleur centroide (c'est la moyenne arithmétique de tous les points de données appartenant à un cluster particulier, c'est egalement un point du dataset que l’on choisit comme le « centre » d’un cluster).\n",
    "\n",
    "* Il va d'abord initialiser un certain nombres de centroides dans un ensemble de données (défini à l'avance).\n",
    "\n",
    "* Ensuite, il attribut chaque point de donnée au cluster le plus proche en essayant de maintenir les clusters les plus petits possibles et les autres clusters aussi différents que possible.\n",
    "\n",
    "C'est un algorithme d'esperance-maximisation avec une matrice de covariance, qui utilise la distance euclidienne (directe entre 2 points)\n",
    "\n",
    "Voici le deroulement de Kmeans:"
   ]
  },
  {
   "cell_type": "markdown",
   "id": "0b012b75",
   "metadata": {},
   "source": [
    "* **On construit k clusters** : Chaque point est dans le cluster du centroïde qui lui est le plus proche.\n",
    "* **On calcule les nouveaux centroïdes** : Pour chacun des clusters qu’on vient de former, on calcule la moyenne. Celle-ci devient le nouveau centroïde (n’est pas necessairement un point du jeu de donnée).\n",
    "* **On recommence jusqu’à ce qu’à ce qu’il y ait convergence** : La convergence correspond au fait que les centroïdes ne changent pas après une mise à jour."
   ]
  },
  {
   "cell_type": "markdown",
   "id": "fcac0678",
   "metadata": {},
   "source": [
    "Faisons des tests pour voir le comportement de cet algorithme.\n",
    "\n",
    "On commence par déterminer un nombre de centroides égale à 6, pour qu'il puisse séparer la zone de densité de clients en 6 groupes"
   ]
  },
  {
   "cell_type": "code",
   "execution_count": 10,
   "id": "e93e1ad9",
   "metadata": {},
   "outputs": [
    {
     "data": {
      "text/plain": [
       "KMeans(n_clusters=6)"
      ]
     },
     "execution_count": 10,
     "metadata": {},
     "output_type": "execute_result"
    }
   ],
   "source": [
    "km = KMeans(n_clusters=6)\n",
    "km.fit(X)"
   ]
  },
  {
   "cell_type": "code",
   "execution_count": 11,
   "id": "9453ba8e",
   "metadata": {},
   "outputs": [
    {
     "data": {
      "text/html": [
       "<div>\n",
       "<style scoped>\n",
       "    .dataframe tbody tr th:only-of-type {\n",
       "        vertical-align: middle;\n",
       "    }\n",
       "\n",
       "    .dataframe tbody tr th {\n",
       "        vertical-align: top;\n",
       "    }\n",
       "\n",
       "    .dataframe thead th {\n",
       "        text-align: right;\n",
       "    }\n",
       "</style>\n",
       "<table border=\"1\" class=\"dataframe\">\n",
       "  <thead>\n",
       "    <tr style=\"text-align: right;\">\n",
       "      <th></th>\n",
       "      <th>nb_per_cluster</th>\n",
       "    </tr>\n",
       "    <tr>\n",
       "      <th>km_clusters</th>\n",
       "      <th></th>\n",
       "    </tr>\n",
       "  </thead>\n",
       "  <tbody>\n",
       "    <tr>\n",
       "      <th>0</th>\n",
       "      <td>6161</td>\n",
       "    </tr>\n",
       "    <tr>\n",
       "      <th>1</th>\n",
       "      <td>6114</td>\n",
       "    </tr>\n",
       "    <tr>\n",
       "      <th>2</th>\n",
       "      <td>577</td>\n",
       "    </tr>\n",
       "    <tr>\n",
       "      <th>3</th>\n",
       "      <td>157</td>\n",
       "    </tr>\n",
       "    <tr>\n",
       "      <th>4</th>\n",
       "      <td>1136</td>\n",
       "    </tr>\n",
       "    <tr>\n",
       "      <th>5</th>\n",
       "      <td>401</td>\n",
       "    </tr>\n",
       "  </tbody>\n",
       "</table>\n",
       "</div>"
      ],
      "text/plain": [
       "             nb_per_cluster\n",
       "km_clusters                \n",
       "0                      6161\n",
       "1                      6114\n",
       "2                       577\n",
       "3                       157\n",
       "4                      1136\n",
       "5                       401"
      ]
     },
     "execution_count": 11,
     "metadata": {},
     "output_type": "execute_result"
    }
   ],
   "source": [
    "df_test['km_clusters'] = km.labels_\n",
    "df_test.groupby('km_clusters')[['km_clusters']].count().rename(columns={'km_clusters' : 'nb_per_cluster'})"
   ]
  },
  {
   "cell_type": "code",
   "execution_count": 12,
   "id": "37752da8",
   "metadata": {},
   "outputs": [
    {
     "data": {
      "text/html": [
       "<iframe\n",
       "    scrolling=\"no\"\n",
       "    width=\"100%\"\n",
       "    height=\"545px\"\n",
       "    src=\"iframe_figures/figure_12.html\"\n",
       "    frameborder=\"0\"\n",
       "    allowfullscreen\n",
       "></iframe>\n"
      ]
     },
     "metadata": {},
     "output_type": "display_data"
    }
   ],
   "source": [
    "fig = px.scatter_mapbox(data_frame=df_test, lat='Lat', lon='Lon', color='km_clusters', mapbox_style='carto-positron', zoom=10.2)\n",
    "fig.show()"
   ]
  },
  {
   "cell_type": "markdown",
   "id": "614ff365",
   "metadata": {},
   "source": [
    "Pour savoir quel nombre de clusters sera le nombre idéal à choisir, il va falloir procéder à plusieurs essais. Nous allons d'abord tester sur plusieurs avec une affluence variable.\n",
    "\n",
    "D'abord, nous pouvons considérer l'affluence qu'il y a en journée, puis considérer l'affluence qu'il y a en semaine. Nous allons créer plusieurs tranches horaires pour tester notre algorithme et utiliser la méthode Silhouette (avec le coude :elbow) pour déterminer les bonnes valeurs à donner ) KMEANS.\n",
    "\n",
    "Commençons avec différents essais dans la même journée."
   ]
  },
  {
   "cell_type": "code",
   "execution_count": 13,
   "id": "fb587941",
   "metadata": {},
   "outputs": [],
   "source": [
    "# on choisit la date du 1er avril 2014 pour faire nos tests\n",
    "df_test = df_apr14[(df_apr14['Date'] == '2014-04-01')]"
   ]
  },
  {
   "cell_type": "markdown",
   "id": "fe118240",
   "metadata": {},
   "source": [
    "Nous allons créer plusieurs tranches horaires (6 tranches de 4h pour analyser le trafic)"
   ]
  },
  {
   "cell_type": "code",
   "execution_count": 14,
   "id": "d289745b",
   "metadata": {},
   "outputs": [
    {
     "data": {
      "text/html": [
       "<div>\n",
       "<style scoped>\n",
       "    .dataframe tbody tr th:only-of-type {\n",
       "        vertical-align: middle;\n",
       "    }\n",
       "\n",
       "    .dataframe tbody tr th {\n",
       "        vertical-align: top;\n",
       "    }\n",
       "\n",
       "    .dataframe thead th {\n",
       "        text-align: right;\n",
       "    }\n",
       "</style>\n",
       "<table border=\"1\" class=\"dataframe\">\n",
       "  <thead>\n",
       "    <tr style=\"text-align: right;\">\n",
       "      <th></th>\n",
       "      <th>Date/Time</th>\n",
       "      <th>Lat</th>\n",
       "      <th>Lon</th>\n",
       "      <th>Base</th>\n",
       "      <th>Date</th>\n",
       "      <th>month</th>\n",
       "      <th>day_name</th>\n",
       "      <th>day</th>\n",
       "      <th>hour</th>\n",
       "    </tr>\n",
       "  </thead>\n",
       "  <tbody>\n",
       "    <tr>\n",
       "      <th>0</th>\n",
       "      <td>2014-04-01 00:11:00</td>\n",
       "      <td>40.7690</td>\n",
       "      <td>-73.9549</td>\n",
       "      <td>B02512</td>\n",
       "      <td>2014-04-01</td>\n",
       "      <td>4</td>\n",
       "      <td>Tuesday</td>\n",
       "      <td>1</td>\n",
       "      <td>0</td>\n",
       "    </tr>\n",
       "    <tr>\n",
       "      <th>1</th>\n",
       "      <td>2014-04-01 00:17:00</td>\n",
       "      <td>40.7267</td>\n",
       "      <td>-74.0345</td>\n",
       "      <td>B02512</td>\n",
       "      <td>2014-04-01</td>\n",
       "      <td>4</td>\n",
       "      <td>Tuesday</td>\n",
       "      <td>1</td>\n",
       "      <td>0</td>\n",
       "    </tr>\n",
       "    <tr>\n",
       "      <th>2</th>\n",
       "      <td>2014-04-01 00:21:00</td>\n",
       "      <td>40.7316</td>\n",
       "      <td>-73.9873</td>\n",
       "      <td>B02512</td>\n",
       "      <td>2014-04-01</td>\n",
       "      <td>4</td>\n",
       "      <td>Tuesday</td>\n",
       "      <td>1</td>\n",
       "      <td>0</td>\n",
       "    </tr>\n",
       "    <tr>\n",
       "      <th>3</th>\n",
       "      <td>2014-04-01 00:28:00</td>\n",
       "      <td>40.7588</td>\n",
       "      <td>-73.9776</td>\n",
       "      <td>B02512</td>\n",
       "      <td>2014-04-01</td>\n",
       "      <td>4</td>\n",
       "      <td>Tuesday</td>\n",
       "      <td>1</td>\n",
       "      <td>0</td>\n",
       "    </tr>\n",
       "    <tr>\n",
       "      <th>4</th>\n",
       "      <td>2014-04-01 00:33:00</td>\n",
       "      <td>40.7594</td>\n",
       "      <td>-73.9722</td>\n",
       "      <td>B02512</td>\n",
       "      <td>2014-04-01</td>\n",
       "      <td>4</td>\n",
       "      <td>Tuesday</td>\n",
       "      <td>1</td>\n",
       "      <td>0</td>\n",
       "    </tr>\n",
       "  </tbody>\n",
       "</table>\n",
       "</div>"
      ],
      "text/plain": [
       "             Date/Time      Lat      Lon    Base        Date  month day_name  \\\n",
       "0  2014-04-01 00:11:00  40.7690 -73.9549  B02512  2014-04-01      4  Tuesday   \n",
       "1  2014-04-01 00:17:00  40.7267 -74.0345  B02512  2014-04-01      4  Tuesday   \n",
       "2  2014-04-01 00:21:00  40.7316 -73.9873  B02512  2014-04-01      4  Tuesday   \n",
       "3  2014-04-01 00:28:00  40.7588 -73.9776  B02512  2014-04-01      4  Tuesday   \n",
       "4  2014-04-01 00:33:00  40.7594 -73.9722  B02512  2014-04-01      4  Tuesday   \n",
       "\n",
       "   day  hour  \n",
       "0    1     0  \n",
       "1    1     0  \n",
       "2    1     0  \n",
       "3    1     0  \n",
       "4    1     0  "
      ]
     },
     "execution_count": 14,
     "metadata": {},
     "output_type": "execute_result"
    }
   ],
   "source": [
    "df_test.head()"
   ]
  },
  {
   "cell_type": "code",
   "execution_count": 70,
   "id": "2d9bfb50",
   "metadata": {},
   "outputs": [],
   "source": [
    "def create_clusters(df , nb_clusters=6 , ranges=4):\n",
    "    scaler = StandardScaler()\n",
    "\n",
    "    coords = ['Lat','Lon']\n",
    "    n,s,liste_dfs,liste_Xs = ranges,[],[],[]\n",
    "\n",
    "    for i,el in enumerate([i for i in range(24)]):\n",
    "        if i%n==0:\n",
    "            s.append(el)\n",
    "\n",
    "    for i,el in enumerate(s):\n",
    "        globals() [f'df_test_{i+1}'] = df.loc[(df['hour'] >= el) & (df['hour'] < el+4), :]\n",
    "        globals() [f'X_{i+1}'] = globals() [f'df_test_{i+1}'].loc[:,coords]\n",
    "        globals() [f'X_{i+1}'] = scaler.fit_transform(globals() [f'X_{i+1}'])\n",
    "        liste_dfs.append(globals() [f'df_test_{i+1}'])\n",
    "        liste_Xs.append(globals() [f'X_{i+1}'])    \n",
    "        \n",
    "    km = KMeans(n_clusters=nb_clusters) # on determine un nombre fixe de clusters pour avoir un repère\n",
    "    liste_df_kmeans, liste_df_groupby_clusters = [], []\n",
    "\n",
    "    i=0\n",
    "    while i<len(liste_dfs):\n",
    "        for df_,X_ in zip(liste_dfs, liste_Xs):\n",
    "            km.fit(X_)\n",
    "            df_.reset_index(drop=True)\n",
    "            df_['km_clusters'] = km.labels_\n",
    "            globals() [f'df_kmeans_{i+1}'] = df_.groupby('km_clusters')[['km_clusters']].count().rename(columns={'km_clusters' : 'nb_per_cluster'})\n",
    "            liste_df_kmeans.append(df_)\n",
    "            liste_df_groupby_clusters.append(globals() [f'df_kmeans_{i+1}'])\n",
    "            i+=1\n",
    "            \n",
    "    return liste_df_kmeans, liste_df_groupby_clusters, liste_Xs\n",
    "        "
   ]
  },
  {
   "cell_type": "code",
   "execution_count": 71,
   "id": "b445ac9c",
   "metadata": {},
   "outputs": [],
   "source": [
    "liste_df_k, liste_groupby_c, Xs_ = create_clusters(df_test , nb_clusters=6 , ranges=4)"
   ]
  },
  {
   "cell_type": "markdown",
   "id": "252269d7",
   "metadata": {},
   "source": [
    "nous avons donc :</br>\n",
    "* df_test_1 = tranche de  0h /  3h\n",
    "* df_test_2 = tranche de  4h /  7h\n",
    "* df_test_3 = tranche de  8h / 11h\n",
    "* df_test_4 = tranche de 12h / 15h\n",
    "* df_test_5 = tranche de 16h / 19h\n",
    "* df_test_6 = tranche de 20h / 23h\n",
    "\n",
    "Nous allons pouvoir observer les différences entre ces tranches horaires"
   ]
  },
  {
   "cell_type": "code",
   "execution_count": 94,
   "id": "79fec2a7",
   "metadata": {},
   "outputs": [],
   "source": [
    "def clusters_by_range_hours(df, liste_df_kmeans, mapbox_style):\n",
    "\n",
    "\n",
    "    token = 'pk.eyJ1Ijoib3AzbjVlZCIsImEiOiJjbDllYjl6bGswaG9uM3NsOW0zaGJ4ZHVrIn0.Us-gSPz0QgMbKbPqGkDtjg'\n",
    "    \n",
    "    v = [True, False, False, False, False, False]\n",
    "\n",
    "    fig = go.Figure()\n",
    "\n",
    "    for i,df_ in enumerate(liste_df_kmeans):\n",
    "        fig.add_trace(\n",
    "            go.Scattermapbox(\n",
    "                lat=df_['Lat'],\n",
    "                lon=df_['Lon'],\n",
    "                hovertext=df_['km_clusters'],\n",
    "                hoverinfo='text',\n",
    "                mode='markers',\n",
    "                marker=dict(\n",
    "#                    size=dict_df.loc[i, 'df_normalized'][dicts['criterion'][i]]*65,\n",
    "                    color=df_['km_clusters'],\n",
    "                    colorbar=dict(\n",
    "                        title=dict(\n",
    "                            side='right',\n",
    "                            text='clusters',\n",
    "                            font=dict(\n",
    "                                color='black',\n",
    "                                size=15,\n",
    "                                family='Arial'\n",
    "                                )\n",
    "                            ),\n",
    "                    #bgcolor='LightSkyBlue',\n",
    "                    x=1.08,\n",
    "                    y=0.5,\n",
    "                    len=1.1)\n",
    "                    ),\n",
    "                visible=v[i]\n",
    "                )\n",
    "        )\n",
    "\n",
    "    start = pd.to_datetime(df.loc[0,'Date']).strftime(\"%m/%d/%Y\")\n",
    "    end = pd.to_datetime(df.loc[554930,'Date']).strftime(\"%m/%d/%Y\")\n",
    "\n",
    "    fig.update_layout(mapbox_style=mapbox_style, \n",
    "                      mapbox_accesstoken=token,\n",
    "                     title=dict(\n",
    "                        text=f'Clusters de la ville de Chicago pour la période du {start} au {end}',\n",
    "                        font=dict(\n",
    "                            color='rgb(47, 138, 196)',\n",
    "                            size=16,\n",
    "                            family='Open Sans'\n",
    "                        )\n",
    "                    ))\n",
    "\n",
    "\n",
    "    fig.update_mapboxes(\n",
    "        bearing=0,\n",
    "        center=dict(\n",
    "            lat=40.7,\n",
    "            lon=-74\n",
    "        ),\n",
    "        pitch=0,\n",
    "        zoom=9)\n",
    "\n",
    "    fig.update_layout(\n",
    "        updatemenus = [go.layout.Updatemenu(\n",
    "            active = 0,\n",
    "            #bgcolor = \"#4BE8E0\",\n",
    "            #bordercolor = \"#4B9AC7\",\n",
    "            buttons = [\n",
    "                    go.layout.updatemenu.Button(\n",
    "                        label = \"Tranche horaire 0h - 3h\",\n",
    "                        method = \"update\",\n",
    "                        args = [{\"visible\" : [True, False, False, False, False, False]}]),\n",
    "                    go.layout.updatemenu.Button(\n",
    "                            label = \"Tranche horaire 4h - 7h\",\n",
    "                            method = \"update\",\n",
    "                            args = [{\"visible\" : [False, True, False, False, False, False]}]),\n",
    "                    go.layout.updatemenu.Button(\n",
    "                            label = \"Tranche horaire 8h - 11h\",\n",
    "                            method = \"update\",\n",
    "                            args = [{\"visible\" : [False, False, True, False, False, False]}]),\n",
    "                    go.layout.updatemenu.Button(\n",
    "                            label = \"Tranche horaire 12h - 15h\",\n",
    "                            method = \"update\",\n",
    "                            args = [{\"visible\" : [False, False, False, True, False, False]}]),\n",
    "                    go.layout.updatemenu.Button(\n",
    "                            label = \"Tranche horaire 16h - 19h\",\n",
    "                            method = \"update\",\n",
    "                            args = [{\"visible\" : [False, False, False, False, True, False]}]),\n",
    "                    go.layout.updatemenu.Button(\n",
    "                            label = \"Tranche horaire 20h - 23h\",\n",
    "                            method = \"update\",\n",
    "                            args = [{\"visible\" : [False, False, False, False, False, True]}])\n",
    "                ]\n",
    "            )]\n",
    "        )\n",
    "  \n",
    "    fig.update_layout(margin={\"r\":0,\"t\":0,\"l\":0,\"b\":0})\n",
    "\n",
    "    fig.show()\n",
    "     "
   ]
  },
  {
   "cell_type": "code",
   "execution_count": 95,
   "id": "fc5ea343",
   "metadata": {
    "scrolled": false
   },
   "outputs": [
    {
     "data": {
      "text/html": [
       "<iframe\n",
       "    scrolling=\"no\"\n",
       "    width=\"100%\"\n",
       "    height=\"545px\"\n",
       "    src=\"iframe_figures/figure_95.html\"\n",
       "    frameborder=\"0\"\n",
       "    allowfullscreen\n",
       "></iframe>\n"
      ]
     },
     "metadata": {},
     "output_type": "display_data"
    }
   ],
   "source": [
    "clusters_by_range_hours(df_test, liste_df_k, mapbox_style=\"carto-positron\")"
   ]
  },
  {
   "cell_type": "markdown",
   "id": "f89c7d8e",
   "metadata": {},
   "source": [
    "KMEANS est un algorithme de clusterisation qui fonctionne en paramétrant le nombre clusters que l'on souhaite obtenir(contrairement à DBSCAN qui détermine lui même le nombe de clusters)\n",
    "\n",
    "Pour trouver ce nombre de clusters optimal K, cad des clusters qui représentent une certaine densité, nous avons le choix entre 2 techniques :\n",
    "\n",
    "* **Elbow** : Vérifie si les points de données dans un cluster sont proches de leur centroide\n",
    "* **Silhouette** : Vérifie si les clusters sont éloignés les uns des autres\n",
    "\n",
    "En souhaitant trouver le nombre optimal de clusters, nous pourrions utiliser 2 paramètres : la somme des ecarts au carré et la distance moyenne de chaque point par rapport à son centroide :\n",
    "\n",
    "* `Somme des écarts au carré par rapport de chaque observation par rapport à son centroïde d'un même cluster`: \n",
    "La somme des carrés intra-vluster est une mesure de la variabilité des observations au sein de chaque cluster. En général, un cluster qui a une petite somme de carrés est plus compact qu'un cluster qui a une grande somme de carrés. Les clusters qui ont des valeurs plus élevées présentent une plus grande variabilité des observations au sein du cluster.\n",
    "\n",
    "* `Moyenne des distances entre les observations et le centroïde de chaque cluster` : La distance moyenne entre les observations et le centroïde du cluster est une mesure de la variabilité des observations au sein de chaque cluster. En général, un cluster qui a une distance moyenne plus petite est plus compact qu'un cluster qui a une distance moyenne plus grande. Les clusters qui ont des valeurs plus élevées présentent une plus grande variabilité des observations au sein du cluster.\n",
    "\n",
    "Pour revenir sur nos 2 méthodes,  **Elbow** utilise `uniquement les distances intra-cluster` et **Silhouette** utilise une `combinaison de distances inter-cluster et intra-cluster`. la distance intra-cluster qu'utilise **Elbow** est indiqué dans le paramètre de Kmeans qui s'appelle **inertia**. Pour trouver un compromis à ces 2 différentes méthodes, on peut clusteriser à l'aide de l'inertie et évaluer à l'aide de **Silhouette**."
   ]
  },
  {
   "cell_type": "code",
   "execution_count": 21,
   "id": "e9e06809",
   "metadata": {},
   "outputs": [
    {
     "data": {
      "text/plain": [
       "array([[ 0.34559532, -0.65201135],\n",
       "       [-2.14966807,  0.43497132],\n",
       "       [-0.37543022, -0.23083215],\n",
       "       ...,\n",
       "       [ 0.99966849,  0.44560716],\n",
       "       [ 0.94559157,  0.44135283],\n",
       "       [ 0.86576375,  0.39668231]])"
      ]
     },
     "execution_count": 21,
     "metadata": {},
     "output_type": "execute_result"
    }
   ],
   "source": [
    "Xs_[1]"
   ]
  },
  {
   "cell_type": "markdown",
   "id": "c1887e81",
   "metadata": {},
   "source": [
    "Nous allons donc recupérer les valeurs de `KMeans().inertia_` qui correspond à la **distance intra-cluster** de la methode **Elbow** et faire le score de **Silhouette** que nous ploterons dans un graph pour observer les résultats (pour cela nous devons avoir le score de **Silhouette** en fonction des clusters)\n",
    "\n",
    "Nous allons commencer par tranche de 15 itérations et ajuster (cad augmenter cette valeur) si besoin"
   ]
  },
  {
   "cell_type": "code",
   "execution_count": 26,
   "id": "344d5c6d",
   "metadata": {},
   "outputs": [],
   "source": [
    "def create_silhouette_score_by_range_hour(liste_X_scaled, n_iter=15):\n",
    "    liste_inertias, liste_sils, liste_Ks = [],[],[]\n",
    "\n",
    "    i,j=2,0\n",
    "    while j < len(liste_X_scaled):\n",
    "        K,sil,inertia = [],[],[]\n",
    "        for i in range(2,n_iter):\n",
    "            kmeans = KMeans(n_clusters=i, random_state=0) \n",
    "    #        print(j, i)\n",
    "            kmeans.fit(liste_X_scaled[j])\n",
    "            K.append(i) \n",
    "            inertia.append(kmeans.inertia_) \n",
    "            sil.append(silhouette_score(liste_X_scaled[j], kmeans.predict(liste_X_scaled[j])))  \n",
    "        liste_sils.append(sil)\n",
    "        liste_Ks.append(K)\n",
    "        liste_inertias.append(inertia)\n",
    "        j+=1\n",
    "    return liste_sils, liste_Ks, liste_inertias"
   ]
  },
  {
   "cell_type": "code",
   "execution_count": 27,
   "id": "d3ba0971",
   "metadata": {},
   "outputs": [],
   "source": [
    "liste_sils, liste_Ks, liste_inertias = create_silhouette_score_by_range_hour(Xs_, n_iter=15)"
   ]
  },
  {
   "cell_type": "code",
   "execution_count": 35,
   "id": "475a8fba",
   "metadata": {},
   "outputs": [],
   "source": [
    "def elbow_graph(liste_Ks, liste_sils):\n",
    "    fig = go.Figure()\n",
    "\n",
    "    fig.add_trace(go.Scatter(x=liste_Ks[0], y=liste_sils[0], mode='lines', name='lines'))\n",
    "\n",
    "    for i in range(1,len(Ks)):\n",
    "        fig.add_trace(go.Scatter(x=liste_Ks[i], y=liste_sils[i], mode='lines', name='lines', visible = False))\n",
    "\n",
    "    fig.update_layout(\n",
    "            title = go.layout.Title(text = \"Score de Elbow en fonction de tranches horaires\", x = 0.5),\n",
    "            showlegend = False)\n",
    "\n",
    "    fig.update_layout(\n",
    "        updatemenus = [go.layout.Updatemenu(\n",
    "            active = 0,\n",
    "            buttons = [\n",
    "                        go.layout.updatemenu.Button(\n",
    "                            label = \"Tranche horaire 0h - 3h\",\n",
    "                            method = \"update\",\n",
    "                            args = [{\"visible\" : [True, False, False, False, False, False]}]),\n",
    "                        go.layout.updatemenu.Button(\n",
    "                                label = \"Tranche horaire 4h - 7h\",\n",
    "                                method = \"update\",\n",
    "                                args = [{\"visible\" : [False, True, False, False, False, False]}]),\n",
    "                        go.layout.updatemenu.Button(\n",
    "                                label = \"Tranche horaire 8h - 11h\",\n",
    "                                method = \"update\",\n",
    "                                args = [{\"visible\" : [False, False, True, False, False, False]}]),\n",
    "                        go.layout.updatemenu.Button(\n",
    "                                label = \"Tranche horaire 12h - 15h\",\n",
    "                                method = \"update\",\n",
    "                                args = [{\"visible\" : [False, False, False, True, False, False]}]),\n",
    "                        go.layout.updatemenu.Button(\n",
    "                                label = \"Tranche horaire 16h - 19h\",\n",
    "                                method = \"update\",\n",
    "                                args = [{\"visible\" : [False, False, False, False, True,  False]}]),\n",
    "                        go.layout.updatemenu.Button(\n",
    "                                label = \"Tranche horaire 20h - 23h\",\n",
    "                                method = \"update\",\n",
    "                                args = [{\"visible\" : [False, False, False, False, False, True]}])\n",
    "                    ]\n",
    "        )]\n",
    "    )\n",
    "    \n",
    "    fig.show()"
   ]
  },
  {
   "cell_type": "code",
   "execution_count": 36,
   "id": "b1ac6ea5",
   "metadata": {},
   "outputs": [
    {
     "data": {
      "text/html": [
       "<iframe\n",
       "    scrolling=\"no\"\n",
       "    width=\"100%\"\n",
       "    height=\"545px\"\n",
       "    src=\"iframe_figures/figure_36.html\"\n",
       "    frameborder=\"0\"\n",
       "    allowfullscreen\n",
       "></iframe>\n"
      ]
     },
     "metadata": {},
     "output_type": "display_data"
    }
   ],
   "source": [
    "elbow_graph(liste_Ks, liste_sils)"
   ]
  },
  {
   "cell_type": "markdown",
   "id": "ac6ec2df",
   "metadata": {},
   "source": [
    "Les zones de \"coudes\" sont entre 8 et 12 clusters donc nous pouvons prendre, si nous nous basons seulement sur elbow, un nombre de clusters dans cette tranche, cad en moyenne 10 clusters pour bien séparer la densité de clients."
   ]
  },
  {
   "cell_type": "code",
   "execution_count": 37,
   "id": "b010386a",
   "metadata": {},
   "outputs": [],
   "source": [
    "def silhouette_graph(liste_Ks, liste_inertias):\n",
    "    fig = go.Figure()\n",
    "\n",
    "    fig.add_trace(go.Bar(x=liste_Ks[0], y=liste_inertias[0]))\n",
    "\n",
    "    for i in range(1,len(Ks)):\n",
    "        fig.add_trace(go.Bar(x=liste_Ks[i], y=liste_inertias[i], visible = False))\n",
    "\n",
    "    fig.update_layout(\n",
    "            title = go.layout.Title(text = \"Score de Silhouette en fonction de tranches horaires\", x = 0.5),\n",
    "            showlegend = False)\n",
    "\n",
    "    fig.update_layout(\n",
    "        updatemenus = [go.layout.Updatemenu(\n",
    "            active = 0,\n",
    "            buttons = [\n",
    "                        go.layout.updatemenu.Button(\n",
    "                            label = \"Tranche horaire 0h - 3h\",\n",
    "                            method = \"update\",\n",
    "                            args = [{\"visible\" : [True, False, False, False, False, False]}]),\n",
    "                        go.layout.updatemenu.Button(\n",
    "                                label = \"Tranche horaire 4h - 7h\",\n",
    "                                method = \"update\",\n",
    "                                args = [{\"visible\" : [False, True, False, False, False, False]}]),\n",
    "                        go.layout.updatemenu.Button(\n",
    "                                label = \"Tranche horaire 8h - 11h\",\n",
    "                                method = \"update\",\n",
    "                                args = [{\"visible\" : [False, False, True, False, False, False]}]),\n",
    "                        go.layout.updatemenu.Button(\n",
    "                                label = \"Tranche horaire 12h - 15h\",\n",
    "                                method = \"update\",\n",
    "                                args = [{\"visible\" : [False, False, False, True, False, False]}]),\n",
    "                        go.layout.updatemenu.Button(\n",
    "                                label = \"Tranche horaire 16h - 19h\",\n",
    "                                method = \"update\",\n",
    "                                args = [{\"visible\" : [False, False, False, False, True,  False]}]),\n",
    "                        go.layout.updatemenu.Button(\n",
    "                                label = \"Tranche horaire 20h - 23h\",\n",
    "                                method = \"update\",\n",
    "                                args = [{\"visible\" : [False, False, False, False, False, True]}])\n",
    "                    ]\n",
    "        )]\n",
    "    )\n",
    "    \n",
    "    fig.show()"
   ]
  },
  {
   "cell_type": "code",
   "execution_count": 38,
   "id": "f676bdd9",
   "metadata": {},
   "outputs": [
    {
     "data": {
      "text/html": [
       "<iframe\n",
       "    scrolling=\"no\"\n",
       "    width=\"100%\"\n",
       "    height=\"545px\"\n",
       "    src=\"iframe_figures/figure_38.html\"\n",
       "    frameborder=\"0\"\n",
       "    allowfullscreen\n",
       "></iframe>\n"
      ]
     },
     "metadata": {},
     "output_type": "display_data"
    }
   ],
   "source": [
    "silhouette_graph(liste_Ks, liste_inertias)"
   ]
  },
  {
   "cell_type": "markdown",
   "id": "58cbd1d9",
   "metadata": {},
   "source": [
    "#### Conclusion"
   ]
  },
  {
   "cell_type": "markdown",
   "id": "602fac68",
   "metadata": {},
   "source": [
    "On voit pour toutes les tranches horaires les mêmes représentations, cad qu'à partir d'un certain nombre de cluster(15) on ne voit plus de changement, donc nous pouvons prendre 15 clusters pour bien répartir les zones en fonction d'une certaine densité."
   ]
  },
  {
   "cell_type": "markdown",
   "id": "de882114",
   "metadata": {},
   "source": [
    "Nous devons, par contre, choisir un minimum de densité de nos clusters pour éviter aux chauffeurs Uber d'aller dans des zones de faibles regroupements de clients. Pour cela, nous allons calculer puis déterminer un nombre mininum de clients par zone pour afficher correctement ces clusters"
   ]
  },
  {
   "cell_type": "markdown",
   "id": "c8e43acb",
   "metadata": {},
   "source": [
    "Comme nous avions considérés les tranches horaires d'une même journée, nous allons maintenant étudier des clusters selon un jour de la semaine."
   ]
  },
  {
   "cell_type": "markdown",
   "id": "75340238",
   "metadata": {},
   "source": [
    "### 2 - Etude par 'day_name' pour déterminer le nombre optimal de clusters"
   ]
  },
  {
   "cell_type": "code",
   "execution_count": 108,
   "id": "af751943",
   "metadata": {},
   "outputs": [
    {
     "data": {
      "text/html": [
       "<div>\n",
       "<style scoped>\n",
       "    .dataframe tbody tr th:only-of-type {\n",
       "        vertical-align: middle;\n",
       "    }\n",
       "\n",
       "    .dataframe tbody tr th {\n",
       "        vertical-align: top;\n",
       "    }\n",
       "\n",
       "    .dataframe thead th {\n",
       "        text-align: right;\n",
       "    }\n",
       "</style>\n",
       "<table border=\"1\" class=\"dataframe\">\n",
       "  <thead>\n",
       "    <tr style=\"text-align: right;\">\n",
       "      <th></th>\n",
       "      <th>Date/Time</th>\n",
       "      <th>Lat</th>\n",
       "      <th>Lon</th>\n",
       "      <th>Base</th>\n",
       "      <th>Date</th>\n",
       "      <th>month</th>\n",
       "      <th>day_name</th>\n",
       "      <th>day</th>\n",
       "      <th>hour</th>\n",
       "    </tr>\n",
       "  </thead>\n",
       "  <tbody>\n",
       "    <tr>\n",
       "      <th>0</th>\n",
       "      <td>2014-08-15 21:53:00</td>\n",
       "      <td>40.7725</td>\n",
       "      <td>-73.9631</td>\n",
       "      <td>B02598</td>\n",
       "      <td>2014-08-15</td>\n",
       "      <td>8</td>\n",
       "      <td>Friday</td>\n",
       "      <td>15</td>\n",
       "      <td>21</td>\n",
       "    </tr>\n",
       "    <tr>\n",
       "      <th>1</th>\n",
       "      <td>2014-06-13 18:20:00</td>\n",
       "      <td>40.7554</td>\n",
       "      <td>-73.9682</td>\n",
       "      <td>B02598</td>\n",
       "      <td>2014-06-13</td>\n",
       "      <td>6</td>\n",
       "      <td>Friday</td>\n",
       "      <td>13</td>\n",
       "      <td>18</td>\n",
       "    </tr>\n",
       "    <tr>\n",
       "      <th>2</th>\n",
       "      <td>2014-09-15 06:48:00</td>\n",
       "      <td>40.7368</td>\n",
       "      <td>-74.0010</td>\n",
       "      <td>B02617</td>\n",
       "      <td>2014-09-15</td>\n",
       "      <td>9</td>\n",
       "      <td>Monday</td>\n",
       "      <td>15</td>\n",
       "      <td>6</td>\n",
       "    </tr>\n",
       "    <tr>\n",
       "      <th>3</th>\n",
       "      <td>2014-08-14 21:08:00</td>\n",
       "      <td>40.7144</td>\n",
       "      <td>-73.9870</td>\n",
       "      <td>B02598</td>\n",
       "      <td>2014-08-14</td>\n",
       "      <td>8</td>\n",
       "      <td>Thursday</td>\n",
       "      <td>14</td>\n",
       "      <td>21</td>\n",
       "    </tr>\n",
       "    <tr>\n",
       "      <th>4</th>\n",
       "      <td>2014-05-17 20:25:00</td>\n",
       "      <td>40.8154</td>\n",
       "      <td>-73.9593</td>\n",
       "      <td>B02512</td>\n",
       "      <td>2014-05-17</td>\n",
       "      <td>5</td>\n",
       "      <td>Saturday</td>\n",
       "      <td>17</td>\n",
       "      <td>20</td>\n",
       "    </tr>\n",
       "  </tbody>\n",
       "</table>\n",
       "</div>"
      ],
      "text/plain": [
       "             Date/Time      Lat      Lon    Base        Date  month  day_name  \\\n",
       "0  2014-08-15 21:53:00  40.7725 -73.9631  B02598  2014-08-15      8    Friday   \n",
       "1  2014-06-13 18:20:00  40.7554 -73.9682  B02598  2014-06-13      6    Friday   \n",
       "2  2014-09-15 06:48:00  40.7368 -74.0010  B02617  2014-09-15      9    Monday   \n",
       "3  2014-08-14 21:08:00  40.7144 -73.9870  B02598  2014-08-14      8  Thursday   \n",
       "4  2014-05-17 20:25:00  40.8154 -73.9593  B02512  2014-05-17      5  Saturday   \n",
       "\n",
       "   day  hour  \n",
       "0   15    21  \n",
       "1   13    18  \n",
       "2   15     6  \n",
       "3   14    21  \n",
       "4   17    20  "
      ]
     },
     "execution_count": 108,
     "metadata": {},
     "output_type": "execute_result"
    }
   ],
   "source": [
    "df_sample2 = merge_df.sample(500000)\n",
    "df_sample2.reset_index(drop=True, inplace=True)\n",
    "df_sample2.head()"
   ]
  },
  {
   "cell_type": "code",
   "execution_count": 109,
   "id": "8831317f",
   "metadata": {},
   "outputs": [
    {
     "data": {
      "text/html": [
       "<div>\n",
       "<style scoped>\n",
       "    .dataframe tbody tr th:only-of-type {\n",
       "        vertical-align: middle;\n",
       "    }\n",
       "\n",
       "    .dataframe tbody tr th {\n",
       "        vertical-align: top;\n",
       "    }\n",
       "\n",
       "    .dataframe thead th {\n",
       "        text-align: right;\n",
       "    }\n",
       "</style>\n",
       "<table border=\"1\" class=\"dataframe\">\n",
       "  <thead>\n",
       "    <tr style=\"text-align: right;\">\n",
       "      <th></th>\n",
       "      <th>count</th>\n",
       "      <th>Lat</th>\n",
       "      <th>Lon</th>\n",
       "    </tr>\n",
       "    <tr>\n",
       "      <th>day_name</th>\n",
       "      <th></th>\n",
       "      <th></th>\n",
       "      <th></th>\n",
       "    </tr>\n",
       "  </thead>\n",
       "  <tbody>\n",
       "    <tr>\n",
       "      <th>Friday</th>\n",
       "      <td>81577</td>\n",
       "      <td>40.739455</td>\n",
       "      <td>-73.974404</td>\n",
       "    </tr>\n",
       "    <tr>\n",
       "      <th>Monday</th>\n",
       "      <td>59965</td>\n",
       "      <td>40.739560</td>\n",
       "      <td>-73.970407</td>\n",
       "    </tr>\n",
       "    <tr>\n",
       "      <th>Saturday</th>\n",
       "      <td>71149</td>\n",
       "      <td>40.735790</td>\n",
       "      <td>-73.973505</td>\n",
       "    </tr>\n",
       "    <tr>\n",
       "      <th>Sunday</th>\n",
       "      <td>54171</td>\n",
       "      <td>40.734039</td>\n",
       "      <td>-73.966291</td>\n",
       "    </tr>\n",
       "    <tr>\n",
       "      <th>Thursday</th>\n",
       "      <td>83584</td>\n",
       "      <td>40.741314</td>\n",
       "      <td>-73.974811</td>\n",
       "    </tr>\n",
       "    <tr>\n",
       "      <th>Tuesday</th>\n",
       "      <td>72953</td>\n",
       "      <td>40.741237</td>\n",
       "      <td>-73.974453</td>\n",
       "    </tr>\n",
       "    <tr>\n",
       "      <th>Wednesday</th>\n",
       "      <td>76601</td>\n",
       "      <td>40.741454</td>\n",
       "      <td>-73.975164</td>\n",
       "    </tr>\n",
       "  </tbody>\n",
       "</table>\n",
       "</div>"
      ],
      "text/plain": [
       "           count        Lat        Lon\n",
       "day_name                              \n",
       "Friday     81577  40.739455 -73.974404\n",
       "Monday     59965  40.739560 -73.970407\n",
       "Saturday   71149  40.735790 -73.973505\n",
       "Sunday     54171  40.734039 -73.966291\n",
       "Thursday   83584  40.741314 -73.974811\n",
       "Tuesday    72953  40.741237 -73.974453\n",
       "Wednesday  76601  40.741454 -73.975164"
      ]
     },
     "execution_count": 109,
     "metadata": {},
     "output_type": "execute_result"
    }
   ],
   "source": [
    "df_groupby_sample1 = df_sample2.groupby('day_name')[['Date/Time']].count()\n",
    "df_groupby_sample2 = df_sample2.groupby('day_name')[['Lat','Lon']].mean()\n",
    "df_groupby_sample1.columns = ['count']\n",
    "df_groupby_sample = pd.concat([df_groupby_sample1,df_groupby_sample2],axis=1)\n",
    "df_groupby_sample"
   ]
  },
  {
   "cell_type": "markdown",
   "id": "f5adee3d",
   "metadata": {},
   "source": [
    "On observe une tendance assez similaire en fonction des jours de la semaine sauf pour le Dimanche ou il y a moins de courses, ce qui est normal vu que c'est un jour ou les gens travaillent moins"
   ]
  },
  {
   "cell_type": "markdown",
   "id": "9c9f2f21",
   "metadata": {},
   "source": [
    "Nous allons creer un dataset pour le mois d'avril uniquement en supprimant les clusters qui ne sont pas assez dense : nous allons pour cela créer un filtre qui permettra de pouvoir \"mieux densifier\" ces clusters"
   ]
  },
  {
   "cell_type": "code",
   "execution_count": 101,
   "id": "db236289",
   "metadata": {},
   "outputs": [],
   "source": [
    "df_test2 = df_apr14.copy()"
   ]
  },
  {
   "cell_type": "code",
   "execution_count": 89,
   "id": "f9bb22e4",
   "metadata": {},
   "outputs": [],
   "source": [
    "def create_clusters_by_dayname(df, nb_clusters=15):\n",
    "    scaler = StandardScaler()\n",
    "\n",
    "    coords = ['Lat','Lon']\n",
    "    liste_dfs,liste_Xs = [],[]\n",
    "\n",
    "    s = [day for day in df['day_name'].unique()]\n",
    "    s[1],s[-2]  = s[-2],s[1]\n",
    "    s[-2],s[-1] = s[-1],s[-2]\n",
    "\n",
    "    for i,el in enumerate(s):\n",
    "        globals() [f'df_test_{i+1}'] = df.loc[(df['day_name'] == el), :]\n",
    "        globals() [f'X_{i+1}'] = globals() [f'df_test_{i+1}'].loc[:,coords]\n",
    "        globals() [f'X_{i+1}'] = scaler.fit_transform(globals() [f'X_{i+1}'])\n",
    "        liste_dfs.append(globals() [f'df_test_{i+1}'])\n",
    "        liste_Xs.append(globals() [f'X_{i+1}'])    \n",
    "        \n",
    "    km = KMeans(n_clusters=nb_clusters) # on determine un nombre fixe de clusters pour avoir un repère\n",
    "    liste_df_kmeans, liste_df_groupby_clusters = [], []\n",
    "\n",
    "    i=0\n",
    "    while i<len(liste_dfs):\n",
    "        for df_,X_ in zip(liste_dfs, liste_Xs):\n",
    "            km.fit(X_)\n",
    "            df_.reset_index(drop=True)\n",
    "            df_['km_clusters'] = km.labels_\n",
    "            globals() [f'df_kmeans_{i+1}'] = df_.groupby('km_clusters')[['km_clusters']].count().rename(columns={'km_clusters' : 'nb_per_cluster'})\n",
    "            liste_df_kmeans.append(df_)\n",
    "            liste_df_groupby_clusters.append(globals() [f'df_kmeans_{i+1}'])\n",
    "            i+=1\n",
    "            \n",
    "    return liste_df_kmeans, liste_df_groupby_clusters, liste_Xs\n",
    "        "
   ]
  },
  {
   "cell_type": "code",
   "execution_count": 102,
   "id": "d3259747",
   "metadata": {},
   "outputs": [],
   "source": [
    "kmeans_dayname, groupbys_dayname , Xs_dayname = create_clusters_by_dayname(df_test2, nb_clusters=15)"
   ]
  },
  {
   "cell_type": "code",
   "execution_count": 104,
   "id": "8d1f120c",
   "metadata": {},
   "outputs": [],
   "source": [
    "def plot_clusters_by_dayname(df, liste_df_kmeans, mapbox_style):\n",
    "    \n",
    "    df = df.reset_index(drop=True)\n",
    "\n",
    "    token = 'pk.eyJ1Ijoib3AzbjVlZCIsImEiOiJjbDllYjl6bGswaG9uM3NsOW0zaGJ4ZHVrIn0.Us-gSPz0QgMbKbPqGkDtjg'\n",
    "    \n",
    "    v = [True, False, False, False, False, False, False]\n",
    "\n",
    "    fig = go.Figure()\n",
    "\n",
    "    for i,df_ in enumerate(liste_df_kmeans):\n",
    "        fig.add_trace(\n",
    "            go.Scattermapbox(\n",
    "                lat=df_['Lat'],\n",
    "                lon=df_['Lon'],\n",
    "                hovertext=df_['km_clusters'],\n",
    "                hoverinfo='text',\n",
    "                mode='markers',\n",
    "                marker=dict(\n",
    "#                    size=dict_df.loc[i, 'df_normalized'][dicts['criterion'][i]]*65,\n",
    "                    color=df_['km_clusters'],\n",
    "                    colorbar=dict(\n",
    "                        title=dict(\n",
    "                            side='right',\n",
    "                            text='clusters',\n",
    "                            font=dict(\n",
    "                                color='black',\n",
    "                                size=15,\n",
    "                                family='Arial'\n",
    "                                )\n",
    "                            ),\n",
    "                    #bgcolor='LightSkyBlue',\n",
    "                    x=1.08,\n",
    "                    y=0.5,\n",
    "                    len=1.1)\n",
    "                    ),\n",
    "                visible=v[i]\n",
    "                )\n",
    "        )\n",
    "\n",
    "    start = pd.to_datetime(df.loc[0,'Date']).strftime(\"%m/%d/%Y\")\n",
    "    end = pd.to_datetime(df.loc[len(df)-1,'Date']).strftime(\"%m/%d/%Y\")\n",
    "\n",
    "    fig.update_layout(mapbox_style=mapbox_style, \n",
    "                      mapbox_accesstoken=token,\n",
    "                     title=dict(\n",
    "                        text=f'Clusters de la ville de Chicago pour la période du {start} au {end}',\n",
    "                        font=dict(\n",
    "                            color='rgb(47, 138, 196)',\n",
    "                            size=16,\n",
    "                            family='Open Sans'\n",
    "                        )\n",
    "                    ))\n",
    "\n",
    "\n",
    "    fig.update_mapboxes(\n",
    "        bearing=0,\n",
    "        center=dict(\n",
    "            lat=40.7,\n",
    "            lon=-74\n",
    "        ),\n",
    "        pitch=0,\n",
    "        zoom=9)\n",
    "\n",
    "    fig.update_layout(\n",
    "        updatemenus = [go.layout.Updatemenu(\n",
    "            active = 0,\n",
    "            #bgcolor = \"#4BE8E0\",\n",
    "            #bordercolor = \"#4B9AC7\",\n",
    "            buttons = [\n",
    "                    go.layout.updatemenu.Button(\n",
    "                        label = \"Lundi\",\n",
    "                        method = \"update\",\n",
    "                        args = [{\"visible\" : [True, False, False, False, False, False, False]}]),\n",
    "                    go.layout.updatemenu.Button(\n",
    "                            label = \"Mardi\",\n",
    "                            method = \"update\",\n",
    "                            args = [{\"visible\" : [False, True, False, False, False, False, False]}]),\n",
    "                    go.layout.updatemenu.Button(\n",
    "                            label = \"Mercredi\",\n",
    "                            method = \"update\",\n",
    "                            args = [{\"visible\" : [False, False, True, False, False, False, False]}]),\n",
    "                    go.layout.updatemenu.Button(\n",
    "                            label = \"Jeudi\",\n",
    "                            method = \"update\",\n",
    "                            args = [{\"visible\" : [False, False, False, True, False, False, False]}]),\n",
    "                    go.layout.updatemenu.Button(\n",
    "                            label = \"Vendredi\",\n",
    "                            method = \"update\",\n",
    "                            args = [{\"visible\" : [False, False, False, False, True, False, False]}]),\n",
    "                    go.layout.updatemenu.Button(\n",
    "                            label = \"Samedi\",\n",
    "                            method = \"update\",\n",
    "                            args = [{\"visible\" : [False, False, False, False, False, True, False]}]),\n",
    "                    go.layout.updatemenu.Button(\n",
    "                            label = \"Dimanche\",\n",
    "                            method = \"update\",\n",
    "                            args = [{\"visible\" : [False, False, False, False, False, False, True]}])\n",
    "                ]\n",
    "            )]\n",
    "        )\n",
    "  \n",
    "    fig.update_layout(margin={\"r\":0,\"t\":0,\"l\":0,\"b\":0})\n",
    "\n",
    "    fig.show()\n",
    "     "
   ]
  },
  {
   "cell_type": "code",
   "execution_count": 105,
   "id": "99a4757d",
   "metadata": {},
   "outputs": [
    {
     "data": {
      "text/html": [
       "<iframe\n",
       "    scrolling=\"no\"\n",
       "    width=\"100%\"\n",
       "    height=\"545px\"\n",
       "    src=\"iframe_figures/figure_105.html\"\n",
       "    frameborder=\"0\"\n",
       "    allowfullscreen\n",
       "></iframe>\n"
      ]
     },
     "metadata": {},
     "output_type": "display_data"
    }
   ],
   "source": [
    "plot_clusters_by_dayname(df_test2, kmeans_dayname, mapbox_style=\"carto-positron\")"
   ]
  },
  {
   "cell_type": "markdown",
   "id": "b8925893",
   "metadata": {},
   "source": [
    "Ce test n'est pas concluant, car il est très difficile de voir une différence en fonction du jour de la semaine (en fonction d'une heure comme une heure de pointe par exemple, il y a une réelle différence avec une heure calme, comme la nuit) : Les cartes concernant les clusters par jour de la semaine sont decoupées en \"quartier assez nette\" ce qui laisse le choix aux chauffeurs Uber d'utiliser cet algorithme pour déterminer dans quelle zone il souhaite récupérer des clients.\n",
    "\n",
    "Nous ne pouvons donc pas dire quel est le nombre de cluster optimal (15 quarties, 50 quartiers, 100 quartiers...) : l'énoncé nous impose un délai d'attente maximum de 7 minutes, mais nous ne pouvons pas connaitre, sans calcul de distance et donc de vitesse, le nombre de clusters optimal pour qu'un chauffeur Uber puisse récupérer un client en moins de 7 min après avoir déposé un ancien client (quel est l'intéret de découper en quartier de gros clusters si il y a toujours du monde dans cette zone)\n",
    "\n",
    "De plus, nous ne connaissons pas la direction vers laquelle un client potentiel souhaite se déplacer : en prenant un cas extrème, comme celui qu'un client parte toujours dans la direction opposée à celle ou se trouve les gros clusters, il faudrait dans se cas inclure les tous petits clusters pour avoir une chance de récupérer un nouveau client en moins de 7 minutes, et il faudrait aussi déterminer un % de chance de partir dans la bonne direction, ce qui permettrai d'ajuster le nombre de clusters que l'on souhaite obtenir."
   ]
  },
  {
   "cell_type": "markdown",
   "id": "ef8c6294",
   "metadata": {},
   "source": [
    "### 3 - Etude par regroupement de courses pour supprimer les clusters avec densité faible"
   ]
  },
  {
   "cell_type": "markdown",
   "id": "627e6958",
   "metadata": {},
   "source": [
    "Tout d'abord, nous allons créer un dataset qui prend un sample de 500k courses pour l'aggréger pouvoir determiner des clusters en fonction de moment .\n",
    "\n",
    "Cela représente en gros 2 semaines de courses prises de manière aléatoire sur une période de 6 mois (2 semaines car 1/10 de 6 mois)"
   ]
  },
  {
   "cell_type": "code",
   "execution_count": 107,
   "id": "a8945b96",
   "metadata": {},
   "outputs": [
    {
     "data": {
      "text/html": [
       "<div>\n",
       "<style scoped>\n",
       "    .dataframe tbody tr th:only-of-type {\n",
       "        vertical-align: middle;\n",
       "    }\n",
       "\n",
       "    .dataframe tbody tr th {\n",
       "        vertical-align: top;\n",
       "    }\n",
       "\n",
       "    .dataframe thead th {\n",
       "        text-align: right;\n",
       "    }\n",
       "</style>\n",
       "<table border=\"1\" class=\"dataframe\">\n",
       "  <thead>\n",
       "    <tr style=\"text-align: right;\">\n",
       "      <th></th>\n",
       "      <th>Date/Time</th>\n",
       "      <th>Lat</th>\n",
       "      <th>Lon</th>\n",
       "      <th>Base</th>\n",
       "      <th>Date</th>\n",
       "      <th>month</th>\n",
       "      <th>day_name</th>\n",
       "      <th>day</th>\n",
       "      <th>hour</th>\n",
       "    </tr>\n",
       "  </thead>\n",
       "  <tbody>\n",
       "    <tr>\n",
       "      <th>0</th>\n",
       "      <td>2014-09-01 11:52:00</td>\n",
       "      <td>40.7732</td>\n",
       "      <td>-73.9498</td>\n",
       "      <td>B02617</td>\n",
       "      <td>2014-09-01</td>\n",
       "      <td>9</td>\n",
       "      <td>Monday</td>\n",
       "      <td>1</td>\n",
       "      <td>11</td>\n",
       "    </tr>\n",
       "    <tr>\n",
       "      <th>1</th>\n",
       "      <td>2014-09-23 19:12:00</td>\n",
       "      <td>40.7145</td>\n",
       "      <td>-73.9444</td>\n",
       "      <td>B02764</td>\n",
       "      <td>2014-09-23</td>\n",
       "      <td>9</td>\n",
       "      <td>Tuesday</td>\n",
       "      <td>23</td>\n",
       "      <td>19</td>\n",
       "    </tr>\n",
       "    <tr>\n",
       "      <th>2</th>\n",
       "      <td>2014-07-03 23:06:00</td>\n",
       "      <td>40.7299</td>\n",
       "      <td>-73.9919</td>\n",
       "      <td>B02682</td>\n",
       "      <td>2014-07-03</td>\n",
       "      <td>7</td>\n",
       "      <td>Thursday</td>\n",
       "      <td>3</td>\n",
       "      <td>23</td>\n",
       "    </tr>\n",
       "    <tr>\n",
       "      <th>3</th>\n",
       "      <td>2014-09-30 12:06:00</td>\n",
       "      <td>40.6907</td>\n",
       "      <td>-74.1781</td>\n",
       "      <td>B02617</td>\n",
       "      <td>2014-09-30</td>\n",
       "      <td>9</td>\n",
       "      <td>Tuesday</td>\n",
       "      <td>30</td>\n",
       "      <td>12</td>\n",
       "    </tr>\n",
       "    <tr>\n",
       "      <th>4</th>\n",
       "      <td>2014-05-21 11:07:00</td>\n",
       "      <td>41.0510</td>\n",
       "      <td>-73.6909</td>\n",
       "      <td>B02598</td>\n",
       "      <td>2014-05-21</td>\n",
       "      <td>5</td>\n",
       "      <td>Wednesday</td>\n",
       "      <td>21</td>\n",
       "      <td>11</td>\n",
       "    </tr>\n",
       "  </tbody>\n",
       "</table>\n",
       "</div>"
      ],
      "text/plain": [
       "             Date/Time      Lat      Lon    Base        Date  month  \\\n",
       "0  2014-09-01 11:52:00  40.7732 -73.9498  B02617  2014-09-01      9   \n",
       "1  2014-09-23 19:12:00  40.7145 -73.9444  B02764  2014-09-23      9   \n",
       "2  2014-07-03 23:06:00  40.7299 -73.9919  B02682  2014-07-03      7   \n",
       "3  2014-09-30 12:06:00  40.6907 -74.1781  B02617  2014-09-30      9   \n",
       "4  2014-05-21 11:07:00  41.0510 -73.6909  B02598  2014-05-21      5   \n",
       "\n",
       "    day_name  day  hour  \n",
       "0     Monday    1    11  \n",
       "1    Tuesday   23    19  \n",
       "2   Thursday    3    23  \n",
       "3    Tuesday   30    12  \n",
       "4  Wednesday   21    11  "
      ]
     },
     "execution_count": 107,
     "metadata": {},
     "output_type": "execute_result"
    }
   ],
   "source": [
    "df_sample2 = merge_df.sample(500000)\n",
    "df_sample2.reset_index(drop=True, inplace=True)\n",
    "df_sample2.head()"
   ]
  },
  {
   "cell_type": "code",
   "execution_count": 111,
   "id": "5dde71a0",
   "metadata": {},
   "outputs": [],
   "source": [
    "scaler = StandardScaler()\n",
    "coords = ['Lat','Lon']\n",
    "X = df_sample2.loc[:,coords]\n",
    "X = scaler.fit_transform(X)"
   ]
  },
  {
   "cell_type": "markdown",
   "id": "4d7ccb17",
   "metadata": {},
   "source": [
    "N'oublions pas notre objectif qui est de trouver le nombre de clusters optimal :</br>\n",
    "* Soit nous conservons le nombre de clusters actuel (15) qui représente les gros quartiers de New York\n",
    "* Soit nous augmentons le nombre de clusters voulus (par exemple 50) en admettant l'hypothèse qu'un chauffeur Uber reste dans une zone assez restreinte, ce qui permettra un meilleur découpage des quartiers\n",
    "\n",
    "En prenant en compte la 2e hypothèse, nous affirmons qu'il n'y a pas une saturation de chauffeur Uber dans une petite zone : cad qu'il y a assez de place dans un des 50 clusters pour que le chauffeur puisse y rester (car si cela n'etait pas vrai, il devrait changer de zone et donc le choix de prendre plus de clusters ne serait pas pertinent)"
   ]
  },
  {
   "cell_type": "markdown",
   "id": "b999a2f8",
   "metadata": {},
   "source": [
    "Testons donc avec un nombre de clusters égal à 50 et regardons le resultats (nous allons aussi comparer deux algorithmes de calcul de cluster : **`Algorithme espérance-maximisation ('lloyd')`** et **`Algorithme d'inégalité triangulaire('elkan')`**)\n",
    "\n",
    "Sans rentrer en details dans ce notebook, car cela le rallongerai davantage, je vais faire une explication sommaire:</br>\n",
    "* **Algorithme espérance-maximisation** : sépare les points de données en fonction d'une différence de distribution gaussienne\n",
    "* **Algorithme d'inégalité triangulaire**: éviter le calcul des distances entre points de données qui sont redondantes\n",
    "\n",
    "Si vous voulez en savoir plus, je vous conseille ces liens qui sont très bien détaillé (tous les liens sont en francais):\n",
    "\n",
    "**Algorithme espérance-maximisation**:</br>\n",
    "* https://dridk.me/expectation-maximisation.html\n",
    "* https://fr.wikipedia.org/wiki/Algorithme_esp%C3%A9rance-maximisation\n",
    "\n",
    "**Algorithme d'inégalité triangulaire**:\n",
    "* https://fr.wikipedia.org/wiki/In%C3%A9galit%C3%A9_triangulaire\n",
    "* https://www.lri.fr/~sebag/Examens_2006/Elkan_resume.doc"
   ]
  },
  {
   "cell_type": "code",
   "execution_count": 114,
   "id": "db69cd5b",
   "metadata": {},
   "outputs": [
    {
     "data": {
      "text/plain": [
       "KMeans(algorithm='full', n_clusters=50)"
      ]
     },
     "execution_count": 114,
     "metadata": {},
     "output_type": "execute_result"
    }
   ],
   "source": [
    "kmeans_lloyd = KMeans(n_clusters = 50, algorithm=\"full\")\n",
    "kmeans_lloyd.fit(X)"
   ]
  },
  {
   "cell_type": "code",
   "execution_count": 115,
   "id": "46f2a211",
   "metadata": {},
   "outputs": [
    {
     "data": {
      "text/plain": [
       "KMeans(algorithm='elkan', n_clusters=50)"
      ]
     },
     "execution_count": 115,
     "metadata": {},
     "output_type": "execute_result"
    }
   ],
   "source": [
    "kmeans_elkan = KMeans(n_clusters = 50, algorithm=\"elkan\")\n",
    "kmeans_elkan.fit(X)"
   ]
  },
  {
   "cell_type": "code",
   "execution_count": 116,
   "id": "9d5e9cb1",
   "metadata": {},
   "outputs": [],
   "source": [
    "# numero du clusters avec l'algo esperance-maximisation\n",
    "df_sample2['cluster_lloyd'] = kmeans_lloyd.labels_\n",
    "\n",
    "# numero des clusters avec l'algo inégalité triangulaire\n",
    "df_sample2['cluster_elkan'] = kmeans_elkan.labels_"
   ]
  },
  {
   "cell_type": "code",
   "execution_count": 123,
   "id": "856a5a9a",
   "metadata": {},
   "outputs": [
    {
     "data": {
      "text/html": [
       "<div>\n",
       "<style scoped>\n",
       "    .dataframe tbody tr th:only-of-type {\n",
       "        vertical-align: middle;\n",
       "    }\n",
       "\n",
       "    .dataframe tbody tr th {\n",
       "        vertical-align: top;\n",
       "    }\n",
       "\n",
       "    .dataframe thead th {\n",
       "        text-align: right;\n",
       "    }\n",
       "</style>\n",
       "<table border=\"1\" class=\"dataframe\">\n",
       "  <thead>\n",
       "    <tr style=\"text-align: right;\">\n",
       "      <th></th>\n",
       "      <th>Date/Time</th>\n",
       "      <th>Lat</th>\n",
       "      <th>Lon</th>\n",
       "      <th>Base</th>\n",
       "      <th>Date</th>\n",
       "      <th>month</th>\n",
       "      <th>day_name</th>\n",
       "      <th>day</th>\n",
       "      <th>hour</th>\n",
       "      <th>cluster_lloyd</th>\n",
       "      <th>cluster_elkan</th>\n",
       "    </tr>\n",
       "  </thead>\n",
       "  <tbody>\n",
       "    <tr>\n",
       "      <th>0</th>\n",
       "      <td>2014-08-15 21:53:00</td>\n",
       "      <td>40.7725</td>\n",
       "      <td>-73.9631</td>\n",
       "      <td>B02598</td>\n",
       "      <td>2014-08-15</td>\n",
       "      <td>8</td>\n",
       "      <td>Friday</td>\n",
       "      <td>15</td>\n",
       "      <td>21</td>\n",
       "      <td>37</td>\n",
       "      <td>17</td>\n",
       "    </tr>\n",
       "    <tr>\n",
       "      <th>1</th>\n",
       "      <td>2014-06-13 18:20:00</td>\n",
       "      <td>40.7554</td>\n",
       "      <td>-73.9682</td>\n",
       "      <td>B02598</td>\n",
       "      <td>2014-06-13</td>\n",
       "      <td>6</td>\n",
       "      <td>Friday</td>\n",
       "      <td>13</td>\n",
       "      <td>18</td>\n",
       "      <td>26</td>\n",
       "      <td>31</td>\n",
       "    </tr>\n",
       "    <tr>\n",
       "      <th>2</th>\n",
       "      <td>2014-09-15 06:48:00</td>\n",
       "      <td>40.7368</td>\n",
       "      <td>-74.0010</td>\n",
       "      <td>B02617</td>\n",
       "      <td>2014-09-15</td>\n",
       "      <td>9</td>\n",
       "      <td>Monday</td>\n",
       "      <td>15</td>\n",
       "      <td>6</td>\n",
       "      <td>13</td>\n",
       "      <td>16</td>\n",
       "    </tr>\n",
       "    <tr>\n",
       "      <th>3</th>\n",
       "      <td>2014-08-14 21:08:00</td>\n",
       "      <td>40.7144</td>\n",
       "      <td>-73.9870</td>\n",
       "      <td>B02598</td>\n",
       "      <td>2014-08-14</td>\n",
       "      <td>8</td>\n",
       "      <td>Thursday</td>\n",
       "      <td>14</td>\n",
       "      <td>21</td>\n",
       "      <td>4</td>\n",
       "      <td>36</td>\n",
       "    </tr>\n",
       "    <tr>\n",
       "      <th>4</th>\n",
       "      <td>2014-05-17 20:25:00</td>\n",
       "      <td>40.8154</td>\n",
       "      <td>-73.9593</td>\n",
       "      <td>B02512</td>\n",
       "      <td>2014-05-17</td>\n",
       "      <td>5</td>\n",
       "      <td>Saturday</td>\n",
       "      <td>17</td>\n",
       "      <td>20</td>\n",
       "      <td>8</td>\n",
       "      <td>34</td>\n",
       "    </tr>\n",
       "    <tr>\n",
       "      <th>...</th>\n",
       "      <td>...</td>\n",
       "      <td>...</td>\n",
       "      <td>...</td>\n",
       "      <td>...</td>\n",
       "      <td>...</td>\n",
       "      <td>...</td>\n",
       "      <td>...</td>\n",
       "      <td>...</td>\n",
       "      <td>...</td>\n",
       "      <td>...</td>\n",
       "      <td>...</td>\n",
       "    </tr>\n",
       "    <tr>\n",
       "      <th>499995</th>\n",
       "      <td>2014-09-23 21:05:00</td>\n",
       "      <td>40.7507</td>\n",
       "      <td>-73.9818</td>\n",
       "      <td>B02764</td>\n",
       "      <td>2014-09-23</td>\n",
       "      <td>9</td>\n",
       "      <td>Tuesday</td>\n",
       "      <td>23</td>\n",
       "      <td>21</td>\n",
       "      <td>30</td>\n",
       "      <td>49</td>\n",
       "    </tr>\n",
       "    <tr>\n",
       "      <th>499996</th>\n",
       "      <td>2014-04-26 23:20:00</td>\n",
       "      <td>40.7097</td>\n",
       "      <td>-74.0603</td>\n",
       "      <td>B02598</td>\n",
       "      <td>2014-04-26</td>\n",
       "      <td>4</td>\n",
       "      <td>Saturday</td>\n",
       "      <td>26</td>\n",
       "      <td>23</td>\n",
       "      <td>36</td>\n",
       "      <td>4</td>\n",
       "    </tr>\n",
       "    <tr>\n",
       "      <th>499997</th>\n",
       "      <td>2014-08-30 03:09:00</td>\n",
       "      <td>40.7146</td>\n",
       "      <td>-73.9971</td>\n",
       "      <td>B02598</td>\n",
       "      <td>2014-08-30</td>\n",
       "      <td>8</td>\n",
       "      <td>Saturday</td>\n",
       "      <td>30</td>\n",
       "      <td>3</td>\n",
       "      <td>22</td>\n",
       "      <td>6</td>\n",
       "    </tr>\n",
       "    <tr>\n",
       "      <th>499998</th>\n",
       "      <td>2014-09-04 10:48:00</td>\n",
       "      <td>40.7520</td>\n",
       "      <td>-73.9772</td>\n",
       "      <td>B02682</td>\n",
       "      <td>2014-09-04</td>\n",
       "      <td>9</td>\n",
       "      <td>Thursday</td>\n",
       "      <td>4</td>\n",
       "      <td>10</td>\n",
       "      <td>26</td>\n",
       "      <td>49</td>\n",
       "    </tr>\n",
       "    <tr>\n",
       "      <th>499999</th>\n",
       "      <td>2014-07-26 17:43:00</td>\n",
       "      <td>40.7675</td>\n",
       "      <td>-73.9810</td>\n",
       "      <td>B02598</td>\n",
       "      <td>2014-07-26</td>\n",
       "      <td>7</td>\n",
       "      <td>Saturday</td>\n",
       "      <td>26</td>\n",
       "      <td>17</td>\n",
       "      <td>42</td>\n",
       "      <td>42</td>\n",
       "    </tr>\n",
       "  </tbody>\n",
       "</table>\n",
       "<p>500000 rows × 11 columns</p>\n",
       "</div>"
      ],
      "text/plain": [
       "                  Date/Time      Lat      Lon    Base        Date  month  \\\n",
       "0       2014-08-15 21:53:00  40.7725 -73.9631  B02598  2014-08-15      8   \n",
       "1       2014-06-13 18:20:00  40.7554 -73.9682  B02598  2014-06-13      6   \n",
       "2       2014-09-15 06:48:00  40.7368 -74.0010  B02617  2014-09-15      9   \n",
       "3       2014-08-14 21:08:00  40.7144 -73.9870  B02598  2014-08-14      8   \n",
       "4       2014-05-17 20:25:00  40.8154 -73.9593  B02512  2014-05-17      5   \n",
       "...                     ...      ...      ...     ...         ...    ...   \n",
       "499995  2014-09-23 21:05:00  40.7507 -73.9818  B02764  2014-09-23      9   \n",
       "499996  2014-04-26 23:20:00  40.7097 -74.0603  B02598  2014-04-26      4   \n",
       "499997  2014-08-30 03:09:00  40.7146 -73.9971  B02598  2014-08-30      8   \n",
       "499998  2014-09-04 10:48:00  40.7520 -73.9772  B02682  2014-09-04      9   \n",
       "499999  2014-07-26 17:43:00  40.7675 -73.9810  B02598  2014-07-26      7   \n",
       "\n",
       "        day_name  day  hour  cluster_lloyd  cluster_elkan  \n",
       "0         Friday   15    21             37             17  \n",
       "1         Friday   13    18             26             31  \n",
       "2         Monday   15     6             13             16  \n",
       "3       Thursday   14    21              4             36  \n",
       "4       Saturday   17    20              8             34  \n",
       "...          ...  ...   ...            ...            ...  \n",
       "499995   Tuesday   23    21             30             49  \n",
       "499996  Saturday   26    23             36              4  \n",
       "499997  Saturday   30     3             22              6  \n",
       "499998  Thursday    4    10             26             49  \n",
       "499999  Saturday   26    17             42             42  \n",
       "\n",
       "[500000 rows x 11 columns]"
      ]
     },
     "execution_count": 123,
     "metadata": {},
     "output_type": "execute_result"
    }
   ],
   "source": [
    "df_sample2"
   ]
  },
  {
   "cell_type": "code",
   "execution_count": 132,
   "id": "f5f6a5eb",
   "metadata": {},
   "outputs": [
    {
     "data": {
      "text/html": [
       "<div>\n",
       "<style scoped>\n",
       "    .dataframe tbody tr th:only-of-type {\n",
       "        vertical-align: middle;\n",
       "    }\n",
       "\n",
       "    .dataframe tbody tr th {\n",
       "        vertical-align: top;\n",
       "    }\n",
       "\n",
       "    .dataframe thead th {\n",
       "        text-align: right;\n",
       "    }\n",
       "</style>\n",
       "<table border=\"1\" class=\"dataframe\">\n",
       "  <thead>\n",
       "    <tr style=\"text-align: right;\">\n",
       "      <th></th>\n",
       "      <th></th>\n",
       "      <th></th>\n",
       "      <th></th>\n",
       "      <th>nb_courses_per_day</th>\n",
       "    </tr>\n",
       "    <tr>\n",
       "      <th>Date</th>\n",
       "      <th>month</th>\n",
       "      <th>day_name</th>\n",
       "      <th>day</th>\n",
       "      <th></th>\n",
       "    </tr>\n",
       "  </thead>\n",
       "  <tbody>\n",
       "    <tr>\n",
       "      <th>2014-04-01</th>\n",
       "      <th>4</th>\n",
       "      <th>Tuesday</th>\n",
       "      <th>1</th>\n",
       "      <td>1553</td>\n",
       "    </tr>\n",
       "    <tr>\n",
       "      <th>2014-04-02</th>\n",
       "      <th>4</th>\n",
       "      <th>Wednesday</th>\n",
       "      <th>2</th>\n",
       "      <td>1959</td>\n",
       "    </tr>\n",
       "    <tr>\n",
       "      <th>2014-04-03</th>\n",
       "      <th>4</th>\n",
       "      <th>Thursday</th>\n",
       "      <th>3</th>\n",
       "      <td>2159</td>\n",
       "    </tr>\n",
       "    <tr>\n",
       "      <th>2014-04-04</th>\n",
       "      <th>4</th>\n",
       "      <th>Friday</th>\n",
       "      <th>4</th>\n",
       "      <td>2977</td>\n",
       "    </tr>\n",
       "    <tr>\n",
       "      <th>2014-04-05</th>\n",
       "      <th>4</th>\n",
       "      <th>Saturday</th>\n",
       "      <th>5</th>\n",
       "      <td>2157</td>\n",
       "    </tr>\n",
       "    <tr>\n",
       "      <th>...</th>\n",
       "      <th>...</th>\n",
       "      <th>...</th>\n",
       "      <th>...</th>\n",
       "      <td>...</td>\n",
       "    </tr>\n",
       "    <tr>\n",
       "      <th>2014-09-26</th>\n",
       "      <th>9</th>\n",
       "      <th>Friday</th>\n",
       "      <th>26</th>\n",
       "      <td>4247</td>\n",
       "    </tr>\n",
       "    <tr>\n",
       "      <th>2014-09-27</th>\n",
       "      <th>9</th>\n",
       "      <th>Saturday</th>\n",
       "      <th>27</th>\n",
       "      <td>4290</td>\n",
       "    </tr>\n",
       "    <tr>\n",
       "      <th>2014-09-28</th>\n",
       "      <th>9</th>\n",
       "      <th>Sunday</th>\n",
       "      <th>28</th>\n",
       "      <td>3331</td>\n",
       "    </tr>\n",
       "    <tr>\n",
       "      <th>2014-09-29</th>\n",
       "      <th>9</th>\n",
       "      <th>Monday</th>\n",
       "      <th>29</th>\n",
       "      <td>3272</td>\n",
       "    </tr>\n",
       "    <tr>\n",
       "      <th>2014-09-30</th>\n",
       "      <th>9</th>\n",
       "      <th>Tuesday</th>\n",
       "      <th>30</th>\n",
       "      <td>3645</td>\n",
       "    </tr>\n",
       "  </tbody>\n",
       "</table>\n",
       "<p>183 rows × 1 columns</p>\n",
       "</div>"
      ],
      "text/plain": [
       "                                nb_courses_per_day\n",
       "Date       month day_name  day                    \n",
       "2014-04-01 4     Tuesday   1                  1553\n",
       "2014-04-02 4     Wednesday 2                  1959\n",
       "2014-04-03 4     Thursday  3                  2159\n",
       "2014-04-04 4     Friday    4                  2977\n",
       "2014-04-05 4     Saturday  5                  2157\n",
       "...                                            ...\n",
       "2014-09-26 9     Friday    26                 4247\n",
       "2014-09-27 9     Saturday  27                 4290\n",
       "2014-09-28 9     Sunday    28                 3331\n",
       "2014-09-29 9     Monday    29                 3272\n",
       "2014-09-30 9     Tuesday   30                 3645\n",
       "\n",
       "[183 rows x 1 columns]"
      ]
     },
     "execution_count": 132,
     "metadata": {},
     "output_type": "execute_result"
    }
   ],
   "source": [
    "# regroupement des courses par jour\n",
    "gb = df_sample2.groupby(['Date','month','day_name','day'])[['Date/Time']].count()\n",
    "gb.columns = ['nb_courses_per_day']\n",
    "gb"
   ]
  },
  {
   "cell_type": "code",
   "execution_count": 143,
   "id": "0aea77c0",
   "metadata": {},
   "outputs": [
    {
     "data": {
      "text/plain": [
       "19125"
      ]
     },
     "execution_count": 143,
     "metadata": {},
     "output_type": "execute_result"
    }
   ],
   "source": [
    "mean_by_day = gb['nb_courses_per_day'].mean()\n",
    "mean_by_week = mean_by_day * 7\n",
    "mean_by_week = int(mean_by_week)\n",
    "mean_by_week"
   ]
  },
  {
   "cell_type": "markdown",
   "id": "a055317a",
   "metadata": {},
   "source": [
    "Par semaine, en moyenne, il y 19125 courses"
   ]
  },
  {
   "cell_type": "code",
   "execution_count": 140,
   "id": "2e06a137",
   "metadata": {},
   "outputs": [
    {
     "data": {
      "text/html": [
       "<div>\n",
       "<style scoped>\n",
       "    .dataframe tbody tr th:only-of-type {\n",
       "        vertical-align: middle;\n",
       "    }\n",
       "\n",
       "    .dataframe tbody tr th {\n",
       "        vertical-align: top;\n",
       "    }\n",
       "\n",
       "    .dataframe thead th {\n",
       "        text-align: right;\n",
       "    }\n",
       "</style>\n",
       "<table border=\"1\" class=\"dataframe\">\n",
       "  <thead>\n",
       "    <tr style=\"text-align: right;\">\n",
       "      <th></th>\n",
       "      <th></th>\n",
       "      <th></th>\n",
       "      <th></th>\n",
       "      <th></th>\n",
       "      <th>nb_courses_per_hour</th>\n",
       "    </tr>\n",
       "    <tr>\n",
       "      <th>Date</th>\n",
       "      <th>month</th>\n",
       "      <th>day_name</th>\n",
       "      <th>day</th>\n",
       "      <th>hour</th>\n",
       "      <th></th>\n",
       "    </tr>\n",
       "  </thead>\n",
       "  <tbody>\n",
       "    <tr>\n",
       "      <th rowspan=\"5\" valign=\"top\">2014-04-01</th>\n",
       "      <th rowspan=\"5\" valign=\"top\">4</th>\n",
       "      <th rowspan=\"5\" valign=\"top\">Tuesday</th>\n",
       "      <th rowspan=\"5\" valign=\"top\">1</th>\n",
       "      <th>0</th>\n",
       "      <td>12</td>\n",
       "    </tr>\n",
       "    <tr>\n",
       "      <th>1</th>\n",
       "      <td>5</td>\n",
       "    </tr>\n",
       "    <tr>\n",
       "      <th>2</th>\n",
       "      <td>6</td>\n",
       "    </tr>\n",
       "    <tr>\n",
       "      <th>3</th>\n",
       "      <td>7</td>\n",
       "    </tr>\n",
       "    <tr>\n",
       "      <th>4</th>\n",
       "      <td>17</td>\n",
       "    </tr>\n",
       "    <tr>\n",
       "      <th>...</th>\n",
       "      <th>...</th>\n",
       "      <th>...</th>\n",
       "      <th>...</th>\n",
       "      <th>...</th>\n",
       "      <td>...</td>\n",
       "    </tr>\n",
       "    <tr>\n",
       "      <th rowspan=\"5\" valign=\"top\">2014-09-30</th>\n",
       "      <th rowspan=\"5\" valign=\"top\">9</th>\n",
       "      <th rowspan=\"5\" valign=\"top\">Tuesday</th>\n",
       "      <th rowspan=\"5\" valign=\"top\">30</th>\n",
       "      <th>18</th>\n",
       "      <td>282</td>\n",
       "    </tr>\n",
       "    <tr>\n",
       "      <th>19</th>\n",
       "      <td>248</td>\n",
       "    </tr>\n",
       "    <tr>\n",
       "      <th>20</th>\n",
       "      <td>232</td>\n",
       "    </tr>\n",
       "    <tr>\n",
       "      <th>21</th>\n",
       "      <td>221</td>\n",
       "    </tr>\n",
       "    <tr>\n",
       "      <th>22</th>\n",
       "      <td>146</td>\n",
       "    </tr>\n",
       "  </tbody>\n",
       "</table>\n",
       "<p>4391 rows × 1 columns</p>\n",
       "</div>"
      ],
      "text/plain": [
       "                                    nb_courses_per_hour\n",
       "Date       month day_name day hour                     \n",
       "2014-04-01 4     Tuesday  1   0                      12\n",
       "                              1                       5\n",
       "                              2                       6\n",
       "                              3                       7\n",
       "                              4                      17\n",
       "...                                                 ...\n",
       "2014-09-30 9     Tuesday  30  18                    282\n",
       "                              19                    248\n",
       "                              20                    232\n",
       "                              21                    221\n",
       "                              22                    146\n",
       "\n",
       "[4391 rows x 1 columns]"
      ]
     },
     "execution_count": 140,
     "metadata": {},
     "output_type": "execute_result"
    }
   ],
   "source": [
    "# regroupement des courses par heure\n",
    "gb2 = df_sample2.groupby(['Date','month','day_name','day','hour'])[['Date/Time']].count()\n",
    "gb2.columns = ['nb_courses_per_hour']\n",
    "gb2"
   ]
  },
  {
   "cell_type": "code",
   "execution_count": 142,
   "id": "4bc72a45",
   "metadata": {},
   "outputs": [
    {
     "data": {
      "text/plain": [
       "113"
      ]
     },
     "execution_count": 142,
     "metadata": {},
     "output_type": "execute_result"
    }
   ],
   "source": [
    "mean_by_hour = gb2['nb_courses_per_hour'].mean()\n",
    "mean_by_hour = int(mean_by_hour)\n",
    "mean_by_hour"
   ]
  },
  {
   "cell_type": "markdown",
   "id": "d817a668",
   "metadata": {},
   "source": [
    "Pour chaque course, donc pour un point sur la carte, on a attribué un numéro de cluster pour pouvoir les regrouper.\n",
    "\n",
    "On va regrouper les nombres de clusters par date pour voir si nous devons en retirer pour eviter les zones à faible densité de clients"
   ]
  },
  {
   "cell_type": "code",
   "execution_count": 124,
   "id": "5e1acdd7",
   "metadata": {},
   "outputs": [
    {
     "data": {
      "text/plain": [
       "(4534327, 9)"
      ]
     },
     "execution_count": 124,
     "metadata": {},
     "output_type": "execute_result"
    }
   ],
   "source": [
    "merge_df.shape"
   ]
  },
  {
   "cell_type": "code",
   "execution_count": 175,
   "id": "135db897",
   "metadata": {},
   "outputs": [],
   "source": [
    "clusters_lloyd = df_sample2.groupby('cluster_lloyd').count()['Date/Time'].values\n",
    "                 \n",
    "clusters_elkan = df_sample2.groupby('cluster_elkan').count()['Date/Time'].values"
   ]
  },
  {
   "cell_type": "markdown",
   "id": "d55c45dc",
   "metadata": {},
   "source": [
    "Nous allons donc garder que les clusters qui ont un nombre de points de données supérieur à un certain seuil : nous allons devoir définir ce seuil"
   ]
  },
  {
   "cell_type": "markdown",
   "id": "b5814f4c",
   "metadata": {},
   "source": [
    "Nous allons faire un bref calcul : nous souhaitons qu'un client n'attende que 5 min(pour anecdote, le temps d'un taxi jaune a NY est quasi nul car il y en a beaucoup). De plus, nous allons déterminer que le temps d'une course est égal au temps d'attente d'un client (pour simplifier les calculs) donc il faut 12 clients par heure.\n",
    "\n",
    "Notre df_sample correspond à peu près à 14 jours de données : sachant que nous voulons minimum 12 clients / heure / cluster, il va falloir décomposer ces 14 jours en :\n",
    "\n",
    "2 semaines = 14 jours = 14 * 24 heures\n",
    "\n",
    "donc nous arrivons à : 14 * 24 * 12 clients = 4032 points minimum par cluster"
   ]
  },
  {
   "cell_type": "code",
   "execution_count": 181,
   "id": "7d4fab1b",
   "metadata": {},
   "outputs": [
    {
     "data": {
      "text/plain": [
       "array([ True,  True,  True, False,  True,  True,  True, False,  True,\n",
       "       False,  True, False, False,  True,  True,  True, False, False,\n",
       "        True,  True, False, False,  True, False, False, False,  True,\n",
       "        True, False, False,  True,  True, False, False, False,  True,\n",
       "       False,  True, False, False, False,  True,  True, False, False,\n",
       "       False, False,  True, False,  True])"
      ]
     },
     "execution_count": 181,
     "metadata": {},
     "output_type": "execute_result"
    }
   ],
   "source": [
    "nb_max_data_points = 14*24*12\n",
    "\n",
    "# 2 semaines ==> 24h * 14j ==> 336h / 6 mois ==> 14h / semaine \n",
    "clusters_lloyd > nb_max_data_points"
   ]
  },
  {
   "cell_type": "code",
   "execution_count": 182,
   "id": "0cb54485",
   "metadata": {},
   "outputs": [],
   "source": [
    "df_sample2['lloyd_is_dense'] = df_sample2['cluster_lloyd'].map(lambda row : 1 if clusters_lloyd[row]>nb_max_data_points else 0)\n",
    "df_sample2['elkan_is_dense'] = df_sample2['cluster_elkan'].map(lambda row : 1 if clusters_elkan[row]>nb_max_data_points else 0)"
   ]
  },
  {
   "cell_type": "code",
   "execution_count": 185,
   "id": "e194413f",
   "metadata": {},
   "outputs": [
    {
     "data": {
      "text/plain": [
       "1    474037\n",
       "0     25963\n",
       "Name: lloyd_is_dense, dtype: int64"
      ]
     },
     "execution_count": 185,
     "metadata": {},
     "output_type": "execute_result"
    }
   ],
   "source": [
    "df_sample2['lloyd_is_dense'].value_counts()"
   ]
  },
  {
   "cell_type": "code",
   "execution_count": 186,
   "id": "795a7eff",
   "metadata": {},
   "outputs": [
    {
     "data": {
      "text/plain": [
       "1    472543\n",
       "0     27457\n",
       "Name: elkan_is_dense, dtype: int64"
      ]
     },
     "execution_count": 186,
     "metadata": {},
     "output_type": "execute_result"
    }
   ],
   "source": [
    "df_sample2['elkan_is_dense'].value_counts()"
   ]
  },
  {
   "cell_type": "code",
   "execution_count": 196,
   "id": "cfdbeeee",
   "metadata": {},
   "outputs": [],
   "source": [
    "df_sample2.to_csv('./src/df_sample2.csv', index=False)"
   ]
  },
  {
   "cell_type": "code",
   "execution_count": 4,
   "id": "1776150b",
   "metadata": {},
   "outputs": [],
   "source": [
    "df_sample2 = pd.read_csv('./src/df_sample2.csv')"
   ]
  },
  {
   "cell_type": "code",
   "execution_count": 5,
   "id": "0e0f54ff",
   "metadata": {},
   "outputs": [
    {
     "data": {
      "text/html": [
       "<iframe\n",
       "    scrolling=\"no\"\n",
       "    width=\"100%\"\n",
       "    height=\"545px\"\n",
       "    src=\"iframe_figures/figure_5.html\"\n",
       "    frameborder=\"0\"\n",
       "    allowfullscreen\n",
       "></iframe>\n"
      ]
     },
     "metadata": {},
     "output_type": "display_data"
    }
   ],
   "source": [
    "fig = px.scatter_mapbox(df_sample2.loc[df_sample2['lloyd_is_dense']==1,:], lat='Lat', lon='Lon', color='cluster_lloyd', zoom=10, mapbox_style='carto-positron')\n",
    "fig.show()"
   ]
  },
  {
   "cell_type": "markdown",
   "id": "d43262f3",
   "metadata": {},
   "source": [
    "On observe que les clusters qui sont vers l'extérieur sont plus étendus(moins dense) que les clusters centraux. Nous pourrions donc améliorer l'algorithme en y ajoutant des contraintes (des poids) sur le prix en fonction de l'eloignement du centre."
   ]
  },
  {
   "cell_type": "code",
   "execution_count": 6,
   "id": "30321fa5",
   "metadata": {},
   "outputs": [],
   "source": [
    "test = df_sample2.sample(50000)"
   ]
  },
  {
   "cell_type": "code",
   "execution_count": 7,
   "id": "5b5bb9ae",
   "metadata": {},
   "outputs": [],
   "source": [
    "df_filter_lloyd = test.loc[test['lloyd_is_dense']==1,:]\n",
    "df_filter_elkan = test.loc[test['elkan_is_dense']==1,:]\n",
    "\n",
    "dic = {\n",
    "    'df' : [df_filter_lloyd, test, df_filter_elkan, test], \n",
    "    'color' : ['cluster_lloyd', 'cluster_lloyd', 'cluster_elkan', 'cluster_elkan']\n",
    "    }"
   ]
  },
  {
   "cell_type": "code",
   "execution_count": 11,
   "id": "acc40634",
   "metadata": {},
   "outputs": [],
   "source": [
    "def plot_lloyd_elkan_algo_cluster(df, dic):\n",
    "    mapbox_access_token = 'pk.eyJ1Ijoib3AzbjVlZCIsImEiOiJjbDllYjl6bGswaG9uM3NsOW0zaGJ4ZHVrIn0.Us-gSPz0QgMbKbPqGkDtjg'\n",
    "\n",
    "    v = [True, False, False, False]\n",
    "\n",
    "\n",
    "    fig = go.Figure()\n",
    "\n",
    "    for df, color in zip(dic['df'],dic['color']):\n",
    "\n",
    "        fig.add_trace(go.Scattermapbox(\n",
    "                lat = df.loc[:, 'Lat'],\n",
    "                lon = df.loc[:, 'Lon'],\n",
    "                mode = 'markers',\n",
    "                marker = dict(\n",
    "                    color=df[color],\n",
    "                    size = 6,\n",
    "                    opacity = 0.7,\n",
    "                    colorbar = dict(\n",
    "                        titleside = \"right\",\n",
    "                        outlinecolor = \"rgba(68, 68, 68, 0)\"\n",
    "                    ),\n",
    "                ),\n",
    "                text=[color],\n",
    "            )) \n",
    "\n",
    "    fig.update_layout(\n",
    "        hovermode='closest',\n",
    "        mapbox=dict(\n",
    "            accesstoken=mapbox_access_token,\n",
    "            bearing=0,\n",
    "            center=go.layout.mapbox.Center(\n",
    "                lat=40.73,\n",
    "                lon=-73.9\n",
    "            ),\n",
    "            pitch=0,\n",
    "            zoom=9\n",
    "        )\n",
    "    )\n",
    "\n",
    "    fig.update_layout(\n",
    "            updatemenus = [go.layout.Updatemenu(\n",
    "                active = 0,\n",
    "                #bgcolor = \"#4BE8E0\",\n",
    "                #bordercolor = \"#4B9AC7\",\n",
    "                buttons = [\n",
    "                        go.layout.updatemenu.Button(\n",
    "                            label = \"Cluster Lloyd Dense\",\n",
    "                            method = \"update\",\n",
    "                            args = [{\"visible\" : [True, False, False, False]}]),\n",
    "                        go.layout.updatemenu.Button(\n",
    "                                label = \"Cluster Lloyd Normal\",\n",
    "                                method = \"update\",\n",
    "                                args = [{\"visible\" : [False, True, False, False]}]),\n",
    "                        go.layout.updatemenu.Button(\n",
    "                                label = \"Cluster Elkan Dense\",\n",
    "                                method = \"update\",\n",
    "                                args = [{\"visible\" : [False, False, True, False]}]),\n",
    "                        go.layout.updatemenu.Button(\n",
    "                                label = \"Cluster Elkan Normal\",\n",
    "                                method = \"update\",\n",
    "                                args = [{\"visible\" : [False, False, False, True]}])\n",
    "                    ]\n",
    "                )]\n",
    "            )\n",
    "\n",
    "    fig.update_layout(margin={\"r\":0,\"t\":0,\"l\":0,\"b\":0})\n",
    "\n",
    "    fig.show()"
   ]
  },
  {
   "cell_type": "code",
   "execution_count": 12,
   "id": "e2f0459a",
   "metadata": {},
   "outputs": [
    {
     "data": {
      "text/html": [
       "<iframe\n",
       "    scrolling=\"no\"\n",
       "    width=\"100%\"\n",
       "    height=\"545px\"\n",
       "    src=\"iframe_figures/figure_12.html\"\n",
       "    frameborder=\"0\"\n",
       "    allowfullscreen\n",
       "></iframe>\n"
      ]
     },
     "metadata": {},
     "output_type": "display_data"
    }
   ],
   "source": [
    "plot_lloyd_elkan_algo_cluster(test, dic)"
   ]
  },
  {
   "cell_type": "markdown",
   "id": "0ca5722f",
   "metadata": {},
   "source": [
    "On observe bien une différence entre les clusters Dense (qui ont un nombre minimal de client de 12 par heure) et ceux qui sont plus éparpillés.\n",
    "\n",
    "Il reste cependant des imperfections, cad des zones dans lesquelles il sera difficile de trouver des clients qui, de plus, sont très éloignés des zones à fortes densités."
   ]
  },
  {
   "cell_type": "markdown",
   "id": "da352c5e",
   "metadata": {},
   "source": [
    "**CONCLUSION** :\n",
    "    \n",
    "L'algorithme KMEANS arrive bien à créer plusieurs clusters d'une taille similaire pour aider les chauffeurs Uber à trouver de petites zones dans lesquelles ils pourront récupérer des clients et faire de petits trajets, ce qui leur evitera de perdre beaucoup d'essence et de temps pour trouver des clients.\n",
    "\n",
    "La contrepartie de cet algorithme est que si nous avons beaucoup de chauffeurs dans une même zone, et qu'il se trouve dans des zones à faible densité ou des zones à bordures d'autres zones, il va alors être difficile de savoir vers quelle direction aller.\n",
    "\n",
    "Enfin, la manière dont KMEANS fonctionne pour la clusterisation des clients est qu'il va créer des cercles plutôt que des découpages de secteurs géographiques, ce qui peut poser problème pour la séparation par quartier des clients. Le fait que des zones à faibles densités persistent, après la selection d'un nombre minimum de client pour une heure donnée, nous oblige à changer de stratégie pour ces zones : devons nous faire des prix différents en fonction de la densité de population de certaines zones (ce qui serait injuste pour ces clients de ne pas habiter dans des endroits plus dense) ?\n",
    "\n",
    "Cela risque donc de délaisser certaines zones et pénaliser les clients qui seraient entre ces zones car ils ont été filtrés par densité."
   ]
  },
  {
   "cell_type": "code",
   "execution_count": null,
   "id": "68d49172",
   "metadata": {},
   "outputs": [],
   "source": []
  }
 ],
 "metadata": {
  "kernelspec": {
   "display_name": "Python 3 (ipykernel)",
   "language": "python",
   "name": "python3"
  },
  "language_info": {
   "codemirror_mode": {
    "name": "ipython",
    "version": 3
   },
   "file_extension": ".py",
   "mimetype": "text/x-python",
   "name": "python",
   "nbconvert_exporter": "python",
   "pygments_lexer": "ipython3",
   "version": "3.8.15"
  }
 },
 "nbformat": 4,
 "nbformat_minor": 5
}
