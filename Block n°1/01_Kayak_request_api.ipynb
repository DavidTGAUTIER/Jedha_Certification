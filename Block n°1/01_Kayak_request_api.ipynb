{
 "cells": [
  {
   "cell_type": "markdown",
   "id": "4dee9154",
   "metadata": {},
   "source": [
    "### KAYAK"
   ]
  },
  {
   "cell_type": "code",
   "execution_count": 2,
   "id": "9339039e",
   "metadata": {},
   "outputs": [],
   "source": [
    "import requests\n",
    "import pandas as pd\n",
    "import json\n",
    "import os\n",
    "from collections import Counter\n",
    "import numpy as np"
   ]
  },
  {
   "cell_type": "code",
   "execution_count": 3,
   "id": "bbf0d1da",
   "metadata": {},
   "outputs": [],
   "source": [
    "cities = [\"Mont Saint Michel\",\"St Malo\",\"Bayeux\",\"Le Havre\",\"Rouen\",\"Paris\",\"Amiens\",\"Lille\",\"Strasbourg\",\n",
    "          \"Chateau du Haut Koenigsbourg\",\"Colmar\",\"Eguisheim\",\"Besancon\",\"Dijon\",\"Annecy\",\"Grenoble\",\"Lyon\",\n",
    "          \"Gorges du Verdon\",\"Bormes les Mimosas\",\"Cassis\",\"Marseille\",\"Aix en Provence\",\"Avignon\",\"Uzes\",\n",
    "          \"Nimes\",\"Aigues Mortes\",\"Saintes Maries de la mer\",\"Collioure\",\"Carcassonne\",\"Ariege\",\"Toulouse\",\n",
    "          \"Montauban\",\"Biarritz\",\"Bayonne\",\"La Rochelle\"]"
   ]
  },
  {
   "cell_type": "code",
   "execution_count": 54,
   "id": "1faf36b3",
   "metadata": {},
   "outputs": [],
   "source": [
    "# Test \n",
    "\n",
    "city_name = 'Bayeux,FR'\n",
    "API_key= 'XXXXXXXXXXXXXXXXXXXXXXXXXXXXXXXX'\n",
    "\n",
    "def get_weather(API_key, city, return_=False):\n",
    "    url = f\"http://api.openweathermap.org/data/2.5/weather?q={city}&appid={API_key}\"\n",
    "    r = requests.get(url).json()\n",
    "    print(f\"Ville :\\n {r['name']}\\n\")\n",
    "    print(f\"Coordonnées GPS :\\n Longitude : {r['coord']['lon']}\\n Latitude : {r['coord']['lat']}\\n\")\n",
    "    print(f\"Conditions Météorologiques :\\n Temperature(C°) : {int(r['main']['temp'] - 273.15)} \\n Ressenti(C°) : {int(r['main']['feels_like'] - 273.15)} \\n Humidité : {r['main']['humidity']}\")\n",
    "    print(f\" Météo : {r['weather'][0]['main']}\")\n",
    "    if return_:\n",
    "        return r"
   ]
  },
  {
   "cell_type": "code",
   "execution_count": 55,
   "id": "e89cdb88",
   "metadata": {},
   "outputs": [
    {
     "name": "stdout",
     "output_type": "stream",
     "text": [
      "Ville :\n",
      " Arrondissement de Bayeux\n",
      "\n",
      "Coordonnées GPS :\n",
      " Longitude : -0.8333\n",
      " Latitude : 49.25\n",
      "\n",
      "Conditions Météorologiques :\n",
      " Temperature(C°) : 15 \n",
      " Ressenti(C°) : 14 \n",
      " Humidité : 74\n",
      " Météo : Clouds\n"
     ]
    }
   ],
   "source": [
    "get_weather(API_key, city_name)"
   ]
  },
  {
   "cell_type": "code",
   "execution_count": 56,
   "id": "0e86d1c0",
   "metadata": {},
   "outputs": [],
   "source": [
    "cols = ['city_id' , 'name', 'latitude', 'longitude']\n",
    "url = 'https://nominatim.openstreetmap.org/search'\n",
    "n = len(cities)"
   ]
  },
  {
   "cell_type": "code",
   "execution_count": 57,
   "id": "e0547c78",
   "metadata": {},
   "outputs": [],
   "source": [
    "s = []\n",
    "for i in range(n):\n",
    "    params = {\"city\": cities[i], \"country\": \"France\", \"format\": \"json\"}\n",
    "    r = requests.get(url, params=params).json()\n",
    "    s.append(r)"
   ]
  },
  {
   "cell_type": "code",
   "execution_count": 58,
   "id": "6eb29a2a",
   "metadata": {},
   "outputs": [
    {
     "name": "stdout",
     "output_type": "stream",
     "text": [
      "17 Gorges du Verdon\n",
      "29 Ariege\n"
     ]
    }
   ],
   "source": [
    "for i in range(len(s)):\n",
    "    if s[i] == []:\n",
    "        print(i, cities[i])"
   ]
  },
  {
   "cell_type": "markdown",
   "id": "beb69244",
   "metadata": {},
   "source": [
    "Ces 2 villes n'ont pas d'informations"
   ]
  },
  {
   "cell_type": "code",
   "execution_count": 59,
   "id": "b0f5637f",
   "metadata": {},
   "outputs": [],
   "source": [
    "cities_id = [i for i in range(n) if s[i] != []]\n",
    "cities_name = [city for i,city in enumerate(cities) if s[i] != []]\n",
    "cities_lat = [s[i][0]['lat'] for i in range(n) if s[i] != []]\n",
    "cities_lon = [s[i][0]['lon'] for i in range(n) if s[i] != []]\n",
    "\n",
    "rows = [cities_id, cities_name, cities_lat, cities_lon]"
   ]
  },
  {
   "cell_type": "code",
   "execution_count": 60,
   "id": "420ea68c",
   "metadata": {},
   "outputs": [
    {
     "data": {
      "text/html": [
       "<div>\n",
       "<style scoped>\n",
       "    .dataframe tbody tr th:only-of-type {\n",
       "        vertical-align: middle;\n",
       "    }\n",
       "\n",
       "    .dataframe tbody tr th {\n",
       "        vertical-align: top;\n",
       "    }\n",
       "\n",
       "    .dataframe thead th {\n",
       "        text-align: right;\n",
       "    }\n",
       "</style>\n",
       "<table border=\"1\" class=\"dataframe\">\n",
       "  <thead>\n",
       "    <tr style=\"text-align: right;\">\n",
       "      <th></th>\n",
       "      <th>city_id</th>\n",
       "      <th>name</th>\n",
       "      <th>latitude</th>\n",
       "      <th>longitude</th>\n",
       "    </tr>\n",
       "  </thead>\n",
       "  <tbody>\n",
       "    <tr>\n",
       "      <th>0</th>\n",
       "      <td>0</td>\n",
       "      <td>Mont Saint Michel</td>\n",
       "      <td>48.6359541</td>\n",
       "      <td>-1.511459954959514</td>\n",
       "    </tr>\n",
       "    <tr>\n",
       "      <th>1</th>\n",
       "      <td>1</td>\n",
       "      <td>St Malo</td>\n",
       "      <td>48.649518</td>\n",
       "      <td>-2.0260409</td>\n",
       "    </tr>\n",
       "    <tr>\n",
       "      <th>2</th>\n",
       "      <td>2</td>\n",
       "      <td>Bayeux</td>\n",
       "      <td>49.2764624</td>\n",
       "      <td>-0.7024738</td>\n",
       "    </tr>\n",
       "    <tr>\n",
       "      <th>3</th>\n",
       "      <td>3</td>\n",
       "      <td>Le Havre</td>\n",
       "      <td>49.4938975</td>\n",
       "      <td>0.1079732</td>\n",
       "    </tr>\n",
       "    <tr>\n",
       "      <th>4</th>\n",
       "      <td>4</td>\n",
       "      <td>Rouen</td>\n",
       "      <td>49.4404591</td>\n",
       "      <td>1.0939658</td>\n",
       "    </tr>\n",
       "  </tbody>\n",
       "</table>\n",
       "</div>"
      ],
      "text/plain": [
       "   city_id               name    latitude           longitude\n",
       "0        0  Mont Saint Michel  48.6359541  -1.511459954959514\n",
       "1        1            St Malo   48.649518          -2.0260409\n",
       "2        2             Bayeux  49.2764624          -0.7024738\n",
       "3        3           Le Havre  49.4938975           0.1079732\n",
       "4        4              Rouen  49.4404591           1.0939658"
      ]
     },
     "execution_count": 60,
     "metadata": {},
     "output_type": "execute_result"
    }
   ],
   "source": [
    "df = pd.DataFrame({cols[0] : cities_id, cols[1] : cities_name, cols[2] : cities_lat, cols[3] : cities_lon})\n",
    "df.head()"
   ]
  },
  {
   "cell_type": "code",
   "execution_count": 61,
   "id": "c45e65b5",
   "metadata": {},
   "outputs": [],
   "source": [
    "df.to_csv('kayak_df.csv', index=None)"
   ]
  },
  {
   "cell_type": "code",
   "execution_count": 62,
   "id": "be81c3f3",
   "metadata": {},
   "outputs": [
    {
     "data": {
      "text/html": [
       "<div>\n",
       "<style scoped>\n",
       "    .dataframe tbody tr th:only-of-type {\n",
       "        vertical-align: middle;\n",
       "    }\n",
       "\n",
       "    .dataframe tbody tr th {\n",
       "        vertical-align: top;\n",
       "    }\n",
       "\n",
       "    .dataframe thead th {\n",
       "        text-align: right;\n",
       "    }\n",
       "</style>\n",
       "<table border=\"1\" class=\"dataframe\">\n",
       "  <thead>\n",
       "    <tr style=\"text-align: right;\">\n",
       "      <th></th>\n",
       "      <th>city_id</th>\n",
       "      <th>name</th>\n",
       "      <th>latitude</th>\n",
       "      <th>longitude</th>\n",
       "    </tr>\n",
       "  </thead>\n",
       "  <tbody>\n",
       "    <tr>\n",
       "      <th>0</th>\n",
       "      <td>0</td>\n",
       "      <td>Mont Saint Michel</td>\n",
       "      <td>48.635954</td>\n",
       "      <td>-1.511460</td>\n",
       "    </tr>\n",
       "    <tr>\n",
       "      <th>1</th>\n",
       "      <td>1</td>\n",
       "      <td>St Malo</td>\n",
       "      <td>48.649518</td>\n",
       "      <td>-2.026041</td>\n",
       "    </tr>\n",
       "    <tr>\n",
       "      <th>2</th>\n",
       "      <td>2</td>\n",
       "      <td>Bayeux</td>\n",
       "      <td>49.276462</td>\n",
       "      <td>-0.702474</td>\n",
       "    </tr>\n",
       "    <tr>\n",
       "      <th>3</th>\n",
       "      <td>3</td>\n",
       "      <td>Le Havre</td>\n",
       "      <td>49.493898</td>\n",
       "      <td>0.107973</td>\n",
       "    </tr>\n",
       "    <tr>\n",
       "      <th>4</th>\n",
       "      <td>4</td>\n",
       "      <td>Rouen</td>\n",
       "      <td>49.440459</td>\n",
       "      <td>1.093966</td>\n",
       "    </tr>\n",
       "  </tbody>\n",
       "</table>\n",
       "</div>"
      ],
      "text/plain": [
       "   city_id               name   latitude  longitude\n",
       "0        0  Mont Saint Michel  48.635954  -1.511460\n",
       "1        1            St Malo  48.649518  -2.026041\n",
       "2        2             Bayeux  49.276462  -0.702474\n",
       "3        3           Le Havre  49.493898   0.107973\n",
       "4        4              Rouen  49.440459   1.093966"
      ]
     },
     "execution_count": 62,
     "metadata": {},
     "output_type": "execute_result"
    }
   ],
   "source": [
    "df = pd.read_csv('kayak_df.csv')\n",
    "df.head()"
   ]
  },
  {
   "cell_type": "code",
   "execution_count": 63,
   "id": "bbba6a1b",
   "metadata": {},
   "outputs": [],
   "source": [
    "cols = ['city_id', 'weather', 'rain_probability', 'temperature_day', 'humidity', 'pressure']"
   ]
  },
  {
   "cell_type": "code",
   "execution_count": 64,
   "id": "7c6f123a",
   "metadata": {},
   "outputs": [],
   "source": [
    "df2 = pd.DataFrame(columns=cols)\n",
    "\n",
    "url = \"https://api.openweathermap.org/data/2.5/onecall\"\n",
    "\n",
    "s= {}\n",
    "\n",
    "for i in range(len(cities_id)):\n",
    "\n",
    "    params = {\n",
    "            \"lat\": df.loc[i,'latitude'],\n",
    "            \"lon\": df.loc[i,'longitude'],\n",
    "            \"exclude\": \"current, minutely, hourly\", # Exclusion de certains parametres de  l'API: current, minutely and hourly\n",
    "            \"units\": \"metric\", \n",
    "            \"appid\": \"XXXXXXXXXXXXXXXXXXXXXXXXXXXXXXXX\", # API key\n",
    "        }\n",
    "\n",
    "    r2 = requests.get(url,params).json()\n",
    "    n = len(r2['daily'])\n",
    "    count,mean,mode,pressure,humidity = 0,0,[],0,0\n",
    "    \n",
    "    for el in r2['daily']:\n",
    "        pressure += el['pressure']\n",
    "        humidity += el['humidity']\n",
    "        \n",
    "        if el['weather'][0]['main'] == 'Rain':   # 'pop'  : probabilité de pluie\n",
    "            count += el['pop']*el['rain']       \n",
    "            \n",
    "        mean += el['temp']['day']\n",
    "        mode.append(el['weather'][0]['main'])\n",
    "   \n",
    "    pressure /= n\n",
    "    humidity /= n\n",
    "    mean /= n\n",
    "    s[df.loc[i,'name']] = Counter(mode)\n",
    "    mode = Counter(mode).most_common(1)[0][0]\n",
    "    \n",
    "    df2.loc[i, 'city_id'] = i\n",
    "    df2.loc[i,'weather']= mode\n",
    "    df2.loc[i,'rain_probability']= round(count,2)\n",
    "    df2.loc[i,'temperature_day']= int(mean)\n",
    "    df2.loc[i, 'pressure'] = round(pressure,2)\n",
    "    df2.loc[i, 'humidity'] = round(humidity,2)\n",
    " "
   ]
  },
  {
   "cell_type": "code",
   "execution_count": 65,
   "id": "dcfecbd7",
   "metadata": {},
   "outputs": [],
   "source": [
    "rain, clouds, clear = [], [], []\n",
    "for k,v in s.items():\n",
    "    rain_count, clouds_count, clear_count = 0,0,0\n",
    "    a = list(v.elements())\n",
    "    for el in a:\n",
    "        if el == 'Rain':\n",
    "            rain_count += 1\n",
    "        if el == 'Clouds':\n",
    "            clouds_count += 1\n",
    "        if el == 'Clear':\n",
    "            clear_count += 1\n",
    "    rain.append(rain_count)\n",
    "    clouds.append(clouds_count)\n",
    "    clear.append(clear_count)"
   ]
  },
  {
   "cell_type": "code",
   "execution_count": 96,
   "id": "0e65be0e",
   "metadata": {},
   "outputs": [
    {
     "data": {
      "text/html": [
       "<div>\n",
       "<style scoped>\n",
       "    .dataframe tbody tr th:only-of-type {\n",
       "        vertical-align: middle;\n",
       "    }\n",
       "\n",
       "    .dataframe tbody tr th {\n",
       "        vertical-align: top;\n",
       "    }\n",
       "\n",
       "    .dataframe thead th {\n",
       "        text-align: right;\n",
       "    }\n",
       "</style>\n",
       "<table border=\"1\" class=\"dataframe\">\n",
       "  <thead>\n",
       "    <tr style=\"text-align: right;\">\n",
       "      <th></th>\n",
       "      <th>Rain</th>\n",
       "      <th>Clouds</th>\n",
       "      <th>Clear</th>\n",
       "    </tr>\n",
       "  </thead>\n",
       "  <tbody>\n",
       "    <tr>\n",
       "      <th>0</th>\n",
       "      <td>4</td>\n",
       "      <td>4</td>\n",
       "      <td>0</td>\n",
       "    </tr>\n",
       "    <tr>\n",
       "      <th>1</th>\n",
       "      <td>5</td>\n",
       "      <td>3</td>\n",
       "      <td>0</td>\n",
       "    </tr>\n",
       "    <tr>\n",
       "      <th>2</th>\n",
       "      <td>5</td>\n",
       "      <td>3</td>\n",
       "      <td>0</td>\n",
       "    </tr>\n",
       "    <tr>\n",
       "      <th>3</th>\n",
       "      <td>6</td>\n",
       "      <td>2</td>\n",
       "      <td>0</td>\n",
       "    </tr>\n",
       "    <tr>\n",
       "      <th>4</th>\n",
       "      <td>5</td>\n",
       "      <td>3</td>\n",
       "      <td>0</td>\n",
       "    </tr>\n",
       "  </tbody>\n",
       "</table>\n",
       "</div>"
      ],
      "text/plain": [
       "   Rain  Clouds  Clear\n",
       "0     4       4      0\n",
       "1     5       3      0\n",
       "2     5       3      0\n",
       "3     6       2      0\n",
       "4     5       3      0"
      ]
     },
     "execution_count": 96,
     "metadata": {},
     "output_type": "execute_result"
    }
   ],
   "source": [
    "new_df = pd.DataFrame({'Rain' : rain, 'Clouds' : clouds, 'Clear' : clear})\n",
    "new_df.head()"
   ]
  },
  {
   "cell_type": "code",
   "execution_count": 97,
   "id": "f8cd0a1f",
   "metadata": {},
   "outputs": [
    {
     "data": {
      "text/html": [
       "<div>\n",
       "<style scoped>\n",
       "    .dataframe tbody tr th:only-of-type {\n",
       "        vertical-align: middle;\n",
       "    }\n",
       "\n",
       "    .dataframe tbody tr th {\n",
       "        vertical-align: top;\n",
       "    }\n",
       "\n",
       "    .dataframe thead th {\n",
       "        text-align: right;\n",
       "    }\n",
       "</style>\n",
       "<table border=\"1\" class=\"dataframe\">\n",
       "  <thead>\n",
       "    <tr style=\"text-align: right;\">\n",
       "      <th></th>\n",
       "      <th>name</th>\n",
       "      <th>latitude</th>\n",
       "      <th>longitude</th>\n",
       "      <th>weather</th>\n",
       "      <th>rain_probability</th>\n",
       "      <th>temperature_day</th>\n",
       "      <th>humidity</th>\n",
       "      <th>pressure</th>\n",
       "      <th>Rain</th>\n",
       "      <th>Clouds</th>\n",
       "      <th>Clear</th>\n",
       "      <th>rank</th>\n",
       "    </tr>\n",
       "  </thead>\n",
       "  <tbody>\n",
       "    <tr>\n",
       "      <th>0</th>\n",
       "      <td>Rouen</td>\n",
       "      <td>49.440459</td>\n",
       "      <td>1.093966</td>\n",
       "      <td>Rain</td>\n",
       "      <td>9.11</td>\n",
       "      <td>18</td>\n",
       "      <td>62.0</td>\n",
       "      <td>1015.75</td>\n",
       "      <td>5</td>\n",
       "      <td>3</td>\n",
       "      <td>0</td>\n",
       "      <td>1</td>\n",
       "    </tr>\n",
       "    <tr>\n",
       "      <th>1</th>\n",
       "      <td>St Malo</td>\n",
       "      <td>48.649518</td>\n",
       "      <td>-2.026041</td>\n",
       "      <td>Rain</td>\n",
       "      <td>8.55</td>\n",
       "      <td>17</td>\n",
       "      <td>67.62</td>\n",
       "      <td>1016.38</td>\n",
       "      <td>5</td>\n",
       "      <td>3</td>\n",
       "      <td>0</td>\n",
       "      <td>2</td>\n",
       "    </tr>\n",
       "    <tr>\n",
       "      <th>2</th>\n",
       "      <td>Bayeux</td>\n",
       "      <td>49.276462</td>\n",
       "      <td>-0.702474</td>\n",
       "      <td>Rain</td>\n",
       "      <td>11.88</td>\n",
       "      <td>17</td>\n",
       "      <td>66.5</td>\n",
       "      <td>1015.88</td>\n",
       "      <td>5</td>\n",
       "      <td>3</td>\n",
       "      <td>0</td>\n",
       "      <td>3</td>\n",
       "    </tr>\n",
       "    <tr>\n",
       "      <th>3</th>\n",
       "      <td>Chateau du Haut Koenigsbourg</td>\n",
       "      <td>48.249523</td>\n",
       "      <td>7.345492</td>\n",
       "      <td>Rain</td>\n",
       "      <td>9.88</td>\n",
       "      <td>14</td>\n",
       "      <td>64.25</td>\n",
       "      <td>1016.62</td>\n",
       "      <td>4</td>\n",
       "      <td>3</td>\n",
       "      <td>1</td>\n",
       "      <td>4</td>\n",
       "    </tr>\n",
       "    <tr>\n",
       "      <th>4</th>\n",
       "      <td>Strasbourg</td>\n",
       "      <td>48.584614</td>\n",
       "      <td>7.750713</td>\n",
       "      <td>Rain</td>\n",
       "      <td>8.09</td>\n",
       "      <td>16</td>\n",
       "      <td>66.38</td>\n",
       "      <td>1016.88</td>\n",
       "      <td>4</td>\n",
       "      <td>3</td>\n",
       "      <td>1</td>\n",
       "      <td>5</td>\n",
       "    </tr>\n",
       "  </tbody>\n",
       "</table>\n",
       "</div>"
      ],
      "text/plain": [
       "                           name   latitude  longitude weather  \\\n",
       "0                         Rouen  49.440459   1.093966    Rain   \n",
       "1                       St Malo  48.649518  -2.026041    Rain   \n",
       "2                        Bayeux  49.276462  -0.702474    Rain   \n",
       "3  Chateau du Haut Koenigsbourg  48.249523   7.345492    Rain   \n",
       "4                    Strasbourg  48.584614   7.750713    Rain   \n",
       "\n",
       "  rain_probability temperature_day humidity pressure  Rain  Clouds  Clear  \\\n",
       "0             9.11              18     62.0  1015.75     5       3      0   \n",
       "1             8.55              17    67.62  1016.38     5       3      0   \n",
       "2            11.88              17     66.5  1015.88     5       3      0   \n",
       "3             9.88              14    64.25  1016.62     4       3      1   \n",
       "4             8.09              16    66.38  1016.88     4       3      1   \n",
       "\n",
       "   rank  \n",
       "0     1  \n",
       "1     2  \n",
       "2     3  \n",
       "3     4  \n",
       "4     5  "
      ]
     },
     "execution_count": 97,
     "metadata": {},
     "output_type": "execute_result"
    }
   ],
   "source": [
    "df_final = pd.concat([df,df2,new_df], axis=1).drop(['city_id'],axis=1)\n",
    "\n",
    "# Calcul du rang Meteo : 0.2 * Pluvieux + 0.5 * Nuageux + 1 * Ciel_dégagé\n",
    "df_final['rank_weather'] = df_final['Rain']*0.2 + df_final['Clouds']*0.5 + df_final['Clear']*1\n",
    "\n",
    "df_final['rank_weather'] = df_final['rank_weather'].rank(method='max').astype(int)\n",
    "df_final['rank_rain'] = df_final['rain_probability'].rank(method='min').astype(int)\n",
    "df_final['rank_temp'] = df_final['temperature_day'].rank(method='max').astype(int)\n",
    "df_final['rank_humi'] = df_final['humidity'].rank(method='min').astype(int)\n",
    "df_final['rank_pres'] = df_final['pressure'].rank(method='max').astype(int)\n",
    "\n",
    "\n",
    "# Calcul final du rang : 0.5 * rang_pluie + 0.35 * rang_meteo + 0.3 * rang_temperature + 0.2 * rang_humidité + 0.2 * rang_pression_atmospherique / nombre de rangs\n",
    "df_final['rank_'] = (df_final['rank_rain']*0.5 + df_final['rank_weather']*0.35 + df_final['rank_temp']*0.3 + df_final['rank_humi']*0.2 + df_final['rank_pres']*0.2)/5\n",
    "df_final = df_final.sort_values(by='rank_').drop(df_final.columns[-6:],axis=1)\n",
    "df_final['rank'] = [i+1 for i in range(len(df_final))]\n",
    "df_final = df_final.reset_index().drop(['index'],axis=1)\n",
    "df_final.head(5)"
   ]
  },
  {
   "cell_type": "markdown",
   "id": "d569dd24",
   "metadata": {},
   "source": [
    "Les 5 meilleures villes sont : "
   ]
  },
  {
   "cell_type": "code",
   "execution_count": 98,
   "id": "81caee9c",
   "metadata": {},
   "outputs": [
    {
     "data": {
      "text/plain": [
       "0                           Rouen\n",
       "1                         St Malo\n",
       "2                          Bayeux\n",
       "3    Chateau du Haut Koenigsbourg\n",
       "4                      Strasbourg\n",
       "Name: name, dtype: object"
      ]
     },
     "execution_count": 98,
     "metadata": {},
     "output_type": "execute_result"
    }
   ],
   "source": [
    "df_final['name'][:5]"
   ]
  },
  {
   "cell_type": "code",
   "execution_count": 99,
   "id": "7ddae4ce",
   "metadata": {},
   "outputs": [],
   "source": [
    "df_final.to_csv('kayak_final.csv', index=False)"
   ]
  }
 ],
 "metadata": {
  "kernelspec": {
   "display_name": "Python 3.9.13 64-bit (microsoft store)",
   "language": "python",
   "name": "python3"
  },
  "language_info": {
   "codemirror_mode": {
    "name": "ipython",
    "version": 3
   },
   "file_extension": ".py",
   "mimetype": "text/x-python",
   "name": "python",
   "nbconvert_exporter": "python",
   "pygments_lexer": "ipython3",
   "version": "3.9.13"
  },
  "vscode": {
   "interpreter": {
    "hash": "5e9be3726a3e1eb0488b4d4f640ef9d4f9840d98d40cbcadb810c3cb4446c190"
   }
  }
 },
 "nbformat": 4,
 "nbformat_minor": 5
}
