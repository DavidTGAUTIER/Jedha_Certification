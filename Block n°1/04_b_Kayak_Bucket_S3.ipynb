{
 "cells": [
  {
   "cell_type": "markdown",
   "id": "a5ea382a",
   "metadata": {},
   "source": [
    "### S3 Buckets"
   ]
  },
  {
   "cell_type": "code",
   "execution_count": null,
   "id": "301616c2",
   "metadata": {},
   "outputs": [],
   "source": [
    "import boto3\n",
    "YOUR_ACCESS_KEY = \"XXXXXXXXXXXXXXXXXXXX\"\n",
    "YOUR_SECRET_KEY = \"XXXXXXXXXXXXXXXXXXXXXXXXXXXXXXXXXXXXXXXX\"\n",
    "\n",
    "session = boto3.Session(aws_access_key_id=\"YOUR_ACCESS_KEY\", \n",
    "                        aws_secret_access_key=\"YOUR_SECRET_KEY\")\n",
    "\n",
    "s3 = session.resource(\"s3\")\n",
    "\n",
    "kayak_bucket = s3.create_bucket(Bucket=\"kayak_project\")\n",
    "\n",
    "csv_weather = kayak.to_csv()\n",
    "csv_hotels = df_total.to_csv()\n",
    "csv_top5 = df_flatten_final.to_csv()\n",
    "\n",
    "put_object = bucket.put_object(Key=\"weather.csv\", Body=csv_weather)\n",
    "put_object = bucket.put_object(Key=\"hotels.csv\", Body=csv_hotels)\n",
    "put_object = bucket.put_object(Key=\"top5.csv\", Body=csv_top5)"
   ]
  },
  {
   "cell_type": "code",
   "execution_count": null,
   "id": "d0498283",
   "metadata": {},
   "outputs": [],
   "source": [
    "kayak = pd.read_csv(\"./src/kayak2_final.csv\")\n",
    "df_total = pd.read_csv(\"./src/best_hotels.csv\")\n",
    "df_flatten_final = pd.read_csv('./src/df_flatten_final.csv')"
   ]
  },
  {
   "cell_type": "code",
   "execution_count": null,
   "id": "b2f24f0a",
   "metadata": {},
   "outputs": [],
   "source": [
    "df_weather = kayak.copy()\n",
    "df_hotels = df_total.copy()\n",
    "df_top5 = df_flatten_final.copy()"
   ]
  }
 ],
 "metadata": {
  "kernelspec": {
   "display_name": "Python 3.9.13 64-bit (microsoft store)",
   "language": "python",
   "name": "python3"
  },
  "language_info": {
   "codemirror_mode": {
    "name": "ipython",
    "version": 3
   },
   "file_extension": ".py",
   "mimetype": "text/x-python",
   "name": "python",
   "nbconvert_exporter": "python",
   "pygments_lexer": "ipython3",
   "version": "3.9.13"
  },
  "vscode": {
   "interpreter": {
    "hash": "5e9be3726a3e1eb0488b4d4f640ef9d4f9840d98d40cbcadb810c3cb4446c190"
   }
  }
 },
 "nbformat": 4,
 "nbformat_minor": 5
}
