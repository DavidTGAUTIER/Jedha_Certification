{
 "cells": [
  {
   "cell_type": "markdown",
   "id": "0e2a64e8",
   "metadata": {},
   "source": [
    "## Etapes à réaliser pour utiliser Tensorflow GPU avec Jupyter"
   ]
  },
  {
   "cell_type": "markdown",
   "id": "2787c154",
   "metadata": {},
   "source": [
    "1. Assurez-vous que les pilotes NVIDIA sont installés\n",
    "2. Installer Ubuntu Linux sur Windows à l'aide de WSL2\n",
    "3. Installer Docker Desktop pour Windows\n",
    "4. Exécuter Tensorflow dans un conteneur Docker\n",
    "5. Améliorez l'environnement avec docker-compose"
   ]
  },
  {
   "cell_type": "markdown",
   "id": "b3c9b143",
   "metadata": {},
   "source": [
    "### Etape 1 : Driver Nvidia"
   ]
  },
  {
   "cell_type": "markdown",
   "id": "7b7ed231",
   "metadata": {},
   "source": [
    "Il faut aller sur la page de téléchargement des pilotes NVIDIA et installer les derniers pilotes. Il faut prendre le pilote prêt pour le jeu plutôt que le pilote de studio(pilote plus performant et adapté au ML)"
   ]
  },
  {
   "cell_type": "markdown",
   "id": "7864bca7",
   "metadata": {},
   "source": [
    "### Etape 2 : Ubuntu"
   ]
  },
  {
   "cell_type": "markdown",
   "id": "f254d77c",
   "metadata": {},
   "source": [
    "Remaques : on peut passer cette étape si on possède déja une VM sur notre machine (comme Git bash par exemple)"
   ]
  },
  {
   "cell_type": "markdown",
   "id": "b0d45e73",
   "metadata": {},
   "source": [
    "1. Ouvrir Powershell (comme Administrateur)\n",
    "2. Rentrer la commande : `wsl --install`\n",
    "3. Après le reboot du système, créer un username et un password \n",
    "4. Ouvrir le terminal Ubuntu et rentrer les commandes suivantes:\n",
    "    * `sudo apt update -y`\n",
    "    * `sudo apt upgrade -y`\n",
    "    \n",
    "Ainsi, Ubuntu sera bien mis à jour"
   ]
  },
  {
   "cell_type": "markdown",
   "id": "2f8d6652",
   "metadata": {},
   "source": [
    "### Etape 3 : Docker"
   ]
  },
  {
   "cell_type": "markdown",
   "id": "1b783f6b",
   "metadata": {},
   "source": [
    "1. Installer Docker sur votre machine\n",
    "2. Verifier que Docker soit bien démarré\n",
    "3. Lancer Tensorflow dans un container Docker avec les commandes suivantes:\n",
    "    * `docker run -it --rm -p 8888:8888 --gpus all tensorflow/tensorflow:latest-gpu-jupyter`\n",
    "4. Lancer `http://127.0.0.1:8888/?token=token` (http://127.0.0.1:8888/?token=b4e9cd0e384a2eea0dcbe503d85a03e34bef28c627cfc1e6)"
   ]
  },
  {
   "cell_type": "markdown",
   "id": "a4857baa",
   "metadata": {},
   "source": [
    "### Etape 4 : Tensorflow avec Docker"
   ]
  },
  {
   "cell_type": "code",
   "execution_count": null,
   "id": "3c1b6e36",
   "metadata": {},
   "outputs": [],
   "source": [
    "Dans le notebook ouvert depuis le lien dans le terminal, on peut tester l'utilisation du GPU :</br>"
   ]
  },
  {
   "cell_type": "code",
   "execution_count": null,
   "id": "c15fb808",
   "metadata": {},
   "outputs": [],
   "source": [
    "import tensorflow as tf\n",
    "tf.config.list_physical_devices()"
   ]
  },
  {
   "cell_type": "markdown",
   "id": "7d0123d1",
   "metadata": {},
   "source": [
    "### Etape 5 : Environment avec docker-compose"
   ]
  },
  {
   "cell_type": "markdown",
   "id": "6c7ad6bc",
   "metadata": {},
   "source": [
    "Nous devons créer trois fichiers pour lancer l'environnement contenant Tensorflow GPU avec jupyter :\n",
    "* `requirements.txt` : contient tous les librairies necessaire à l'execution du notebook\n",
    "* `Dockerfile` : permet de charger l'environnement Docker \n",
    "* `docker-compose.yaml` : permet d'executer le Dockerfile pour le notebook et check tous les requirements "
   ]
  },
  {
   "cell_type": "markdown",
   "id": "bdc8992f",
   "metadata": {},
   "source": [
    "#### `requirements.txt`"
   ]
  },
  {
   "cell_type": "raw",
   "id": "ea5422bb",
   "metadata": {},
   "source": [
    "cuda-python\n",
    "scikit-learn\n",
    "tensorflow-gpu\n",
    "jupyterlab\n",
    "ipywidgets\n",
    "numpy\n",
    "pandas\n",
    "plotly\n",
    "matplotlib\n",
    "spacy\n",
    "transformers"
   ]
  },
  {
   "cell_type": "markdown",
   "id": "33bfe0a5",
   "metadata": {},
   "source": [
    "#### `Dockerfile`"
   ]
  },
  {
   "cell_type": "raw",
   "id": "1bd4f066",
   "metadata": {},
   "source": [
    "FROM tensorflow/tensorflow:latest-gpu\n",
    "WORKDIR /tf-knugs  # This specifies the directory to work\n",
    "RUN pip install --upgrade pip\n",
    "RUN pip install --upgrade -r requirements.txt\n",
    "EXPOSE 8888\n",
    "ENTRYPOINT [\"jupyter\", \"lab\",\"--ip=0.0.0.0\",\"--allow-root\",\"--no-browser\"]"
   ]
  },
  {
   "cell_type": "markdown",
   "id": "c36ce8b5",
   "metadata": {},
   "source": [
    "#### `docker-compose.yaml`"
   ]
  },
  {
   "cell_type": "raw",
   "id": "41628a25",
   "metadata": {},
   "source": [
    "services:\n",
    "  jupyter-lab:\n",
    "    build: .\n",
    "    ports:\n",
    "      - \"8888:8888\"\n",
    "    volumes:\n",
    "      - ./tf-knugs:/tf-knugs\n",
    "    deploy:\n",
    "      resources:\n",
    "        reservations:\n",
    "          devices:\n",
    "            - driver: nvidia\n",
    "              count: 1\n",
    "              capabilities: [gpu]"
   ]
  },
  {
   "cell_type": "markdown",
   "id": "79f164f0",
   "metadata": {},
   "source": [
    "Il ne reste plus qu'a executer les commandes suivantes:\n",
    "* `docker build .`\n",
    "* `docker-compose up`\n",
    "\n",
    "ca va activer et permettre d'utiliser Tensorflow GPU\n",
    "\n",
    "Pour terminer et stoper l'environnement Docker, il suffit de `docker-compose down`"
   ]
  },
  {
   "cell_type": "code",
   "execution_count": null,
   "id": "bb99a9c7",
   "metadata": {},
   "outputs": [],
   "source": []
  }
 ],
 "metadata": {
  "kernelspec": {
   "display_name": "Python 3 (ipykernel)",
   "language": "python",
   "name": "python3"
  },
  "language_info": {
   "codemirror_mode": {
    "name": "ipython",
    "version": 3
   },
   "file_extension": ".py",
   "mimetype": "text/x-python",
   "name": "python",
   "nbconvert_exporter": "python",
   "pygments_lexer": "ipython3",
   "version": "3.8.5"
  }
 },
 "nbformat": 4,
 "nbformat_minor": 5
}
