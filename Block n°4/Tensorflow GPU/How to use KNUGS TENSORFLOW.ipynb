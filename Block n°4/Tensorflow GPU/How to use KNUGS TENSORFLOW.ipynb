{
 "cells": [
  {
   "cell_type": "markdown",
   "id": "1b88c6b9",
   "metadata": {},
   "source": [
    "## Etapes à réaliser pour utiliser Tensorflow GPU avec Jupyter"
   ]
  },
  {
   "cell_type": "markdown",
   "id": "5b1c37cb",
   "metadata": {},
   "source": [
    "1. Assurez-vous que les pilotes NVIDIA sont installés\n",
    "2. Installer Ubuntu Linux sur Windows à l'aide de WSL2\n",
    "3. Installer Docker Desktop pour Windows\n",
    "4. Exécuter Tensorflow dans un conteneur Docker\n",
    "5. Améliorez l'environnement avec docker-compose"
   ]
  },
  {
   "cell_type": "markdown",
   "id": "14caf55c",
   "metadata": {},
   "source": [
    "### Etape 1 : Driver Nvidia"
   ]
  },
  {
   "cell_type": "markdown",
   "id": "90c29bbe",
   "metadata": {},
   "source": [
    "Il faut aller sur la page de téléchargement des pilotes NVIDIA et installer les derniers pilotes. Il faut prendre le pilote prêt pour le jeu plutôt que le pilote de studio(pilote plus performant et adapté au ML)"
   ]
  },
  {
   "cell_type": "markdown",
   "id": "6bacaf69",
   "metadata": {},
   "source": [
    "### Etape 2 : Ubuntu"
   ]
  },
  {
   "cell_type": "markdown",
   "id": "0b220c27",
   "metadata": {},
   "source": [
    "Remaques : on peut passer cette étape si on possède déja une VM sur notre machine (comme Git bash par exemple)"
   ]
  },
  {
   "cell_type": "markdown",
   "id": "f23cbc67",
   "metadata": {},
   "source": [
    "1. Ouvrir Powershell (comme Administrateur)\n",
    "2. Rentrer la commande : `wsl --install`\n",
    "3. Après le reboot du système, créer un username et un password \n",
    "4. Ouvrir le terminal Ubuntu et rentrer les commandes suivantes:\n",
    "    * `sudo apt update -y`\n",
    "    * `sudo apt upgrade -y`\n",
    "    \n",
    "Ainsi, Ubuntu sera bien mis à jour"
   ]
  },
  {
   "cell_type": "markdown",
   "id": "5c0ab9c3",
   "metadata": {},
   "source": [
    "### Etape 3 : Docker"
   ]
  },
  {
   "cell_type": "markdown",
   "id": "eda33028",
   "metadata": {},
   "source": [
    "1. Installer Docker sur votre machine\n",
    "2. Verifier que Docker soit bien démarré\n",
    "3. Lancer Tensorflow dans un container Docker avec les commandes suivantes:\n",
    "    * `docker run -it --rm -p 8888:8888 --gpus all tensorflow/tensorflow:latest-gpu-jupyter`\n",
    "4. Lancer `http://127.0.0.1:8888/?token=token` (http://127.0.0.1:8888/?token=b4e9cd0e384a2eea0dcbe503d85a03e34bef28c627cfc1e6)"
   ]
  },
  {
   "cell_type": "markdown",
   "id": "a1e09259",
   "metadata": {},
   "source": [
    "### Etape 4 : Tensorflow avec Docker"
   ]
  },
  {
   "cell_type": "code",
   "execution_count": null,
   "id": "cf1dd7bd",
   "metadata": {},
   "outputs": [],
   "source": [
    "Dans le "
   ]
  }
 ],
 "metadata": {
  "kernelspec": {
   "display_name": "Python 3 (ipykernel)",
   "language": "python",
   "name": "python3"
  },
  "language_info": {
   "codemirror_mode": {
    "name": "ipython",
    "version": 3
   },
   "file_extension": ".py",
   "mimetype": "text/x-python",
   "name": "python",
   "nbconvert_exporter": "python",
   "pygments_lexer": "ipython3",
   "version": "3.8.5"
  }
 },
 "nbformat": 4,
 "nbformat_minor": 5
}
